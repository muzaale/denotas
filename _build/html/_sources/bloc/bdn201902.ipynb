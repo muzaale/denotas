{
 "cells": [
  {
   "cell_type": "markdown",
   "metadata": {},
   "source": []
  },
  {
   "cell_type": "markdown",
   "metadata": {},
   "source": [
    " \n",
    "\n",
    "#### 02/2019\n",
    "\n",
    "\"People have called me bipolar or [said] that I suffer from depression, but I always identified most with the symptoms of someone with PTSD. Like a soldier who came home still dealing with the effects of being in a war zone,\" he writes.  \n",
    "\n",
    ".  \n",
    "\n",
    "But while he writes with emotional force of the visceral pain and delusions stemming from the trauma that beset him and his neighborhood, Gucci sometimes veers into a conversational tone that has the feel of an off-the-cuff transcript, running through the important plot points of his story without the self-critical reflection that makes a celebrity memoir truly great—such as Elvis Costello's Unfaithful Music & Disappearing Ink. It's clear that he has put a lot of thought into describing his own hardships and their provenance, but fails to thoroughly investigate some of the pricklier parts of his history—most notably involving women.    \n",
    "\n",
    ".  \n",
    "\n",
    "Gucci could be fairly said to be rap's most influential figure of the last few years. The producers who have shaped the dominant sound of the past half-decade—Zaytoven, Lex Luger, Mike Will Made It, Metro Boomin—all cut their teeth making mixtape classics at Gucci's five-studio 1017 Brick Squad compound.  \n",
    "\n",
    ".   \n",
    "\n",
    "Despite the starkly contrasting moods that the two component genres evoke on their own—druggy paranoia on one hand, druggy euphoria on the other—they pair quite nicely. The EDM elements help connect trap rap with the electro-influenced sound upon which southern hip-hop was founded, while the trap elements give the ravey synths a whiff of danger. The fact that dubstep has made twitchy, triplet-laden rhythms de rigueur in dance music helps as well.   \n",
    "\n",
    ".  \n",
    "\n",
    "Pressure makes diamonds  \n",
    "\n",
    ".  \n",
    "\n",
    "Young Chop — ??   \n",
    "Trap Muzik — TI (2003!!!)  \n",
    "Versace — migos  \n",
    "Zaytoven — all productions   \n",
    "Migos — all albums  \n",
    "Lex Luger — BMF MC Hammer (clusters of fast or slow triplets)  \n",
    "Black Beatles — screen shot the “road”    \n",
    "Guwop  \n",
    "Mask off — future   \n",
    "Dime Trap — TI in 2018  \n",
    "A Seat at the Table — Master P & Solange  \n",
    "\n",
    "\n",
    "Whole (four beats)  \n",
    "Half (two beets)  \n",
    "Quarter (one beat)  \n",
    "Eighth (half beat)  \n",
    "Sixteenth (quarter beat ~ Semi-quaver)  \n",
    "Thirty second (eight beat) Sixty fourth (sixteenth beat)  \n",
    "\n",
    ".  \n",
    "\n",
    "“To me I feel like it was the blueprint for trap music,” Master P said while speaking on Ice Cream Man. “Because nobody wasn’t talking about hustling like I was talking about it. Nobody was really a boss in the music industry, everybody had a boss, everybody had someone putting their music out. So when I talk about hustling and trapping, I think it opened the doors for the Gucci Manes and the Young Jeezys so they could have a verse and everyone else after it. I feel like Rap-A-Lot, Scarface, Geto Boys opened the doors for me in the South, and I opened the doors for the rest of Southern hip-hop to where people could be themselves and be a real entrepreneur and businessman.”  \n",
    "\n",
    ".  \n",
    "\n",
    "\n",
    "“It’s about healing. The combination of young people, drugs, a very sexually charged social environment, and syncopated music. It’s just just all designed to draw you into you, and your friends, and your scene, and your hood, and you place in the cosmos, and not sell you out as a consumer to Hollywood, and Manhattan, and manufactured forms of entertainment”   \n",
    "\n",
    "Really ready (feat. Dolph & Rulet 101)  \n",
    "Gucci Mane — Trap God 2  "
   ]
  }
 ],
 "metadata": {
  "language_info": {
   "name": "python"
  },
  "orig_nbformat": 4
 },
 "nbformat": 4,
 "nbformat_minor": 2
}
