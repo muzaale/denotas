{
 "cells": [
  {
   "cell_type": "markdown",
   "metadata": {},
   "source": []
  },
  {
   "cell_type": "markdown",
   "metadata": {},
   "source": [
    "#### 11/2017\n",
    "\n",
    "Companies get into trouble when due-process — not outcomes for clients — becomes an endgame   \n",
    "\n",
    "Sounds like ERGOT fussing over project proposals, Koko vs Joe, RA vs Great science, hardworking vs yielding, input vs output   \n",
    "\n",
    "ERGOTs a baby dinosaur 🦖🦕 {cite}`ressentiment`"
   ]
  }
 ],
 "metadata": {
  "language_info": {
   "name": "python"
  },
  "orig_nbformat": 4
 },
 "nbformat": 4,
 "nbformat_minor": 2
}
