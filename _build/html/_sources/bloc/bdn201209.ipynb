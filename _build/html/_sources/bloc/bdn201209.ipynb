{
 "cells": [
  {
   "cell_type": "markdown",
   "metadata": {},
   "source": []
  },
  {
   "cell_type": "markdown",
   "metadata": {},
   "source": [
    "\n",
    "\n",
    "\n",
    "  \n",
    "\n",
    "#### 09/2012\n",
    "\n",
    "Burbage has got my keep, you my heart      \n",
    ".   \n",
    "What is a man, If his chief good and market of his time be but to sleep and feed? A beast, no more.   \n",
    ".   \n",
    "\n",
    "Latest rankings:         \n",
    "   \n",
    "1. Sea scallop (neat)\n",
    "2. Sea scallop (spicey)\n",
    "2. Salmon\n",
    "4. Tilapia \n",
    "5. Codfish \n",
    "   \n",
    "I think it's necessary to adjudicate using the following criteria:      \n",
    "\n",
    "1. Flavor/Spice\n",
    "2. Feeling/Sorrowfulness**\n",
    "3. Fullness/Texture\n",
    "\n",
    "when you feel a tragic sorrow for the fish, coz you know you'll be buying it every other day 😊 . Salmon does pretty well in Fullness, Tilapia not     \n",
    ".  \n",
    "      \n",
    "I'm most certainly against Marijuana; thus, whenever I get the opportunity, I burn it     \n",
    "\n",
    ".    \n",
    "\n",
    "The Titan Prometheus - tried to give man 100% knowledge = Gods on Olympus. He was cast away        \n",
    "    \n",
    "The Heritage of Humanity - Geniuses, Art & History        \n",
    "\n",
    "The Olympians Apollo & Dionysus - will only give man as much knowledge as man seeks  "
   ]
  }
 ],
 "metadata": {
  "language_info": {
   "name": "python"
  },
  "orig_nbformat": 4
 },
 "nbformat": 4,
 "nbformat_minor": 2
}
