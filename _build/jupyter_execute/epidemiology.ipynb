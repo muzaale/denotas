{
 "cells": [
  {
   "cell_type": "markdown",
   "metadata": {},
   "source": [
    "1. meta-analysis of randomized trials (incompatible protocols & patient populations)\n",
    "   - after all, the only thing that matters is the truth\n",
    "   - but what is the truth, asked pilate?\n",
    "2. randomized trials\n",
    "   - highly selected patients \n",
    "   - platonic ideal of clinical trial setting to prove efficacy\n",
    "   - yet what really matters is effectiveness in the real world\n",
    "3. observational studies \n",
    "   - constrained by budgets and ethics \n",
    "   - heraclitean agile approach to real patients\n",
    "   - propensity score matching, instrumental variables, etc.\n",
    "4. big data \n",
    "   - electronic health records, insurance claims, registries, web-based surveys, wearable devices, social media, etc. \n",
    "   - epicurean pragmatic approach to real patients\n",
    "   - machine learning, natural language processing, etc.\n",
    "5. case series, reports and anecdotes (historical medical literature and classical medical education)\n",
    "6. expert opinion (clinical experience and intuition especially in the absence of evidence, say, in the case of a novel disease)\n",
    "\n",
    "\n",
    "references: bible, talmud, koran, bhagavad gita, etc.\n",
    "\n",
    "hey co-pilot how to i use references.bib in jupyter notebooks?   \n",
    "step 1: **install jupyterlab-bib extension**   \n",
    "step 2: install jupyterlab-latex   \n",
    "step 3: install jupyterlab-katex  \n",
    "step 4: install jupyterlab-citation-manager   \n"
   ]
  }
 ],
 "metadata": {
  "kernelspec": {
   "display_name": "myenv",
   "language": "python",
   "name": "myenv"
  },
  "language_info": {
   "codemirror_mode": {
    "name": "ipython",
    "version": 3
   },
   "file_extension": ".py",
   "mimetype": "text/x-python",
   "name": "python",
   "nbconvert_exporter": "python",
   "pygments_lexer": "ipython3",
   "version": "3.11.9"
  }
 },
 "nbformat": 4,
 "nbformat_minor": 2
}