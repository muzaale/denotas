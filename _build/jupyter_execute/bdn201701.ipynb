{
 "cells": [
  {
   "cell_type": "markdown",
   "metadata": {},
   "source": [
    "\n",
    " \n",
    "\n",
    "#### 01/2017\n",
    "\n",
    "\n",
    "Was a delight catching up in person after so long! It was also such a pleasure to meet Julius -- congrats on having such a great man for a husband. As for Elaine, it seems like she totally loves music by J.S. Bach. Because it was only in response to a Bach piece I played (not to Mozart, Beethoven, or Chopin) that she got onto her feet, animatedly, to play the piano like a natural-born Maestro :-)  \n",
    "\n",
    ".  \n",
    "\n",
    "\n",
    "100 years ago: World War (Finance)  \n",
    "300 years ago: L'Estro Armonico (Beauty)  \n",
    "500 years ago: Ninety Five Theses (Narr.)  \n",
    "800 years ago: Magna Carter (Ethnic)  \n",
    "\n",
    ".  \n",
    "\n",
    "Verboden Vrucht / Fruit Defendu (Forbidden Fruit) | Brouwerij van Hoegaarden | BeerAdvocate   \n",
    "\n",
    ".  \n",
    "\n",
    "\n",
    "\n",
    "\n",
    "It's said that with your courage, your longevity, your sporting ability, you are an inspiration to children, to people everywhere. Talk about your role inspiring people and the role of athlete's to touch people's lives. Is that something you reflect on?  \n",
    "\n",
    "What I will say about sport, I think why people love sport so much, is because you see everything in a line. In that moment there is no do-over, there’s no retake, there is no voice-over. It’s triumph and disaster witnessed in real-time. This is why people live and die for sport, because you can’t fake it. You can’t. It’s either you do it or you don’t.  \n",
    "\n",
    "People relate to the champion. They also relate to the person also who didn’t win because we all have those moments in our life.  \n",
    "\n",
    "Is it an athlete’s job to inspire? Inherently what I think athletes do at a top level inspires people, but each person takes that responsibility differently.  "
   ]
  }
 ],
 "metadata": {
  "kernelspec": {
   "display_name": "myenv",
   "language": "python",
   "name": "myenv"
  },
  "language_info": {
   "codemirror_mode": {
    "name": "ipython",
    "version": 3
   },
   "file_extension": ".py",
   "mimetype": "text/x-python",
   "name": "python",
   "nbconvert_exporter": "python",
   "pygments_lexer": "ipython3",
   "version": "3.11.9"
  }
 },
 "nbformat": 4,
 "nbformat_minor": 2
}