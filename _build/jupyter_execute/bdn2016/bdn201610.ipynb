{
 "cells": [
  {
   "cell_type": "markdown",
   "metadata": {},
   "source": [
    "(my-label)= \n",
    "#### 10/2016\n",
    "\n",
    "Ecce homo: the questions of diet, climate, etc. and my long-term mentor-mentee relationship. Think: challenge-level vs. skill-level, engagement and flow {cite}`eccehomo`"
   ]
  }
 ],
 "metadata": {
  "kernelspec": {
   "display_name": "myenv",
   "language": "python",
   "name": "myenv"
  },
  "language_info": {
   "codemirror_mode": {
    "name": "ipython",
    "version": 3
   },
   "file_extension": ".py",
   "mimetype": "text/x-python",
   "name": "python",
   "nbconvert_exporter": "python",
   "pygments_lexer": "ipython3",
   "version": "3.11.9"
  }
 },
 "nbformat": 4,
 "nbformat_minor": 2
}