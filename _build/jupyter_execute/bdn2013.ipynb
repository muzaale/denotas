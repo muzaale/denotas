{
 "cells": [
  {
   "cell_type": "markdown",
   "metadata": {},
   "source": [
    "\n",
    "#### 10/2013\n",
    "\n",
    "For never can anything be amiss/     \n",
    "when simpleness of duty attend it     \n",
    "      \n",
    "For ne-ver can a-ny-thing be a-miss/     \n",
    "when sim-ple-ness of du-ty a-ttend it     \n",
    "    \n",
    "Iambic Pentameter     \n",
    "Blank Verse    \n",
    "    \n",
    "For ne    \n",
    "-ver can    \n",
    "a-ny   \n",
    "-thing be    \n",
    "a-miss/   \n",
    "    \n",
    "when sim   \n",
    "-ple-ness    \n",
    "of du   \n",
    "-ty a-   \n",
    "ttend it   \n",
    "   \n",
    "Note the dynamic alteration between strong and weak syllable in each \"iamb\" (two syllables with alternating stress points an iamb make)    \n",
    "  \n",
    "Also note the rhythm of the verse:    \n",
    "   \n",
    "oh why   \n",
    "oh why   \n",
    "oh why   \n",
    "oh why   \n",
    "oh why    \n",
    "   \n",
    "So the blank-verse..  \n",
    "   \n",
    "For ne-ver can a-ny-thing be a-miss/   \n",
    "when sim-ple-ness of du-ty a-ttend it   \n",
    "\n",
    "Connotes a gradual evolution from poetry (Shakespeare's sonnets), to drama (Shakespeare's plays) & ultimately to tragedy (Shakespeare's blank-verse whose rhythm and dynamics that are in the spirit of music - that tragic art)     \n",
    "\n",
    "+ She had a high IQ and a low cut dress       \n",
    "     \n",
    "- On how I met Xxx    \n",
    "(Whatever Works)  "
   ]
  }
 ],
 "metadata": {
  "language_info": {
   "codemirror_mode": {
    "name": "ipython",
    "version": 3
   },
   "file_extension": ".py",
   "mimetype": "text/x-python",
   "name": "python",
   "nbconvert_exporter": "python",
   "pygments_lexer": "ipython3",
   "version": "3.11.4"
  }
 },
 "nbformat": 4,
 "nbformat_minor": 2
}