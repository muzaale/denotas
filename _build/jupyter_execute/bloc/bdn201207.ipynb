{
 "cells": [
  {
   "cell_type": "markdown",
   "metadata": {},
   "source": []
  },
  {
   "cell_type": "markdown",
   "metadata": {},
   "source": [
    "  \n",
    "\n",
    "\n",
    "\n",
    "\n",
    "\n",
    "#### 07/2012\n",
    "\n",
    "woody allen parodies the various forms of illusions human beings chase. his fellow tribesman, solomon, hinted at a similar insight in ecclesiastics. when he referred to all human dreams of earthly joy as \"chasing the wind\"   \n",
    ".    \n",
    "\n",
    "[scherzo](https://www.google.com/search?client=safari&rls=en&q=scherzo+from+brecknell%27s+9th+symphony&ie=UTF-8&oe=UTF-8#fpstate=ive&vld=cid:ef8f328a,vid:6wQP5TRnt4U) from brecknell's 9th symphony    \n",
    "\n",
    ".     \n",
    "\n",
    "impotent - rSM - emasculated   \n",
    "peace - GJc - estrogen   \n",
    "war - EdF - testosterone    \n",
    ".     \n",
    "\n",
    "```\n",
    "hahahahaha.. i was going to say touché, but then i realized that i only enact tragedies not romances. at best, farces, if i'm to be easy on myself)\n",
    "\n",
    "\n",
    "On Jul 23, 2012, at 5:03 PM, xxxx xxxxxxxx <pxxxxxgwa@gmail.com> wrote:\n",
    "\n",
    "You watch romances? Or act them?\n",
    "\n",
    "-- Peter M. S.\n",
    "```\n",
    "\n",
    ".  \n",
    "\n",
    "```\n",
    "I was going through the park last Sunday, and close by the Marble arch there stood a little crowd of shabby-looking people listening to some vulgar street-preacher. As I passed by, I heard the man yelling out that question to his audience. It struck me as being rather dramatic. London is very rich in curious effects of that kind. A wet Sunday, an uncouth Christian in a mackintosh, a ring of sickly white faces under a broken roof of dripping umbrellas, and a wonderful phrase flung into the air by shrill hysterical lips -- it was really very good in its way, quite a suggestion. I thought of telling the prophet that art had a soul, but that man had not. I am afraid, however, he would not have understood me \n",
    "```\n"
   ]
  }
 ],
 "metadata": {
  "language_info": {
   "codemirror_mode": {
    "name": "ipython",
    "version": 3
   },
   "file_extension": ".py",
   "mimetype": "text/x-python",
   "name": "python",
   "nbconvert_exporter": "python",
   "pygments_lexer": "ipython3",
   "version": "3.11.4"
  }
 },
 "nbformat": 4,
 "nbformat_minor": 2
}