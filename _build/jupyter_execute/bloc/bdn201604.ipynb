{
 "cells": [
  {
   "cell_type": "markdown",
   "metadata": {},
   "source": []
  },
  {
   "cell_type": "markdown",
   "metadata": {},
   "source": [
    "#### 04/2016\n",
    "\n",
    "“Donald Trump has had several foreign wives. It turns out that there really are jobs Americans won’t do.”  \n",
    "Mitt Romney works on his stand-up routine  \n",
    "\n",
    ".  \n",
    "\n",
    "Sylvester, Pam’s husband  \n",
    "\n",
    ".  \n",
    "\n",
    "Faith’s Malteses  \n",
    "Ivy — black, dramatic  \n",
    "Poppy — white, deaf  \n",
    "\n",
    ".  \n",
    "\n",
    "\n",
    "Quentin Tarantino (pictured) and the Coen Brothers, for instance, are not only film-makers themselves but also students of film, their work informed by countless hours spent analysing images on the flickering screen. “A work of art is itself a piece of criticism,” Mr Scott asserts.   "
   ]
  }
 ],
 "metadata": {
  "language_info": {
   "codemirror_mode": {
    "name": "ipython",
    "version": 3
   },
   "file_extension": ".py",
   "mimetype": "text/x-python",
   "name": "python",
   "nbconvert_exporter": "python",
   "pygments_lexer": "ipython3",
   "version": "3.11.4"
  }
 },
 "nbformat": 4,
 "nbformat_minor": 2
}