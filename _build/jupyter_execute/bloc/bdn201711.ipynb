{
 "cells": [
  {
   "cell_type": "markdown",
   "metadata": {},
   "source": []
  },
  {
   "cell_type": "markdown",
   "metadata": {},
   "source": [
    "#### 11/2017\n",
    "\n",
    "Companies get into trouble when due-process — not outcomes for clients — becomes an endgame   \n",
    "\n",
    "Sounds like ERGOT fussing over project proposals, Koko vs Joe, RA vs Great science, hardworking vs yielding, input vs output   \n",
    "\n",
    "ERGOTs a baby dinosaur 🦖🦕 {cite}`ressentiment`"
   ]
  }
 ],
 "metadata": {
  "language_info": {
   "codemirror_mode": {
    "name": "ipython",
    "version": 3
   },
   "file_extension": ".py",
   "mimetype": "text/x-python",
   "name": "python",
   "nbconvert_exporter": "python",
   "pygments_lexer": "ipython3",
   "version": "3.11.4"
  }
 },
 "nbformat": 4,
 "nbformat_minor": 2
}