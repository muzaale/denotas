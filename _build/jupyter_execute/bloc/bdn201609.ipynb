{
 "cells": [
  {
   "cell_type": "markdown",
   "metadata": {},
   "source": []
  },
  {
   "cell_type": "markdown",
   "metadata": {},
   "source": [
    " \n",
    "\n",
    "\n",
    "\n",
    "#### 09/2016\n",
    "\n",
    "\n",
    "Wish list 09/15  \n",
    "\n",
    "-Thank God  \n",
    "-Prime Now  \n",
    "-403(b); Health & Dental  \n",
    "-Dallas  \n",
    "-New York (Call Abel)  \n",
    "-Sarah: Call Procurement @Hopkins    \n",
    "-Nicole: Monday Presentation (i.e. Topic)  \n",
    "-Enjoy a Nice Swim?  \n",
    "-Boards  \n",
    "-Think/Sing/Relax, etc  \n",
    "\n",
    ".  \n",
    "\n",
    "I need a passive vehicle -- an index fund  \n",
    "\n",
    "Because it's low-fee (active vs passive)  \n",
    "\n",
    "And meaningful in the long-term   \n",
    "\n",
    ".\n",
    "\n",
    "Flaunt means display, flout means disdain. If you flout this distinction you will flaunt your ignorance  \n",
    "\n",
    ".  \n",
    "\n",
    "Jonathan Dunn  \n",
    "Donny Hathaway  \n",
    "\n",
    ".  \n",
    "\n",
    "\n",
    "\n",
    "Take mummy & daddy out more often!!!"
   ]
  }
 ],
 "metadata": {
  "language_info": {
   "codemirror_mode": {
    "name": "ipython",
    "version": 3
   },
   "file_extension": ".py",
   "mimetype": "text/x-python",
   "name": "python",
   "nbconvert_exporter": "python",
   "pygments_lexer": "ipython3",
   "version": "3.11.4"
  }
 },
 "nbformat": 4,
 "nbformat_minor": 2
}