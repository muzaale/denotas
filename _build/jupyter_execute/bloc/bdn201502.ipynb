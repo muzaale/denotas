{
 "cells": [
  {
   "cell_type": "markdown",
   "metadata": {},
   "source": []
  },
  {
   "cell_type": "markdown",
   "metadata": {},
   "source": [
    "## 02/2015\n",
    "\n",
    "Kyrie: Lyrical & Existential Cry for Mercy  \n",
    "Gloria: Thank God the Father  \n",
    "Credo: Beliefs Guiding Actions  \n",
    "Sanctus/Benedictus: For the Body&Blood  \n",
    "Angus Deus: Dona Nobis Pacem. {cite}`latinmass`\n"
   ]
  }
 ],
 "metadata": {
  "language_info": {
   "codemirror_mode": {
    "name": "ipython",
    "version": 3
   },
   "file_extension": ".py",
   "mimetype": "text/x-python",
   "name": "python",
   "nbconvert_exporter": "python",
   "pygments_lexer": "ipython3",
   "version": "3.11.4"
  }
 },
 "nbformat": 4,
 "nbformat_minor": 2
}