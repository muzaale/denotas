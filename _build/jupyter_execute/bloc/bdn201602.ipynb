{
 "cells": [
  {
   "cell_type": "markdown",
   "metadata": {},
   "source": []
  },
  {
   "cell_type": "markdown",
   "metadata": {},
   "source": [
    "#### 02/2016 \n",
    "\n",
    "I've exciting news for you -- exciting because it will invoke schadenfreude: I splintered my iPhone screen :-)    \n",
    "\n",
    "First time in 9 years that it would've made sense for me to have a phone case.   \n",
    "\n",
    "Forgot the bloody phone in my jeans and when I hurled them off.. it flew to its death on the grounds of my bathroom.   \n",
    "\n",
    ".  \n",
    "\n",
    "[highland park 12](https://www.youtube.com/watch?v=HpoIcXfToVs)  \n",
    "\n",
    ". \n",
    "\n",
    "who killed [captain alex](https://www.youtube.com/watch?v=KEoGrbKAyKE)? (comedy is all about being so off-topic, in a manner very clearly apparent to the audience but not to the characters on stage) "
   ]
  }
 ],
 "metadata": {
  "language_info": {
   "codemirror_mode": {
    "name": "ipython",
    "version": 3
   },
   "file_extension": ".py",
   "mimetype": "text/x-python",
   "name": "python",
   "nbconvert_exporter": "python",
   "pygments_lexer": "ipython3",
   "version": "3.11.4"
  }
 },
 "nbformat": 4,
 "nbformat_minor": 2
}