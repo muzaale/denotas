{
 "cells": [
  {
   "cell_type": "markdown",
   "metadata": {},
   "source": [
    " \n",
    "\n",
    "#### 10/2018\n",
    "\n",
    "1. Sopranos- mental disease   \n",
    "2. The Wire - social disease   \n",
    "3. Breaking Bad - physical disease   \n",
    "\n",
    ".  \n",
    "\n",
    "\n",
    "Boredom vs Suffering: choose!   \n",
    "\n",
    ".  \n",
    "\n",
    "\n",
    "Life imitating art   \n",
    "S5E10 26.10   \n",
    "Tony is a heart attack about to happen   \n",
    "And that happened 12 years later in life  \n",
    "\n",
    ".  \n",
    "\n",
    "\n",
    "The Wire  \n",
    "\n",
    "Season 1. Detective-Level (McNulty)  \n",
    "Season 2. Major-level (Valchek)  \n",
    "Season 3. Commissioner-level (Burrell)   \n",
    "Season 4. Mayoral-level (Royce)  \n",
    "Season 5. Gubernatorial-level (Carcetti) "
   ]
  }
 ],
 "metadata": {
  "kernelspec": {
   "display_name": "myenv",
   "language": "python",
   "name": "myenv"
  },
  "language_info": {
   "codemirror_mode": {
    "name": "ipython",
    "version": 3
   },
   "file_extension": ".py",
   "mimetype": "text/x-python",
   "name": "python",
   "nbconvert_exporter": "python",
   "pygments_lexer": "ipython3",
   "version": "3.11.9"
  }
 },
 "nbformat": 4,
 "nbformat_minor": 2
}