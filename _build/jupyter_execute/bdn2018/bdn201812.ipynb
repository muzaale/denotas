{
 "cells": [
  {
   "cell_type": "markdown",
   "metadata": {},
   "source": [
    "\n",
    "\n",
    "#### 12/2018\n",
    "\n",
    "Professional imperialism — Midgley   \n",
    "Daddy wants some 💰    \n",
    "Social welfare in western society — Jerald Handel (for me)  \n",
    "\n",
    ".  \n",
    "\n",
    "Sarah Kayongo  \n",
    "Confirmation # JQBRFP   \n",
    "Ticket # 006 216 417 7422    \n",
    "\n",
    ".  \n",
    "\n",
    "\n",
    "\n",
    "\n",
    "\n",
    "\n",
    "       Defy gods                               Yield to Sanity*  \n",
    "      /                  \\                          /  \n",
    "    Defy odds.     Yield to gravity  \n",
    "\n",
    "*Better understanding of statistics, chance, inference   \n",
    "\n",
    ".  \n",
    "\n",
    "\n",
    "Nabanumya  \n",
    "Mildred  \n",
    "\n",
    ".  "
   ]
  }
 ],
 "metadata": {
  "kernelspec": {
   "display_name": "myenv",
   "language": "python",
   "name": "myenv"
  },
  "language_info": {
   "codemirror_mode": {
    "name": "ipython",
    "version": 3
   },
   "file_extension": ".py",
   "mimetype": "text/x-python",
   "name": "python",
   "nbconvert_exporter": "python",
   "pygments_lexer": "ipython3",
   "version": "3.11.9"
  }
 },
 "nbformat": 4,
 "nbformat_minor": 2
}