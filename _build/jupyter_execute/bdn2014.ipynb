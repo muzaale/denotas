{
 "cells": [
  {
   "cell_type": "markdown",
   "metadata": {},
   "source": [
    "[2011](bdn2011.ipynb)    \n",
    "2012    \n",
    "2013  \n",
    "2014  \n",
    "2015  \n",
    "2016  \n",
    "2017  \n",
    "2018  \n",
    "2019  \n",
    "[2020](bdn2020.ipynb)  \n",
    "[2021](bdn2021.ipynb)  \n",
    "[2022](bdn2022.ipynb)  \n",
    "2023  "
   ]
  }
 ],
 "metadata": {
  "language_info": {
   "codemirror_mode": {
    "name": "ipython",
    "version": 3
   },
   "file_extension": ".py",
   "mimetype": "text/x-python",
   "name": "python",
   "nbconvert_exporter": "python",
   "pygments_lexer": "ipython3",
   "version": "3.11.4"
  }
 },
 "nbformat": 4,
 "nbformat_minor": 2
}