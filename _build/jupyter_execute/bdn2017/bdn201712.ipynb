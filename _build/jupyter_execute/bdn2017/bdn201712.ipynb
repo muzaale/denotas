{
 "cells": [
  {
   "cell_type": "markdown",
   "metadata": {},
   "source": [
    "\n",
    "\n",
    "#### 12/2017\n",
    "\n",
    "When it comes to scandal-avoidance, you can’t do better than the vicar’s daughter who claims that the naughtiest thing she has ever done is run through a field of wheat — The Economist on Theresa May   \n",
    "\n",
    "\n",
    "\n",
    "\n",
    "https://verysmartbrothas.theroot.com/the-video-of-the-man-saving-the-rabbit-from-the-fire-ca-1821184637  \n",
    "\n",
    "Interesting. But the general idea is that the helpless (ie, children, animals, etc) can rely only on the good will of protectors. Godfathers, if you will.   \n",
    "\n",
    "If some black people think of themselves as belonging to that category of the helpless (ie, lacking the intellectual resources to solve their own problems), then we have a problem.   \n",
    "\n",
    "Nietzsche’s emphasis on the *Will to Power* as the defining trait of the human race deserves special mention. The helpless only have the biological instinct to survive (and poorly developed instinct at that) — so they might have a *Will to survive* (ie, eat or cry when hungry, drink when thirsty, run away from danger.. if they know what danger looks like, etc). But ADULT black folks who whine about other people not caring for them? They are doomed. It’s a jungle and only the fit survive. Of course Jesus teaches us to love, and that taking care of the least of our brethren is = to loving God (Matt 22: 37; 25:40). But that’s another question altogether  "
   ]
  }
 ],
 "metadata": {
  "kernelspec": {
   "display_name": "myenv",
   "language": "python",
   "name": "myenv"
  },
  "language_info": {
   "codemirror_mode": {
    "name": "ipython",
    "version": 3
   },
   "file_extension": ".py",
   "mimetype": "text/x-python",
   "name": "python",
   "nbconvert_exporter": "python",
   "pygments_lexer": "ipython3",
   "version": "3.11.9"
  }
 },
 "nbformat": 4,
 "nbformat_minor": 2
}