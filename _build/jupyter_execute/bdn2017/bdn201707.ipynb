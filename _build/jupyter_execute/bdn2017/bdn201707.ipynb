{
 "cells": [
  {
   "cell_type": "markdown",
   "metadata": {},
   "source": [
    "\n",
    "#### 07/2017\n",
    "\n",
    "\n",
    "07/01/2017  \n",
    "\n",
    "All my life, I pray for someone like you..  \n",
    "\n",
    "1.iphone charger, dongo charger   \n",
    "2.dress socks, suit, 3 bow ties, etc  \n",
    "3.gym stuff, earphones, iPhone armband   \n",
    "4.boxers, shorts, Ts, shirts, pants  \n",
    "5.  \n",
    "\n",
    "1.take all 3rd party stuff   \n",
    "2.dodo stuff  \n",
    "3.piano practice  \n",
    "4.tooth brush,   \n",
    "\n",
    "07/06/2017\n",
    "\n",
    "Allan was in a vibrant mood today, he had a strong & reassuring sense of humor, and expressed thanks to God that his condition didn't cause him any physical pain or discomfort. He felt that his condition robbed him *ONLY* of his ability to move around freely. And that it may have had a psychological impact previously.  \n",
    "\n",
    "What struck me is that he was able to direct us himself to home via cell phone: Pati kept calling him for details on where to turn & such; Allan also sent some info by text (which struck me as fine motor movements)  \n",
    "\n",
    "He looked cheerful when we met him, sat upright throughout out our one-hour visit, and narrated to us his experiences leading to his recent trip to Pretoria. Among the things that became clear to me as we chatted was that his left side of the body (left leg more than left arm) was weaker than the right side -- a very important observation *ONLY* Dr. Katwere made (no other Ugandan or South African doctor made this observation). Also, Allan said his vision wasn't so good -- which is evident in his eyes, which are not very vigilant about his surroundings.  \n",
    "\n",
    "In his own words he expressed significant improvement in trunk-muscle strength over the last couple of months (prior to the south Africa visit) but increasingly slurred speech since going to SA (which he attributes to having forgotten some meds in Kampala).  "
   ]
  }
 ],
 "metadata": {
  "kernelspec": {
   "display_name": "myenv",
   "language": "python",
   "name": "myenv"
  },
  "language_info": {
   "codemirror_mode": {
    "name": "ipython",
    "version": 3
   },
   "file_extension": ".py",
   "mimetype": "text/x-python",
   "name": "python",
   "nbconvert_exporter": "python",
   "pygments_lexer": "ipython3",
   "version": "3.11.9"
  }
 },
 "nbformat": 4,
 "nbformat_minor": 2
}