{
 "cells": [
  {
   "cell_type": "markdown",
   "metadata": {},
   "source": [
    "#### 09/2017\n",
    "\n",
    "Before the beginning, after great war between Heaven and Hell, God created the Earth and gave dominion over it to the crafty ape he called Man. And to each generation was born a Creature of Light and a Creature Darkness. And great armies clashed by night in the ancient war between good and evil. There was magic then, nobility, and unimaginable cruelty. And so it was, until the day that a false sun exploded over Trinity, and forever traded away wonder for reason.  \n",
    "\n",
    "The history of all hitherto existing society is the history of class struggles  \n",
    "\n",
    "Canon in D — Procession   \n",
    "Great is thy faithfulness — (After prayer)  \n",
    "All things bright and beautiful —  (After second reading)  \n",
    "\n",
    "\n",
    "Justine Kakembo & Angel Tabora's Kasiiki  \n",
    "Saturday, September 30, 2017   \n",
    "\n",
    "Mexican Grill   \n",
    "\n",
    "7404 Madison St, Forest Park, IL 60130  \n",
    "  \n",
    "x   \n",
    "  \n",
    "We'll kick off with a private event from  6:30 PM featuring classic cocktails, followed by mouth-watering Latin cuisine; then round out the evening with \"Afro-Caribbean-latin\" tunes, when our extended network of community and friends joins the party from 10:30 PM!  "
   ]
  }
 ],
 "metadata": {
  "kernelspec": {
   "display_name": "myenv",
   "language": "python",
   "name": "myenv"
  },
  "language_info": {
   "codemirror_mode": {
    "name": "ipython",
    "version": 3
   },
   "file_extension": ".py",
   "mimetype": "text/x-python",
   "name": "python",
   "nbconvert_exporter": "python",
   "pygments_lexer": "ipython3",
   "version": "3.11.9"
  }
 },
 "nbformat": 4,
 "nbformat_minor": 2
}