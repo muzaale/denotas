{
 "cells": [
  {
   "cell_type": "markdown",
   "metadata": {},
   "source": [
    "#### 08/2016\n",
    "\n",
    "\n",
    "Great directors make references to older films throughout their scripts: in staging, acting, talking, etc  \n",
    "\n",
    "The subtlety of the references means they intend to appeal only to a small audience   \n",
    "\n",
    "Science shouldn't be excepted ...  \n",
    "\n",
    ".\n",
    "\n",
    "\n",
    "\n",
    "\"...the only psychologist from whom I have anything to learn.\" - Nietzsche (1887)  \n",
    "\n",
    "\"Dostoevsky gives me more than any scientist, more than Gauss.\" - Albert Einstein  \n",
    "\n",
    "ΣΔμσi - A.D.M.  \n",
    "\n",
    ".  \n",
    "\n",
    "NIAID Career Development (K01) Awards in Epidemiology, Modeling, and Outcomes Research  "
   ]
  }
 ],
 "metadata": {
  "kernelspec": {
   "display_name": "myenv",
   "language": "python",
   "name": "myenv"
  },
  "language_info": {
   "codemirror_mode": {
    "name": "ipython",
    "version": 3
   },
   "file_extension": ".py",
   "mimetype": "text/x-python",
   "name": "python",
   "nbconvert_exporter": "python",
   "pygments_lexer": "ipython3",
   "version": "3.11.9"
  }
 },
 "nbformat": 4,
 "nbformat_minor": 2
}