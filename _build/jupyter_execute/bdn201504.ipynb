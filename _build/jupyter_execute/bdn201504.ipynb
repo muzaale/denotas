{
 "cells": [
  {
   "cell_type": "markdown",
   "metadata": {},
   "source": [
    "#### 04/2015\n",
    "\n",
    "Talking about Hoes -- before I even check out your video: under the influence of a neat Trappiste Beer, I was driven to the piano to analyze the chord progression, harmony, and melody of Neyo's \"She knows\". Beautiful!    \n",
    "\n",
    "But since I was sampling the music from YouTube, I found that the video choreography --and absolutely astonishing dancers-- matched or even surpassed the sublimity of the music.    \n",
    "   \n",
    "And then I started watching the video on loop. Dude! Never seen more impressive pole dancers. There's talent in this world!   \n",
    "\n",
    ".   \n",
    "\n",
    "pint glass   \n",
    "\n",
    ".   \n",
    "\n",
    "Tooth brushes & towels     \n",
    "Batteries   "
   ]
  }
 ],
 "metadata": {
  "kernelspec": {
   "display_name": "myenv",
   "language": "python",
   "name": "myenv"
  },
  "language_info": {
   "codemirror_mode": {
    "name": "ipython",
    "version": 3
   },
   "file_extension": ".py",
   "mimetype": "text/x-python",
   "name": "python",
   "nbconvert_exporter": "python",
   "pygments_lexer": "ipython3",
   "version": "3.11.9"
  }
 },
 "nbformat": 4,
 "nbformat_minor": 2
}