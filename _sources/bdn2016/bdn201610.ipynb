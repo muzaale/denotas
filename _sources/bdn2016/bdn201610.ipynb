{
 "cells": [
  {
   "cell_type": "markdown",
   "metadata": {},
   "source": [
    "(my-label)= \n",
    "#### 10/2016\n",
    "\n",
    "Ecce homo: the questions of diet, climate, etc. and my long-term mentor-mentee relationship. Think: challenge-level vs. skill-level, engagement and flow {cite}`eccehomo`"
   ]
  }
 ],
 "metadata": {
  "kernelspec": {
   "display_name": "myenv",
   "language": "python",
   "name": "myenv"
  },
  "language_info": {
   "name": "python"
  }
 },
 "nbformat": 4,
 "nbformat_minor": 2
}
