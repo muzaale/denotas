{
 "cells": [
  {
   "cell_type": "markdown",
   "metadata": {},
   "source": [
    "#### 09/2015\n",
    "\n",
    "http://mythphile.hubpages.com/hub/aeschylus\n",
    "\n",
    "\"Aeschylus, the Athenian, Euphorion's son, is dead. This tomb in Gela's cornlands covers him. His glorious valour the hallowed field of Marathon could tell, and the longhaired Persians had knowledge of it.\"   \n",
    "\n",
    ".  \n",
    "\n",
    "Sarah's dog: Dixie  \n",
    "Saad's dog: Rosabelle   \n",
    "\n",
    ".  \n",
    "\n",
    "\n",
    "Xxx Xxx\n",
    "xxx@vetpoint.net.nz\n",
    "\n",
    "Vet article: Outcome of Donor Cats After Unilateral Nephrectomy as Part of a Clinical Kidney Transplant Program\n",
    "\n",
    "Cites Perioperative Mortality… \n",
    "\n",
    "But sort of seems better connected with Risk of ESRD..\n",
    "\n",
    ".  \n",
    "\n",
    "\n",
    "Kahawa cafe, crested towers bldg?will u be driving?   \n",
    "\n",
    ".  \n",
    "\n",
    "\n",
    "mummy’s music:  \n",
    "  \n",
    "dilemma   \n",
    "As I lay me down  \n",
    "mother how are you today  "
   ]
  }
 ],
 "metadata": {
  "kernelspec": {
   "display_name": "myenv",
   "language": "python",
   "name": "myenv"
  },
  "language_info": {
   "name": "python"
  }
 },
 "nbformat": 4,
 "nbformat_minor": 2
}
