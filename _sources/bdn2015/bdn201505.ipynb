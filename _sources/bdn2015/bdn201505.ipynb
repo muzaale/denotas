{
 "cells": [
  {
   "cell_type": "markdown",
   "metadata": {},
   "source": [
    "\n",
    "\n",
    "#### 05/2015\n",
    "\n",
    "No rugby, sports      \n",
    "No heaven-bound, boy-band     \n",
    "New to Swimming     \n",
    "And regular gym     \n",
    "    \n",
    "The net effect?      \n",
    "From social to individual     \n",
    "     \n",
    "Was never a beer drinker        \n",
    "Natural resourcefulness to be alone but never lonely        \n",
    "    \n",
    "Maladaptive response to two sudden changes:     \n",
    "Housemate, and long-time friend leaving;       \n",
    "And a long-term relationship ending, both in Jan 2009    \n",
    "\n",
    "Perhaps never quite recovered: but rediscovered classical music            \n",
    "      \n",
    ".    \n",
    "    \n",
    "`Agency`-Product-Services \n",
    "Investments-Consumption-Export\n",
    "Equity-Assets-Bonds-Currencies-Derivatives    \n",
    "    \n",
    "Supply (Revenues-Costs), Qs   \n",
    "Demand (Household,Firm,Government), Qd\n",
    "Price (Earnings Growth Projections), $   \n",
    "   \n",
    "Inventory (Projected Demand), Qi\n",
    "Clearance (Utility, Diversity, Preferences), Qc\n",
    "Volatility iid ~ N(μ=0, σ=1), $    \n",
    "   \n",
    ".\n",
    "   \n",
    "If I might don my scholarly hat, I’ll share with you what I’ve read — about income and the things in our early lives that appear to influence how much income we earn decades later — not what I think:    \n",
    "   \n",
    "1) http://www.thelancet.com/pdfs/journals/langlo/PIIS2214-109X(15)70002-1.pdf ;      \n",
    "   \n",
    "2) http://www.economist.com/news/business/21651207-book-persistence-elites-unexpected-guide-getting-good-job-how-join ; and, of course,   \n",
    "   \n",
    "3) http://www.marketwatch.com/story/skills-not-wealth-drive-us-income-inequality-2015-05-27?page=1   \n",
    "\n",
    "    \n",
    "To summarize:   \n",
    "    \n",
    "1) Breast feeding for as long as possible (last borns have the opportunity to push this really, really far) substantially increases IQ and income decades later (#Mummy’sBoy);\n",
    "2) Daddy attending Yale and the Oval office substantially increases the chance of junior attending Yale and the Oval office decades later (#Pedigree); and, of course,     \n",
    "3) Steve Jobs didn’t breast feed (#Adopted shortly after birth), didn’t attend college (#Can’t write computer code), and we can’t say the stars aligned for him (#First coming in 1976, and #Second coming in 1997).    \n",
    "   \n",
    "So, it looks like we choose theories about the determinants of income based on our fields of study. And they are all correct. Many, many things determine IQ and income over the decades. \n",
    "And there’s no simple story to tell to Junior. But, we were all born with a natural instinct to preach, and we shall preach to our sons whatever our religion and tribe instructs us to see as the best course possible.    \n",
    "   \n",
    "Thus saith Mr. D  "
   ]
  }
 ],
 "metadata": {
  "kernelspec": {
   "display_name": "myenv",
   "language": "python",
   "name": "myenv"
  },
  "language_info": {
   "name": "python"
  }
 },
 "nbformat": 4,
 "nbformat_minor": 2
}
