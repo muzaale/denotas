{
 "cells": [
  {
   "cell_type": "markdown",
   "metadata": {},
   "source": [
    "### 545. notes\n",
    "\n",
    "\n",
    "#### 11/2011\n",
    "\n",
    "lost all my iphone notes prior to 06/2006 - 11/08/2011 after the introduction of icloud sync. my earliest 2011 note was on nhanes & looks like i'm `still` harping on same topic 12y later in 07/2023 {cite:p}`iphonemigration`\n",
    "\n",
    ".     \n",
    " \n",
    "'mukama ye musumba wange'   \n",
    "   + still harping on annuŋŋamya 12y later\n",
    "   + guess paper accepted in gastro\n",
    "   + [be smarter or cheat or be first](https://www.youtube.com/watch?v=fcoCtvehKZ4) {cite:p}`margincall`"
   ]
  }
 ],
 "metadata": {
  "kernelspec": {
   "display_name": "myenv",
   "language": "python",
   "name": "myenv"
  },
  "language_info": {
   "name": "python"
  }
 },
 "nbformat": 4,
 "nbformat_minor": 2
}
