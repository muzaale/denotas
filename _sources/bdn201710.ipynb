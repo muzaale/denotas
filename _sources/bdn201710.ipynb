{
 "cells": [
  {
   "cell_type": "markdown",
   "metadata": {},
   "source": [
    "#### 10/2017\n",
    "\n",
    "I don’t dance now, I make money moves   \n",
    "\n",
    "— will to power   "
   ]
  }
 ],
 "metadata": {
  "language_info": {
   "name": "python"
  },
  "orig_nbformat": 4
 },
 "nbformat": 4,
 "nbformat_minor": 2
}
