{
 "cells": [
  {
   "cell_type": "markdown",
   "metadata": {},
   "source": [
    " \n",
    "\n",
    "#### 08/2018\n",
    "\n",
    "\n",
    "If ever you relate with the existential despair, “much would I give for a constructive passion of some kind,” then you are back at #1: have some greater cause that transcends you and your relationship  \n",
    "\n",
    ".  \n",
    "\n",
    "\n",
    "Lifelong ministry of the good news is one such greater cause   \n",
    "\n",
    ".  \n",
    "\n",
    "J arrives at Sunday 15.30 hrs (5-6pm at hotel)  \n",
    "\n",
    ".  \n",
    "\n",
    "\n",
    "And wow! Got a call from you know whom!  \n",
    "\n",
    "“I definitely love the person who took this photo”  \n",
    "\n",
    "7.49pm  \n",
    "June 26, 2016  \n",
    "Waverly Village   \n",
    "Baltimore, MD 21218  \n",
    "\n",
    ".  \n",
    "\n",
    "\n",
    "Remember Othello!   \n",
    "Life imitates art!  \n",
    "Remember Beauty & the Beast!   \n",
    "Life imitates art!  \n",
    "Remember Shrek!   \n",
    "Art doth imitate art!   \n",
    "And the remainder thus:   \n",
    "“I think this tale would win my daughter too.”  \n",
    "\n",
    ".  \n",
    "\n",
    "Put but money in thy purse..  \n",
    "Therefore, make money!   \n",
    "Provide thy money!   \n",
    "\n",
    ".  \n",
    "\n",
    "Remind me to tell you about a strange call I received today & it’s possible connection with the UNRA disbandment   \n",
    "\n",
    ".  \n",
    "\n",
    "\n",
    "Where has 2018 gone?  "
   ]
  }
 ],
 "metadata": {
  "kernelspec": {
   "display_name": "myenv",
   "language": "python",
   "name": "myenv"
  },
  "language_info": {
   "name": "python"
  }
 },
 "nbformat": 4,
 "nbformat_minor": 2
}
