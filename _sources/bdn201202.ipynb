{
 "cells": [
  {
   "cell_type": "markdown",
   "metadata": {},
   "source": [
    "#### 02/2012\n",
    "\"you've gotta shut this shit down, it's fuckyn ridiculous\" {cite}`submarine`"
   ]
  }
 ],
 "metadata": {
  "language_info": {
   "name": "python"
  },
  "orig_nbformat": 4
 },
 "nbformat": 4,
 "nbformat_minor": 2
}
