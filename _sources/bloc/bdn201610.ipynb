{
 "cells": [
  {
   "cell_type": "markdown",
   "metadata": {},
   "source": []
  },
  {
   "cell_type": "markdown",
   "metadata": {},
   "source": [
    "#### 10/2016\n",
    "\n",
    "Ecce homo: the questions of diet, climate, etc. and my long-term mentor-mentee relationship. Think: challenge-level vs. skill-level, engagement and flow {cite}`eccehomo`"
   ]
  }
 ],
 "metadata": {
  "language_info": {
   "name": "python"
  },
  "orig_nbformat": 4
 },
 "nbformat": 4,
 "nbformat_minor": 2
}
