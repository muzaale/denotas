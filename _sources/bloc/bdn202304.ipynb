{
 "cells": [
  {
   "cell_type": "markdown",
   "metadata": {},
   "source": []
  },
  {
   "cell_type": "code",
   "execution_count": 1,
   "metadata": {},
   "outputs": [
    {
     "data": {
      "application/vnd.plotly.v1+json": {
       "config": {
        "plotlyServerURL": "https://plot.ly"
       },
       "data": [
        {
         "link": {
          "color": [
           "#1f77b4",
           "#1f77b4",
           "#1f77b4",
           "#ff7f0e",
           "#ff7f0e",
           "#ff7f0e",
           "#2ca02c"
          ],
          "source": [
           0,
           1,
           2,
           0,
           1,
           2,
           3,
           4
          ],
          "target": [
           3,
           3,
           3,
           4,
           4,
           4,
           5,
           6
          ],
          "value": [
           57.1,
           38.1,
           4.8,
           57.1,
           38.1,
           4.8,
           10,
           90
          ]
         },
         "node": {
          "color": [
           "#aec7e8",
           "#ffbb78",
           "#98df8a",
           "#ff9896",
           "#c5b0d5",
           "#c49c94",
           "#c7c7c7"
          ],
          "label": [
           "Donors",
           "General Population",
           "Healthy Controls",
           "Centers for Medicare",
           "National Death Index",
           "ESRD",
           "Death"
          ],
          "line": {
           "color": "white",
           "width": 0.5
          },
          "pad": 50,
          "thickness": 30
         },
         "type": "sankey"
        }
       ],
       "layout": {
        "font": {
         "family": "Arial",
         "size": 14
        },
        "height": 600,
        "margin": {
         "b": 50,
         "l": 50,
         "r": 50,
         "t": 50
        },
        "template": {
         "data": {
          "bar": [
           {
            "error_x": {
             "color": "#2a3f5f"
            },
            "error_y": {
             "color": "#2a3f5f"
            },
            "marker": {
             "line": {
              "color": "#E5ECF6",
              "width": 0.5
             },
             "pattern": {
              "fillmode": "overlay",
              "size": 10,
              "solidity": 0.2
             }
            },
            "type": "bar"
           }
          ],
          "barpolar": [
           {
            "marker": {
             "line": {
              "color": "#E5ECF6",
              "width": 0.5
             },
             "pattern": {
              "fillmode": "overlay",
              "size": 10,
              "solidity": 0.2
             }
            },
            "type": "barpolar"
           }
          ],
          "carpet": [
           {
            "aaxis": {
             "endlinecolor": "#2a3f5f",
             "gridcolor": "white",
             "linecolor": "white",
             "minorgridcolor": "white",
             "startlinecolor": "#2a3f5f"
            },
            "baxis": {
             "endlinecolor": "#2a3f5f",
             "gridcolor": "white",
             "linecolor": "white",
             "minorgridcolor": "white",
             "startlinecolor": "#2a3f5f"
            },
            "type": "carpet"
           }
          ],
          "choropleth": [
           {
            "colorbar": {
             "outlinewidth": 0,
             "ticks": ""
            },
            "type": "choropleth"
           }
          ],
          "contour": [
           {
            "colorbar": {
             "outlinewidth": 0,
             "ticks": ""
            },
            "colorscale": [
             [
              0,
              "#0d0887"
             ],
             [
              0.1111111111111111,
              "#46039f"
             ],
             [
              0.2222222222222222,
              "#7201a8"
             ],
             [
              0.3333333333333333,
              "#9c179e"
             ],
             [
              0.4444444444444444,
              "#bd3786"
             ],
             [
              0.5555555555555556,
              "#d8576b"
             ],
             [
              0.6666666666666666,
              "#ed7953"
             ],
             [
              0.7777777777777778,
              "#fb9f3a"
             ],
             [
              0.8888888888888888,
              "#fdca26"
             ],
             [
              1,
              "#f0f921"
             ]
            ],
            "type": "contour"
           }
          ],
          "contourcarpet": [
           {
            "colorbar": {
             "outlinewidth": 0,
             "ticks": ""
            },
            "type": "contourcarpet"
           }
          ],
          "heatmap": [
           {
            "colorbar": {
             "outlinewidth": 0,
             "ticks": ""
            },
            "colorscale": [
             [
              0,
              "#0d0887"
             ],
             [
              0.1111111111111111,
              "#46039f"
             ],
             [
              0.2222222222222222,
              "#7201a8"
             ],
             [
              0.3333333333333333,
              "#9c179e"
             ],
             [
              0.4444444444444444,
              "#bd3786"
             ],
             [
              0.5555555555555556,
              "#d8576b"
             ],
             [
              0.6666666666666666,
              "#ed7953"
             ],
             [
              0.7777777777777778,
              "#fb9f3a"
             ],
             [
              0.8888888888888888,
              "#fdca26"
             ],
             [
              1,
              "#f0f921"
             ]
            ],
            "type": "heatmap"
           }
          ],
          "heatmapgl": [
           {
            "colorbar": {
             "outlinewidth": 0,
             "ticks": ""
            },
            "colorscale": [
             [
              0,
              "#0d0887"
             ],
             [
              0.1111111111111111,
              "#46039f"
             ],
             [
              0.2222222222222222,
              "#7201a8"
             ],
             [
              0.3333333333333333,
              "#9c179e"
             ],
             [
              0.4444444444444444,
              "#bd3786"
             ],
             [
              0.5555555555555556,
              "#d8576b"
             ],
             [
              0.6666666666666666,
              "#ed7953"
             ],
             [
              0.7777777777777778,
              "#fb9f3a"
             ],
             [
              0.8888888888888888,
              "#fdca26"
             ],
             [
              1,
              "#f0f921"
             ]
            ],
            "type": "heatmapgl"
           }
          ],
          "histogram": [
           {
            "marker": {
             "pattern": {
              "fillmode": "overlay",
              "size": 10,
              "solidity": 0.2
             }
            },
            "type": "histogram"
           }
          ],
          "histogram2d": [
           {
            "colorbar": {
             "outlinewidth": 0,
             "ticks": ""
            },
            "colorscale": [
             [
              0,
              "#0d0887"
             ],
             [
              0.1111111111111111,
              "#46039f"
             ],
             [
              0.2222222222222222,
              "#7201a8"
             ],
             [
              0.3333333333333333,
              "#9c179e"
             ],
             [
              0.4444444444444444,
              "#bd3786"
             ],
             [
              0.5555555555555556,
              "#d8576b"
             ],
             [
              0.6666666666666666,
              "#ed7953"
             ],
             [
              0.7777777777777778,
              "#fb9f3a"
             ],
             [
              0.8888888888888888,
              "#fdca26"
             ],
             [
              1,
              "#f0f921"
             ]
            ],
            "type": "histogram2d"
           }
          ],
          "histogram2dcontour": [
           {
            "colorbar": {
             "outlinewidth": 0,
             "ticks": ""
            },
            "colorscale": [
             [
              0,
              "#0d0887"
             ],
             [
              0.1111111111111111,
              "#46039f"
             ],
             [
              0.2222222222222222,
              "#7201a8"
             ],
             [
              0.3333333333333333,
              "#9c179e"
             ],
             [
              0.4444444444444444,
              "#bd3786"
             ],
             [
              0.5555555555555556,
              "#d8576b"
             ],
             [
              0.6666666666666666,
              "#ed7953"
             ],
             [
              0.7777777777777778,
              "#fb9f3a"
             ],
             [
              0.8888888888888888,
              "#fdca26"
             ],
             [
              1,
              "#f0f921"
             ]
            ],
            "type": "histogram2dcontour"
           }
          ],
          "mesh3d": [
           {
            "colorbar": {
             "outlinewidth": 0,
             "ticks": ""
            },
            "type": "mesh3d"
           }
          ],
          "parcoords": [
           {
            "line": {
             "colorbar": {
              "outlinewidth": 0,
              "ticks": ""
             }
            },
            "type": "parcoords"
           }
          ],
          "pie": [
           {
            "automargin": true,
            "type": "pie"
           }
          ],
          "scatter": [
           {
            "fillpattern": {
             "fillmode": "overlay",
             "size": 10,
             "solidity": 0.2
            },
            "type": "scatter"
           }
          ],
          "scatter3d": [
           {
            "line": {
             "colorbar": {
              "outlinewidth": 0,
              "ticks": ""
             }
            },
            "marker": {
             "colorbar": {
              "outlinewidth": 0,
              "ticks": ""
             }
            },
            "type": "scatter3d"
           }
          ],
          "scattercarpet": [
           {
            "marker": {
             "colorbar": {
              "outlinewidth": 0,
              "ticks": ""
             }
            },
            "type": "scattercarpet"
           }
          ],
          "scattergeo": [
           {
            "marker": {
             "colorbar": {
              "outlinewidth": 0,
              "ticks": ""
             }
            },
            "type": "scattergeo"
           }
          ],
          "scattergl": [
           {
            "marker": {
             "colorbar": {
              "outlinewidth": 0,
              "ticks": ""
             }
            },
            "type": "scattergl"
           }
          ],
          "scattermapbox": [
           {
            "marker": {
             "colorbar": {
              "outlinewidth": 0,
              "ticks": ""
             }
            },
            "type": "scattermapbox"
           }
          ],
          "scatterpolar": [
           {
            "marker": {
             "colorbar": {
              "outlinewidth": 0,
              "ticks": ""
             }
            },
            "type": "scatterpolar"
           }
          ],
          "scatterpolargl": [
           {
            "marker": {
             "colorbar": {
              "outlinewidth": 0,
              "ticks": ""
             }
            },
            "type": "scatterpolargl"
           }
          ],
          "scatterternary": [
           {
            "marker": {
             "colorbar": {
              "outlinewidth": 0,
              "ticks": ""
             }
            },
            "type": "scatterternary"
           }
          ],
          "surface": [
           {
            "colorbar": {
             "outlinewidth": 0,
             "ticks": ""
            },
            "colorscale": [
             [
              0,
              "#0d0887"
             ],
             [
              0.1111111111111111,
              "#46039f"
             ],
             [
              0.2222222222222222,
              "#7201a8"
             ],
             [
              0.3333333333333333,
              "#9c179e"
             ],
             [
              0.4444444444444444,
              "#bd3786"
             ],
             [
              0.5555555555555556,
              "#d8576b"
             ],
             [
              0.6666666666666666,
              "#ed7953"
             ],
             [
              0.7777777777777778,
              "#fb9f3a"
             ],
             [
              0.8888888888888888,
              "#fdca26"
             ],
             [
              1,
              "#f0f921"
             ]
            ],
            "type": "surface"
           }
          ],
          "table": [
           {
            "cells": {
             "fill": {
              "color": "#EBF0F8"
             },
             "line": {
              "color": "white"
             }
            },
            "header": {
             "fill": {
              "color": "#C8D4E3"
             },
             "line": {
              "color": "white"
             }
            },
            "type": "table"
           }
          ]
         },
         "layout": {
          "annotationdefaults": {
           "arrowcolor": "#2a3f5f",
           "arrowhead": 0,
           "arrowwidth": 1
          },
          "autotypenumbers": "strict",
          "coloraxis": {
           "colorbar": {
            "outlinewidth": 0,
            "ticks": ""
           }
          },
          "colorscale": {
           "diverging": [
            [
             0,
             "#8e0152"
            ],
            [
             0.1,
             "#c51b7d"
            ],
            [
             0.2,
             "#de77ae"
            ],
            [
             0.3,
             "#f1b6da"
            ],
            [
             0.4,
             "#fde0ef"
            ],
            [
             0.5,
             "#f7f7f7"
            ],
            [
             0.6,
             "#e6f5d0"
            ],
            [
             0.7,
             "#b8e186"
            ],
            [
             0.8,
             "#7fbc41"
            ],
            [
             0.9,
             "#4d9221"
            ],
            [
             1,
             "#276419"
            ]
           ],
           "sequential": [
            [
             0,
             "#0d0887"
            ],
            [
             0.1111111111111111,
             "#46039f"
            ],
            [
             0.2222222222222222,
             "#7201a8"
            ],
            [
             0.3333333333333333,
             "#9c179e"
            ],
            [
             0.4444444444444444,
             "#bd3786"
            ],
            [
             0.5555555555555556,
             "#d8576b"
            ],
            [
             0.6666666666666666,
             "#ed7953"
            ],
            [
             0.7777777777777778,
             "#fb9f3a"
            ],
            [
             0.8888888888888888,
             "#fdca26"
            ],
            [
             1,
             "#f0f921"
            ]
           ],
           "sequentialminus": [
            [
             0,
             "#0d0887"
            ],
            [
             0.1111111111111111,
             "#46039f"
            ],
            [
             0.2222222222222222,
             "#7201a8"
            ],
            [
             0.3333333333333333,
             "#9c179e"
            ],
            [
             0.4444444444444444,
             "#bd3786"
            ],
            [
             0.5555555555555556,
             "#d8576b"
            ],
            [
             0.6666666666666666,
             "#ed7953"
            ],
            [
             0.7777777777777778,
             "#fb9f3a"
            ],
            [
             0.8888888888888888,
             "#fdca26"
            ],
            [
             1,
             "#f0f921"
            ]
           ]
          },
          "colorway": [
           "#636efa",
           "#EF553B",
           "#00cc96",
           "#ab63fa",
           "#FFA15A",
           "#19d3f3",
           "#FF6692",
           "#B6E880",
           "#FF97FF",
           "#FECB52"
          ],
          "font": {
           "color": "#2a3f5f"
          },
          "geo": {
           "bgcolor": "white",
           "lakecolor": "white",
           "landcolor": "#E5ECF6",
           "showlakes": true,
           "showland": true,
           "subunitcolor": "white"
          },
          "hoverlabel": {
           "align": "left"
          },
          "hovermode": "closest",
          "mapbox": {
           "style": "light"
          },
          "paper_bgcolor": "white",
          "plot_bgcolor": "#E5ECF6",
          "polar": {
           "angularaxis": {
            "gridcolor": "white",
            "linecolor": "white",
            "ticks": ""
           },
           "bgcolor": "#E5ECF6",
           "radialaxis": {
            "gridcolor": "white",
            "linecolor": "white",
            "ticks": ""
           }
          },
          "scene": {
           "xaxis": {
            "backgroundcolor": "#E5ECF6",
            "gridcolor": "white",
            "gridwidth": 2,
            "linecolor": "white",
            "showbackground": true,
            "ticks": "",
            "zerolinecolor": "white"
           },
           "yaxis": {
            "backgroundcolor": "#E5ECF6",
            "gridcolor": "white",
            "gridwidth": 2,
            "linecolor": "white",
            "showbackground": true,
            "ticks": "",
            "zerolinecolor": "white"
           },
           "zaxis": {
            "backgroundcolor": "#E5ECF6",
            "gridcolor": "white",
            "gridwidth": 2,
            "linecolor": "white",
            "showbackground": true,
            "ticks": "",
            "zerolinecolor": "white"
           }
          },
          "shapedefaults": {
           "line": {
            "color": "#2a3f5f"
           }
          },
          "ternary": {
           "aaxis": {
            "gridcolor": "white",
            "linecolor": "white",
            "ticks": ""
           },
           "baxis": {
            "gridcolor": "white",
            "linecolor": "white",
            "ticks": ""
           },
           "bgcolor": "#E5ECF6",
           "caxis": {
            "gridcolor": "white",
            "linecolor": "white",
            "ticks": ""
           }
          },
          "title": {
           "x": 0.05
          },
          "xaxis": {
           "automargin": true,
           "gridcolor": "white",
           "linecolor": "white",
           "ticks": "",
           "title": {
            "standoff": 15
           },
           "zerolinecolor": "white",
           "zerolinewidth": 2
          },
          "yaxis": {
           "automargin": true,
           "gridcolor": "white",
           "linecolor": "white",
           "ticks": "",
           "title": {
            "standoff": 15
           },
           "zerolinecolor": "white",
           "zerolinewidth": 2
          }
         }
        },
        "title": {
         "text": "Sankey Diagram"
        },
        "width": 800
       }
      }
     },
     "metadata": {},
     "output_type": "display_data"
    }
   ],
   "source": [
    "import pandas as pd\n",
    "import plotly.express as px\n",
    "import plotly.graph_objects as go \n",
    "import urllib, json\n",
    "import numpy as np\n",
    "import sqlite3 as sq3\n",
    "\n",
    "label = ['Donors',\n",
    "         \"General Population\", \n",
    "         \"Healthy Controls\", \n",
    "         \"Centers for Medicare\",\n",
    "         \"National Death Index\", \n",
    "         \"ESRD\", \n",
    "         \"Death\"]\n",
    "\n",
    "source = [0,1,2,   0,1,2,\n",
    "          3, 4]  \n",
    "\n",
    "target = [3,3,3,   4,4,4, \n",
    "          5, 6]  \n",
    "\n",
    "value = [57.1,38.1,4.8,  57.1,38.1,4.8, \n",
    "         10,90]   \n",
    "\n",
    "# Define colors for links and nodes\n",
    "link_color = ['#1f77b4', '#1f77b4', '#1f77b4', \n",
    "              '#ff7f0e', '#ff7f0e', '#ff7f0e', \n",
    "              '#2ca02c']\n",
    "node_color = ['#aec7e8', '#ffbb78', '#98df8a', \n",
    "              '#ff9896', '#c5b0d5', '#c49c94', \n",
    "              '#c7c7c7']\n",
    "\n",
    "link = dict(source=source, target=target, value=value, \n",
    "            color=link_color)\n",
    "node = dict(label=label, pad=50, thickness=30, \n",
    "            color=node_color, \n",
    "            line=dict(color='white', width=0.5))\n",
    "\n",
    "# Define figure layout\n",
    "layout = dict(title=dict(text=\"Sankey Diagram\"), \n",
    "              font=dict(size=14, family=\"Arial\"), \n",
    "              height=600, width=800, \n",
    "              margin=dict(l=50, r=50, t=50, b=50))\n",
    "\n",
    "# Create Sankey object\n",
    "sankey = go.Sankey(link=link, node=node)\n",
    "\n",
    "# Define Figure object\n",
    "fig = go.Figure(data=sankey, layout=layout)\n",
    "\n",
    "# Display figure in Jupyter notebook\n",
    "fig.show()\n"
   ]
  },
  {
   "cell_type": "markdown",
   "metadata": {},
   "source": [
    "#### 04/2023\n",
    "\n",
    "TRC Jupyter Book    \n",
    "GitHub accounts for decentralized version control   \n",
    "\n",
    ".  \n",
    "\n",
    "```\n",
    "r(mean)\n",
    "\n",
    "In the last class we learned about \n",
    "\n",
    "\n",
    "\n",
    "#queing tasks \n",
    "\n",
    "timer on 1.1\n",
    "do adult.do\n",
    "timer off 1.1\n",
    "\n",
    "timer on 1.2\n",
    "do exam.do \n",
    "timer off 1.2\n",
    "\n",
    "timer on 1.3\n",
    "do exam.do\n",
    "timer off 1.3\n",
    "\n",
    "```\n",
    "\n",
    ".  \n",
    "\n",
    "Annuŋŋamya   \n",
    "\n",
    ".  \n",
    "\n",
    "```\n",
    "Nairobi: Fiction (Sarah & I to collaborate on work of fiction: protect folks)\n",
    "\n",
    "2023\n",
    "\n",
    "All of use were gullible :\n",
    "\n",
    "Uncle Kgg = Drrk\n",
    "\n",
    "Nairobi: place things in context \n",
    "\n",
    "Make this function \n",
    "\n",
    "Kalnki — Mukungu\n",
    "Taltwla — upper class (only person they knew in Nairobi)\n",
    "Kgg — mummy \n",
    "Naigre - tete-a-tete\n",
    "\n",
    "Srh: why did l accept uncle Kgg?\n",
    "\n",
    "- Henry’s dad (not Skwgu)\n",
    "- \n",
    "Collaborate with family\n",
    "\n",
    "1. Srh will give info (long walks with o'j)\n",
    "2. \n",
    "3. \n",
    "\n",
    "Btwla, wmpa, … \n",
    "\n",
    "Swinging: they swapped chics, including Fna\n",
    "\n",
    "Gen-Z have returned to the baby boomer \n",
    "\n",
    "Btwla was m7 first minister for health\n",
    "This click\n",
    "\n",
    "X\n",
    "\n",
    "Lyda:\n",
    "\n",
    "o'j ayenda abantu ba wansi \n",
    "That’s how he met your l \n",
    "A teller\n",
    "\n",
    "Muzaale Tuma Batwala Bamowze Mutengu\n",
    "\n",
    "Muzaale send Batwala because Bamwoze is stubborn\n",
    "\n",
    "Dhadha Ikesa? Jay-Z ain’t got nothing on her\n",
    "\n",
    "x\n",
    "\n",
    "Albinism grandma’s condign \n",
    "\n",
    "x\n",
    "\n",
    "Lets tell scandals the way we do in the Bible \n",
    "\n",
    "“the Bible from genesis from revelation is all about crime”\n",
    "\n",
    "Why are we talking about sacrificing the lamb in OT\n",
    "\n",
    "And Jesus as the lamb of God?\n",
    "\n",
    "X\n",
    "\n",
    "Mythology with Gods from Bunyoro infesting Busoga\n",
    "\n",
    "\n",
    "```\n",
    "\n",
    ".  \n",
    "\n",
    "```\n",
    "#time\n",
    "\n",
    "2023\n",
    "\n",
    "Ancién regime\n",
    "Zeitgeist \n",
    "Bide one’s time \n",
    "```\n",
    "\n",
    ".  \n",
    "\n",
    "EPL  \n",
    "\n",
    "2023/04/03  \n",
    "\n",
    "Arsenal -138  \n",
    "MC +120  \n",
    "\n",
    "Nothing to write home about:  \n",
    "You’d lose $138 for every $100   \n",
    "That you bet on Arsenal winning the EPL  \n",
    "Market place expects it!  \n",
    "\n",
    ".  \n",
    "\n",
    "THIS works (but I need to hide my code)   "
   ]
  },
  {
   "cell_type": "markdown",
   "metadata": {},
   "source": [
    "# notes\n",
    "\n",
    "## 04/04/2023\n",
    "\n",
    "### 1. hub\n",
    "\n",
    "* learned about GitHub in my data science class by Caffo in the winter/spring of 2023\n",
    "* I'm now moving all my documents online\n",
    "* No longer beholden of any local machine or the software packages installed on it!\n",
    "\n",
    "### 2. vscode\n",
    "\n",
    "* I may never use my iMac's terminal again! \n",
    "* This is a sweet and beautiful medium between git & hub\n",
    "\n",
    "### 3. local\n",
    "\n",
    "```\n",
    "     ~/dropbox/0g.κοσμογονία,γ/1.cosmogony/existentialdread->libro @jhustata\n",
    "     ~/dropbox/2e.πρᾶξις,σ/3.acetyl.neurotrans/vscode.ds4ph/jhustata->book @jhustata\n",
    "     ~/dropbox/4d.∫δυσφορία.dt,ψ/1.shibboleth/dad->idioms @muzaalefamily\n",
    "     ~/dropbox/4d.∫δυσφορία.dt,ψ/4.describe/mybook->book @muzaale\n",
    "     ~/dropbox/4d.∫δυσφορία.dt,ψ/5.four.hope/literary->criticis @muzaale\n",
    "     ~/dropbox/6b.ομορφιά,β/3.wide.r2.climb/this.life->iago.github.io @iagouganda\n",
    "     ~/dropbox/7a.τάξη,α/4.aesthetic/stata->kitabo @jhustata\n",
    "     ~/dropbox/7a.τάξη,α/1.epistemology/class->notes @jhustata\n",
    "```\n",
    "* Caffo's says Jupyter is ok for his [class](https://github.com/smart-stats/ds4bio_book): [zoom](https://jh.zoom.us/j/4109553504?pwd=amdidU82QTc2QTRmdkpDSkd3RU5pZz09)\n",
    "* But that its not good for life since its python focused\n",
    "* His `qbook` runs on a [quarto](https://quarto.org) platform, which is multilingual like emacs and the right stuff for life\n",
    "* I'll stick to the shallow jupyter waters for now, thank you!\n",
    "\n",
    "### 4. y\n",
    "\n",
    "0. Ms. Linder (Senior-most fitness instructor)\n",
    "1. Romeko Morton (City of Baltimore Engineer)\n",
    "2. Tommy (ShaQ Doppelgänger, Pelvic radiation)\n",
    "3. Frank (Similar Dx, 65yo)\n",
    "4. Daytona (Lifeguard)\n",
    "5. Nina (Lifeguard, Tips for Dolphin 🐬)\n",
    "6. Daytona (Swimmer, Black weights) ** Mixup with a one Nina? \n",
    "7. Liz (Former Hopkins RN🧑‍⚕️, 2 MSc, 1 PhD)[^1]\n",
    "8. Aiko (ie Geiko, Japanese-American at SICU, dob 04/24***)\n",
    "9. Buddy (Jeffs Buddy)\n",
    "10. Jeff (Red head swims with Buddy)\n",
    "11. Hugh (remembers me pretty well)\n",
    "12. Patrick (Towson psy professor, ☘️ tattoo on deltoid)\n",
    "13. Ed (Lime hair, student, talks a lot)\n",
    "14. Luc (Wishes to have a coffee with me, but is distractible)\n",
    "15. Julie (Flowery purple/blue/red swim cap, from Duluth, MN)\n",
    "16. Maggie (Sky-blue swim cap, smiling, is not Julie and is younger)\n",
    "17. David (CMS but retiring this year.. 2022!!)\n",
    "18. Natalie (Sister, tattoos, earplugs, nose-ring)\n",
    "19. Valentine (redhead, off-white, dreads, with Nat)\n",
    "20. Weiwei (Infectious diseases postdoc, 8th floor)\n",
    "21. Arthur (Liberia, Texas)\n",
    "22. Jeremiah (Son is a swimmer)\n",
    "23. Ethan (Salt & pepper, Bushy beard, congenital arthritis)\n",
    "24. Ray (Somali/Asian, young, swim team, knew me!!)\n",
    "25. Dialo (Lifeguard, chill, quiet)\n",
    "26. Eric (Lifeguard, weekdays)\n",
    "27. Sean (Lifeguard, weekends) \n",
    "28. Vincent Daily (Bold, regular, introverted, only recently exchanged names, wishes to learn flip)\n",
    "29. Lauren (super consistent swimmer, in her 40s?)\n",
    "30. Todd (talk lawyer from old swim team)\n",
    "31. Stephen (Emory MPH, BSPH PHD, EH)\n",
    "32. Keith (Biker, had herniotomy at Hopkins)\n",
    "33. Brian (young fella, struck my head, made progress)\n",
    "34. Calvin (singing lifeguard) \n",
    "35. Monica1 (stress fracture metatarsal) \n",
    "36. Ron (Mistook him for Patrick) \n",
    "37. Gary (Talks of Idi Amin, friend Muwanga)\n",
    "38. Sali/Abi/Sali/Abi/Monica2 (partner)\n",
    "39. Chris (Teacher, goatee, tattoo “)\n",
    "40. Miriam (Nickname4me: splasher; “it’s enjoyable watching you swim; ~60yoWW)\n",
    "41. Mack (72yo,ggranddad, borat assistant?)\n",
    "42. Kayla (pyt, front desk)\n",
    "\n",
    "[^1]: her thoughts echo [the malcontent](https://www.gutenberg.org/files/39955/39955-h/39955-h.html)"
   ]
  },
  {
   "cell_type": "markdown",
   "metadata": {},
   "source": [
    "## 04/05/2023\n",
    "\n",
    "### 5. todoby\n",
    "\n",
    "* gaby/andrew papers\n",
    "* atc annual fee\n",
    "* hotel\n",
    "* flights\n",
    "* euro aging conferences (get sharon's link)\n",
    "* tuition remission confirmation\n",
    "* vincent offer\n",
    "* etc...\n",
    "\n",
    "\n",
    "### 6. jupyter\n",
    "\n",
    "    a). hub: repo -> utimately the name of jupyter-book\n",
    "\n",
    "    b). vscode\n",
    "\n",
    "      mouse -> linux\n",
    "      terminal -> vscode\n",
    "      colab -> vscode\n",
    "      rstudio -> vscode\n",
    "\n",
    "    c). git\n",
    "\n",
    "### 7. pages\n",
    "\n",
    "* [jhustata/github.io](https://jhustata.github.io)\n",
    "* [jhustata/book](https://jhustata.github.io/book/intro.html)\n",
    "* [jhustata/libro](https://jhustata.github.io/libro/intro.html)\n",
    "* jhustata/kitabo\n",
    "* [jhustata/notes](https://jhustata.github.io/notes/intro.html)    \n",
    "* [jhutrc/github.io](https://jhutrc.github.io)\n",
    "* [jhutrc/book](https://jhutrc.github.io/book)\n",
    "* [jhutrc/manuscripts](https://github.com/jhutrc/manuscripts)\n",
    "* [muzaale/github.io](https://muzaale.github.io)\n",
    "* [muzaale/idioms](https://muzaale.github.io/idioms/intro.html)\n",
    "* [muzaale/book](https://muzaale.github.io/book/intro.html)\n",
    "* [muzaale/ds4ph-bme](https://github.com/muzaale/ds4ph-bme)\n",
    "* [iagouganda/iago.github.com](https://iagouganda.github.io/iago.github.io/)\n",
    "\n",
    "### 8. code\n",
    "\n",
    "```\n",
    "     jupyter-book create gitname\n",
    "     git clone https://github.com/book\n",
    "     cp -r gitname/* book\n",
    "     cd book\n",
    "\n",
    "     git rm old1.file old2.file old3..file\n",
    "     git add ./*\n",
    "     git commit -m \"context\"\n",
    "     git push\n",
    "     ghp-import -n -p -f _build/html\n",
    "```\n",
    "\n",
    "### 9. r(mean)\n",
    "\n",
    "* In this class: clarify the difference betweeen r() & c()\n",
    "* Say r(N) vs. c(N)\n",
    "* Return vs. current\n",
    "* One returns values after some command\n",
    "* While the other is just the current status\n",
    "* As such, a multivariable regression with missingness in its variables\n",
    "* May yield r(N) $\\neq$ c(N)\n",
    "\n",
    "### 10. ph.340.700\n",
    "\n",
    "```\n",
    "     global workdir ~/dropbox/7a.τάξη,α/4.aesthetic/ \n",
    "     https://www.stata.com/manuals/gsub.pdf\n",
    "     /users/d/stata/profile.do\n",
    "     content: \n",
    "         #delimit ;\n",
    "         log using `: display %tCCCYY-NN-DD-HH-MM-SS  \n",
    "             Clock(\"`c(current_date)' `c(current_time)'\",\"DMYhms\")',  \n",
    "             Clock(\"`c(current_date)' `c(current_time)'\",\"DMYhms\")',  \n",
    "             name(default_log_file)\n",
    "         #delimit cr\n",
    "```\n",
    "\n",
    "Topics discussed in class:\n",
    "\n",
    "* profile.do\n",
    "* content up to you!\n",
    "* for me: pwd & shell\n",
    "* batch mode, remote computing\n",
    "* runtime, memory, disk usage\n",
    "* smart approaches to problem\n",
    "* raw.githubusercontent.com for tasks\n",
    "* get -b & stata commands to work on terminal\n",
    "* .html and how it is basis of course book\n",
    "* why stata? its expensive and i used jupyter/python for book on stata!\n",
    "* perks of workflow: git -> vscode -> hub\n",
    "* set up in reverse order: hub -> vscode -> git\n",
    "* zoom video [link](https://jhjhm.zoom.us/rec/share/VVsgzwzUkaYQJHR4R5_bp0kf8GvoBszDD3bMax0kuSC_PeGUaeLX1ZwcV7Rhwa41.PjOE99QxZeyqB84a?startTime=1680639414000) for session -> class book\n",
    "* Passcode: !$.0*zwy\n",
    "\n",
    "### 10. hierarchy\n",
    "\n",
    "* General Steps we can strive for as analysts (depending on your role in the project) \n",
    "* Initial results to present to your co-lead or immediate mentor\n",
    "* Work iteratively with co-lead mentor to finalize the analysis/figures/tables (be writing methods now too)\n",
    "* Present to a higher mentor like Bill, Christine, the PI on the proposal (these are more polished slides with title slide, motivation, objectives, methods, and results)\n",
    "* If approved, finalize the methods/results text in paper draft \n",
    "* Start writing intro/discussion (if first author, its time to start on these), if not first, make sure first author has everything they need to write the rest of the paper (sometimes we write results as well- we are the most familiar with how our results should be interpreted, so i recommend writing the results)\n",
    "* Send to co-authors \n",
    "* Submit\n",
    "\n",
    "\n",
    "### 11. macros\n",
    "\n",
    "   [definition](https://www.stata.com/manuals/pmacro.pdf) & [more...](https://www.stata.com/manuals/gsub.pdf)\n",
    "\n",
    "```\n",
    "   local system macros\n",
    "\n",
    "      1. name\n",
    "      2. content\n",
    "      3.   c() \n",
    "      4.   r()\n",
    "      5.   e()\n",
    "\n",
    "   user-defined macros\n",
    "\n",
    "      local, e.g. `m_iqr'\n",
    "\n",
    "      global, e.g. ${workdir}\n",
    "      \n",
    "```\n",
    "\n",
    "### 12. servers\n",
    "\n",
    "* Need two more local servers\n",
    "* Designing, running apps, websites\n",
    "* Part of grant but unanticipaited needs\n",
    "* Caffo class and multiple gitHub accounts proof!\n",
    "\n",
    "### 13. % batch\n",
    "\n",
    "how to approach [wk1.ph.340.700](https://jhustata.github.io/book/jjj.html):\n",
    "\n",
    "```\n",
    "     % stata -b do wk1.ph.340.700.do\n",
    "```\n",
    "\n",
    "* **Background:** \n",
    "   * advanced Stata project\n",
    "\n",
    "* **Methods:**\n",
    "    * Stata code\n",
    "    * .Md, .html output \n",
    "    * post to class book \n",
    "    * Guided by teaching team\n",
    "    * From week 3-8\n",
    "    * Joint project by entire class \n",
    "\n",
    "* **Results:**\n",
    "   * https://jhustata.github.io/nhanes\n",
    "~/nhanes/2023\n",
    "\n",
    "* **Conclusion:**\n",
    "    * must be improvement on previous year!\n",
    "\n",
    "* **Acknowledgements**\n",
    "    * previous cohort\n",
    "\n",
    "* **References**\n",
    "\n",
    "### 14. chatgpt\n",
    "\n",
    "`book %`\n",
    "\n",
    "xcrun: error: invalid active developer path (/Library/Developer/CommandLineTools)\n",
    "\n",
    "missing xcrun at: /Library/Developer/CommandLineTools/usr/bin/xcrun\n",
    "\n",
    "Based on the input provided, it appears that you are trying to use the git rm command to remove multiple files from a Git repository. The list of files you provided includes various image files (practice.png, generalpj2jpg.jpeg, dadlogo.png, dadlogo.jpg), notebook files (notebooks.ipynb, hub.ipynb), markdown files (markdown.md, markdown-notebooks.md), and a log file (log).\n",
    "\n",
    "The error message xcrun: error: invalid active developer path (/Library/Developer/CommandLineTools), missing xcrun at: /Library/Developer/CommandLineTools/usr/bin/xcrun is related to the Command Line Tools for Xcode, which are required for some Git operations on macOS. It seems that the Command Line Tools are not properly installed or configured on your system.\n",
    "\n",
    "To fix this issue, you can try reinstalling the Command Line Tools for Xcode using the following steps:\n",
    "\n",
    "Open Terminal on your macOS system.\n",
    "Run the following command: `xcode-select --install`. This will prompt you to install the Command Line Tools for Xcode.\n",
    "Follow the on-screen instructions to complete the installation.\n",
    "Once the installation is complete, try running your git rm command again.\n",
    "If the issue persists, you may need to check your Xcode installation and make sure it is properly configured. You can also try resetting the developer path using the following command: `sudo xcode-select --reset`.\n",
    "\n",
    "Note: You may need administrative privileges to install or configure the Command Line Tools for Xcode. If you encounter any issues or need further assistance, it's recommended to consult the official documentation or seek help from a qualified macOS expert. Remember to always backup your important files before making any changes to your system. <|endoftext|>\n",
    "\n",
    "**problem solved!**\n",
    "\n",
    "### 15. push\n",
    "\n",
    "* The human race is frantically pushing its accumulated knowledge to the cloud \n",
    "* e.g., `git -> vscode -> hub`\n",
    "* Artificial intelligence, as it were, is frantically training on it!!\n",
    "\n",
    "## 04/05/2023\n",
    "\n",
    "### 16. git\n",
    "\n",
    "     ~/dropbox/../note.md: WARNING: document isn't included in any toctree\n",
    "\n",
    "### 17. push\n",
    "\n",
    "```\n",
    "     a) name.github.io (READ.ME or index.html)\n",
    "     b) repo (collaborators may push)\n",
    "     c) book\n",
    "     d) git clone\n",
    "     e) cp -r master/* origin\n",
    "     f) cd origin\n",
    "\n",
    "     g) git rm\n",
    "     h) git add\n",
    "     i) git commit -m\n",
    "     j) git push (error about access rights)\n",
    "\n",
    "     k) ghp-import\n",
    "     l) settings > gh-pages > branch ghp (if no page appears)\n",
    "```\n",
    "\n",
    "### 18. grinder\n",
    "\n",
    "* simple manual coffee grounder dead\n",
    "* resorted to blending the beans with trail mix\n",
    "* and grinding them by a process I one might refer to as `chewing`\n",
    "\n",
    "### 19. sankey\n",
    "\n",
    "* very well received gtpci phd presentation (q&a from faculty, peers)\n",
    "* sankey is now colorful, interactive (thanks to chatgpt)\n",
    "* reveals to me that populations very imbalanced in size  \n",
    "\n",
    "### 20. cltx\n",
    "\n",
    "* https://mc.manuscriptcentral.com/cltx\n",
    "* denominator (kidney transplant recipients); person-place\n",
    "* numerator (outcomes: dgf, graft failure, death); time\n",
    "* hypothesized risk-factor\n",
    "* methods to hold everything else constant, as 'twere\n",
    "* too many moving parts and no clear narrative... \n",
    "\n",
    "### 21. -b\n",
    "\n",
    "* [Stata](https://www.stata.com/support/faqs/mac/advanced-topics/) [-option [-option [...]]] [stata_command]\n",
    "* powerful command: sudo find / -name StataSE -type f\n",
    "* Password:\n",
    "* find: /Library/Application Support/com.apple.TCC: Operation not permitted\n",
    "* sudo find / -name StataSE -type f 2>/dev/null\n",
    "* /System/Volumes/Data/Applications/Stata/StataSE.app/Contents/MacOS/StataSE\n",
    "/Applications/Stata/StataSE.app/Contents/MacOS/StataSE\n",
    "* not a directory!\n",
    "* /System/Volumes/Data/Applications/Stata/StataSE.app/Contents/MacOS/StataSE [arguments]\n",
    "* MacOS % ./StataSE -e \"di 1+1\"\n",
    "* chmod +x ./StataSE\n",
    "* cd /Applications/Stata/StataSE.app/Contents/MacOS\n",
    "* ls -l\n",
    "* stata-se -e \"di 1+1\"\n",
    "* ls -l\n",
    "* cat stata.log\n",
    "* stata-se -e  \"di c(current_date)\""
   ]
  },
  {
   "cell_type": "markdown",
   "metadata": {},
   "source": [
    "```\n",
    "Smoke\n",
    "\n",
    "2023\n",
    "\n",
    "What's the difference between sus4 and 11th chords?\n",
    "\n",
    "The sus4 chord implies no 3rd in the chord. So the notes in the chord are 1-4-5. The 11th chord implies a 3rd (and a 7th and a 9th), so the tones are 1-3-5-7-9-11.\n",
    "\n",
    "The 6 chord implies no extensions beyond the 6, so the notes are 1-3-5-6. The 13th chord implies the 7th, 9th, and 11th extensions, so the notes are 1-3-5-7-9-11-13.\n",
    "\n",
    "Likewise, the sus2 chord implies 1-2-5, whereas the 9th chord implies 1-3-5-7-9.\n",
    "\n",
    "If you play a C major triad on the piano and continue playing every other white key above the triad, you'll get the (major) 7th, 9th, 11th, and 13th extensions\n",
    "```\n",
    "\n",
    ".  \n",
    "\n",
    "Kipchoge:  \n",
    "\n",
    "4:33:93/Mile over 27 miles  \n",
    "\n",
    ". \n",
    "\n",
    "[ds4ph.hw7](https://muzaale.github.io/book/bilowozo.html#ds4ph-hw7)  \n",
    "\n",
    ".  \n",
    "\n",
    "King Lear  \n",
    "\n",
    "04/16/23  \n",
    "\n",
    "MARC: 12:40PM - 1:40PM  \n",
    "LUNCH: 2:00PM - 5:00PM  \n",
    "KLEIN: 7:30PM - 10:00PM  "
   ]
  },
  {
   "cell_type": "markdown",
   "metadata": {},
   "source": [
    "## 04/06/2023\n",
    "\n",
    "### 22. nhanes\n",
    "\n",
    "* nhanes.ado\n",
    "* rudimentary\n",
    "* advanced class?\n",
    "\n",
    "### 23. swim\n",
    "\n",
    "* best swim ever (i seem to say this every day)\n",
    "* he under-water month of march has paid off\n",
    "* however, there's still lots of room for improvement!\n",
    "\n",
    "### 24. gtpci \n",
    "\n",
    "Dear GTPCI Friends and Family,\n",
    " \n",
    "We hope you are doing well!  Thanks for being part of the GTPCI Program.  We need your help.  This should take about 10 minutes of your time. Attached is a summary of the curriculum update that we are planning for AY 23-24.\n",
    "       \n",
    "Based on the GTPCI Curriculum Retreat held in December at Mt. Washington, the GTPCI Program is introducing 4 pathways next year.  A summary of those 4 pathways is attached.\n",
    " \n",
    "As a reminder, all GTPCI students (independent of their chosen pathway) will be taking a set of Foundational Courses consisting of 51 credits (see attached handout page 4).\n",
    " \n",
    "MHS students will need to take an additional 19 credits that are pathway-specific to achieve a total of 70 credits to graduate.\n",
    "       \n",
    "PhD students will need to take at least 14 credits in their 1st year and 5 additional courses in their 2nd/3rd years to graduate.\n",
    "\n",
    "These additional credits will be coming from pathway-specific courses.  Some of these pathway-specific courses are required (for either MHS, PhD, or both) and some are electives.\n",
    " \n",
    "For all the courses listed, we are creating a master document that lists the term that each course is offered and the pre-requisites for that course (an example is listed in the Appendix of the attached document- it is still incomplete).\n",
    " \n",
    "Please look at the attached summary for each of the pathways (feel free to focus on the pathway that is relevant to you) and help us answer the following questions:\n",
    " \n",
    "Are the pathway competencies listed reasonable?  Did we miss any important competency for that pathway? [remember that there are general competencies for GTPCI that apply to students of all pathways; the competencies listed here are pathway-specific competencies].\n",
    "       \n",
    "Are the required pathway-specific courses (if any) for MHS and PhD students acceptable?  Do you think we should require any additional courses for either MHS or PhD (please specify if you think a course should be required for MHS, PhD, or both).\n",
    "       \n",
    "Are the pathway-specific elective courses reasonable?  Did we miss an important class for that pathway?\n",
    " \n",
    "We know that we will experience some unanticipated obstacles when we introduce the pathways next year.  We will learn from them to ensure a smooth transition for the following year.\n",
    " \n",
    "hanks so much! \n",
    "XXX and XXX\n",
    " \n",
    " \n",
    "XXX XXX, MD, PhD\\\n",
    "Professor of XXX\\\n",
    "Division of XXX\\\n",
    "XXX XXX University School of Medicine\\\n",
    "\n",
    "### 25. structure\n",
    "\n",
    "1. Backgound: Pathophysiology\n",
    "2. Methods: Datascience \n",
    "3. Results: Clinicaltrials\n",
    "4. Conclusions: Healthservicesresearch\n",
    "5. Acknowedgments: Undifferentiated\n",
    "6. References: GTPCI 1993-2023\n",
    "\n",
    "### 26. gitcodehub [^2]\n",
    "\n",
    "```\n",
    "git branch\n",
    "git branch --set-upstream-to=origin/main\n",
    "git pull --allow-unrelated-histories\n",
    "git push\n",
    "ghp-import -n -p -f _build/html\n",
    "```\n",
    "\n",
    "[^2]: solution to a most vexing problem\n",
    "\n",
    "### 27. rasheeda\n",
    "\n",
    "* work on project this weekend!\n",
    "* establish efficient workflow\n",
    "* not to spend > 3 hrs next time"
   ]
  },
  {
   "cell_type": "markdown",
   "metadata": {},
   "source": [
    "\n",
    "## 04/08/2023\n",
    "\n",
    "### 28. patton\n",
    "\n",
    "* übermensch\n",
    "* people\n",
    "* time\n",
    "\n",
    "### 29. nhanes\n",
    "\n",
    "* github.com/jhustata/nhanes\n",
    "* https://jhustata.github.io/nhanes/\n",
    "* collaborative, didactic, template \n",
    "\n",
    "### 30. vincent\n",
    "\n",
    "* charm offensive\n",
    "* betsy, durand\n",
    "* most value!\n",
    "\n",
    "### 31. artists\n",
    "\n",
    "* type 1 artists use forebears as scaffold on which to plant their delicate new ideas\n",
    "   * medium: \n",
    "     1. cosmic sound\n",
    "     2. chaos\n",
    "     3. noise\n",
    "       * corelli, vivaldi\n",
    "       * handel, bach\n",
    "       * hadyn, mozart, beethoven\n",
    "\n",
    "* type 2 artists only find forebears useful as a source of building blocks\n",
    "   * medium: \n",
    "     1. metaphysics\n",
    "       * karl marx\n",
    "       * friedrich nietzche\n",
    "       * oscar wilde\n",
    "\n",
    "* type 3 artist:\n",
    "   * medium: \n",
    "     1. time?\n",
    "     2. phase of career\n",
    "     3. epoch of life\n",
    "\n",
    "   * in this type one witnesses transition from:\n",
    "       * 1->2 or \n",
    "       * 2->1 or \n",
    "       * a cycle of such \n",
    "\n",
    "### 32. ascesis\n",
    "\n",
    "* 3e.ἄσκησις,μ\n",
    "* to live on $5/d\n",
    "* from 04/09/23 - 04/14/23\n",
    "* while breaking records in the pool\n",
    "\n",
    "### 33. kipchoge\n",
    "\n",
    "* 4:33:93/Mile \n",
    "* over 27 miles\n",
    "\n",
    "### 34. smoke\n",
    "\n",
    "* what a [melody](https://www.youtube.com/watch?v=cD0dy_1FsT0)!\n",
    "* initially got me thinking suspended 4th\n",
    "* but later it occured to me that its [founded on the 9th](https://www.reddit.com/r/musictheory/comments/221bid/whats_the_difference_between_sus4_and_11th_chords/)!\n",
    "* What's the difference between sus4 and 11th chords?\n",
    "* The sus4 chord implies no 3rd in the chord. So the notes in the chord are 1-4-5. The 11th chord implies a 3rd (and a 7th and a 9th), so the tones are 1-3-5-7-9-11.\n",
    "* The 6 chord implies no extensions beyond the 6, so the notes are 1-3-5-6. The 13th chord implies the 7th, 9th, and 11th extensions, so the notes are 1-3-5-7-9-11-13.\n",
    "* Likewise, the sus2 chord implies 1-2-5, whereas the 9th chord implies 1-3-5-7-9.\n",
    "* If you play a C major triad on the piano and continue playing every other white key above the triad, you'll get the (major) 7th, 9th, 11th, and 13th extensions\n",
    "\n",
    "### 35. charmoffensive\n",
    "\n",
    "* [charm-offensive](https://muzaale.github.io/book/_downloads/1f7448068ee5d001ee7d51a08f05b73e/charm.offensive.pdf)\n",
    "* charm offensive \n"
   ]
  },
  {
   "cell_type": "markdown",
   "metadata": {},
   "source": [
    "## 04/09/2023\n",
    "\n",
    "### 36. ds4ph.hw7\n",
    "\n",
    "This will be my first assignment done in a purely git -> vscode -> hub workflow:\n",
    "\n",
    "Return an ipython notebook and python dash app with the following:\n",
    "\n",
    "0. Write a python function that takes an X and Y vector and returns an estimated $\\beta_0$ and $\\beta_1$ from linear regression. Check your function versus one of the prewritten ones. Include this in code cells of your ipython notebook.\n",
    "1. Using Python and basic numpy functions, fit a linear regression model to the kirby 21 dataset into colab for the left telencelphalon (predictor) to the right telencephalon (outcome). Also, do the same reversing the predictor and response relationship. Do a scatterplot of the left telencephalon (type 1 level 1) volume by the right. Do not hold out any data (there's only 21 observations).\n",
    "2. Consider a regression through the origin model  Y=BX . What would be the impact on the estimate of  B  if we replaced  X  by  cX  where  c  is a positive constant? Write your answer in a markdown cell of your ipython notebook.\n",
    "3. Let  $X_i$  be a group indicator so that $x_i=I(i\\in G_1)$ \n",
    "I.e. takes the value  1  when  $i$  is in group 1 and 0 if  i  is in group 0. Consider optimizing $\\sum_i \\frac{1}{n}(Y_i − \\beta_0 - \\beta_1 X_i)^2$. \n",
    "If $\\hat Y = \\hat \\beta_0 + \\hat \\beta_1 X$, argue that $\\hat Y$ is the group mean for group 1 if $X=1$ and the group mean for group 0 if $X=0$. You can either make a text argument in a markdown cell, or create a simulated example and show that the results holds. \n",
    "4. Argue that if you take the vectors $Y$ and $X$ and divide them by their standard deviations (respectively), the slope for either regressing $Y$ on $X$ or $X$ on $Y$ is simply the correlation. \n",
    "5. Consider the logistic curve \n",
    "\n",
    "$$\n",
    "f(x) = \\frac{e^{\\beta_0 + \\beta_1x}}{1 + e^{\\beta_0 + \\beta_1 x}}.\n",
    "$$\n",
    "\n",
    "Use streamlit to create a web page that shows the impact of changing $\\beta_0$ and $\\beta_1$. That is, it takes in two inputs, as sliders, $\\beta_0$ and $\\beta_1$, and plots the resulting logistic curve.\n",
    "\n",
    "```\n",
    "% cd ~/dropbox/2.../3.../vscode.ds4ph/vscode.vscode.202305/hw7\n",
    "% echo \"Abimereki Muzaale\" > hw7.ipynb # doesn't work, use dropdown menu > new file\n",
    "```"
   ]
  },
  {
   "cell_type": "markdown",
   "metadata": {},
   "source": [
    "\n",
    "### 37. ph340.700\n",
    "\n",
    "* notebook\n",
    "* html \n",
    "* website\n",
    "* sharing\n",
    "* documentation: markdown\n",
    "* code: python, stata?\n",
    "* `reproducibility` & `open-science`: $R^3$\n",
    "\n",
    "### 38. nhanes-alpha\n",
    "\n",
    "* tailor to Stata edition\n",
    "* Stata/BE, SE, MP \n",
    "* Stata/IC for some\n",
    "\n",
    "### 39. babysteps\n",
    "\n",
    "* jupyter nbconvert --to html --no-input ggg.ipynb\n",
    "\n",
    "### 40. jason haw\n",
    "\n",
    "* what a perfect fit for 340.700!!!\n",
    "* python vs. r vs. stata\n",
    "* collaboration,publication,etc\n",
    "* Stata admit that they're behind in the game\n",
    "* What about SAS?\n",
    "* These platforms are open, thus the exponential growth of their communities\n",
    "* And contributors!!!\n",
    "* For this class: jupyter-book and bookdown will \"challenge\" the advanced students to explore and test the very limits of Stata :)\n",
    "* Each year will have access to the online books of the previous years\n",
    "* No reinventing the wheel!!!!\n",
    "\n",
    "### 41. todoby031023\n",
    "\n",
    "* 340.700 book:\n",
    "\n",
    " * articulate group task\n",
    " * collaboration\n",
    " * github\n",
    " * publishing: jupyter-book, bookup\n",
    " * where does stata stand?\n",
    " * jupyter-book create & build 100% from terminal\n",
    "    \n",
    "### 42. tight-structure\n",
    "\n",
    "* **background:** \n",
    "     * turning point in the history of HCV Rx in 2013. \n",
    "     * AT $95k for curative dose, was clear to all insurance providers that this was cheaper than low cost, ineffective, drugs for life\n",
    "* **methods:** \n",
    "     * durand concurred that in her practice everyone eventually received treatment inspite of initial delays for SOME. \n",
    "     * So what would motivate a qualitative study when everything was pointing towards taking the new meds???\n",
    "* **results:** \n",
    "     * what is reported is plausible and consistent with what we've known from 2013-2023. \n",
    "     * so what exactly was the knowledge gap?\n",
    "* **conclusion:** \n",
    "     * and that is my question. maybe the background and intro should better align with anxiety about access to what is without a doubt a \"miracle\" cure!\n",
    "* **acknowledgments:** \n",
    "     *quantiative research? qualitative cannot keep on failing to acknowledge this!\n",
    "* **references:** \n",
    "     *providers, providers who themselves received an HCV organ, etc,\n",
    "\n",
    "x\n",
    "\n",
    "* Made no mention of the HCV Rx\n",
    "* Hepatitis C infection is treated with antiviral medications intended to clear the virus from your body. The goal of treatment is to have no hepatitis C virus detected in your body at least 12 weeks after you complete treatment \n",
    " * persons: English-speaking patients\n",
    " * place: jhh\n",
    " * time: 2017-2021\n",
    "\n",
    "* Deep dive? Semi-structured interviews?\n",
    "* ZERO mention of the Rx????\n",
    "* Curative Rx arrived in 2013!!\n",
    "\n",
    "* Basically this study found that patients were motivated by the efficacy of HCV Rx\n",
    "* That they faced no alternative but death\n",
    "\n",
    "* Nadine Brown\n",
    "* Hannah Sung\n",
    "\n",
    "### 43. conferences\n",
    "\n",
    "```Stata\n",
    "2023 Stata Conference\n",
    "StataCorp\n",
    "20–21 July 2023, Stanford, CA\n",
    "\n",
    "APHA 2023 Annual Meeting\n",
    "American Public Health Association\n",
    "12–15 November 2023, Atlanta, GA\n",
    "Booths: 905, 907, 909 \n",
    "\n",
    "2023 SER Conference\n",
    "Society for Epidemiologic Research\n",
    "13–16 June 2023, Portland, OR\n",
    "Attending from StataCorp: Chuck Huber, Director of Statistical Outreach\n",
    "\n",
    "https://www.nature.com/nataging/conferences\n",
    "```\n",
    "\n",
    "### 44. wk3 ph340600\n",
    "\n",
    "* creat dofile: structure, indentation, annotation\n",
    "* run the script: do dofile.do or click do\n",
    "* find your output: pwd or cd /path/outputfolder\n",
    "* macros: name, content (some derivative of a return value)\n",
    "* programs: \n",
    "\n",
    "### 45. crunchtime \n",
    "\n",
    "* atc membership\n",
    "* flight \n",
    "* hotel\n",
    "* bge 98 ooo\n",
    "* att 98 ooo\n",
    "* comcast 123 xxx\n",
    "* gs -> 155.60 xxx\n",
    "* visa -> 169.00 xxx"
   ]
  },
  {
   "cell_type": "markdown",
   "metadata": {},
   "source": [
    "## 04/13/2023"
   ]
  },
  {
   "cell_type": "markdown",
   "metadata": {},
   "source": [
    "### 46. musik\n",
    "\n",
    "* Annuŋŋamya\n",
    "\n",
    "   * theme & variations:     \n",
    "     \n",
    "     - [theme](https://muzaale.github.io/book/_downloads/b66c1fcac93c73c56479d88adf74d4b4/annuŋŋamya.mp3) from ayf\n",
    "     - [variation1](https://www.youtube.com/watch?v=9IZcnRVdLtk)\n",
    "     - [variation2](https://www.youtube.com/watch?v=qdoeiy2-oFw)\n",
    "     - [variation3](https://www.youtube.com/watch?v=y86kwKByJJE)\n",
    "     - [variation4]([arpeggiovariation.m4a](https://muzaale.github.io/book/_downloads/2812646d9eb356cd85149abbb8b4fad1/arpeggiovariation.m4a))  {cite}`theme_variations`        \n",
    "\n",
    "   * invite ugandan artists to contribute variations\n",
    "   * we need to reach 99 *sui generis* variations on this most beautiful theme from inspired by Psalm 23\n",
    "\n",
    "### 47. amy\n",
    "\n",
    "* Kyle Jackson, Characterizing the landscape and impact of infections following kidney transplantation. 2021\n",
    "* Super- mario game\n",
    "* Almost dead, out of juice\n",
    "* Then hit this coin -- Abi -- that completely changed the game!\n",
    "\n",
    "### 48. usurp\n",
    "\n",
    "* Beethoven's [coda](https://www.youtube.com/watch?v=LDTn10XeCmU): 12:00/15:34 \n",
    "* Mozart's [aria](https://www.youtube.com/watch?v=J4_1TWxlmQE): 1:15/2:22\n",
    "* Hey [chatGPT](quarrelwChatGPT.png), any comment on possible influence here?\n",
    "* Google hasn't yielded anything over the last 15 years of me searching!!\n",
    "* Now's your time to shine :)\n",
    "\n",
    "### 49. cece\n",
    "\n",
    "* Outstanding [scholarly](https://www.emerald.com/insight/content/doi/10.1108/JBIM-10-2022-0459/full/html) work from fam :)\n",
    "\n",
    "### 50. fawaz\n",
    "\n",
    "* We need to employ 2 additional analysts\n",
    "* They are both TAs in my current class\n",
    "* Absolutely outstanding (3$\\sigma$)\n",
    "* How much money do you have? Can we combine to make sure we are ok?\n",
    "* Lets do this as a safety net in case the powers that be at TRC are unresponsive!!!\n",
    "\n",
    "Baltimore, MD\n",
    "\n",
    "09:24 PM 04/13/2023\n"
   ]
  },
  {
   "cell_type": "markdown",
   "metadata": {},
   "source": [
    "## 04/14/2023"
   ]
  },
  {
   "cell_type": "markdown",
   "metadata": {},
   "source": [
    "### 51. webapp\n",
    "\n",
    "* Critique #2\n",
    "   * Research plan: weaknesses \n",
    "     1. There is no information provided about pilot testing this on-line tool, nor refinement of the tool before pursuing a large-scale study through an R01 application. Since the career development plan seems abbreviated for years 4 and 5, this might be the ideal time to conduct pilot research on the newly developed tool, which could yield valuable preliminary data to support an R-award application at the end of the five-year period. \n",
    "     2. The other reviewers also believe this aim 3 (online risk tool) can be better developed\n",
    "Would you want me to make some revisions to the existing Aims 3 and then have you review them alongside these pink sheets?\n",
    "\n",
    "### 52. τύραννος\n",
    "\n",
    "* An individual who rose to power via unconstitutional or illegitimate means, usually not being an heir to an existing throne. \n",
    "* Such individuals were perceived negatively by political philosophers such as Socrates, Plato and Aristotle.\n",
    "* You betcha Nietzsche held these as the highest type: the übermensch! \n",
    " \n",
    "    1. Julius Caesar\n",
    "    2. Cesare Borgia\n",
    "    3. Napoleon Bonaparte."
   ]
  },
  {
   "cell_type": "markdown",
   "metadata": {},
   "source": [
    "## 04/15/2023\n",
    "\n",
    "### 53. numero-uno\n",
    "\n",
    "* In the Stack Overflow 2022 Developer Survey\n",
    "* Visual Studio Code was ranked the most popular developer environment tool among 71,010 respondents\n",
    "* With 74.48% reporting that they use it:\n",
    "     * I do too!!"
   ]
  },
  {
   "cell_type": "markdown",
   "metadata": {},
   "source": [
    "### 54. v monét\n",
    "\n",
    "songwriting [process](https://www.youtube.com/watch?v=bgx7IYyZ9zg): 18:50/28:04\n",
    "\n",
    "1. melody\n",
    "2. emotion\n",
    "3. lyrics"
   ]
  }
 ],
 "metadata": {
  "kernelspec": {
   "display_name": "Python 3",
   "language": "python",
   "name": "python3"
  },
  "language_info": {
   "codemirror_mode": {
    "name": "ipython",
    "version": 3
   },
   "file_extension": ".py",
   "mimetype": "text/x-python",
   "name": "python",
   "nbconvert_exporter": "python",
   "pygments_lexer": "ipython3",
   "version": "3.11.2"
  },
  "orig_nbformat": 4
 },
 "nbformat": 4,
 "nbformat_minor": 2
}
