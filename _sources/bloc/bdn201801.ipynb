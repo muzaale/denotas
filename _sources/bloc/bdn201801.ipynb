{
 "cells": [
  {
   "cell_type": "markdown",
   "metadata": {},
   "source": []
  },
  {
   "cell_type": "markdown",
   "metadata": {},
   "source": [
    "#### 01/2018\n",
    "\n",
    "\n",
    "Few things as seductive or exciting as an insecure woman??   \n",
    "\n",
    "Fortune cookie 🥠   \n",
    "\n",
    "January 24, 2018  \n",
    "\n",
    "A solid challenge will bring forth your finest abilities."
   ]
  }
 ],
 "metadata": {
  "language_info": {
   "name": "python"
  },
  "orig_nbformat": 4
 },
 "nbformat": 4,
 "nbformat_minor": 2
}
