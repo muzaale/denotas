{
 "cells": [
  {
   "cell_type": "markdown",
   "metadata": {},
   "source": []
  },
  {
   "cell_type": "markdown",
   "metadata": {},
   "source": [
    "### 825. [undergrads](https://jhutrc.github.io/fenagas/content/dramatispersonae/undergraduates.html)"
   ]
  },
  {
   "cell_type": "code",
   "execution_count": 1,
   "metadata": {
    "tags": [
     "hide-input"
    ]
   },
   "outputs": [
    {
     "name": "stdout",
     "output_type": "stream",
     "text": [
      "Number     Name                          \n",
      "1          Amelia Brown                  \n",
      "2          Brandon Wilson                \n",
      "3          Catherine Garcia              \n",
      "4          David Martinez                \n",
      "5          Evelyn Lee                    \n",
      "6          Fernando Gomez                \n",
      "7          Grace Kim                     \n",
      "8          Henry Johnson                 \n",
      "9          Isabella Smith                \n",
      "10         Jackson Nguyen                \n",
      "11         Kayla Patel                   \n",
      "12         Lucas White                   \n",
      "13         Mia Anderson                  \n",
      "14         Nathan Chan                   \n",
      "15         Olivia Perez                  \n",
      "16         Peter Zhang                   \n",
      "17         Quinn Rodriguez               \n"
     ]
    }
   ],
   "source": [
    "# List of names\n",
    "names = [\n",
    "    [\"Amelia\", \"Brown\"],\n",
    "    [\"Brandon\", \"Wilson\"],\n",
    "    [\"Catherine\", \"Garcia\"],\n",
    "    [\"David\", \"Martinez\"],\n",
    "    [\"Evelyn\", \"Lee\"],\n",
    "    [\"Fernando\", \"Gomez\"],\n",
    "    [\"Grace\", \"Kim\"],\n",
    "    [\"Henry\", \"Johnson\"],\n",
    "    [\"Isabella\", \"Smith\"],\n",
    "    [\"Jackson\", \"Nguyen\"],\n",
    "    [\"Kayla\", \"Patel\"],\n",
    "    [\"Lucas\", \"White\"],\n",
    "    [\"Mia\", \"Anderson\"],\n",
    "    [\"Nathan\", \"Chan\"],\n",
    "    [\"Olivia\", \"Perez\"],\n",
    "    [\"Peter\", \"Zhang\"],\n",
    "    [\"Quinn\", \"Rodriguez\"]\n",
    "]\n",
    "\n",
    "def create_table(names):\n",
    "    header = [\"Number\", \"Name\"]\n",
    "    table = []\n",
    "    table.append(header)\n",
    "    for idx, name in enumerate(names, start=1):\n",
    "        full_name = \" \".join(name)\n",
    "        row = [idx, full_name]\n",
    "        table.append(row)\n",
    "    \n",
    "    # Printing the table\n",
    "    for row in table:\n",
    "        print(f\"{row[0]:<10} {row[1]:<30}\")\n",
    "\n",
    "# Call the function\n",
    "create_table(names)\n"
   ]
  }
 ],
 "metadata": {
  "kernelspec": {
   "display_name": "Python 3",
   "language": "python",
   "name": "python3"
  },
  "language_info": {
   "codemirror_mode": {
    "name": "ipython",
    "version": 3
   },
   "file_extension": ".py",
   "mimetype": "text/x-python",
   "name": "python",
   "nbconvert_exporter": "python",
   "pygments_lexer": "ipython3",
   "version": "3.11.2"
  },
  "orig_nbformat": 4
 },
 "nbformat": 4,
 "nbformat_minor": 2
}
