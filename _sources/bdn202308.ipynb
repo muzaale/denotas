{
 "cells": [
  {
   "cell_type": "markdown",
   "metadata": {},
   "source": []
  },
  {
   "cell_type": "markdown",
   "metadata": {},
   "source": [
    "## 08/01/2023\n",
    "\n",
    "### 825. [undergrads](https://jhutrc.github.io/fenagas/content/dramatispersonae/undergraduates.html)"
   ]
  },
  {
   "cell_type": "code",
   "execution_count": 5,
   "metadata": {
    "tags": [
     "hide-input"
    ]
   },
   "outputs": [
    {
     "name": "stdout",
     "output_type": "stream",
     "text": [
      "Number     Name                          \n",
      "1          Stephanie Perez               \n",
      "2          Harold Rhodes                 \n",
      "3          Danielle Villarreal           \n",
      "4          Laura Griffin                 \n",
      "5          Matthew Jimenez               \n",
      "6          Michael Smith                 \n",
      "7          Michael Huffman               \n",
      "8          Courtney Lane                 \n",
      "9          Holly Beltran                 \n",
      "10         Craig Boyle                   \n"
     ]
    }
   ],
   "source": [
    "from faker import Faker\n",
    "\n",
    "def generate_random_names(num_names):\n",
    "    fake = Faker()\n",
    "    names = [[fake.first_name(), fake.last_name()] for _ in range(num_names)]\n",
    "    return names\n",
    "\n",
    "def create_table(names):\n",
    "    header = [\"Number\", \"Name\"]\n",
    "    table = []\n",
    "    table.append(header)\n",
    "    for idx, name in enumerate(names, start=1):\n",
    "        full_name = \" \".join(name)\n",
    "        row = [idx, full_name]\n",
    "        table.append(row)\n",
    "\n",
    "    # Printing the table\n",
    "    for row in table:\n",
    "        print(f\"{row[0]:<10} {row[1]:<30}\")\n",
    "\n",
    "# Generate 10 random names and call the function\n",
    "random_names = generate_random_names(10)\n",
    "create_table(random_names)\n"
   ]
  },
  {
   "cell_type": "markdown",
   "metadata": {},
   "source": [
    "### 826. graçias &#128591;\n",
    "\n",
    "+ beta version of the fenagas webapp is up & running\n",
    "+ andrew & fawaz will be first to test it\n",
    "+ consider rolling it out to faculty in department \n",
    "+ philosophe, elliot, betsy, and with residents\n",
    "\n",
    "### 827. fenagas\n",
    "\n",
    "+ let ai say about `fena` \"annuŋŋamya mu makubo ago butukirivu\"\n",
    "+ ai can't produce such nuance on its own\n",
    "+ but, guided, it can"
   ]
  }
 ],
 "metadata": {
  "kernelspec": {
   "display_name": "Python 3",
   "language": "python",
   "name": "python3"
  },
  "language_info": {
   "codemirror_mode": {
    "name": "ipython",
    "version": 3
   },
   "file_extension": ".py",
   "mimetype": "text/x-python",
   "name": "python",
   "nbconvert_exporter": "python",
   "pygments_lexer": "ipython3",
   "version": "3.11.2"
  },
  "orig_nbformat": 4
 },
 "nbformat": 4,
 "nbformat_minor": 2
}
