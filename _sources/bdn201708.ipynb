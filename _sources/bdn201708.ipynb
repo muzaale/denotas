{
 "cells": [
  {
   "cell_type": "markdown",
   "metadata": {},
   "source": [
    "#### 08/2017\n",
    "\n",
    "She taught me to see the face behind the mask and the fraud behind the flourishes. She taught me to detest the cliché.  Jean Renoir "
   ]
  }
 ],
 "metadata": {
  "kernelspec": {
   "display_name": "myenv",
   "language": "python",
   "name": "myenv"
  },
  "language_info": {
   "name": "python"
  }
 },
 "nbformat": 4,
 "nbformat_minor": 2
}
