{
 "cells": [
  {
   "cell_type": "markdown",
   "metadata": {},
   "source": [
    "\n",
    "#### 01/2023\n",
    "\n",
    "\n",
    "Dr. Brian Kiggundu   \n",
    "Cardiology   \n",
    "Married to Jeff’s younger sis (Tina)  \n",
    "\n",
    ".  \n",
    "\n",
    "```\n",
    "#catechism\n",
    "\n",
    "01/23\n",
    "\n",
    "1.Falstaff\n",
    "2.Epicurus\n",
    "3.\n",
    "\n",
    "#1\n",
    "Who hath honor?\n",
    "He that died o’ Wednesday.\n",
    "\n",
    "Doth he feel it? \n",
    "No.\n",
    "Why?\n",
    "‘Tis insensible to the dead.\n",
    "\n",
    "So do the living feel it?\n",
    "No.\n",
    "Why?\n",
    "Detractors will not suffer it \n",
    "\n",
    "#2\n",
    "Able?\n",
    "Yes.\n",
    "Then not willing:\n",
    "Indifferent, paring nails \n",
    "\n",
    "Willing?\n",
    "Yes.\n",
    "Then not able! \n",
    "Defers to cosmic order \n",
    "\n",
    "Happy?\n",
    "Yes.\n",
    "Then neither able, nor willing \n",
    "```\n",
    "\n",
    ".  \n",
    "\n",
    "Marvin  \n",
    "Tayebwa  \n",
    "Daughter  \n",
    "Germany   \n",
    "Medical school   \n",
    "\n",
    ".  \n",
    "\n",
    "Namawanga— other tribe   \n",
    "Bakidi — other tribe   \n",
    "Gentile — other tribe   \n",
    "\n",
    ".  \n",
    "\n",
    "Emoji🤌🏿🤌🏿  \n",
    "\n",
    ".  \n",
    "\n",
    "9b Prof. Muzaale Cl  \n",
    "\n",
    "Home address  \n",
    "\n",
    ".  \n",
    "\n",
    "```\n",
    "#mtn \n",
    "01/23 tips\n",
    "\n",
    "1.Freedom package\n",
    "2.One month data \n",
    "3.Use voice more \n",
    "```\n",
    "\n",
    ".  \n",
    "\n",
    "Eifumo — spear \n",
    "Okutenga — brandish   \n",
    "Batebga — warriors   \n",
    "\n",
    "Perspective of balamongi  \n",
    "\n",
    ".  \n",
    "\n",
    "Ndiko — concentration \n",
    "Muweire ndiko — diluted   \n",
    "\n",
    ".  \n",
    "\n",
    "St. Bernadus 6 (thick)  \n",
    "Leffe Bruine (Tea, sugar/caramel)   \n",
    "Chimay white (Orange/peel)  \n",
    "\n",
    "— dads palate \n",
    "\n",
    ".  \n",
    "\n",
    "Jackie— mwidha Na nhinha  \n",
    "\n",
    ".  \n",
    "\n",
    "Amazze emirimu gye (to the tune of rock of ages)  \n",
    "\n",
    ".  \n",
    "\n",
    "Egulu likusinza   \n",
    "Nemirimu gyona tebikowa  \n",
    "\n",
    ".  \n",
    "\n",
    "```\n",
    "#lusoga\n",
    "\n",
    "Tiwebweine \n",
    "Girl says to a suitor \n",
    "Maybe rage of Caliban \n",
    "```\n",
    "\n",
    ".  \n",
    "\n",
    "[Songs](https://www.youtube.com/watch?app=desktop&v=usK9vtYlh2c) of the day  \n",
    "\n",
    ".  \n",
    "\n",
    "\n",
    "3rd/4th term  \n",
    "\n",
    "140.628 (41) 4cr   \n",
    "Data Science for Public Health I  \n",
    "\n",
    "Web app development project (aligns with Aim #3 of my thesis)  \n",
    "Letter grade to replace LONGITUDINAL METHODS (now offered in 1st term)  \n",
    "\n",
    ".  \n",
    "\n",
    "140.629 (41) . \n",
    "Data Science for Public Health II  \n",
    "\n",
    " Caffo 4.00   \n",
    "\n",
    ".  \n",
    "\n",
    "9.321 miles in 68.6 minutes  \n",
    "7.35min per mile   \n",
    "7’21”/Mile   \n",
    "\n",
    ".  \n",
    "\n",
    "Eddie  \n",
    "Crystal   \n",
    "\n",
    ".  \n",
    "\n",
    "```\n",
    "#offertory\n",
    "\n",
    "St. Steven’s Kisugu\n",
    "CHURCH\n",
    "*165*4*4#\n",
    "Offertory tithe thanksgiving \n",
    "```\n",
    "\n",
    ".  \n",
    "\n",
    "```\n",
    "#hymns\n",
    "\n",
    "My God how wonderful you are \n",
    "\n",
    "The lords my shepherd \n",
    "\n",
    "God, whose alright word \n",
    "```\n",
    "\n",
    ".  \n",
    "\n",
    "Mismatched spezzato suit  \n",
    "\n",
    ".  \n",
    "\n",
    "Odds  \n",
    "\n",
    "01/23  \n",
    "\n",
    "Arsenal 17/20  \n",
    "Man City 3/2  \n",
    "\n",
    ".  \n",
    "\n",
    "Hamlet   \n",
    "\n",
    "I opened Hamlet:  \n",
    "\n",
    "Lonely prince   \n",
    "Obsessed with dead parent    \n",
    "Watches remaining parent     \n",
    "Fall in love with   \n",
    "Dead parents usurper?   \n",
    "\n",
    "I slammed it shut: no thank you!   \n",
    "\n",
    ".  \n",
    "\n",
    "Baby girl,   \n",
    "\n",
    "You are absolutely amazing in mind, body, and soul. May you continue to inspire us through your ambitions & achievements in 2023 as you’ve done so many times before.   \n",
    "\n",
    "Always,  \n",
    "\n",
    "Baby D :)  \n",
    "\n",
    ".  \n",
    "\n",
    "Osumagira Ofiirwa \n",
    "You snooze you loose   \n",
    "\n",
    ".  \n",
    "\n",
    "Combination lock \n",
    "Walmart  \n",
    "25 33 08  \n",
    "\n",
    ".  \n",
    "\n",
    "Cabamezapine 200mg   \n",
    "\n",
    ".  \n",
    "\n",
    "```\n",
    "#netherlands #transit\n",
    "\n",
    "1.Amsterdam 15min\n",
    "2.Rotterdam 25min\n",
    "3.Antwerp 90min (platforms 5, 6)\n",
    "\n",
    "USB-B charger at Starbucks \n",
    "(Further, larger Starbucks)\n",
    "\n",
    "$87.62 return ticket with NS train to Antwerp \n",
    "```\n",
    "\n",
    ".  \n",
    "\n",
    "Westvetrein abbey only sold in monastery   \n",
    "\n",
    ".  \n",
    "\n",
    "```\n",
    "\n",
    "\n",
    "Schipol - Antwerp 9-10:30\n",
    "Gallivant: 11am-2pm (only 3hrs)\n",
    "Antwerp-Schipol 2:30-4pm (boarding 4:24pm)\n",
    "\n",
    "08:43 Brussel-Zurich Midi \n",
    "Platform/trein— 5\n",
    "Via Rotterdam C., Breda, Antwerpen-C. \n",
    "\n",
    "Red — first class\n",
    "Blue — coach, really no difference \n",
    "\n",
    "Antwerpen-C.\n",
    "Spoor 23, 24\n",
    "\n",
    "Return:\n",
    "\n",
    "14:44 Breda Amsterdam C \n",
    "IC 22 (Intercity) \n",
    "\n",
    "\n",
    "16:24 arrival at Schipol \n",
    "16:42 boaridng\n",
    "```\n",
    "\n",
    ".  \n",
    "\n",
    "```\n",
    "#aerodynamics \n",
    "\n",
    "Super modern Dutch windmills \n",
    "Dreamliner wings \n",
    "There’s a similarity \n",
    "```\n",
    "\n",
    ".  \n",
    "\n",
    "```\n",
    "#joelmulinda\n",
    "\n",
    "Album\n",
    "\n",
    "https://m.youtube.com/watch?v=T6z3oPA46-Y&feature=youtu.be\n",
    "```\n",
    "\n",
    ".  \n",
    "\n",
    "Yunia Mwebaze Mukyala   \n",
    "Yunia Grace Mukyala  \n",
    "\n",
    ".  \n",
    "\n",
    "```\n",
    "MGB\n",
    "\n",
    "Graduate student union\n",
    "Vote YES on 30th/31st \n",
    "Next week together\n",
    "On-time payments for grad students\n",
    "Especially with family, international students\n",
    "Better commitment of JHU to community\n",
    "Petition not voting: committed to voting yes\n",
    "Trying to get thousands to say we are going to vote\n",
    "— bargaining power: \n",
    "— text me a link to sign electronically \n",
    "— block off a time 30/31st to head to turner\n",
    "\n",
    "Bit.ly/tru-petition\n",
    "\n",
    "```\n",
    "\n",
    ".  \n",
    "\n",
    "```\n",
    "#uganda #food \n",
    "\n",
    "Carvel Food \n",
    "— Very good deep fried fish \n",
    "— Haven’t had it before\n",
    "- But seen a compelling picture\n",
    "\n",
    "```\n",
    "\n",
    ".  \n",
    "\n",
    "```\n",
    "Return eSim-only\n",
    "\n",
    "W1224884838 (White)\n",
    "W1248167275 (Purple)\n",
    "\n",
    "Over holiday \n",
    "Travelled to Uganda\n",
    "Completely useless \n",
    "No warning on website \n",
    "Remember: unlocked is all  \n",
    "```\n",
    "\n",
    ".  \n",
    "\n",
    "What sayest thou to a hare, or the melancholy of\n",
    "Moor-ditch?  \n",
    "\n",
    ".  \n",
    "\n",
    "Prof. Muzaale [in his 80s](https://www.uict.ac.ug/governing-council/)  \n",
    "\n",
    ".  \n",
    "\n",
    "```\n",
    "#gm e2p16\n",
    "\n",
    "01/23\n",
    "\n",
    "A thought which, quarter'd, hath but one part \n",
    "\n",
    "Wisdom 1\n",
    "Coward 3\n",
    "Thought 4/4\n",
    "\n",
    "Why yet I live to say 'This thing's to do;'\n",
    "Sith I have…\n",
    "\n",
    "Cause 1 (Sensory)\n",
    "Will 1 (Cognitive)\n",
    "Strength 1 (Motor)\n",
    "Means 1 (Obstacles)\n",
    "\n",
    "To do't.\n",
    "\n",
    "How stand I then?\n",
    "\n",
    "— Tyler Perry\n",
    "— Harry Windsor\n",
    "\n",
    "x\n",
    "\n",
    "All instincts which do not find a vent without, turn inwards — this is what I mean by the growing “internalisation” of man: consequently we have the first growth in man, of what subsequently was called his soul. The whole inner world, originally as thin as if it had been stretched between two layers of skin, burst apart and expanded proportionately, and obtained depth, breadth, and height, when man’s external outlet became obstructed\n",
    "\n",
    "— Genealogy of morality \n",
    "```\n",
    "\n",
    "[^37]   \n",
    "\n",
    "[^37]: nietzsche!\n",
    "\n",
    ".  \n",
    "\n",
    "Pessimism, not cynicism   \n",
    "\n",
    ".  \n",
    "\n",
    "```\n",
    "Olivia Kates\n",
    "\n",
    "01/23\n",
    "\n",
    "1.Descriptive ethics: what is\n",
    "— history\n",
    "—\n",
    "—\n",
    "\n",
    "2.Normative ethics: ought to be\n",
    "— applied ethics\n",
    "— pluralism \n",
    "— casuistry \n",
    "```\n",
    "\n",
    ".  \n",
    "\n",
    "```\n",
    "Nothing but the truth!\n",
    "\n",
    "01/23\n",
    "\n",
    "Truths are metaphors, illusions, anthropomorphisms about which one has forgotten that they are such. There are different truths to different beings. Like a spider man sits in the web of his truths and ideas. He wants to be deceived. By means of error he mostly lives; truth is often fatal. When the liar, the story-teller, the poet, the rhapsodist lie to him without hurting him he — loves them! —\n",
    "\n",
    "Hence the most admired and followed people are frauds. To bring day light upon their magic is to make an enemy out of each of their followers \n",
    "\n",
    "And this is how to approach the Sussexes. A back girl marrying a prince and living happily ever after is too much truth for Brits to stomach and Meghan is hated for that. As is a tell-all memoir by an erstwhile prince \n",
    "```\n",
    "\n",
    ".  \n",
    "\n",
    "Waisonsole   \n",
    "\n",
    "01/23  \n",
    "\n",
    "Tiyeyendera   \n",
    "Kuzimbawala   \n",
    "\n",
    ".  \n",
    "\n",
    "Illusion    \n",
    "\n",
    "01/23   \n",
    "\n",
    "My 84yo dad views much of our desires in life as mirages   \n",
    "\n",
    "Searching the complete works of Nietzsche for “illusions” reveals in the cheer number of hits from birth of tragedy onward just how central this is to his philosophy    \n",
    "\n",
    "Doing something similar with “counterfeit” in Shakespeare complete works directs us specifically to Henry IV Part I   \n",
    "\n",
    ".  \n",
    "\n",
    "Art vs. Science  \n",
    "\n",
    "01/23  \n",
    "\n",
    "How many scientists do you admire?  \n",
    "How many artists do you admire?   \n",
    "Isn’t celebrity synonymous with pop art?   \n",
    "\n",
    "Yes, but you’d need to add athletes!  \n",
    "Athletes are heroes in a kind world   \n",
    "In the wicked world, aka the streets, we…  \n",
    "\n",
    "Even our admiration of athletes is a lie   \n",
    "Wisdom truly cryeth from the streets   \n",
    "Looks like we just don’t want it at all   \n",
    "\n",
    ".  \n",
    "\n",
    "```\n",
    "Caffo class\n",
    "\n",
    "01/23\n",
    "\n",
    "— Spring break 3/21, 3/23\n",
    "— Class I (tools)\n",
    "— Class II (regression)\n",
    "\n",
    "VS code written by Microsoft (strongly recommended)\n",
    "— slightly harder than other solutions\n",
    "— true multilingual for editing R, quarto, R studio, python \n",
    "\n",
    "Jupyter lab (doesn’t see benefit locally)\n",
    "\n",
    "ipynb (iPhython note book)\n",
    "— working lab notebook\n",
    "— its not a final product to submit\n",
    "— real benefit is ability to blend code chunks and documentation\n",
    "\n",
    "Google co-lab (play around if new to programming) ***\n",
    "— just log into google account\n",
    "— compile in GPU not CPU \n",
    "— python is for virtual environments \n",
    "— anaconda manages various python projects \n",
    "\n",
    "Send a message to Caffo on TEAM \n",
    "— to get you added to ipynb \n",
    "— emacs mode for R is truly incredible\n",
    "— but RStudio came out and is the best \n",
    "— switched to python when he moved into AI\n",
    "— use mostly anaconda… \n",
    "— soft spot for editing online (Jupiter)\n",
    "— rstudio can handle raw python \n",
    "\n",
    "Install git \n",
    "Manage repositories locally \n",
    "Does version control \n",
    "But real power is taking local directory to..\n",
    "Github: fantastic place to deposit code \n",
    "Homework can be submitted here\n",
    "Any data science lab will use some variation of GitHub for version control \n",
    "If your lab is still emailing around word documents, you can be the one\n",
    "To carry them over to the 21st century \n",
    "\n",
    "1.sign up for GitHub account\n",
    "— personal repositories\n",
    "— don’t submit to this \n",
    "— submit to your organization repository\n",
    "— this is step one (authenticated)\n",
    "\n",
    "2.Homework\n",
    "— go to the general channel on TEAMS\n",
    "— find how to submit a homework (login with JHED account)\n",
    "— Mondays 5pm \n",
    "\n",
    "x\n",
    "\n",
    "1.class materials\n",
    "2.document contains all you need\n",
    "3.content for recorded video lectures\n",
    "4.email John wang ja@\n",
    "— full name\n",
    "— JHED address \n",
    "— reset password\n",
    "— use same link for all homework \n",
    "— have to use GitHub classroom for this\n",
    "5.idea is to get a Jupiter account\n",
    "\n",
    "X\n",
    "\n",
    "Eric chow on githhub \n",
    "https://ekhco.github.io\n",
    "\n",
    "\n",
    "\n",
    "```\n",
    " \n",
    ".  \n",
    "\n",
    "\n",
    "Fred Francis [Coppola](https://www.youtube.com/watch?v=SKY6SDDtRKA)  \n",
    "\n",
    "01/23  \n",
    " \n",
    "Art = No safety net, no proven formula [^38] \n",
    "\n",
    "[^38]: art, science, engineering\n",
    "\n",
    ".  \n",
    "\n",
    "[Chuck D](https://www.youtube.com/watch?v=MzmGcDubMQ8)  9:04  \n",
    "\n",
    "01/23 \n",
    "\n",
    "Art = A Rose that arose out of concrete  \n",
    "Art = Greater than popularity, can’t be quantified   \n",
    "Art = Making something out of nothing, Aug 11, 1973; started in the Bronx   \n",
    "\n",
    "x  \n",
    "\n",
    "Denominator = out of nothing, so doesn’t exist  \n",
    "Numerator = the something called art  \n",
    "Quantified = Numerator/Denominator (undefined)  \n",
    " \n",
    "\n",
    "\n",
    "X  \n",
    "\n",
    "Art = Fake but impact as if truth  \n",
    "Science = Truth but suspected to be fake  \n",
    "Nutshell = My King Solomon moment in 01/23 :(  \n",
    "\n",
    ".  \n",
    "\n",
    "\n",
    "https://hellomood.co  \n",
    "\n",
    ".  \n",
    "\n",
    "```\n",
    "#myideal \n",
    "\n",
    "01/23\n",
    "\n",
    "1.body: she-ba \n",
    "+\n",
    "2.mind: chris-ta\n",
    "+\n",
    "3.soul: tu-ra\n",
    "\n",
    "ah, the impossible!\n",
    "```\n",
    "\n",
    ".  \n",
    "\n",
    "Their roles  \n",
    "\n",
    "01/23  \n",
    "\n",
    "society: provide foils, worthy adversaries, make superman!   \n",
    "father: answer the question, what is a man?   \n",
    "[mother](https://www.youtube.com/watch?v=74zcqLWywNU): nurture cubs, produce robust specimens of a beast.  \n",
    "\n",
    "\n",
    ".  \n",
    "\n",
    "Bialetti  \n",
    "\n",
    "01/23  \n",
    "\n",
    "270ml   \n",
    "\n",
    ".  \n",
    "\n",
    "Explo ’85  \n",
    "\n",
    "01/23  \n",
    "\n",
    "To compete with contemporary popular musicians such as the Beatles and Bob Dylan, Campus Crusade sponsored its own Christian popular music band called the New Folk. According to historian John G. Turner, Campus Crusade under Bright's leadership also actively sought to confront the counterculture movement during the 1960s and 1970s. One notable Campus Crusade campaign was the \"Berkeley Blitz\" in January 1967 which saw 600 Campus Crusade staff and students organize a series of events including concerts, dinners for international students, a performance by the illusionist André Kole, and a sermon by evangelist Billy Graham. Campus Crusade also claimed to have converted 700 students and faculty members  \n",
    "\n",
    "In 1972, Campus Crusade in coordination with the Jesus Movement organized a week-long International Student Congress on Evangelism at Cotton Bowl Stadium in Dallas known as Explo '72. The Explo '72 conference featured evangelism and discipleship training and contemporary music events. It was attended by 80,000 college and high school students and was nicknamed as the \"Christian Woodstock\" in the media. Besides Billy Graham, the event featured several contemporary popular musicians including Johnny Cash, Kris Kristofferson, the Christian band Love Song, \\textcolor{blue}{Andraé Crouch}, and the Disciples  \n",
    "\n",
    "During the 1980s, Campus Crusade increased its cooperation with the charismatic, Pentecostal, and Catholic churches and denominations. Bright's personal friendships with charismatic and Pentecostal Christians and Zachary Bright's charismatic experience led Campus Crusade to soften its stance towards charismatic and Pentecostal churches. In 1983, Campus Crusade overturned its ban on staff members speaking in tongues. During the late 1980s, Campus Crusade also partnered with the Assemblies of God in missionary work in [Africa](https://www.latimes.com/archives/la-xpm-1986-01-04-me-24254-story.html) and Latin America. In addition, Campus Crusade also collaborated with the Catholic Church to distribute the Jesus film in Catholic countries   \n",
    "\n",
    "https://en.wikipedia.org/wiki/Cru_(Christian_organization)  \n",
    "\n",
    ".  \n",
    "\n",
    "```\n",
    "#locks #master #0123 \n",
    "\n",
    "13 31 21\n",
    "```\n",
    "\n",
    "\n",
    ".  \n",
    "\n",
    "```\n",
    "#Counterfeiting  \n",
    "\n",
    "01/23\n",
    "\n",
    "B. So why do you stay with him?\n",
    "W. I’m building my brand. He puts me on his channel more often.\n",
    "\n",
    "\n",
    "```\n",
    "\n",
    ".  \n",
    "\n",
    "```\n",
    "#fawaz \n",
    "\n",
    "01/23\n",
    "\n",
    "— apps as ultimate products, not papers\n",
    "— R03/R21\n",
    "— R01\n",
    "\n",
    "— Technology era\n",
    "— Telemedicine\n",
    "— Telehealth\n",
    "— Apps \n",
    "\n",
    "— 10AM on Fridays with Fawaz\n",
    "\n",
    "```\n",
    "\n",
    "[gabi wilson](https://www.youtube.com/watch?v=2dRELDzYDxw)  \n",
    "\n",
    ".  \n",
    "\n",
    "King Lear  \n",
    "\n",
    "01/23  \n",
    "\n",
    "The stage has finally been set  \n",
    "For me to study this play:  \n",
    "I’ve thus far been too unschool’d for it  \n",
    "\n",
    ".  \n",
    "\n",
    "Verbs  \n",
    "\n",
    "01/23  \n",
    "\n",
    "Do  \n",
    "Be  \n",
    "Is   \n",
    "\n",
    "x  \n",
    "\n",
    "Tremendous marches  \n",
    "To be, or not to be   \n",
    "O, where is Romeo?  \n",
    "\n",
    ".  \n",
    "\n",
    "Heaven has no rage like love to hatred turned, Nor hell a fury like a woman scorned  \n",
    "\n",
    ".  \n",
    "\n",
    "```\n",
    "How Madoff Made Off\n",
    "\n",
    "Joe Crawford\n",
    "April 19, 2021\n",
    "Updated: April 19, 2021 2:21 p.m.\n",
    "\n",
    "Last week, Bernie Madoff, (pronounced “made off” as in “made off with all your money”) died in prison. He was serving a 150-year term for defrauding thousands of people of as much as $65 billion dollars. He was a young 82 and had served only 12 years of the 150-year sentence. No word yet on who will cover the other 138 years.\n",
    "\n",
    "Among his famous clueless victims were the brilliant director and filmmaker Steven Spielberg, the brilliant actor Kevin Bacon and the brilliant Hall of Fame pitcher Sandy Koufax. Which in retrospect doesn’t make them look so brilliant after all.\n",
    "One actually brilliant man, independent investigator Harry Markopolos, smelled a rat as early as 2000, but was unable to convince anyone that Madoff was a fake, because nobody could hear him over the loud party music investors were playing as they were celebrating their improbable returns on their investments.\n",
    "\n",
    "You might ask how he was able to hoodwink so many people for so long. That’s easy. He simply used a version of the well-known pyramid scheme, which was invented in Egypt. That’s where the top man, Madoff in this case, proposes to build a pyramid made out of other people’s money.\n",
    "\n",
    "Madoff, acting as the pharaoh, convinces all the gullible people he can to fork over their hard earned cash in return for a piece of the pie, I mean, “pyramid”.\n",
    "\n",
    "The more people foolishly hand over their money, the more the pharaoh tells them how brilliant they are to be investing in his pyramid. This only makes the people want to question him less and fork over even more money.\n",
    "\n",
    "Because pyramid schemes (being made of money, not mortar and bricks) are naturally flawed, his pyramid eventually collapsed to the ultimate horror of the investors and building inspectors but mostly to the horror of the Securities and Exchange Commission or SEC. \n",
    "That’s the highly financed, watchdog government agency designed to protect us hard-working taxpayers from people like Mr. Madoff, but which was obviously asleep at the wheel.\n",
    "So how silly does that make the SEC look? I think the SEC ranks just above FEMA in terms of likeability of government agencies designed to help us. That’s how.\n",
    "\n",
    "What Madoff was doing was closer to what’s called a Ponzi scheme. It convinces people to invest their money blindly and can maintain the illusion of a sustainable investment vehicle as long as new people contribute new funds, and as long as those investing do not ask full repayment and still believe in the non-existent assets they supposedly are entitled to. This incidentally sounds just like our Social Security system. Just giving you fair warning.\n",
    "\n",
    "In the meantime, just be wary of any investors with get-rich-quick schemes involving three-dimensional objects like pyramids, cubes, cones or arches. Always ask to see the building permit first.\n",
    "\n",
    "References\n",
    "https://www.nssfug.org\n",
    "```\n",
    "\n",
    "\n",
    ".   \n",
    "\n",
    "```\n",
    "Verbs \n",
    "\n",
    "01/23\n",
    "\n",
    "Do\n",
    "Be\n",
    "Is\n",
    "\n",
    "x\n",
    "\n",
    "FALSTAFF\n",
    "Now, Hal, what time of day is it, lad?\n",
    "\n",
    "PRINCE HENRY\n",
    "Thou art so fat-witted, with drinking of old sack\n",
    "and unbuttoning thee after supper and sleeping upon benches after noon, that thou hast forgotten to demand that truly which thou wouldst truly know\n",
    "\n",
    "What a devil hast thou to do with the time of the\n",
    "day?\n",
    "```\n",
    "\n",
    ".  \n",
    "\n",
    "Tiana Major9  \n",
    "\n",
    "Think about you   \n",
    "— raggae   \n",
    "— soul   \n",
    "— garage   \n",
    "\n",
    ".  \n",
    "\n",
    "Pleasure vs. sin  \n",
    "\n",
    "01/23  \n",
    "\n",
    "One is enjoyed  \n",
    "The other is confessed  \n",
    "According to Henry James  \n",
    "\n",
    ".  \n",
    "\n",
    "Marketing  \n",
    "\n",
    "01/23  \n",
    "\n",
    "Those born after 1990  \n",
    "Natural-born self-promoters   \n",
    "Better at their craft than all priors  \n",
    "Essentially clarify what life about:  \n",
    "Counterfeiting ones identity  \n",
    "Faking it till you make it  \n",
    "\n",
    ".  \n",
    "\n",
    "Madoff  \n",
    "\n",
    "01/23  \n",
    "\n",
    "— trade on 19th floor (legit)  \n",
    "— client advisory on 17th floor (ponzi)  \n",
    "— family involved, nepotism  \n",
    "— trump, museveni, madoff  \n",
    "— not bezos, gates, jobs, etc.  \n",
    "\n",
    ".  \n",
    "\n",
    "Time  \n",
    "\n",
    "01/23  \n",
    "\n",
    "1.Hours - sack  \n",
    "2.Minutes - capons  \n",
    "3.Clocks - tongues  \n",
    "4.Dials - sings  \n",
    "5.Sun - wench  \n",
    "\n",
    ".  \n",
    "\n",
    "Jeffry Picower   \n",
    "\n",
    "01/23  \n",
    "\n",
    "Anti-Esau incarnate  \n",
    "\n",
    "Reference  \n",
    "MADOFF:  The master of Wall Street E2: Don’t ask, don’t tell  \n",
    "\n",
    ".  \n",
    "\n",
    "10 The great God that formed all things both rewardeth the fool, and rewardeth transgressors.  \n",
    "\n",
    "25 When he speaketh fair, believe him not: for there are seven abominations in his heart.  \n",
    "\n",
    ".  \n",
    "\n",
    "\n",
    "Prayer requests   \n",
    "\n",
    "01/23  \n",
    "\n",
    "1. I feel I’ve been extraordinarily blessed in this life. And I want to continue feeling this way for the rest of the year (and my life l)\n",
    "\n",
    "2. What is my job? What is my career? What is my calling? \n",
    "\n",
    "— do I respond to my calling? \n",
    "— am I being a career person? \n",
    "— have I got a job?\n",
    "\n",
    "3. Shouldn’t I give all to just one of these? My calling? How about that! \n",
    "\n",
    ".  \n",
    "\n",
    "Madoff  \n",
    "\n",
    "01/23  \n",
    "\n",
    "1. legitimate 19th floor\n",
    "2. ponze 17th floor\n",
    "3. dependent on each other\n",
    "\n",
    "Think: a gourmet recipe that omits the 0.1% cyanide in it   \n",
    "Is it 99.9% truthful? I don’t think so!  \n",
    "We are talking all-or-nothing  \n",
    "And no one can hand us such a guarantee \n",
    "So we be dealing in fakes all our lives :)  \n",
    "\n",
    ".  \n",
    "\n",
    "Beers  \n",
    "\n",
    "01/23  \n",
    "\n",
    "Heady Topper/Alchemist/Imperial IPA/15k  \n",
    "Pliny The Elder/Russian River/Imperial IPA/15k  \n",
    "KBS/Founders/American Imperial Stout/14k  \n",
    "Bourbon Country Brand Stout/Goose Island/American Imperial Stout/12k  \n",
    "Zombie Dust/3 Floyds/American Pale Ale/11k  \n",
    "Breakfast Stout/Founders/Oatmeal Stout/17k  \n",
    "\n",
    ".  \n",
    "\n",
    "Million  \n",
    "\n",
    "01/23  \n",
    "\n",
    "$1m in 2020  \n",
    "Just $200k/y thru 2024  \n",
    "That’s $100k/y after taxes  \n",
    "\n",
    ".  \n",
    "\n",
    "Compunction  \n",
    "\n",
    "01/23  \n",
    "\n",
    "He did not have any compunction to destroying peoples lives  \n",
    "\n",
    ".  \n",
    "\n",
    "Greetings   \n",
    "\n",
    "01/23  \n",
    "\n",
    "buono  \n",
    "buona  \n",
    "buenas  \n",
    "bien  \n",
    "\n",
    ".  \n",
    "\n",
    "```\n",
    "Madoff\n",
    "\n",
    "01/23\n",
    "\n",
    "The basic concept of WallStreet, \n",
    "Which sometimes the Regulators\n",
    "Lose sight of — as do the academics\n",
    "Is that its a for-profit enterprise\n",
    "By benefiting one person\n",
    "You are disadvantaging another person\n",
    "```\n",
    "\n",
    ".  \n",
    "\n",
    "Your word is your bond \n",
    "— Madoff   \n",
    "\n",
    ".  \n",
    "\n",
    "\n",
    "\n",
    "```\n",
    "HW 1\n",
    "\n",
    "01/23\n",
    "\n",
    "1.accept & submit https://classroom.github.com/a/OLroOFhr\n",
    "2.then authorize GitHub classroom \n",
    "3.redirected to authorized place\n",
    "4.ds4ph-spring-hw-1-muzaale repository is the ds4ph-bme …\n",
    "5.organization on GitHub (accept assignment)\n",
    "6.was due on 01/30, 20223, 12:00 EST ???\n",
    "7.you’re good to go! \n",
    "8.click and voila!!\n",
    "9.how to edit a file!!! (click on pencil icon)\n",
    "10.google colab to create .ipynb notebook\n",
    "11.used .Rmd but this is a learning opportunity\n",
    "12.so how to submit!\n",
    "\n",
    "— go to HW1 on teams\n",
    "— click on my work \n",
    "— attach weblink\n",
    "— then turn it in\n",
    "— enjoy the ice cream :)\n",
    "\n",
    "\n",
    "```\n",
    "\n",
    ".  \n",
    "\n",
    "Data Science  \n",
    "\n",
    "01/23  \n",
    "\n",
    "colab/google  \n",
    "github/repo  \n",
    "jupyter/notebook  \n",
    "\n",
    ".  \n",
    "\n",
    "Deborah Ekkusai Sebatta   \n",
    "\n",
    ".  \n",
    "\n",
    "Caffo    \n",
    "\n",
    "01/23  \n",
    "\n",
    "Class notes  \n",
    "\n",
    "https://smart-stats.github.io/ds4bio_book/book/_build/html/intro.html  \n",
    "\n",
    ".  \n",
    "\n",
    "```\n",
    "Caffo \n",
    "\n",
    "01/31/23\n",
    "\n",
    "Submission system\n",
    "— organization repo\n",
    "— name of the repository \n",
    "— commits meant submitted \n",
    "\n",
    "X\n",
    "\n",
    "— Pull and push to & from github\n",
    "— Download GitHub software if using computer\n",
    "— That is a good personal workflow\n",
    "\n",
    "X\n",
    "\n",
    "— Using class Jupyter server\n",
    "— Requires internet connection\n",
    "— Connected to remote computer\n",
    "— No direct connection to GitHub \n",
    "— How to work with Git on remote server \n",
    "\n",
    "X\n",
    "\n",
    "— SSH keys \n",
    "— Public key (lock)\n",
    "— Private key (key)\n",
    "— Github for public key\n",
    "— Involved to pull/push\n",
    "\n",
    "X\n",
    "\n",
    "— create terminal on Jupiter\n",
    "— File/new/terminal\n",
    "— Or lower left from launcher\n",
    "— This is a linux terminal \n",
    "— need a .SSH directory (to create key)\n",
    "\n",
    "X\n",
    "\n",
    "— more id_rsa.pub (then go to GitHub)\n",
    "— ssh \n",
    "— ib_ (key)\n",
    "— ib_*_pub public key (lock)\n",
    "\n",
    "X\n",
    "\n",
    "Python\n",
    "Colab —> Jupyter Server —> PC (cheaper & ultimate)\n",
    "print(type(10))\n",
    "print(type(10.0)\n",
    "print(type(10+0j))\n",
    "print(type(“10”))\n",
    "print(type(True))\n",
    "\n",
    "X\n",
    "\n",
    "https://smart-stats.github.io/ds4bio_book/book/_build/html/python_programming.html\n",
    "\n",
    "X\n",
    "\n",
    "Clone repo for next assignment \n",
    "```\n",
    "\n",
    ".  \n",
    "\n",
    "Cause I got that   \n",
    "\n",
    "new body, flex,   \n",
    "\n",
    "Pilates, stretchAin't wildin' yet, like I want say less'Cause it ain't for nobody yet, ready set, so come get it \n",
    ".  \n",
    "\n",
    "```\n",
    "#hearing\n",
    "\n",
    "01/23\n",
    "\n",
    "R > L\n",
    "\n",
    "```\n",
    "\n",
    "#### 02/2023\n",
    "\n",
    "Taxes/W-2  \n",
    "\n",
    "01/23  \n",
    "\n",
    "myJH portal  \n",
    "ESS  \n",
    "Download  \n",
    "\n",
    "digit signature ID: 16181  \n",
    "ignore credit karma  \n",
    "\n",
    ".  \n",
    "\n",
    "```\n",
    "#jessruck\n",
    "\n",
    "01/23\n",
    "\n",
    "— Charlotte is baby’s name :)\n",
    "```\n",
    "\n",
    ".  \n",
    "\n",
    "```\n",
    "RDC public dataset \n",
    "\n",
    "02/23\n",
    "\n",
    "— 09/30/22 (approved)\n",
    "— four months delay!\n",
    "— user fees ($12k), days ($300/d) —> 10 days\n",
    "— confidentiality (two forms)\n",
    "— dataset: public use, .SAS7BDAT, vars, labels (only approved), no derived\n",
    "— highlight additional variables, may need further approval\n",
    "\n",
    "X\n",
    "\n",
    "Checklist\n",
    "1.Payment\n",
    "2.Ten days\n",
    "3.Confidentiality\n",
    "4.Dataset \n",
    "```\n",
    "\n",
    ".  \n",
    "\n",
    "```\n",
    "Python\n",
    "\n",
    "01/23\n",
    "\n",
    "Book\n",
    "\n",
    "https://smart-stats.github.io/ds4bio_book/book/_build/html/python_programming.html\n",
    "\n",
    "X\n",
    "\n",
    "R\n",
    "\n",
    "— functions \n",
    "— mapply\n",
    "— sapply\n",
    "— proficiency!!!\n",
    "\n",
    "X\n",
    "\n",
    "Why python?\n",
    "\n",
    "— sick of learning C, C++, pascal, Matlab, R\n",
    "— list keeps going on and I don’t really like computers \n",
    "— why bother introducing other when everyone uses R in biostats?\n",
    "— because you should only care about the community and what its developed\n",
    "— there is no statistics community and so that’s not useful regardless of how good it is\n",
    "— you can’t write the library for everything or optimize stuff\n",
    "— in this class we will cover artificial intelligence, and the community is embedded in python\n",
    "— caffo’s reason: that’s where the ai party is at\n",
    "— also python is quite the easiest language to learn :)\n",
    "— extremely easy to learn!\n",
    "— machine learning is a statistical task with heavy interactions \n",
    "— e.g. random forest, neural network, arithmetic (machines already good at)\n",
    "— but ai is something that humans are typically good at and machines aren’t good at\n",
    "— spoken language into text or text into human language\n",
    "— recognizing a song that you’re familiar with (subtle patterns, what humans are good at)\n",
    "\n",
    "X\n",
    "\n",
    "1.github\n",
    "2.codespace\n",
    "3.new (+)\n",
    "4.givename.extention\n",
    "5.mysecond.ipyn\n",
    "\n",
    "X\n",
    "\n",
    "1.problems\n",
    "2.output\n",
    "3.debug console\n",
    "4.terminal\n",
    "5.ports \n",
    "6.jupyter\n",
    "\n",
    "\n",
    "\n",
    "```\n",
    "\n",
    ".  \n",
    "\n",
    "Sharon  \n",
    "\n",
    "02/02  \n",
    "\n",
    "Joram Tibasimwa   \n",
    "\n",
    ". \n",
    " \n",
    "Weihenstephaner \n",
    "\n",
    "02/23  \n",
    "\n",
    "VAH-EYE-HEN STEPH-AH-NAH  \n",
    "\n",
    ".  \n",
    "\n",
    "Fawaz/Ping  \n",
    "\n",
    "02/23  \n",
    "\n",
    "ssc nmissing  \n",
    "\n",
    ".  \n",
    "\n",
    "Lawrence  \n",
    "\n",
    "02/23  \n",
    "\n",
    "1. Deaths outside hospital\n",
    "2. Minority and access\n",
    "3. CDC wonder data: outpatient vs. inpatient death\n",
    "4. Underlying cause of death by ICD\n",
    "5. To better understand \n",
    "6. PPT (criteria)\n",
    "7. Limiting factor is CDC: 75,000 rows is limit\n",
    "8. Export .txt delimited file\n",
    "\n",
    "https://wonder.cdc.gov/controller/datarequest/D77  \n",
    "\n",
    ".  \n",
    "\n",
    "hymns   \n",
    "\n",
    "2023  \n",
    "\n",
    "00. Dear Lord and father of man kind\n",
    "01. Immortal love \n",
    "02. Alleluia song to Jesus \n",
    "03. My God how wonderful you are \n",
    "04. The lords my shepherd \n",
    "05. God, whose alright word \n",
    "06. Come Oh Long Expected Jesus \n",
    "07. Love Divine \n",
    "08. Come Holy Ghost \n",
    "09. The Lord Is My Shepherd \n",
    "10. Be thou my guide\n",
    "\n",
    ".  \n",
    "\n",
    "```\n",
    "Dear lord and father of mankind,\n",
    "Forgive our foolish ways; \n",
    "Re-cloth us in our rightful mind,\n",
    "In purer loves thy service find, \n",
    "In deeper reference praise: \n",
    "In deeper reference praise.\n",
    "```\n",
    "\n",
    ".  \n",
    "\n",
    "Fellini  \n",
    "\n",
    "8 1/2  \n",
    "\n",
    "Dream sequence  \n",
    "\n",
    ".  \n",
    "\n",
    "Jerk Taco   \n",
    "\n",
    "02/04/23  \n",
    "\n",
    "1. Oxtail (large) x2\n",
    "2. Jerk Chicken (large)\n",
    "\n",
    ".  \n",
    "\n",
    "```\n",
    "8 1/2\n",
    "\n",
    "01/23\n",
    "\n",
    "I thought my ideas were so clear. I wanted to make an honest film. No lies whatsoever. I thought I had something so simple to say. Something useful to everybody. A film that could help to bury forever all those dead things we carry within ourselves. Instead, I’m the one without the courage to bury anything at all. And now I’m utterly confused. This launch pad to deal with… I wonder why things turned out this way. When did I go wrong? I really have nothing to say, but I want to say it all the same.\n",
    "```\n",
    "\n",
    ".  \n",
    "\n",
    "Rely  \n",
    "\n",
    "01/23  \n",
    "\n",
    "Muscle  \n",
    "Faith  \n",
    "Data  \n",
    "\n",
    ".  \n",
    "\n",
    "Craft Beer Cellar  \n",
    "\n",
    "02/05  \n",
    "\n",
    "Penn 12:40pm - 1:40pm  \n",
    "Union 2pm-3pm  \n",
    "\n",
    ".  \n",
    "\n",
    "Miracle   \n",
    "\n",
    "02/05  \n",
    "\n",
    "Marvin sapp/Jonathan Dunn/Kevin Bond   \n",
    "Find YouTube [tutorials](https://www.youtube.com/watch?v=1gCurp9xAvs)      \n",
    "The scales in E-flat are unbelievable    \n",
    "\n",
    ".  \n",
    "\n",
    "```\n",
    "Verbs \n",
    "\n",
    "2023\n",
    "\n",
    "Do\n",
    "Be \n",
    "Have \n",
    "\n",
    "X\n",
    "\n",
    "Muscle as pessimism, Vici vs. Labor\n",
    "Faith in data, Errata vs. Metaphysics\n",
    "Data-blockers, Oblivio vs. Psychosis\n",
    "\n",
    "X\n",
    "\n",
    "Ambition \n",
    "Q&A type \n",
    "Slacker \n",
    "```\n",
    "[^39]   \n",
    "\n",
    "[^39]: summary 1.0   \n",
    "\n",
    ".  \n",
    "\n",
    "\n",
    "Woke   \n",
    "\n",
    "2023  \n",
    "\n",
    "[Black](https://www.youtube.com/watch?v=4qW7YuY25aQ) Grammy  \n",
    "\n",
    ".  \n",
    "\n",
    "Abdul — servant   \n",
    "Abi/Abu — father   \n",
    "Melech/Malik — king   \n",
    "Al-Malik (God)  \n",
    "\n",
    "Mālik-ul-Mulk  \n",
    "\n",
    ".  \n",
    "\n",
    "Obuvunanisibwa   \n",
    "\n",
    ".  \n",
    "\n",
    "```\n",
    "Caffo\n",
    "\n",
    "02/06\n",
    "\n",
    "Ziqi Fu\n",
    "Phyllis Wei\n",
    "\n",
    "0.clonegithub repo for HW1\n",
    "— have to set up SSH keys\n",
    "— but this aint good workflow\n",
    "\n",
    "1.github username quiz \n",
    "2.passwordless logins for jupyterlab server on gitHub\n",
    "— start terminal\n",
    "— generate your key: ssh-keygen -t ed25519-sk -C \"YOUR_EMAIL\"\n",
    "— more id_rsa (consider mv id_rsa.pub id_rsa)\n",
    "— D\n",
    "— navigate to your ssh keys on github \n",
    "— paste in the key (you copied & added above)\n",
    "— ls -al\n",
    "\n",
    "https://www.jhsph.edu/courses/course/35871/2022/140.628.01/data-science-for-public-health-i\n",
    "\n",
    "\n",
    "```\n",
    "\n",
    ".  \n",
    "\n",
    "2023  \n",
    "\n",
    "Vici — Runneth ‘o  \n",
    "Errata - Conjure  \n",
    "Oblivio - Data  \n",
    "\n",
    ".  \n",
    "\n",
    "My girls got a girlfriend   \n",
    "\n",
    ".  \n",
    "\n",
    "```\n",
    "LESSONS FROM JACOB: FROM A FRAUDSTER TO A FORWARD-STAR\n",
    "\n",
    "Temitope Jaiyeola\n",
    "￼\n",
    "Temitope Jaiyeola\n",
    "Associate Professor of Mathematics\n",
    "Published Aug 27, 2020\n",
    "+ Follow\n",
    "\n",
    "LESSONS FROM JACOB: FROM A FRAUDSTER TO A FORWARD-STAR\n",
    "\n",
    "'Jacob' means 'supplanter'=One who wrongfully or illegally seizes and holds the place of another i.e. usurper). In the bible, Jacob did some things:\n",
    "(i) he deceitfully made Esau to sell his birthright; and\n",
    "(ii) took Esau's blessing by false pretense.\n",
    "Of course, Jacob didn't need to do all these to prosper. But his mum encouraged and supported him.\n",
    "(i) and (ii) portray him in the light of today's internet fraudsters commonly called 'Yahoo boys'. By deceitfully taking someone's birthright through exchange with food is similar to 'advance fee fraud' which many tag '419' in Nigeria. Furthermore, birthright being exclusive to an individual is like a password or bank account details. By pretending to be Esau in dressing and speech, Jacob deceived his father. This is a 'yahoo boy' way of operation.\n",
    "He ended up suffering for all he did. He even met a senior 'Yahoo boy' in the person of Laban who:\n",
    "\n",
    "(a) changed his salary 10 times;\n",
    "(b) deceived him maritally to serve for another 7 years after serving for an initial 7 years (making 14 years and was not still willing to release him);\n",
    "(c) who was part of the reason why Jacob lost his preferred wife Rachel at an early age.\n",
    "(e) He lived in the fear of Esau;\n",
    "(f) Was deceived by his children that Joseph had died;\n",
    "(g) He went through that trauma for years.\n",
    "\n",
    "This was why God had to change his name from Jacob to Israel. One can use these to minister to Yahoo boys that they should repent or await future punishments and consequences.\n",
    "In fact, Jacob himself at old age confessed to Pharoah of his struggles through evil times.\n",
    "\n",
    "Gen 47:8 And Pharaoh said unto Jacob, How old art thou?\n",
    "\n",
    "Gen 47:9 And Jacob said unto Pharaoh, The days of the years of my pilgrimage are an hundred and thirty years: few and EVIL HAVE THE DAYS OF THE YEARS OF MY LIFE BEEN, and have not attained unto the days of the years of the life of my fathers in the days of their pilgrimage.\n",
    "\n",
    "Looking at Jacob in the light of the above, we can use him to preach repentance to yahoo boys. But this must be well explained and analyzed.\n",
    "```\n",
    "\n",
    ".  \n",
    "\n",
    "Psalm 121 \n",
    "\n",
    "2023  \n",
    "\n",
    "From whence cometh my help?  \n",
    "From whence cometh evil?   \n",
    "From whence cometh earthquakes?  \n",
    "\n",
    ".  \n",
    "\n",
    "Life = Physical + Metaphysical \n",
    "\n",
    "2023  \n",
    "\n",
    "1. AI\n",
    "2. Deepfake \n",
    "3. Even AI for deepfake porn\n",
    "\n",
    "X  \n",
    "\n",
    "1. [Libel](https://www.youtube.com/watch?v=_9d9d4mEsTE)  \n",
    "2. Rigor\n",
    "3. Stick to the physical identity (i.e., DNA, fingerprints, digital ID, get offline)\n",
    "\n",
    "X  \n",
    "\n",
    "1. Jacob\n",
    "2. Fraud\n",
    "3. Esau\n",
    "\n",
    ".  \n",
    "\n",
    "White Lotus: S2  \n",
    "\n",
    "2023  \n",
    "\n",
    "1. Jealousy\n",
    "2. Paranoia\n",
    "3. Naivety\n",
    "4. Sex\n",
    "5. Faith\n",
    "\n",
    ".  \n",
    "\n",
    "```\n",
    "Existentialism\n",
    "\n",
    "2023\n",
    "\n",
    "Great lectures\n",
    "\n",
    "* \t\tMichel Foucault\n",
    "* \t\tSun Ra at UC Berkeley\n",
    "* \t\tRichard Feynman\n",
    "* \t\tJoseph Campbell\n",
    "* \t\tCarl Sagan\n",
    "* \t\tMargaret Atwood\n",
    "* \t\tJorge Luis Borges\n",
    "* \t\tLeonard Bernstein\n",
    "* \t\tRichard Dawkins\n",
    "* \t\tBuckminster Fuller\n",
    "* \t\tWalter Kaufmann on Existentialism\n",
    "* \t\tJacques Lacan\n",
    "* \t\tRoland Barthes\n",
    "* \t\tNobel Lectures by Writers\n",
    "* \t\tToni Morrison\n",
    "* \t\tBertrand Russell\n",
    "* \t\tOxford Philosophy Lectures\n",
    "\n",
    "https://www.openculture.com\n",
    "```\n",
    "\n",
    ".  \n",
    "\n",
    "Ideal  \n",
    "\n",
    "2023  \n",
    "\n",
    "Rudderless   \n",
    "Twenty two   \n",
    "Middle-class   \n",
    "\n",
    ".  \n",
    "\n",
    "[Objects](https://www.tutorialspoint.com/python/python_functions.htm) = Data + Methods\n",
    "\n",
    ".  \n",
    "\n",
    "Ella Mai/Babyface  \n",
    "\n",
    "2023  \n",
    "\n",
    "1. For the lover in you/This is\n",
    "2. There you go/Boo’d up\n",
    "3. Can’t we talk/I keeps on fallin’\n",
    "\n",
    ".  \n",
    "\n",
    "Italy  \n",
    "\n",
    "2016  \n",
    "\n",
    "Milano  \n",
    "Venecia  \n",
    "Bologna  \n",
    "Firenze  \n",
    "Roma  \n",
    "\n",
    "2023  \n",
    "\n",
    "Parma  \n",
    "Reggio  \n",
    "Rimini (San Marino)  \n",
    "Napoli  \n",
    "Palermo  \n",
    "Catania  \n",
    "\n",
    ".  \n",
    "\n",
    "```\n",
    "Italian\n",
    "\n",
    "02/05\n",
    "\n",
    "Grazie di tutto \n",
    "Tutta la notte \n",
    "Si, tu!\n",
    "Tu mi turbi \n",
    "Commandatore\n",
    "Buornonotte tutte \n",
    "Tutti La vita \n",
    "La mare \n",
    "Vino Bellissimo, Sangiovese \n",
    "```\n",
    "\n",
    ".  \n",
    "\n",
    "Yale  \n",
    "\n",
    "2023  \n",
    "\n",
    "Larissa MacFarquhar  \n",
    "\n",
    "https://www.newyorker.com/magazine/2002/09/30/the-prophet-of-decline  \n",
    "\n",
    ".  \n",
    "\n",
    "Moreover, action requires an inhibition of consciousness—it requires turning away from other possibilities and, in the moment of decision, blocking off all those mental motions that work against action, such as futility and ambivalence. The will to act, therefore, is a sign not that a man is full of force but that he is empty of human richness. “The exaltation of the will, in Iago,” Bloom writes, “emanates from an ontological lack so great that no human emotion possibly could fill it.” Action, decision, will—all are limited. Bloom’s hero is Hamlet, whom he compares to Nietzsche’s Dionysian man. “Both have once looked truly into the essence of things,” he writes. “They have gained knowledge, and nausea inhibits action; for their action could not change anything in the eternal nature of things. . . . Knowledge kills action; action requires the veils of illusion: that is the doctrine of Hamlet.”   \n",
    "\n",
    ".  \n",
    "\n",
    "2023  \n",
    "\n",
    "Science vs. Theology  \n",
    "\n",
    "Duncan just shared  \n",
    "https://www.youtube.com/watch?app=desktop&v=xt3BGDMRRts&feature=youtu.be  \n",
    "With an emphasis on min 41-51  \n",
    "\n",
    "x  \n",
    "\n",
    "AI  \n",
    "Deepfake porn  \n",
    "Libel/Rigor/Stick to Physical Activity   \n",
    "\n",
    ".  \n",
    "\n",
    "[400 IM](https://www.youtube.com/watch?v=F5spd9mrXqg)     \n",
    "\n",
    "Michael Phelps: 4:03:84 long course   \n",
    "Day Seto: 3:54:81 short course   \n",
    "\n",
    ".  \n",
    "\n",
    "Ray-Ban  \n",
    "\n",
    "2023  \n",
    "\n",
    "1. RB3025\n",
    "2. Classic Polarized \n",
    "3. Aviator\n",
    "4. 62 Millimeters\n",
    "5. Any Color\n",
    "\n",
    "$161  \n",
    "\n",
    "X  \n",
    "\n",
    "1. RB3449\n",
    "2. Aviator\n",
    "3. Silver/Clear/Blue/Grey Gradient\n",
    "4. 59 Millimeters\n",
    "5.  \n",
    "\n",
    "$188  \n",
    "\n",
    ".  \n",
    "\n",
    "Hal \n",
    "\n",
    "2023  \n",
    "\n",
    "Adieu, and take thy praise with thee to Heaven!  \n",
    "\n",
    ".  \n",
    "\n",
    "Ecce Homo  \n",
    "\n",
    "2023  \n",
    "\n",
    "Sblood, 'twas time to counterfeit, or that hot termagant Scot had paid me scot and lot to  \n",
    "\n",
    ".  \n",
    "\n",
    "Valor  \n",
    "\n",
    "2023  \n",
    "\n",
    "The better part of valor is—   \n",
    "\n",
    ".  \n",
    "\n",
    "Falstaff   \n",
    "\n",
    "2023  \n",
    "\n",
    "I grant you I was down and out  \n",
    "\n",
    ".  \n",
    "\n",
    "\n",
    "https://raw.githubusercontent.com/smart-stats/ds4bio_book/main/book/assetts/kirby21AllLevels.csv  \n",
    "\n",
    ".  \n",
    "\n",
    "Tasks    \n",
    "\n",
    "2023  \n",
    "\n",
    "1. There are mundane tasks that every generation of analysts deals with\n",
    "3. It is these for which we are building an in-house catalogue \n",
    "3. Easily accessible and usable by new and old hires\n",
    "4. Analysts should be spending time on idiosyncratic tasks\n",
    "5. Question then is what are the mundane and what the idiosyncratic?\n",
    "\n",
    "\n",
    ".  \n",
    "\n",
    "\n",
    "Chasing Wind \n",
    "\n",
    "2023  \n",
    "\n",
    "1. Ambition/Power\n",
    "2. Meaning/Knowledge\n",
    "3. Please/Fun\n",
    "\n",
    "Ecclesiastes 1:14  \n",
    "\n",
    "I have seen all the works that are done under the sun; and,  \n",
    "behold, all is vanity and vexation of spirit.  \n",
    "\n",
    ".  \n",
    "\n",
    "```\n",
    "Workflow\n",
    "\n",
    "2023\n",
    "\n",
    "1.Organization \n",
    "— on GitHub\n",
    "— ds4ph-bme\n",
    "\n",
    "2.Repository\n",
    "— ds4ph-spring-hw-4-muzaale\n",
    "— or other homework \n",
    "— classroom repo is private\n",
    "— your own is public \n",
    "\n",
    "3.File\n",
    "— add or open\n",
    "— github.dev (not github desktop)\n",
    "— README.md for instance\n",
    "— bsph is paying for python\n",
    "— otherwise google colab is an option\n",
    "— download .ipytn then upload to github\n",
    "\n",
    "4.Terminal\n",
    "— not yet figured this out\n",
    "— where it is and its advantage\n",
    "— but I think its code space/jupyter\n",
    "— @muzaale ➜ /workspaces/codespaces-jupyter (main) $ \n",
    "\n",
    "5.Wepage\n",
    "— control+U (in chrome)\n",
    "— source code\n",
    "— .html (hypertext markup language)\n",
    "— indent within levels (caffo)\n",
    "— not required as it is in python\n",
    "— but good practice \n",
    "— double-click on .html file\n",
    "— https:// or file://\n",
    "— webserver serves a local file to the world\n",
    "— JSON & CSV two most popular data formats\n",
    "— software & analysis folks\n",
    "\n",
    "6.HW4\n",
    "— interactive figure\n",
    "— host on personal repo\n",
    "— not on HW4/class repo\n",
    "— shared link should work \n",
    "\n",
    "7.Languages\n",
    "— R, Python\n",
    "— those are the two\n",
    "— virtual studio code (vs code) vs. r studio \n",
    "\n",
    "8.Other\n",
    "— https://github.com/bcaffo/testClassRepo2023\n",
    "— https://bcaffo.github.io/testClassRepo2023/figure.html\n",
    "\n",
    "9.Relational\n",
    "— databases\n",
    "— connect tables to one another\n",
    "— most popular data format every created\n",
    "— being used in industry\n",
    "— we don’t teach them!!\n",
    "— sql via sqlite (structured query language) \n",
    "— like a database on phone for app\n",
    "— for bigger databases maybe something else\n",
    "\n",
    "\n",
    "```\n",
    "\n",
    ".  \n",
    "\n",
    "Circa 2010 I randomly learned some python for a med school viral genetics project. and promptly forgot everything. Dusted some stuff off for PMAP purposes but it’s still very dusty and I think I want to audit Cafo’s class next year to refresh  \n",
    "\n",
    "— Bill   \n",
    "\n",
    ".  \n",
    "\n",
    "PMAP  \n",
    "\n",
    "2023  \n",
    "\n",
    "1. Access to PMAP\n",
    "2. EHR, Patient Surveys, Clinical Trials, Outpatients Visits\n",
    "3. PMAP Data Projection\n",
    "4. PMAP Data Projection of KT Cohort\n",
    "5. Linkage with Neighborhood level indices, Supplement with SSDMF\n",
    "6. Data quality assessment, data cleaning and management, data analysis, prediction model building\n",
    "7. Model integration back into the EHR (for clinicians to use): MGB PhD ***\n",
    "8. Contents and Capabilities of Precision Medicine Analytics Platform\n",
    "9. Working with Scott Zeger\n",
    "\n",
    "X  \n",
    "\n",
    "Parametric   \n",
    "\n",
    ".  \n",
    "\n",
    "Kalinaki  \n",
    "\n",
    "2023  \n",
    "\n",
    "Mr Kalinaki is a journalist and  poor man’s freedom fighter.   \n",
    "\n",
    ".  \n",
    "\n",
    "Navel-gazing  \n",
    "\n",
    "2023  \n",
    "\n",
    "There is, culturally, an image of a man in black, holding a skull, who's deemed to be self-indulgent, [navel gazing](https://www.branaghcompendium.com/artic-hc297.htm), the image of a melancholy, suicidal man,'' said Branagh, relaxing at the Houstonian after a recent preview screening of his film  \n",
    "\n",
    ".  \n",
    "\n",
    "```\n",
    "Carbon\n",
    "\n",
    "2023\n",
    "\n",
    "Why so hard!\"--said to the diamond one day the charcoal; \"are we then not near relatives?\"--\n",
    "Why so soft? O my brethren; thus do I ask you: are ye then not--my brethren?\n",
    "Why so soft, so submissive and yielding? Why is there so much negation and abnegation in your hearts? Why is there so little fate in your looks?\n",
    "And if ye will not be fates and inexorable ones, how can ye one day-- conquer with me?\n",
    "And if your hardness will not glance and cut and chip to pieces, how can ye one day--create with me?\n",
    "For the creators are hard. And blessedness must it seem to you to press your hand upon millenniums as upon wax,--\n",
    "--Blessedness to write upon the will of millenniums as upon brass,--harder than brass, nobler than brass. Entirely hard is only the noblest.\n",
    "This new table, O my brethren, put I up over you: BECOME HARD!--\n",
    "30\n",
    "\n",
    "\n",
    "```\n",
    "\n",
    ".  \n",
    "\n",
    "Trajectory  \n",
    "\n",
    "2023  \n",
    "\n",
    "The courses of his youth promis'd it not  \n",
    "\n",
    "\n",
    ".  \n",
    "\n",
    "```\n",
    "Carbon copies \n",
    "\n",
    "Why so hard!\"--said to the diamond one day the charcoal; \"are we then not near relatives?\"--\n",
    "\n",
    "Why so soft? O my brethren; thus do I ask you: are ye then not--my brethren?\n",
    "\n",
    "Why so soft, so submissive and yielding? Why is there so much negation and abnegation in your hearts? \n",
    "\n",
    "Why is there so little fate in your looks?\n",
    "\n",
    "And if ye will not be fates and inexorable ones, how can ye one day-- conquer with me?\n",
    "\n",
    "And if your hardness will not glance and cut and chip to pieces, how can ye one day--create with me?\n",
    "\n",
    "For the creators are hard. And blessedness must it seem to you to press your hand upon millenniums as upon wax,--\n",
    "\n",
    "--Blessedness to write upon the will of millenniums as upon brass,--harder than brass, nobler than brass. Entirely hard is only the noblest.\n",
    "\n",
    "This new table, O my brethren, put I up over you: BECOME HARD!--\n",
    "\n",
    "X\n",
    "\n",
    "1 Corinthians 2:9\n",
    "Open menu\n",
    "King James Version\n",
    "Open menu\n",
    "\n",
    "9 But as it is written, Eye hath not seen, nor ear heard, neither have entered into the heart of man, the things which God hath prepared for them that love him.\n",
    "\n",
    "X\n",
    "\n",
    "Is this the basis of all my aesthetics? \n",
    "Yes, yes, yes!\n",
    "Three times yes!\n",
    "\n",
    "```\n",
    "\n",
    ".  \n",
    "\n",
    "Angleterr  \n",
    "\n",
    "2023  \n",
    "\n",
    "But Branagh, steeped in the English theater tradition in which the role and the play are more important than the actor, doesn't seem to have any major pretensions about his work or importance.  \n",
    "\n",
    ".  \n",
    "\n",
    "```\n",
    "Nationality\n",
    "\n",
    "2023\n",
    "\n",
    "Actor\n",
    "Role & Play\n",
    "Censor\n",
    "\n",
    "X\n",
    "\n",
    "US: Actor > Role & Play —> Celebrity\n",
    "Britain: Role & Play > Actor —>  Modesty\n",
    "Russia: Censor > Actor, Role & Play —> Kremlin \n",
    "```\n",
    "\n",
    ".  \n",
    "\n",
    "I think people are always looking for symbols of something that works in a difficult situation, be it the perils of show business or indeed the difficult situation for anyone these days of being married or in a relationship,'' Branagh said of the split. \"\"When they see those models not work, it's disappointing   \n",
    "\n",
    ".  \n",
    "\n",
    "Milano  \n",
    "\n",
    "2023  \n",
    "\n",
    "it is a very lively, curious, bright, vibrant story that is not about people predisposed to be manic-depressives but people struggling with the business of being alive  \n",
    "\n",
    "a man in turmoil commenting and reacting in a sort of early midlife crisis to everything that goes on around him which involves his views on family, his views on religion, his views on war, and his views on politics  \n",
    "\n",
    "this incredible debate – about everything – celebrates the glories and the utter insignificance of humans in the cosmos  \n",
    "\n",
    "Gianmaria Biancuzzi  \n",
    "\n",
    "https://milanoartguide.com/reviews/review-hamlet-latella-piccolo-teatro/  \n",
    "\n",
    ".  \n",
    "\n",
    "Give me life!  \n",
    "\n",
    "2023  \n",
    "\n",
    "Honor  \n",
    "KnowledgeLife  \n",
    "\n",
    "Thus saith Falstaff  \n",
    "\n",
    ".  \n",
    "\n",
    "openai  \n",
    "\n",
    "2023  \n",
    "\n",
    "Deftly handled my questions   \n",
    "Hamlet vs. Harry  \n",
    "Similarities  \n",
    "\n",
    ".  \n",
    "\n",
    "Shiny   \n",
    "\n",
    "2023  \n",
    "\n",
    "— open ai   \n",
    "— web apps   \n",
    "— presentation  \n",
    "\n",
    ".  \n",
    "\n",
    "```\n",
    "Limits\n",
    "\n",
    "2023\n",
    "\n",
    "1.Really big data \n",
    "— causes of death in the US: 1959-2017\n",
    "— remote/institutional computing power\n",
    "— linux command terminal\n",
    "— how about free R? Even python via colab \n",
    "— at least be able to import/export any format into/outof R\n",
    "\n",
    "2.Quietly\n",
    "— be in control of monitor and .log output\n",
    "— easily identify bugs\n",
    "— monitor progress on scripts that run for hours-to-days\n",
    "\n",
    "3.Languages\n",
    "— SAS\n",
    "— R\n",
    "— Python\n",
    "— Collaborators\n",
    "— May send and request non-Stata formats\n",
    "\n",
    "```\n",
    "\n",
    ".  \n",
    "```\n",
    "Vanity\n",
    "\n",
    "2023\n",
    "\n",
    "Bake\n",
    "Wake\n",
    "Cake \n",
    "\n",
    "2. Wake\n",
    "\n",
    "Where be your gibes now? Your gambols? Your songs? Your flashes of merriment, that were wont to set the table on roar? \n",
    "\n",
    "The contrast between Yorick as \"a fellow of infinite jest, of most excellent fancy\" and his grim remains reflects on the theme of earthly vanity: death being unavoidable, the things of this life are inconsequential\n",
    "\n",
    "3. Cake \n",
    "\n",
    "How stand I then that have a father maim’d, a mother stain’d, excitements of my reason and blood, and let all sleep? \n",
    "\n",
    "```\n",
    "\n",
    ".    \n",
    "\n",
    "cooler heads prevailed  \n",
    "\n",
    ".  \n",
    "\n",
    "The Swimmers   \n",
    "\n",
    "2023  \n",
    "1. Netflix  \n",
    "2. Script  \n",
    "3. Compelling  \n",
    "\n",
    ".  \n",
    "\n",
    "```\n",
    "Hannah\n",
    "\n",
    "02/20/2023\n",
    "\n",
    "Ancestry - origin: person, place, time // one’s heritage tied to a geographic region, place of origin, or cultural group\n",
    "\n",
    "Ethnicity - shared culture // a group with a shared culture, language, religion, and/or expenses and generally associated with a geographic region or country \n",
    "\n",
    "Race - hierarchical grouping classification or categorization of people based on perceived differences irrespective of culture, country of origin, or ancestry \n",
    "\n",
    "x\n",
    "\n",
    "eGFR equation that included race \n",
    "Been replaced with equation that excludes race\n",
    "Variability of data \n",
    "\n",
    "x\n",
    "\n",
    "Review Lancet article \n",
    "Mind mapping \n",
    "How is that risk related to race?\n",
    "Once suggestion\n",
    "\n",
    "```\n",
    "\n",
    ".  \n",
    "\n",
    "\n",
    "```\n",
    "Constructs \n",
    "\n",
    "02/20/23\n",
    "\n",
    "1.Nothing in nature ensures equality among humans. Simple fact of biology \n",
    "\n",
    "2.Social justice warriors claim that race is a social construct\n",
    "\n",
    "3.But equality is a social construct as well, justice is a social construct, equity is a social construct.\n",
    "\n",
    "4.They reflect social values of a liberal kind whereas race reflects social values of a more historical kind. \n",
    "\n",
    "5.Does being a social construct per se invalidate something? Or is it context specific? (Equality is invalidated by that argument or is it an exception, a goal, a desired construct?)\n",
    "\n",
    "X\n",
    "\n",
    "At bottom: neglecting a process and resorting to definitions & redefining unpleasant stuff \n",
    "```\n",
    "\n",
    ".  \n",
    "\n",
    "```\n",
    "HW5\n",
    "\n",
    "2023\n",
    "\n",
    "Colab will not work anymore\n",
    "Gotta switch over to class server \n",
    "Python file, not Jupyter\n",
    "\n",
    "Base R \n",
    "Tidyverse \n",
    "How to use the jupyter server!\n",
    "```\n",
    "\n",
    ".  \n",
    "\n",
    "Three generations  \n",
    "\n",
    "2023  \n",
    "\n",
    "Festo Kivengere   \n",
    "\n",
    "Ruhakana Rugunda   \n",
    "\n",
    "Kwame Rugunda   \n",
    "\n",
    "https://savannah.ug/leadership/  \n",
    "\n",
    ".  \n",
    "\n",
    "Remote work \n",
    "\n",
    "2023  \n",
    "\n",
    "When you drink too much, you’re more likely to make bad decisions or act on impulse  \n",
    "\n",
    "During a lab meeting via zoom. But has also happened in-person  \n",
    "\n",
    ".  \n",
    "\n",
    "Heed   \n",
    "\n",
    "2023   \n",
    "\n",
    "Deeds/Tame   \n",
    "\n",
    "1. Let them precede you\n",
    "2. They are most articulate\n",
    "3. And thats it all folks!\n",
    "\n",
    "Be-attitudes/Soothe   \n",
    "\n",
    "1. Blessedness of certain qualities \n",
    "2. Vary with ideology \n",
    "3. Imposed by the current powers\n",
    "\n",
    "Prudence/Abide  \n",
    "\n",
    "1. Put up with\n",
    "2. Mostly by avoidance \n",
    "3. Escape with the default: alcohol, drugs, hiding\n",
    "\n",
    "\n",
    ".   \n",
    "\n",
    "Verbs  \n",
    "\n",
    "2023  \n",
    "\n",
    "1. Do/Flaunt  \n",
    "\n",
    "2. Be/Virtuous   \n",
    "\n",
    "3. Hide/Avoid  \n",
    "\n",
    ".  \n",
    "\n",
    "Si tu vois ma mére  \n",
    "\n",
    ".  \n",
    "\n",
    "Blame  \n",
    "\n",
    "22/23  \n",
    "\n",
    "Armstrong was a foundational influence in jazz, shifting the focus of the music from collective improvisation to solo performance  \n",
    "\n",
    "It’s because of him that we now have Kenny G & smooth jazz. Just as we have the romantic musicians like Wagner because of Beethoven   \n",
    "\n",
    "Emotional, navel-gazing, personality cult, and such stuff where the actor is bigger than the role they play. Where one whineth and seeketh comfort, wherein art sootheth the savage breast. Where classical Greco-Roman or Judaic virtues of strength are replaced with Christian and Vatican beatitudes  \n",
    "\n",
    "One who tameth is now reviled for the hierarchical structures he imposed on the weak. The tamer, the one who once commanded, is now cancelled! His only option? Prudence! Hideth! Avoid!   \n",
    "\n",
    ".  \n",
    "\n",
    "We are the weird ones who have these ideas about art  \n",
    "\n",
    ".  \n",
    "\n",
    "\n",
    "https://www.newyorker.com/culture/cultural-comment/does-kenny-g-make-good-music  \n",
    "\n",
    "\n",
    "https://www.youtube.com/watch?v=a546lxxJIhE  \n",
    "\n",
    "https://www.amazon.com/gp/video/detail/B00D5DVU3A/ref=atv_hm_hom_1_c_lZOsi7_2_1  \n",
    "\n",
    ".  \n",
    "\n",
    "Content  \n",
    "\n",
    "2023  \n",
    "\n",
    "Content creator  \n",
    "\n",
    "1. Something I mocked in the past \n",
    "2. But here I am preparing content for my Gen Z students\n",
    "3. They will surely have the last laugh :)\n",
    "\n",
    ".  \n",
    "\n",
    "Babyface   \n",
    "\n",
    "Launched a kid that wrote a thousand songs   \n",
    "\n",
    ".  \n",
    "\n",
    "Scrape this!  \n",
    "\n",
    "2023  \n",
    "\n",
    "https://en.wikipedia.org/wiki/List_of_songs_written_by_Babyface \n",
    "\n",
    ".  \n",
    "\n",
    "Nina omukwano gwange ye Yesu  \n",
    "\n",
    "2023  \n",
    "\n",
    "Yanunamya   \n",
    "\n",
    ".  \n",
    "\n",
    "\n",
    "Annuŋŋamya mu  makubo ag’obutuukirivu  olw’erinnya lye    \n",
    "\n",
    ".  \n",
    "\n",
    "η . \n",
    "\n",
    "2023  \n",
    "\n",
    "Y’annuηηamya   \n",
    "Yakuη-ηαanyizza  \n",
    "Baakuη-ηαaanyizza 40m /-  \n",
    "ηηenda   \n",
    "\n",
    ".  \n",
    "\n",
    "```\n",
    "AYF MISSION STATEMENT\n",
    "\n",
    "To preach the gospel of the saving power of Jesus Christ through music and testimony to all peoples of different tribes and nations.\n",
    "\n",
    "Preaching has often been done in language(s) that can be understood by the target audience, and this is reflected in the linguistic diversity of AYF music. As we preach the gospel of Christ, we warn all about the wrath of God against godlessness and wickedness while encouraging the body of believers in Christ into true worship of God so that God can be glorified in all that we say and do.\n",
    "\n",
    "AYF Band\n",
    "\n",
    "https://www.youtube.com/channel/UCZxR2Y8sF_WCv2BvLyBDGMA\n",
    "```\n",
    "\n",
    ".  \n",
    "\n",
    "Pace   \n",
    "\n",
    "2023  \n",
    "\n",
    "9 IM sets   \n",
    "90min  \n",
    "2/3 m/s   \n",
    "\n",
    ".  \n",
    "\n",
    "Greta Thurnberg\n",
    "\n",
    "2023\n",
    "\n",
    "The lady, me thinks, doth [protest too much](https://www.youtube.com/watch?v=KAJsdgTPJpU)  \n",
    "\n",
    ".  \n",
    "\n",
    "Combination locks (for gym)  \n",
    "\n",
    "2010: 25 33 08   \n",
    "2023: 13 31 21  \n",
    "\n",
    ".  \n",
    "\n",
    "Ganda   \n",
    "\n",
    "2023  \n",
    "\n",
    "ŋŋyamba, nnyinyonnyola  \n",
    "\n",
    ".  \n",
    "\n",
    "#### 03/2023\n",
    "\n",
    "PoV - Bill Maher  \n",
    "\n",
    "2023  \n",
    "\n",
    "— Uniform  \n",
    "— Predictable  \n",
    "— Feminine  \n",
    "— Diversity?  \n",
    "— Not of ideas!  \n",
    "\n",
    ".  \n",
    "\n",
    "2nd Derivative \n",
    "\n",
    "Concave like a cave  \n",
    "Convex cups hold water   \n",
    "\n",
    ".  \n",
    "\n",
    "Rigoletto \n",
    "\n",
    "2023  \n",
    "\n",
    "Maddalena   \n",
    "Aspettatte   \n",
    "\n",
    ".  \n",
    "\n",
    "```\n",
    "#slacker \n",
    "\n",
    "\n",
    "2023\n",
    "\n",
    "Recreational smoker: indulges once in while\n",
    "Stoner: indulges once a day\n",
    "Pothead: high more times than not\n",
    "```\n",
    "\n",
    ".  \n",
    "\n",
    "[dolphin](https://www.youtube.com/watch?v=Y7JcY6YzUxE)  \n",
    "\n",
    ".  \n",
    "\n",
    "Arsenal  \n",
    "\n",
    "2023  \n",
    "\n",
    "Arsenal came back  \n",
    "From 0-2 without striker  \n",
    "Jesus & Nketiah injured  \n",
    "Trossard off with early injury  \n",
    "\n",
    ".  \n",
    "\n",
    "Bet 365  \n",
    "\n",
    "2023    \n",
    "\n",
    "Arsenal -110  \n",
    "Man City +110  \n",
    "\n",
    "https://www.nj.bet365.com/#/AC/B1/C172/D1/E74884037/F2/  \n",
    "\n",
    ". \n",
    "\n",
    "Warren Campbell  \n",
    "\n",
    "2023  \n",
    "\n",
    "https://www.youtube.com/watch?v=jA19Epq3KMo  \n",
    "\n",
    ".  \n",
    "\n",
    "\n",
    "Trevor Noah  \n",
    " \n",
    "2023  \n",
    "\n",
    "Mimesis  \n",
    "\n",
    "https://www.youtube.com/watch?v=jvzmPsqag9w  \n",
    "\n",
    ".  \n",
    "\n",
    "And why does everyone over the age of 40 still feel the need to talk about pronouns? Haven’t enough TV shows, movies, stand-up comics, dads, uncles, and grandads made every “joke” there is, including Rock’s? (“Yeah, I’m rich, but I identify as poor,” Rock said. “My pronoun is Broke.”)   \n",
    "\n",
    ".  \n",
    "\n",
    "Chris Rock  \n",
    "\n",
    "2023  \n",
    "\n",
    "None of us has ever been interviewed by the person that cheated on us, on television…  She hurt him way more than he hurt me  \n",
    "\n",
    "And after this interview Rock implies that, “everybody in the world called him a bitch. I tried to call the motherfucker, I tried to call that man and give him my condolences, he didn’t pick up for me.” The comedian then went on to list off all the people in Hollywood who called Smith a “bitch” after the aforementioned interview including “The View,” “The Breakfast Club,” “Drink Champs” and so on. “Everybody called him a bitch and who did he hit? Me.”  \n",
    "\n",
    "He then switched tone, “I love Will Smith, my whole life… he makes great movies. I rooted for Will Smith my whole life,” Rock said. “And now I watch ‘Emancipation’ just so I could watch him get whooped.”  \n",
    "\n",
    "https://www.indiewire.com/2023/03/chris-rock-selective-outrage-review-netflix-special-1234815941/amp/  \n",
    "\n",
    ".  \n",
    "\n",
    "TV  \n",
    "\n",
    "Amazon: Rocky  \n",
    "Netflix: Bardo  \n",
    "HBO: New Jack City   \n",
    "\n",
    ".  \n",
    "\n",
    "Sankey   \n",
    "\n",
    "https://towardsdatascience.com/sankey-diagram-basics-with-pythons-plotly-7a13d557401a  \n",
    "\n",
    ".  \n",
    "\n",
    "```\n",
    "MiT\n",
    "\n",
    "2023\n",
    "\n",
    "#chatgpt \n",
    "#openai \n",
    "\n",
    "https://www.technologyreview.com/2023/03/03/1069311/inside-story-oral-history-how-chatgpt-built-openai/\n",
    "\n",
    "https://codespaces-jupyter/R_path.txt\n",
    "```\n",
    "\n",
    ".  \n",
    "\n",
    "\n",
    "GPT-3 has 175 billion parameters (the values in a network that get adjusted during training)  \n",
    "\n",
    ".  \n",
    "\n",
    "Cabrón/a - Asshole  \n",
    "\n",
    ".  \n",
    "\n",
    "Twins   \n",
    "\n",
    "Kato   \n",
    "Nkuru   \n",
    "\n",
    ". \n",
    "\n",
    "```\n",
    "#chrisrock\n",
    "#selectiveoutrage\n",
    "#jadapinket\n",
    "#willsmith\n",
    "\n",
    "\n",
    "\"Everybody in the world called him a b----,\" Rock said. \"I tried to call the motherf----- and give him my condolences; he ain’t pick up for me. Everybody called that man a b----, f------ Charlamagne [tha God] called him a b----, ‘The Breakfast Club’ called him a b----- and ‘The View’ and ‘The Talk,’ and every rapper, they called him a b----, his wife a predator, everybody called him a b----. Everybody! Everybody! And who does he hit? Me!\"\n",
    "\n",
    "Rock also accused Pinkett of pressuring him to not host the Oscars in 2016 because Smith wasn’t nominated. \n",
    "\"So did I do some jokes about it, who gives a f---?\" he said. \"That's how it is. She starts it, I finish it. That's what the f--- happened. Nobody's picking on this b----. She started this s---.\"\n",
    "\n",
    "https://en.wikipedia.org/wiki/Three_wise_monkeys#/media/File:The_Three_Wise_Monkeys,_Nikk&omacr;_T&omacr;sh&omacr;-g&umacr;;_April_2018.jpg\n",
    "```\n",
    "\n",
    ".  \n",
    "\n",
    "It may indeed be safely predicted that once the English people have recovered from the first shock of Nietzsche's thoughts, their biblical training will enable them, more than any other nation, to appreciate the deep piety underlying Nietzsche's Cause  \n",
    "\n",
    "DEAR ENGLISHMEN,—In one of my former writings I have made the remark that the world would have seen neither the great Jewish prophets nor the great German thinkers, if the people from among whom these eminent men sprang had not been on the whole such a misguided, and, in their misguidedness, such a tough and stubborn race. The arrow that is to fly far must be discharged from a well distended bow: if, therefore, anything is necessary for greatness, it is a fierce and tenacious opposition, an opposition either of open contempt, or of malicious irony, or of sly silence, or of gross stupidity, an opposition regardless of the wounds it inflicts and of the precious lives it sacrifices, an opposition that nobody would dare to attack who was not prepared, like the Spartan of old, to return either with his shield or on it.  \n",
    "\n",
    "an aristocrat—a man who, just like the anarchist, but with a perfectly holy right, wishes to obey no laws but those of his own conscience; a man who thinks too highly of his own faith and persuasion, to convert other people to it  \n",
    "\n",
    "https://www.youtube.com/watch?v=PkKj5jlNpwk  \n",
    "\n",
    ".  \n",
    "\n",
    "Greatness  \n",
    "\n",
    "Amores Perros  \n",
    "21 Grams  \n",
    "Babel  \n",
    "Biutiful  \n",
    "Birdman  \n",
    "Revenant  \n",
    "\n",
    ".  \n",
    "\n",
    "Sex   \n",
    "\n",
    "2023  \n",
    "\n",
    "Have you ever been offered sex on a menu?  \n",
    "Dry or wet?  \n",
    "I was baffled!  \n",
    "\n",
    ".  \n",
    "\n",
    "The best comedy punches up at people in power, not down at unprotected people — these comics have been in the game long enough to know this  \n",
    "\n",
    ".  \n",
    "\n",
    "And so it hurts him, like the thought of a lost Paradise, to see a herd grazing, or, nearer still, a child, that has nothing yet of the past to disown, and plays in a happy blindness between the walls of the past and the future  \n",
    "\n",
    ".  \n",
    "\n",
    "his life is the fairest who thinks least about life  \n",
    "\n",
    ".  \n",
    "  \n",
    "HI2015 score  \n",
    "\n",
    "2023   \n",
    "\n",
    "1. Nutrition\n",
    "2. Each \n",
    "3. Liz Sullivan\n",
    "4. Casey Rebholz  \n",
    "\n",
    ".  \n",
    "\n",
    "Graffiti   \n",
    "  \n",
    "2023  \n",
    "\n",
    "Vigilantes?  \n",
    "Bando?  \n",
    "Ha!  \n",
    "\n",
    ".  \n",
    "\n",
    "Swimming   \n",
    "\n",
    "2023  \n",
    "\n",
    "1. Streamline Position\n",
    "2. Dolphin Kick Up/Down\n",
    "3. Ankle Flexibility \n",
    "4. Undulate: Kick + Arm Counterbalance \n",
    "5. Velocity > 1 m/s\n",
    "\n",
    "\n",
    ".  \n",
    "\n",
    "Olobbo   \n",
    "\n",
    "2023  \n",
    "\n",
    "12pm - 10pm   \n",
    "Carving Room NoMA   \n",
    "The Pub & the people   \n",
    "The consulate   \n",
    "\n",
    "Catchup with Olobo   \n",
    "12pm Saturday 03/18/23  \n",
    "Carving Room NoMA   \n",
    "140 M St NE Washington, DC 20002  \n",
    "\n",
    ".  \n",
    "\n",
    "Umu   \n",
    "\n",
    "2023  \n",
    "\n",
    "So yes I am a lawyer by profession. Feminist, art(african) lover, curious brained, into business(I have co owned a betting company at some point this my long 39 years) and Ido plenty community building work.  \n",
    "\n",
    "Tell me, what are your dating politics?  \n",
    "\n",
    ".  \n",
    "\n",
    "340.700  \n",
    "\n",
    "2023  \n",
    "\n",
    "Online   \n",
    "Github  \n",
    "Raw  \n",
    ".Do, .Ado, .DTA, .R, .csv   \n",
    "Tasks   \n",
    "\n",
    ".  \n",
    "\n",
    "First time \n",
    "\n",
    "2023\n",
    "\n",
    "To ever dream in language other than English   \n",
    "And it was some object-oriented language  \n",
    "Not too sure which but I suspect python   \n",
    "\n",
    "Objects over time \n",
    "1. Names\n",
    "2. Person\n",
    "3. Place \n",
    "\n",
    "Procedures (tasks) on blocks \n",
    "1. If (over a scope)\n",
    "2. While\n",
    "3. For \n",
    "\n",
    "Scope \n",
    "1. Lexical \n",
    "2. Dynamic (Run time)\n",
    "\n",
    ".  \n",
    "\n",
    "Python  \n",
    "\n",
    "In 2019, Python became the second most popular language on GitHub, the largest source code management website on the internet, second only to JavaScript  \n",
    "\n",
    ".  \n",
    "\n",
    "It’s the attitude of the eagle   \n",
    "— inspirational fella who appears to channel Nietzsche   \n",
    "\n",
    ".  \n",
    "\n",
    "Improving allocation efficiency of hard-to-place deceased donor kidneys: Predicting probability of discard or delay  \n",
    "\n",
    "2010  \n",
    "\n",
    ".  \n",
    "\n",
    "```\n",
    "<<dd_version: 2>>\n",
    "<<dd_include: myfile.txt>>\n",
    "\n",
    "echo This is some text > myfile.txt\n",
    "\n",
    "https://www.stata.com/stata-news/news36-1/spotlight-markdown/\n",
    "```\n",
    "\n",
    ".  \n",
    "\n",
    "Stata  \n",
    "\n",
    "Ides of March  \n",
    "\n",
    "1. User control of output\n",
    "2. Courseplus quizzes built on that (.log file)\n",
    "3. But also hand in script (.do file)\n",
    "4. Post file all .log output \n",
    "5. Jupyter book instead of .ppt \n",
    "6. Reverse catalogue (drop vs keep)\n",
    "\n",
    ".  \n",
    "\n",
    "\n",
    "Winans   \n",
    "\n",
    "His Gift — album   \n",
    "\n",
    ".  \n",
    "\n",
    "Cedric Caldwell  \n",
    "\n",
    "2023  \n",
    "\n",
    "Gives his sister-in-law the most compelling sound   \n",
    "\n",
    "Worship is probably my favorite kind of music  \n",
    "— Cece Winans   \n",
    "\n",
    ".  \n",
    "\n",
    "My Bitch better have my money  \n",
    "— The Pimp in I’m gonna get you sucka   \n",
    "\n",
    ".  \n",
    "\n",
    "And that’s why I make the big bucks!   \n",
    "\n",
    ".  \n",
    "\n",
    "Passion  \n",
    "\n",
    "2023  \n",
    "\n",
    "Commit a [forgery](https://www.gutenberg.org/files/773/773-h/773-h.htm#page145) to prove something you believe is true  \n",
    "\n",
    ".  \n",
    "\n",
    "Trump  \n",
    "\n",
    "2023  \n",
    "\n",
    "When you’ve gotta agree with him 100%  \n",
    "\n",
    "https://www.youtube.com/watch?v=W5Pm_HcXcbI  \n",
    "\n",
    ".  \n",
    "\n",
    "Followers  \n",
    "\n",
    "2023  \n",
    "\n",
    "1. Football: Top two most followed are footballers\n",
    "2. Brands: Instagram, Nike, Nat Geo, RMA, Barcelona, UEFA CL, NASA, NBA\n",
    "3. Industries: Sports, Music, Socialite, Wrestler, Comedy, Actress, Gov Agency\n",
    "\n",
    ".  \n",
    "\n",
    "Tequila   \n",
    "\n",
    "2023  \n",
    "\n",
    "1. Blanco \n",
    "2. Añejo \n",
    "3. Reposado\n",
    "\n",
    ".  \n",
    "\n",
    "\n",
    "\n",
    "\n",
    "It's no secret that the late Queen Elizabeth II was an admirer of Arsenal FC. In fact, the Gunners were the only Premier League team that was invited to Buckingham Palace during her reign.  \n",
    "\n",
    ".  \n",
    "\n",
    "streamlit run /workspaces/codespaces-jupyter/app1.py   \n",
    "\n",
    "streamlit run app2.py --server.enableCORS=false  \n",
    "\n",
    "https://raw.githubusercontent.com/smart-stats/ds4bio_book/main/book/assetts/kirby21.csv   \n",
    "https://raw.githubusercontent.com/smart-stats/ds4bio_book/main/book/assetts/kirby21AllLevels.csv  \n",
    "\n",
    "https://muzaale-vigilant-fortnight-qrgxxqqwv4xcx5wp-8050.preview.app.github.dev  \n",
    "\n",
    ".  \n",
    "\n",
    "HW5  \n",
    "\n",
    "1. Create a python file that webscrapes GDP by country and plots a stacked interactive bar plot using plotly. Stack countries within regions using the IMF numbers.\n",
    "2. Display the plot in a streamlit app that displays a stacked bar plot of country GDPs stacked within regions. Allow the user to select between the IMF, UN and World Bank reported numbers.\n",
    "3. Create a short (5-10 second) gif demonstrating your app functioning. Note I use the Chrome Capture extension for this. Add your gif to your repository.\n",
    "\n",
    "In your git repo for the assignment have the python file that scrapes the data, the streamlit python file and your gif.\n",
    "\n"
   ]
  },
  {
   "cell_type": "code",
   "execution_count": 1,
   "metadata": {},
   "outputs": [
    {
     "data": {
      "application/vnd.plotly.v1+json": {
       "config": {
        "plotlyServerURL": "https://plot.ly"
       },
       "data": [
        {
         "alignmentgroup": "True",
         "customdata": [
          [
           105568776
          ],
          [
           26854599
          ],
          [
           19373586
          ],
          [
           4409738
          ],
          [
           4308854
          ],
          [
           3736882
          ],
          [
           3158938
          ],
          [
           2923489
          ],
          [
           2169745
          ],
          [
           2089672
          ],
          [
           2081235
          ],
          [
           2062649
          ],
          [
           1721909
          ],
          [
           1707548
          ],
          [
           1663164
          ],
          [
           1492432
          ],
          [
           1391778
          ],
          [
           1080880
          ],
          [
           1061902
          ],
          [
           1029303
          ],
          [
           869601
          ],
          [
           790728
          ],
          [
           748887
          ],
          [
           641102
          ],
          [
           624248
          ],
          [
           599052
          ],
          [
           594095
          ],
          [
           574231
          ],
          [
           554105
          ],
          [
           539223
          ],
          [
           515548
          ],
          [
           515199
          ],
          [
           506601
          ],
          [
           498978
          ],
          [
           449094
          ],
          [
           447026
          ],
          [
           440901
          ],
          [
           420516
          ],
          [
           405626
          ],
          [
           399015
          ],
          [
           382854
          ],
          [
           378110
          ],
          [
           367970
          ],
          [
           358557
          ],
          [
           348902
          ],
          [
           334689
          ],
          [
           330483
          ],
          [
           301670
          ],
          [
           268235
          ],
          [
           267893
          ],
          [
           267721
          ],
          [
           251969
          ],
          [
           245695
          ],
          [
           239300
          ],
          [
           219570
          ],
          [
           206007
          ],
          [
           188505
          ],
          [
           164713
          ],
          [
           156083
          ],
          [
           148712
          ],
          [
           138781
          ],
          [
           127533
          ],
          [
           121291
          ],
          [
           121289
          ],
          [
           120838
          ],
          [
           118130
          ],
          [
           117877
          ],
          [
           104902
          ],
          [
           102309
          ],
          [
           100635
          ],
          [
           96628
          ],
          [
           92332
          ],
          [
           86971
          ],
          [
           85421
          ],
          [
           82649
          ],
          [
           78881
          ],
          [
           78346
          ],
          [
           77777
          ],
          [
           77313
          ],
          [
           77257
          ],
          [
           77047
          ],
          [
           73961
          ],
          [
           73543
          ],
          [
           70030
          ],
          [
           69474
          ],
          [
           68108
          ],
          [
           66622
          ],
          [
           63988
          ],
          [
           52061
          ],
          [
           49815
          ],
          [
           49792
          ],
          [
           48625
          ],
          [
           47398
          ],
          [
           46705
          ],
          [
           46297
          ],
          [
           46097
          ],
          [
           44870
          ],
          [
           42820
          ],
          [
           42097
          ],
          [
           41551
          ],
          [
           35841
          ],
          [
           33752
          ],
          [
           32860
          ],
          [
           31362
          ],
          [
           31221
          ],
          [
           30864
          ],
          [
           30628
          ],
          [
           29931
          ],
          [
           29272
          ],
          [
           28625
          ],
          [
           28488
          ],
          [
           28223
          ],
          [
           27947
          ],
          [
           26580
          ],
          [
           23725
          ],
          [
           23330
          ],
          [
           21076
          ],
          [
           20776
          ],
          [
           20330
          ],
          [
           20177
          ],
          [
           19909
          ],
          [
           19206
          ],
          [
           19572
          ],
          [
           19529
          ],
          [
           19405
          ],
          [
           19236
          ],
          [
           17287
          ],
          [
           17254
          ],
          [
           16908
          ],
          [
           16617
          ],
          [
           16309
          ],
          [
           15988
          ],
          [
           15969
          ],
          [
           15829
          ],
          [
           15278
          ],
          [
           15099
          ],
          [
           14570
          ],
          [
           14114
          ],
          [
           14091
          ],
          [
           13486
          ],
          [
           13149
          ],
          [
           13031
          ],
          [
           12796
          ],
          [
           12309
          ],
          [
           11962
          ],
          [
           11277
          ],
          [
           10966
          ],
          [
           9990
          ],
          [
           9001
          ],
          [
           8738
          ],
          [
           7027
          ],
          [
           7012
          ],
          [
           7004
          ],
          [
           6117
          ],
          [
           5385
          ],
          [
           4824
          ],
          [
           4375
          ],
          [
           3916
          ],
          [
           3669
          ],
          [
           3633
          ],
          [
           3520
          ],
          [
           3470
          ],
          [
           3234
          ],
          [
           3162
          ],
          [
           2736
          ],
          [
           2683
          ],
          [
           2666
          ],
          [
           2584
          ],
          [
           2468
          ],
          [
           2277
          ],
          [
           2262
          ],
          [
           1988
          ],
          [
           1950
          ],
          [
           1887
          ],
          [
           1864
          ],
          [
           1807
          ],
          [
           1701
          ],
          [
           1348
          ],
          [
           1274
          ],
          [
           1064
          ],
          [
           1052
          ],
          [
           1039
          ],
          [
           898
          ],
          [
           681
          ],
          [
           625
          ],
          [
           541
          ],
          [
           456
          ],
          [
           291
          ],
          [
           262
          ],
          [
           248
          ],
          [
           151
          ],
          [
           65
          ]
         ],
         "hovertemplate": "x=%{x}<br>y=%{y}<br>hover_data_0=%{customdata[0]}<extra></extra>",
         "legendgroup": "",
         "marker": {
          "color": "rgb(251,180,174)",
          "pattern": {
           "shape": ""
          }
         },
         "name": "",
         "offsetgroup": "",
         "orientation": "v",
         "showlegend": false,
         "textposition": "auto",
         "type": "bar",
         "x": [
          "—",
          "Americas",
          "Asia",
          "Asia",
          "Europe",
          "Asia",
          "Europe",
          "Europe",
          "Europe",
          "Americas",
          "Americas",
          "Europe",
          "Asia",
          "Oceania",
          "Americas",
          "Europe",
          "Asia",
          "Europe",
          "Asia",
          "Asia",
          "Europe",
          "Asia",
          "Europe",
          "Americas",
          "Europe",
          "Europe",
          "Europe",
          "Asia",
          "Europe",
          "Asia",
          "Asia",
          "Europe",
          "Africa",
          "Asia",
          "Asia",
          "Asia",
          "Asia",
          "Asia",
          "Europe",
          "Africa",
          "Asia",
          "Africa",
          "Asia",
          "Americas",
          "Europe",
          "Americas",
          "Europe",
          "Europe",
          "Americas",
          "Asia",
          "Europe",
          "Oceania",
          "Asia",
          "Europe",
          "Asia",
          "Africa",
          "Europe",
          "Asia",
          "Africa",
          "Europe",
          "Africa",
          "Europe",
          "Americas",
          "Americas",
          "Americas",
          "Africa",
          "Africa",
          "Asia",
          "Americas",
          "Europe",
          "Americas",
          "Asia",
          "Europe",
          "Africa",
          "Asia",
          "Europe",
          "Europe",
          "Americas",
          "Americas",
          "Americas",
          "Africa",
          "Europe",
          "Europe",
          "Asia",
          "Africa",
          "Europe",
          "Africa",
          "Asia",
          "Asia",
          "Africa",
          "Africa",
          "Africa",
          "Europe",
          "Africa",
          "Africa",
          "Americas",
          "Asia",
          "Americas",
          "Asia",
          "Europe",
          "Asia",
          "Americas",
          "Americas",
          "Oceania",
          "Africa",
          "Asia",
          "Asia",
          "Africa",
          "Africa",
          "Europe",
          "Europe",
          "Americas",
          "Europe",
          "Americas",
          "Asia",
          "Africa",
          "Africa",
          "Africa",
          "Africa",
          "Europe",
          "Africa",
          "Asia",
          "Africa",
          "Asia",
          "Europe",
          "Africa",
          "Americas",
          "Americas",
          "Asia",
          "Africa",
          "Americas",
          "Asia",
          "Africa",
          "Europe",
          "Europe",
          "Africa",
          "Africa",
          "Americas",
          "Asia",
          "Africa",
          "Africa",
          "Africa",
          "Asia",
          "Asia",
          "Africa",
          "Africa",
          "Africa",
          "Europe",
          "Africa",
          "Africa",
          "Europe",
          "Africa",
          "Asia",
          "Americas",
          "Oceania",
          "Africa",
          "Africa",
          "Africa",
          "Europe",
          "Americas",
          "Africa",
          "Americas",
          "Africa",
          "Americas",
          "Africa",
          "Asia",
          "Africa",
          "Africa",
          "Africa",
          "Africa",
          "Americas",
          "Asia",
          "Africa",
          "Africa",
          "Americas",
          "Europe",
          "Oceania",
          "Africa",
          "Americas",
          "Oceania",
          "Americas",
          "Americas",
          "Oceania",
          "Americas",
          "Africa",
          "Oceania",
          "Oceania",
          "Oceania",
          "Oceania",
          "Oceania",
          "Oceania",
          "Oceania"
         ],
         "xaxis": "x",
         "y": [
          105568776,
          26854599,
          19373586,
          4409738,
          4308854,
          3736882,
          3158938,
          2923489,
          2169745,
          2089672,
          2081235,
          2062649,
          1721909,
          1707548,
          1663164,
          1492432,
          1391778,
          1080880,
          1061902,
          1029303,
          869601,
          790728,
          748887,
          641102,
          624248,
          599052,
          594095,
          574231,
          554105,
          539223,
          515548,
          515199,
          506601,
          498978,
          449094,
          447026,
          440901,
          420516,
          405626,
          399015,
          382854,
          378110,
          367970,
          358557,
          348902,
          334689,
          330483,
          301670,
          268235,
          267893,
          267721,
          251969,
          245695,
          239300,
          219570,
          206007,
          188505,
          164713,
          156083,
          148712,
          138781,
          127533,
          121291,
          121289,
          120838,
          118130,
          117877,
          104902,
          102309,
          100635,
          96628,
          92332,
          86971,
          85421,
          82649,
          78881,
          78346,
          77777,
          77313,
          77257,
          77047,
          73961,
          73543,
          70030,
          69474,
          68108,
          66622,
          63988,
          52061,
          49815,
          49792,
          48625,
          47398,
          46705,
          46297,
          46097,
          44870,
          42820,
          42097,
          41551,
          35841,
          33752,
          32860,
          31362,
          31221,
          30864,
          30628,
          29931,
          29272,
          28625,
          28488,
          28223,
          27947,
          26580,
          23725,
          23330,
          21076,
          20776,
          20330,
          20177,
          19909,
          19206,
          19572,
          19529,
          19405,
          19236,
          17287,
          17254,
          16908,
          16617,
          16309,
          15988,
          15969,
          15829,
          15278,
          15099,
          14570,
          14114,
          14091,
          13486,
          13149,
          13031,
          12796,
          12309,
          11962,
          11277,
          10966,
          9990,
          9001,
          8738,
          7027,
          7012,
          7004,
          6117,
          5385,
          4824,
          4375,
          3916,
          3669,
          3633,
          3520,
          3470,
          3234,
          3162,
          2736,
          2683,
          2666,
          2584,
          2468,
          2277,
          2262,
          1988,
          1950,
          1887,
          1864,
          1807,
          1701,
          1348,
          1274,
          1064,
          1052,
          1039,
          898,
          681,
          625,
          541,
          456,
          291,
          262,
          248,
          151,
          65
         ],
         "yaxis": "y"
        }
       ],
       "layout": {
        "barmode": "relative",
        "legend": {
         "tracegroupgap": 0
        },
        "margin": {
         "t": 60
        },
        "template": {
         "data": {
          "bar": [
           {
            "error_x": {
             "color": "#2a3f5f"
            },
            "error_y": {
             "color": "#2a3f5f"
            },
            "marker": {
             "line": {
              "color": "#E5ECF6",
              "width": 0.5
             },
             "pattern": {
              "fillmode": "overlay",
              "size": 10,
              "solidity": 0.2
             }
            },
            "type": "bar"
           }
          ],
          "barpolar": [
           {
            "marker": {
             "line": {
              "color": "#E5ECF6",
              "width": 0.5
             },
             "pattern": {
              "fillmode": "overlay",
              "size": 10,
              "solidity": 0.2
             }
            },
            "type": "barpolar"
           }
          ],
          "carpet": [
           {
            "aaxis": {
             "endlinecolor": "#2a3f5f",
             "gridcolor": "white",
             "linecolor": "white",
             "minorgridcolor": "white",
             "startlinecolor": "#2a3f5f"
            },
            "baxis": {
             "endlinecolor": "#2a3f5f",
             "gridcolor": "white",
             "linecolor": "white",
             "minorgridcolor": "white",
             "startlinecolor": "#2a3f5f"
            },
            "type": "carpet"
           }
          ],
          "choropleth": [
           {
            "colorbar": {
             "outlinewidth": 0,
             "ticks": ""
            },
            "type": "choropleth"
           }
          ],
          "contour": [
           {
            "colorbar": {
             "outlinewidth": 0,
             "ticks": ""
            },
            "colorscale": [
             [
              0,
              "#0d0887"
             ],
             [
              0.1111111111111111,
              "#46039f"
             ],
             [
              0.2222222222222222,
              "#7201a8"
             ],
             [
              0.3333333333333333,
              "#9c179e"
             ],
             [
              0.4444444444444444,
              "#bd3786"
             ],
             [
              0.5555555555555556,
              "#d8576b"
             ],
             [
              0.6666666666666666,
              "#ed7953"
             ],
             [
              0.7777777777777778,
              "#fb9f3a"
             ],
             [
              0.8888888888888888,
              "#fdca26"
             ],
             [
              1,
              "#f0f921"
             ]
            ],
            "type": "contour"
           }
          ],
          "contourcarpet": [
           {
            "colorbar": {
             "outlinewidth": 0,
             "ticks": ""
            },
            "type": "contourcarpet"
           }
          ],
          "heatmap": [
           {
            "colorbar": {
             "outlinewidth": 0,
             "ticks": ""
            },
            "colorscale": [
             [
              0,
              "#0d0887"
             ],
             [
              0.1111111111111111,
              "#46039f"
             ],
             [
              0.2222222222222222,
              "#7201a8"
             ],
             [
              0.3333333333333333,
              "#9c179e"
             ],
             [
              0.4444444444444444,
              "#bd3786"
             ],
             [
              0.5555555555555556,
              "#d8576b"
             ],
             [
              0.6666666666666666,
              "#ed7953"
             ],
             [
              0.7777777777777778,
              "#fb9f3a"
             ],
             [
              0.8888888888888888,
              "#fdca26"
             ],
             [
              1,
              "#f0f921"
             ]
            ],
            "type": "heatmap"
           }
          ],
          "heatmapgl": [
           {
            "colorbar": {
             "outlinewidth": 0,
             "ticks": ""
            },
            "colorscale": [
             [
              0,
              "#0d0887"
             ],
             [
              0.1111111111111111,
              "#46039f"
             ],
             [
              0.2222222222222222,
              "#7201a8"
             ],
             [
              0.3333333333333333,
              "#9c179e"
             ],
             [
              0.4444444444444444,
              "#bd3786"
             ],
             [
              0.5555555555555556,
              "#d8576b"
             ],
             [
              0.6666666666666666,
              "#ed7953"
             ],
             [
              0.7777777777777778,
              "#fb9f3a"
             ],
             [
              0.8888888888888888,
              "#fdca26"
             ],
             [
              1,
              "#f0f921"
             ]
            ],
            "type": "heatmapgl"
           }
          ],
          "histogram": [
           {
            "marker": {
             "pattern": {
              "fillmode": "overlay",
              "size": 10,
              "solidity": 0.2
             }
            },
            "type": "histogram"
           }
          ],
          "histogram2d": [
           {
            "colorbar": {
             "outlinewidth": 0,
             "ticks": ""
            },
            "colorscale": [
             [
              0,
              "#0d0887"
             ],
             [
              0.1111111111111111,
              "#46039f"
             ],
             [
              0.2222222222222222,
              "#7201a8"
             ],
             [
              0.3333333333333333,
              "#9c179e"
             ],
             [
              0.4444444444444444,
              "#bd3786"
             ],
             [
              0.5555555555555556,
              "#d8576b"
             ],
             [
              0.6666666666666666,
              "#ed7953"
             ],
             [
              0.7777777777777778,
              "#fb9f3a"
             ],
             [
              0.8888888888888888,
              "#fdca26"
             ],
             [
              1,
              "#f0f921"
             ]
            ],
            "type": "histogram2d"
           }
          ],
          "histogram2dcontour": [
           {
            "colorbar": {
             "outlinewidth": 0,
             "ticks": ""
            },
            "colorscale": [
             [
              0,
              "#0d0887"
             ],
             [
              0.1111111111111111,
              "#46039f"
             ],
             [
              0.2222222222222222,
              "#7201a8"
             ],
             [
              0.3333333333333333,
              "#9c179e"
             ],
             [
              0.4444444444444444,
              "#bd3786"
             ],
             [
              0.5555555555555556,
              "#d8576b"
             ],
             [
              0.6666666666666666,
              "#ed7953"
             ],
             [
              0.7777777777777778,
              "#fb9f3a"
             ],
             [
              0.8888888888888888,
              "#fdca26"
             ],
             [
              1,
              "#f0f921"
             ]
            ],
            "type": "histogram2dcontour"
           }
          ],
          "mesh3d": [
           {
            "colorbar": {
             "outlinewidth": 0,
             "ticks": ""
            },
            "type": "mesh3d"
           }
          ],
          "parcoords": [
           {
            "line": {
             "colorbar": {
              "outlinewidth": 0,
              "ticks": ""
             }
            },
            "type": "parcoords"
           }
          ],
          "pie": [
           {
            "automargin": true,
            "type": "pie"
           }
          ],
          "scatter": [
           {
            "fillpattern": {
             "fillmode": "overlay",
             "size": 10,
             "solidity": 0.2
            },
            "type": "scatter"
           }
          ],
          "scatter3d": [
           {
            "line": {
             "colorbar": {
              "outlinewidth": 0,
              "ticks": ""
             }
            },
            "marker": {
             "colorbar": {
              "outlinewidth": 0,
              "ticks": ""
             }
            },
            "type": "scatter3d"
           }
          ],
          "scattercarpet": [
           {
            "marker": {
             "colorbar": {
              "outlinewidth": 0,
              "ticks": ""
             }
            },
            "type": "scattercarpet"
           }
          ],
          "scattergeo": [
           {
            "marker": {
             "colorbar": {
              "outlinewidth": 0,
              "ticks": ""
             }
            },
            "type": "scattergeo"
           }
          ],
          "scattergl": [
           {
            "marker": {
             "colorbar": {
              "outlinewidth": 0,
              "ticks": ""
             }
            },
            "type": "scattergl"
           }
          ],
          "scattermapbox": [
           {
            "marker": {
             "colorbar": {
              "outlinewidth": 0,
              "ticks": ""
             }
            },
            "type": "scattermapbox"
           }
          ],
          "scatterpolar": [
           {
            "marker": {
             "colorbar": {
              "outlinewidth": 0,
              "ticks": ""
             }
            },
            "type": "scatterpolar"
           }
          ],
          "scatterpolargl": [
           {
            "marker": {
             "colorbar": {
              "outlinewidth": 0,
              "ticks": ""
             }
            },
            "type": "scatterpolargl"
           }
          ],
          "scatterternary": [
           {
            "marker": {
             "colorbar": {
              "outlinewidth": 0,
              "ticks": ""
             }
            },
            "type": "scatterternary"
           }
          ],
          "surface": [
           {
            "colorbar": {
             "outlinewidth": 0,
             "ticks": ""
            },
            "colorscale": [
             [
              0,
              "#0d0887"
             ],
             [
              0.1111111111111111,
              "#46039f"
             ],
             [
              0.2222222222222222,
              "#7201a8"
             ],
             [
              0.3333333333333333,
              "#9c179e"
             ],
             [
              0.4444444444444444,
              "#bd3786"
             ],
             [
              0.5555555555555556,
              "#d8576b"
             ],
             [
              0.6666666666666666,
              "#ed7953"
             ],
             [
              0.7777777777777778,
              "#fb9f3a"
             ],
             [
              0.8888888888888888,
              "#fdca26"
             ],
             [
              1,
              "#f0f921"
             ]
            ],
            "type": "surface"
           }
          ],
          "table": [
           {
            "cells": {
             "fill": {
              "color": "#EBF0F8"
             },
             "line": {
              "color": "white"
             }
            },
            "header": {
             "fill": {
              "color": "#C8D4E3"
             },
             "line": {
              "color": "white"
             }
            },
            "type": "table"
           }
          ]
         },
         "layout": {
          "annotationdefaults": {
           "arrowcolor": "#2a3f5f",
           "arrowhead": 0,
           "arrowwidth": 1
          },
          "autotypenumbers": "strict",
          "coloraxis": {
           "colorbar": {
            "outlinewidth": 0,
            "ticks": ""
           }
          },
          "colorscale": {
           "diverging": [
            [
             0,
             "#8e0152"
            ],
            [
             0.1,
             "#c51b7d"
            ],
            [
             0.2,
             "#de77ae"
            ],
            [
             0.3,
             "#f1b6da"
            ],
            [
             0.4,
             "#fde0ef"
            ],
            [
             0.5,
             "#f7f7f7"
            ],
            [
             0.6,
             "#e6f5d0"
            ],
            [
             0.7,
             "#b8e186"
            ],
            [
             0.8,
             "#7fbc41"
            ],
            [
             0.9,
             "#4d9221"
            ],
            [
             1,
             "#276419"
            ]
           ],
           "sequential": [
            [
             0,
             "#0d0887"
            ],
            [
             0.1111111111111111,
             "#46039f"
            ],
            [
             0.2222222222222222,
             "#7201a8"
            ],
            [
             0.3333333333333333,
             "#9c179e"
            ],
            [
             0.4444444444444444,
             "#bd3786"
            ],
            [
             0.5555555555555556,
             "#d8576b"
            ],
            [
             0.6666666666666666,
             "#ed7953"
            ],
            [
             0.7777777777777778,
             "#fb9f3a"
            ],
            [
             0.8888888888888888,
             "#fdca26"
            ],
            [
             1,
             "#f0f921"
            ]
           ],
           "sequentialminus": [
            [
             0,
             "#0d0887"
            ],
            [
             0.1111111111111111,
             "#46039f"
            ],
            [
             0.2222222222222222,
             "#7201a8"
            ],
            [
             0.3333333333333333,
             "#9c179e"
            ],
            [
             0.4444444444444444,
             "#bd3786"
            ],
            [
             0.5555555555555556,
             "#d8576b"
            ],
            [
             0.6666666666666666,
             "#ed7953"
            ],
            [
             0.7777777777777778,
             "#fb9f3a"
            ],
            [
             0.8888888888888888,
             "#fdca26"
            ],
            [
             1,
             "#f0f921"
            ]
           ]
          },
          "colorway": [
           "#636efa",
           "#EF553B",
           "#00cc96",
           "#ab63fa",
           "#FFA15A",
           "#19d3f3",
           "#FF6692",
           "#B6E880",
           "#FF97FF",
           "#FECB52"
          ],
          "font": {
           "color": "#2a3f5f"
          },
          "geo": {
           "bgcolor": "white",
           "lakecolor": "white",
           "landcolor": "#E5ECF6",
           "showlakes": true,
           "showland": true,
           "subunitcolor": "white"
          },
          "hoverlabel": {
           "align": "left"
          },
          "hovermode": "closest",
          "mapbox": {
           "style": "light"
          },
          "paper_bgcolor": "white",
          "plot_bgcolor": "#E5ECF6",
          "polar": {
           "angularaxis": {
            "gridcolor": "white",
            "linecolor": "white",
            "ticks": ""
           },
           "bgcolor": "#E5ECF6",
           "radialaxis": {
            "gridcolor": "white",
            "linecolor": "white",
            "ticks": ""
           }
          },
          "scene": {
           "xaxis": {
            "backgroundcolor": "#E5ECF6",
            "gridcolor": "white",
            "gridwidth": 2,
            "linecolor": "white",
            "showbackground": true,
            "ticks": "",
            "zerolinecolor": "white"
           },
           "yaxis": {
            "backgroundcolor": "#E5ECF6",
            "gridcolor": "white",
            "gridwidth": 2,
            "linecolor": "white",
            "showbackground": true,
            "ticks": "",
            "zerolinecolor": "white"
           },
           "zaxis": {
            "backgroundcolor": "#E5ECF6",
            "gridcolor": "white",
            "gridwidth": 2,
            "linecolor": "white",
            "showbackground": true,
            "ticks": "",
            "zerolinecolor": "white"
           }
          },
          "shapedefaults": {
           "line": {
            "color": "#2a3f5f"
           }
          },
          "ternary": {
           "aaxis": {
            "gridcolor": "white",
            "linecolor": "white",
            "ticks": ""
           },
           "baxis": {
            "gridcolor": "white",
            "linecolor": "white",
            "ticks": ""
           },
           "bgcolor": "#E5ECF6",
           "caxis": {
            "gridcolor": "white",
            "linecolor": "white",
            "ticks": ""
           }
          },
          "title": {
           "x": 0.05
          },
          "xaxis": {
           "automargin": true,
           "gridcolor": "white",
           "linecolor": "white",
           "ticks": "",
           "title": {
            "standoff": 15
           },
           "zerolinecolor": "white",
           "zerolinewidth": 2
          },
          "yaxis": {
           "automargin": true,
           "gridcolor": "white",
           "linecolor": "white",
           "ticks": "",
           "title": {
            "standoff": 15
           },
           "zerolinecolor": "white",
           "zerolinewidth": 2
          }
         }
        },
        "xaxis": {
         "anchor": "y",
         "domain": [
          0,
          1
         ],
         "title": {
          "text": "Region"
         }
        },
        "yaxis": {
         "anchor": "x",
         "domain": [
          0,
          1
         ],
         "title": {
          "text": "GDP as per IMF (in USD)"
         }
        }
       }
      }
     },
     "metadata": {},
     "output_type": "display_data"
    }
   ],
   "source": [
    "import streamlit as st\n",
    "import requests as rq\n",
    "import bs4\n",
    "import pandas as pd\n",
    "import plotly.express as px\n",
    "import numpy as np\n",
    "from dash import Dash, dcc, html, Input, Output\n",
    "\n",
    "#st.title(\"GDP by Region\")\n",
    "\n",
    "url = 'https://en.wikipedia.org/wiki/List_of_countries_by_GDP_(nominal)'\n",
    "page = rq.get(url)\n",
    "page.text[0 : 99]\n",
    "\n",
    "bs4page = bs4.BeautifulSoup(page.text, 'html.parser')\n",
    "\n",
    "tables = bs4page.find('table',{'class':\"wikitable\"})\n",
    "\n",
    "gdp = pd.read_html(str(tables))\n",
    "gdp = pd.read_html(str(tables))[0]\n",
    "\n",
    "## There's an empty row\n",
    "\n",
    "gdp = gdp.rename(columns={\"UN Region\": \"Region\", \"IMF[1][13]\": \"IMF\", \"World Bank[14]\": \"World Bank\", \"Country/Territory\": \"Country\"})\n",
    "gdp.IMF = gdp.IMF[gdp.IMF != \"101560901\"]\n",
    "\n",
    "\n",
    "gdp.IMF = gdp.IMF[gdp.IMF != \"101560901\"]\n",
    "gdp = gdp.drop(gdp.columns[3], axis=1)\n",
    "gdp.IMF = gdp.IMF.apply(pd.to_numeric,errors='coerce')\n",
    "gdp = gdp.dropna()\n",
    "\n",
    "# gdp.dtypes\n",
    "#gdp_imf = pd.to_numeric(gdp_imf, errors='coerce')\n",
    "#gdp = gdp.dropna()\n",
    "\n",
    "gdp = gdp.to_numpy()\n",
    "\n",
    "regions = gdp[:, 1]\n",
    "gdp_imf = gdp[:, 2]\n",
    "countries = gdp[:,0]\n",
    "\n",
    "colors = px.colors.qualitative.Pastel1 # set the color scheme\n",
    "\n",
    "fig = px.bar(x=regions, y=gdp_imf, color_discrete_sequence=colors, hover_data=[gdp_imf])\n",
    "fig.update_layout(template='plotly')\n",
    "fig.update_xaxes(title_text=\"Region\")\n",
    "fig.update_yaxes(title_text=\"GDP as per IMF (in USD)\")"
   ]
  },
  {
   "cell_type": "markdown",
   "metadata": {},
   "source": [
    "Application rejected  \n",
    "\n",
    "1. Outside the 30 day start window\n",
    "2. More than 1250 over cap \n",
    "3. Etc.\n",
    "\n",
    ".  \n",
    "\n",
    "Rowan Atkinson \n",
    "\n",
    "2023  \n",
    "\n",
    "https://www.youtube.com/watch?v=XbY8MH1TpEw   \n",
    "\n",
    ".  \n",
    "\n",
    "K08   \n",
    "\n",
    "IO # 90087695   \n",
    "\n",
    ".  \n",
    "\n",
    "https://www.youtube.com/watch?v=y86kwKByJJE  \n",
    "\n",
    ".  \n",
    "\n",
    "Baby girl,  \n",
    "\n",
    "Little fireworks that light up for me  \n",
    "In my fingertips I burn my worries  \n",
    "Do it somethin' like that A-track shorty  \n",
    "Keep it in rotation, it's a celebration every time we smoke, smoke  \n",
    "Do it somethin' like that A-track shorty    \n",
    "Keep it in rotation, it's a celebration every time we—  \n",
    "\n",
    "You don't even gotta ask, you know I got some  \n",
    "Pre-rolls in the bag, who should I shotgun?    \n",
    "To the left or the right, 'long as it rotate  \n",
    "It's a bisexual blunt, it can go both ways, yeah  \n",
    "\n",
    "Victoria Monét - Smoke (Official Video) ft. Lucky Daye  \n",
    "https://www.youtube.com/watch?v=cD0dy_1FsT0  \n",
    "\n",
    "Baby D  \n",
    "\n",
    ".  \n",
    "\n",
    "RDC  \n",
    "\n",
    "2023  \n",
    "\n",
    "Send invoice to Morgan  \n",
    "\n",
    ".  \n",
    "\n",
    "https://jupyterbook.org/en/stable/intro.html  \n",
    "\n",
    "Jupyter book  \n",
    "\n",
    ".  \n",
    "\n",
    "JHUSTATA  \n",
    "\n",
    "2023  \n",
    "\n",
    "https://jhustata.github.io/book/intro.html  \n",
    "\n",
    ".  \n",
    "\n",
    "Its going to be an active document  \n",
    "Will be updating it over the next 8 weeks  \n",
    "For instance, that last four lectures are blank!  \n",
    "\n",
    "\n",
    "https://jhustata.github.io  \n",
    "\n",
    ".  \n",
    "\n",
    "input/output  \n",
    "\n",
    "io Mean? . io is a country-code top-level domain name (ccTLD) for the Chagos Archipelago, assigned to the British Indian Ocean Territory (BIOT). However, it has become a generic domain and is popular in the tech world since IO or I/O means input/output in computer science  \n",
    "\n",
    ".  \n",
    "\n",
    "\n",
    "https://pages.github.com  \n",
    "\n",
    ".  \n",
    "\n",
    "1. No powerpoint or bullet points\n",
    "2. Instead lets create   .GIFs\n",
    "3. Embed them in the Jupyter Book\n",
    "4. Have TAs volunteer\n",
    "5. Any content creators among them? \n",
    " \n",
    "\n",
    ".  \n",
    "\n",
    "Change from:   \n",
    "\n",
    "```{code-cell}```   \n",
    "\n",
    "To: \n",
    "\n",
    "```stata```  \n",
    "\n",
    ".  \n",
    "\n",
    "```\n",
    "No clue \n",
    "\n",
    "2023\n",
    "\n",
    "¯\\_(ツ)_/¯\n",
    "```\n",
    "\n",
    ".  \n",
    "\n",
    "```unix\n",
    "Code\n",
    "\n",
    "jupyter-book build jhustata/    \n",
    "\n",
    "cp -r jhustata/* book/   \n",
    "cd book\n",
    "\n",
    "git add ./*       \n",
    "git commit -m \"even more, more..\"\n",
    "git push   \n",
    "\n",
    "ghp-import -n -p -f _build/html  \n",
    "```\n",
    "\n",
    ".  \n",
    "\n",
    "Advanced class  \n",
    "\n",
    "1. Create a Jupyter book \n",
    "2. Select adjacent task \n",
    "3. Then share with class\n",
    "4. Use Gitub for all this \n",
    "\n",
    ".  \n",
    "\n",
    "{seealso}  \n",
    "\n",
    "Up to 1.5 bonus points   \n",
    "\n",
    ".  \n",
    "\n",
    "```stata\n",
    "#delimit ;\n",
    "twoway \n",
    "    scatter  \n",
    "\t     final degree , \n",
    "\t         col(blue) \n",
    "\t\t\t mcolor(%20) \n",
    "\t\t\t jitter(3) || \n",
    "\trcap \n",
    "\t     y1lb y1ub degree, \n",
    "\t\t     col(blue) ||   \n",
    "\tdot  \n",
    "\t     y1m degree, \n",
    "\t\t col(blue) \n",
    "\t\t msize(2)  \n",
    "\t\t\tlegend(off ) \n",
    "\t\t\txlab(1 \"MHS\" \n",
    "\t\t\t     2 \"MSPH\" \n",
    "\t\t\t\t 3 \"MPH\" \n",
    "\t\t\t\t 4 \"PhD\" \n",
    "\t\t\t\t 5 \"SCM\") \n",
    "\t\tyline(90, lcol(red) lp(dash)) \n",
    "\t\txti(\" \") ;\n",
    "#delimit cr\n",
    "```\n",
    "\n",
    ".  \n",
    "\n",
    "Sincere, accurate, greatest?  \n",
    "\n",
    "https://www.youtube.com/watch?v=5CukbxgucLc  \n",
    "\n",
    ".  \n",
    "\n",
    "Heaving   \n",
    "\n",
    "2023  \n",
    "\n",
    "Breakthrough in underwater dolphin.  \n",
    "\n",
    ".  \n",
    "\n",
    "Test stata limits \n",
    "By pushing the shape m x n   \n",
    "Use NBER for this!!!  \n",
    "\n",
    ".  \n",
    "\n",
    "https://www.youtube.com/watch?v=QZYpYUnj_-g  \n",
    "\n",
    ".  \n",
    "\n",
    "```\n",
    "Joke\n",
    "\n",
    "2023\n",
    "\n",
    "Its time to atone/\n",
    "And get in the zone/\n",
    "\n",
    "My dick got caught in the zipper/\n",
    "And its Yon kippur/\n",
    "\n",
    "— Ben Stiller\n",
    "```\n",
    "\n",
    ".  \n",
    "\n",
    "Prince of Denmark March (Hamlet???)  \n",
    "\n",
    "Handel   \n",
    "\n",
    ".  \n",
    "\n",
    "Worthy Adversaries  \n",
    "\n",
    "2023  \n",
    "\n",
    "'I feel Arsene is a very worthy inductee as he transformed Arsenal Football Club fantastically. They became a tough team to compete with and we both wanted to win, which motivated us further.   \n",
    "\n",
    "'Through the years since retirement, we'd go for dinner together in a little restaurant he knows well in Switzerland. He is a really interesting man and I enjoy his company, but it is still my job to pick the wine!'  \n",
    "\n",
    ".  \n",
    "\n",
    "Model selection vs. Variable selection  \n",
    "\n",
    ".  \n",
    "\n",
    "Beethoven  \n",
    "\n",
    "2023  \n",
    "\n",
    "1. Abides: lack of an ear for melody handed him by God \n",
    "\n",
    "2. But later: also abides loss of his hearing for harmony-driven music \n",
    "\n",
    "3. Within these fetters you find his signature sound and legacy \n",
    "\n",
    ".  \n",
    "\n",
    "Create a .GIT for my entire dropbox?  \n",
    "\n",
    "I need to git gat!  \n",
    "\n",
    ".  \n",
    "\n",
    "Python  \n",
    "\n",
    "https://www.youtube.com/watch?v=e3CYWZ102Bc  \n",
    "\n",
    ".  \n",
    "\n",
    "```\n",
    "\n",
    "        \\          SORRY            /\n",
    "         \\                         /\n",
    "          \\    This page does     /\n",
    "           ]   not exist yet.    [    ,'|\n",
    "           ]                             [   /  |\n",
    "           ]___               __  _[ ,'   |\n",
    "           ]  ]\\             /[  [ |:   |\n",
    "           ]  ] \\           / [  [ |:   |\n",
    "           ]  ]  ]         [  [  [ |:   |\n",
    "           ]  ]  ]__     __[  [  [ |:   |\n",
    "           ]  ]  ] ]\\ _ /[ [  [  [ |:   |\n",
    "           ]  ]  ] ] (#) [ [  [  [ :===='\n",
    "           ]  ]  ]_].nHn.[_[  [  [\n",
    "           ]  ]  ]  HHHHH. [  [  [\n",
    "           ]  ] /   `HH(\"N  \\ [  [\n",
    "           ]__]/     HHH  \"  \\[__[\n",
    "           ]         NNN               [\n",
    "           ]         N/\"                  [\n",
    "           ]         N H                 [\n",
    "          /          N                      \\\n",
    "         /           q,                      \\\n",
    "        /                                       \\\n",
    "```\n",
    "\n",
    ".  \n"
   ]
  },
  {
   "cell_type": "markdown",
   "metadata": {},
   "source": [
    "#### 04/2023\n",
    "\n",
    "TRC Jupyter Book    \n",
    "GitHub accounts for decentralized version control   \n",
    "\n",
    ".  \n",
    "\n",
    "```\n",
    "r(mean)\n",
    "\n",
    "In the last class we learned about \n",
    "\n",
    "\n",
    "\n",
    "#queing tasks \n",
    "\n",
    "timer on 1.1\n",
    "do adult.do\n",
    "timer off 1.1\n",
    "\n",
    "timer on 1.2\n",
    "do exam.do \n",
    "timer off 1.2\n",
    "\n",
    "timer on 1.3\n",
    "do exam.do\n",
    "timer off 1.3\n",
    "\n",
    "```\n",
    "\n",
    ".  \n",
    "\n",
    "Annuŋŋamya   \n",
    "\n",
    ".  \n",
    "\n",
    "```\n",
    "Nairobi: Fiction (Sarah & I to collaborate on work of fiction: protect folks)\n",
    "\n",
    "2023\n",
    "\n",
    "All of use were gullible :\n",
    "\n",
    "Uncle Kgg = Drrk\n",
    "\n",
    "Nairobi: place things in context \n",
    "\n",
    "Make this function \n",
    "\n",
    "Kalnki — Mukungu\n",
    "Taltwla — upper class (only person they knew in Nairobi)\n",
    "Kgg — mummy \n",
    "Naigre - tete-a-tete\n",
    "\n",
    "Srh: why did l accept uncle Kgg?\n",
    "\n",
    "- Henry’s dad (not Skwgu)\n",
    "- \n",
    "Collaborate with family\n",
    "\n",
    "1. Srh will give info (long walks with o'j)\n",
    "2. \n",
    "3. \n",
    "\n",
    "Btwla, wmpa, … \n",
    "\n",
    "Swinging: they swapped chics, including Fna\n",
    "\n",
    "Gen-Z have returned to the baby boomer \n",
    "\n",
    "Btwla was m7 first minister for health\n",
    "This click\n",
    "\n",
    "X\n",
    "\n",
    "Lyda:\n",
    "\n",
    "o'j ayenda abantu ba wansi \n",
    "That’s how he met your l \n",
    "A teller\n",
    "\n",
    "Muzaale Tuma Batwala Bamowze Mutengu\n",
    "\n",
    "Muzaale send Batwala because Bamwoze is stubborn\n",
    "\n",
    "Dhadha Ikesa? Jay-Z ain’t got nothing on her\n",
    "\n",
    "x\n",
    "\n",
    "Albinism grandma’s condign \n",
    "\n",
    "x\n",
    "\n",
    "Lets tell scandals the way we do in the Bible \n",
    "\n",
    "“the Bible from genesis from revelation is all about crime”\n",
    "\n",
    "Why are we talking about sacrificing the lamb in OT\n",
    "\n",
    "And Jesus as the lamb of God?\n",
    "\n",
    "X\n",
    "\n",
    "Mythology with Gods from Bunyoro infesting Busoga\n",
    "\n",
    "\n",
    "```\n",
    "\n",
    ".  \n",
    "\n",
    "```\n",
    "#time\n",
    "\n",
    "2023\n",
    "\n",
    "Ancién regime\n",
    "Zeitgeist \n",
    "Bide one’s time \n",
    "```\n",
    "\n",
    ".  \n",
    "\n",
    "EPL  \n",
    "\n",
    "2023/04/03  \n",
    "\n",
    "Arsenal -138  \n",
    "MC +120  \n",
    "\n",
    "Nothing to write home about:  \n",
    "You’d lose $138 for every $100   \n",
    "That you bet on Arsenal winning the EPL  \n",
    "Market place expects it!  \n",
    "\n",
    ".  \n",
    "\n",
    "THIS works (but I need to hide my code)   "
   ]
  },
  {
   "cell_type": "code",
   "execution_count": 2,
   "metadata": {},
   "outputs": [
    {
     "data": {
      "application/vnd.plotly.v1+json": {
       "config": {
        "plotlyServerURL": "https://plot.ly"
       },
       "data": [
        {
         "link": {
          "color": [
           "#1f77b4",
           "#1f77b4",
           "#1f77b4",
           "#ff7f0e",
           "#ff7f0e",
           "#ff7f0e",
           "#2ca02c"
          ],
          "source": [
           0,
           1,
           2,
           0,
           1,
           2,
           3,
           4
          ],
          "target": [
           3,
           3,
           3,
           4,
           4,
           4,
           5,
           6
          ],
          "value": [
           57.1,
           38.1,
           4.8,
           57.1,
           38.1,
           4.8,
           10,
           90
          ]
         },
         "node": {
          "color": [
           "#aec7e8",
           "#ffbb78",
           "#98df8a",
           "#ff9896",
           "#c5b0d5",
           "#c49c94",
           "#c7c7c7"
          ],
          "label": [
           "Donors",
           "General Population",
           "Healthy Controls",
           "Centers for Medicare",
           "National Death Index",
           "ESRD",
           "Death"
          ],
          "line": {
           "color": "white",
           "width": 0.5
          },
          "pad": 50,
          "thickness": 30
         },
         "type": "sankey"
        }
       ],
       "layout": {
        "font": {
         "family": "Arial",
         "size": 14
        },
        "height": 600,
        "margin": {
         "b": 50,
         "l": 50,
         "r": 50,
         "t": 50
        },
        "template": {
         "data": {
          "candlestick": [
           {
            "decreasing": {
             "line": {
              "color": "#000033"
             }
            },
            "increasing": {
             "line": {
              "color": "#000032"
             }
            },
            "type": "candlestick"
           }
          ],
          "contour": [
           {
            "colorscale": [
             [
              0,
              "#000011"
             ],
             [
              0.1111111111111111,
              "#000012"
             ],
             [
              0.2222222222222222,
              "#000013"
             ],
             [
              0.3333333333333333,
              "#000014"
             ],
             [
              0.4444444444444444,
              "#000015"
             ],
             [
              0.5555555555555556,
              "#000016"
             ],
             [
              0.6666666666666666,
              "#000017"
             ],
             [
              0.7777777777777778,
              "#000018"
             ],
             [
              0.8888888888888888,
              "#000019"
             ],
             [
              1,
              "#000020"
             ]
            ],
            "type": "contour"
           }
          ],
          "contourcarpet": [
           {
            "colorscale": [
             [
              0,
              "#000011"
             ],
             [
              0.1111111111111111,
              "#000012"
             ],
             [
              0.2222222222222222,
              "#000013"
             ],
             [
              0.3333333333333333,
              "#000014"
             ],
             [
              0.4444444444444444,
              "#000015"
             ],
             [
              0.5555555555555556,
              "#000016"
             ],
             [
              0.6666666666666666,
              "#000017"
             ],
             [
              0.7777777777777778,
              "#000018"
             ],
             [
              0.8888888888888888,
              "#000019"
             ],
             [
              1,
              "#000020"
             ]
            ],
            "type": "contourcarpet"
           }
          ],
          "heatmap": [
           {
            "colorscale": [
             [
              0,
              "#000011"
             ],
             [
              0.1111111111111111,
              "#000012"
             ],
             [
              0.2222222222222222,
              "#000013"
             ],
             [
              0.3333333333333333,
              "#000014"
             ],
             [
              0.4444444444444444,
              "#000015"
             ],
             [
              0.5555555555555556,
              "#000016"
             ],
             [
              0.6666666666666666,
              "#000017"
             ],
             [
              0.7777777777777778,
              "#000018"
             ],
             [
              0.8888888888888888,
              "#000019"
             ],
             [
              1,
              "#000020"
             ]
            ],
            "type": "heatmap"
           }
          ],
          "histogram2d": [
           {
            "colorscale": [
             [
              0,
              "#000011"
             ],
             [
              0.1111111111111111,
              "#000012"
             ],
             [
              0.2222222222222222,
              "#000013"
             ],
             [
              0.3333333333333333,
              "#000014"
             ],
             [
              0.4444444444444444,
              "#000015"
             ],
             [
              0.5555555555555556,
              "#000016"
             ],
             [
              0.6666666666666666,
              "#000017"
             ],
             [
              0.7777777777777778,
              "#000018"
             ],
             [
              0.8888888888888888,
              "#000019"
             ],
             [
              1,
              "#000020"
             ]
            ],
            "type": "histogram2d"
           }
          ],
          "icicle": [
           {
            "textfont": {
             "color": "white"
            },
            "type": "icicle"
           }
          ],
          "sankey": [
           {
            "textfont": {
             "color": "#000036"
            },
            "type": "sankey"
           }
          ],
          "scatter": [
           {
            "marker": {
             "line": {
              "width": 0
             }
            },
            "type": "scatter"
           }
          ],
          "table": [
           {
            "cells": {
             "fill": {
              "color": "#000038"
             },
             "font": {
              "color": "#000037"
             },
             "line": {
              "color": "#000039"
             }
            },
            "header": {
             "fill": {
              "color": "#000040"
             },
             "font": {
              "color": "#000036"
             },
             "line": {
              "color": "#000039"
             }
            },
            "type": "table"
           }
          ],
          "waterfall": [
           {
            "connector": {
             "line": {
              "color": "#000036",
              "width": 2
             }
            },
            "decreasing": {
             "marker": {
              "color": "#000033"
             }
            },
            "increasing": {
             "marker": {
              "color": "#000032"
             }
            },
            "totals": {
             "marker": {
              "color": "#000034"
             }
            },
            "type": "waterfall"
           }
          ]
         },
         "layout": {
          "coloraxis": {
           "colorscale": [
            [
             0,
             "#000011"
            ],
            [
             0.1111111111111111,
             "#000012"
            ],
            [
             0.2222222222222222,
             "#000013"
            ],
            [
             0.3333333333333333,
             "#000014"
            ],
            [
             0.4444444444444444,
             "#000015"
            ],
            [
             0.5555555555555556,
             "#000016"
            ],
            [
             0.6666666666666666,
             "#000017"
            ],
            [
             0.7777777777777778,
             "#000018"
            ],
            [
             0.8888888888888888,
             "#000019"
            ],
            [
             1,
             "#000020"
            ]
           ]
          },
          "colorscale": {
           "diverging": [
            [
             0,
             "#000021"
            ],
            [
             0.1,
             "#000022"
            ],
            [
             0.2,
             "#000023"
            ],
            [
             0.3,
             "#000024"
            ],
            [
             0.4,
             "#000025"
            ],
            [
             0.5,
             "#000026"
            ],
            [
             0.6,
             "#000027"
            ],
            [
             0.7,
             "#000028"
            ],
            [
             0.8,
             "#000029"
            ],
            [
             0.9,
             "#000030"
            ],
            [
             1,
             "#000031"
            ]
           ],
           "sequential": [
            [
             0,
             "#000011"
            ],
            [
             0.1111111111111111,
             "#000012"
            ],
            [
             0.2222222222222222,
             "#000013"
            ],
            [
             0.3333333333333333,
             "#000014"
            ],
            [
             0.4444444444444444,
             "#000015"
            ],
            [
             0.5555555555555556,
             "#000016"
            ],
            [
             0.6666666666666666,
             "#000017"
            ],
            [
             0.7777777777777778,
             "#000018"
            ],
            [
             0.8888888888888888,
             "#000019"
            ],
            [
             1,
             "#000020"
            ]
           ],
           "sequentialminus": [
            [
             0,
             "#000011"
            ],
            [
             0.1111111111111111,
             "#000012"
            ],
            [
             0.2222222222222222,
             "#000013"
            ],
            [
             0.3333333333333333,
             "#000014"
            ],
            [
             0.4444444444444444,
             "#000015"
            ],
            [
             0.5555555555555556,
             "#000016"
            ],
            [
             0.6666666666666666,
             "#000017"
            ],
            [
             0.7777777777777778,
             "#000018"
            ],
            [
             0.8888888888888888,
             "#000019"
            ],
            [
             1,
             "#000020"
            ]
           ]
          },
          "colorway": [
           "#000001",
           "#000002",
           "#000003",
           "#000004",
           "#000005",
           "#000006",
           "#000007",
           "#000008",
           "#000009",
           "#000010"
          ]
         }
        },
        "title": {
         "text": "Sankey Diagram"
        },
        "width": 800
       }
      }
     },
     "metadata": {},
     "output_type": "display_data"
    }
   ],
   "source": [
    "import pandas as pd\n",
    "import plotly.express as px\n",
    "import plotly.graph_objects as go \n",
    "import urllib, json\n",
    "import numpy as np\n",
    "import sqlite3 as sq3\n",
    "\n",
    "label = ['Donors',\n",
    "         \"General Population\", \n",
    "         \"Healthy Controls\", \n",
    "         \"Centers for Medicare\",\n",
    "         \"National Death Index\", \n",
    "         \"ESRD\", \n",
    "         \"Death\"]\n",
    "\n",
    "source = [0,1,2,   0,1,2,\n",
    "          3, 4]  \n",
    "\n",
    "target = [3,3,3,   4,4,4, \n",
    "          5, 6]  \n",
    "\n",
    "value = [57.1,38.1,4.8,  57.1,38.1,4.8, \n",
    "         10,90]   \n",
    "\n",
    "# Define colors for links and nodes\n",
    "link_color = ['#1f77b4', '#1f77b4', '#1f77b4', \n",
    "              '#ff7f0e', '#ff7f0e', '#ff7f0e', \n",
    "              '#2ca02c']\n",
    "node_color = ['#aec7e8', '#ffbb78', '#98df8a', \n",
    "              '#ff9896', '#c5b0d5', '#c49c94', \n",
    "              '#c7c7c7']\n",
    "\n",
    "link = dict(source=source, target=target, value=value, \n",
    "            color=link_color)\n",
    "node = dict(label=label, pad=50, thickness=30, \n",
    "            color=node_color, \n",
    "            line=dict(color='white', width=0.5))\n",
    "\n",
    "# Define figure layout\n",
    "layout = dict(title=dict(text=\"Sankey Diagram\"), \n",
    "              font=dict(size=14, family=\"Arial\"), \n",
    "              height=600, width=800, \n",
    "              margin=dict(l=50, r=50, t=50, b=50))\n",
    "\n",
    "# Create Sankey object\n",
    "sankey = go.Sankey(link=link, node=node)\n",
    "\n",
    "# Define Figure object\n",
    "fig = go.Figure(data=sankey, layout=layout)\n",
    "\n",
    "# Display figure in Jupyter notebook\n",
    "fig.show()\n"
   ]
  },
  {
   "cell_type": "markdown",
   "metadata": {},
   "source": [
    "```\n",
    "Smoke\n",
    "\n",
    "2023\n",
    "\n",
    "What's the difference between sus4 and 11th chords?\n",
    "\n",
    "The sus4 chord implies no 3rd in the chord. So the notes in the chord are 1-4-5. The 11th chord implies a 3rd (and a 7th and a 9th), so the tones are 1-3-5-7-9-11.\n",
    "\n",
    "The 6 chord implies no extensions beyond the 6, so the notes are 1-3-5-6. The 13th chord implies the 7th, 9th, and 11th extensions, so the notes are 1-3-5-7-9-11-13.\n",
    "\n",
    "Likewise, the sus2 chord implies 1-2-5, whereas the 9th chord implies 1-3-5-7-9.\n",
    "\n",
    "If you play a C major triad on the piano and continue playing every other white key above the triad, you'll get the (major) 7th, 9th, 11th, and 13th extensions\n",
    "```\n",
    "\n",
    ".  \n",
    "\n",
    "Kipchoge:  \n",
    "\n",
    "4:33:93/Mile over 27 miles  \n",
    "\n",
    ". \n",
    "\n",
    "[ds4ph.hw7](https://muzaale.github.io/book/bilowozo.html#ds4ph-hw7)  \n",
    "\n",
    ".  \n",
    "\n",
    "King Lear  \n",
    "\n",
    "04/16/23  \n",
    "\n",
    "MARC: 12:40PM - 1:40PM  \n",
    "LUNCH: 2:00PM - 5:00PM  \n",
    "KLEIN: 7:30PM - 10:00PM  "
   ]
  }
 ],
 "metadata": {
  "kernelspec": {
   "display_name": "Python 3",
   "language": "python",
   "name": "python3"
  },
  "language_info": {
   "codemirror_mode": {
    "name": "ipython",
    "version": 3
   },
   "file_extension": ".py",
   "mimetype": "text/x-python",
   "name": "python",
   "nbconvert_exporter": "python",
   "pygments_lexer": "ipython3",
   "version": "3.11.2"
  },
  "orig_nbformat": 4
 },
 "nbformat": 4,
 "nbformat_minor": 2
}
