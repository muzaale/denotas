{
 "cells": [
  {
   "attachments": {},
   "cell_type": "markdown",
   "metadata": {},
   "source": [
    "### 634. j\n",
    "\n",
    "1824 23rd st, snohomish, wa 98290"
   ]
  },
  {
   "attachments": {},
   "cell_type": "markdown",
   "metadata": {},
   "source": [
    "### 635. phew!\n",
    "\n",
    "+ finally we can hire[!](https://jobs.jhu.edu/job/Baltimore-Research-Data-Analyst-MD-21205/1047414500/)   \n",
    "+ RDA 109905\n",
    "+ `afecdvi`"
   ]
  },
  {
   "attachments": {},
   "cell_type": "markdown",
   "metadata": {},
   "source": [
    "### 636. bach\n",
    "\n",
    "Why Bach Moves Us | [The New York Review](https://www.nybooks.com/articles/2014/02/20/why-bach-moves-us/)   \n",
    "\n",
    "George B. Stauffer  \n",
    "\n",
    "John Eliot Gardiner’s ‘Bach: Music in the Castle of Heaven’   \n",
    "\n",
    "February 20, 2014 issue  \n",
    "\n",
    "```\n",
    "I could not help but marvel at the miracle of hearing this music from the Roman Catholic Latin Mass Ordinary, written by a Lutheran composer in Leipzig, in a Reform Jewish temple in New York City\n",
    "```\n",
    "\n",
    "One of my most moving encounters with the music of Johann Sebastian Bach took place in the spring of 1997 in New York City’s Central Synagogue. I was there to pay last respects to Gabe Wiener, a talented young recording engineer who died of a brain aneurysm at age twenty-six. I had approached Gabe earlier in the year to see if his recording company, PGM Classics, would consider collaborating with the American Bach Society, which I led at the time, to produce a compact disc of previously unrecorded organ music from Bach’s circle. Gabe enthusiastically agreed to the proposal, and together we embarked on a project we called “The Uncommon Bach.” We had just settled on the repertory and the organ when I received word of his death.   \n",
    "\n",
    "There was great lamenting at the memorial service that this talented young man had been snatched away in the midst of important work, with so much promise unfulfilled. The service began with Gabe’s recording of Salamone Rossi’s Hebrew setting of the Songs of Solomon, a gorgeous yet relatively unknown Venetian masterpiece $\\cdots$"
   ]
  },
  {
   "attachments": {},
   "cell_type": "markdown",
   "metadata": {},
   "source": [
    "### 637. wayne\n",
    "\n",
    "+ alaska airlines `1184`\n",
    "+ expedia itinerary: 72599861510824\n",
    "+ ticket number: 0278008590834\n",
    "+ seattle (gate n4) - orange country (terminal b, gate 12)\n",
    "+ fri, july 7 \n",
    "+ 6:40pm - 9:28pm (2h 48m duration)\n",
    "+ tsapre TT129232B (dec 04, 2025)\n",
    " "
   ]
  },
  {
   "attachments": {},
   "cell_type": "markdown",
   "metadata": {},
   "source": [
    "## 07/06/2023"
   ]
  },
  {
   "attachments": {},
   "cell_type": "markdown",
   "metadata": {},
   "source": [
    "### 638. pretty-please"
   ]
  },
  {
   "cell_type": "code",
   "execution_count": 8,
   "metadata": {
    "tags": [
     "hide-input"
    ]
   },
   "outputs": [
    {
     "name": "stdout",
     "output_type": "stream",
     "text": [
      "account          number       username    password     date\n",
      "---------------  -----------  ----------  -----------  ----------\n",
      "studentuniverse               mozart      shaKespeare  2023-06-15\n",
      "alaskan          340733890    mozart      shaKespeare  2023-02-05\n",
      "frontier         90102556651  mozart      shaKespeare  2023-07-06\n"
     ]
    }
   ],
   "source": [
    "from tabulate import tabulate\n",
    "\n",
    "# Define the table data as a list of lists\n",
    "data = [\n",
    "    [\"studentuniverse\", \"\", \"mozart\", \"shaKespeare\", \"2023-06-15\"],\n",
    "    [\"alaskan\", \"340733890\", \"mozart\", \"shaKespeare\", \"2023-02-05\"],\n",
    "    [\"frontier\", \"90102556651\", \"mozart\", \"shaKespeare\", \"2023-07-06\"]\n",
    "]\n",
    "\n",
    "# Define the table headers\n",
    "headers = [\"account\", \"number\", \"username\", \"password\", \"date\"]\n",
    "\n",
    "# Generate the table\n",
    "table = tabulate(data, headers, tablefmt=\"\")\n",
    "\n",
    "# Print the table\n",
    "print(table)"
   ]
  },
  {
   "cell_type": "code",
   "execution_count": 9,
   "metadata": {},
   "outputs": [
    {
     "data": {
      "text/plain": [
       "'2023-06-15'"
      ]
     },
     "execution_count": 9,
     "metadata": {},
     "output_type": "execute_result"
    }
   ],
   "source": [
    "data[0][4]"
   ]
  },
  {
   "cell_type": "code",
   "execution_count": 10,
   "metadata": {},
   "outputs": [
    {
     "data": {
      "text/plain": [
       "['alaskan', '340733890', 'mozart', 'shaKespeare', '2023-02-05']"
      ]
     },
     "execution_count": 10,
     "metadata": {},
     "output_type": "execute_result"
    }
   ],
   "source": [
    "data[1]"
   ]
  },
  {
   "attachments": {},
   "cell_type": "markdown",
   "metadata": {},
   "source": [
    "### 639. seattle\n",
    "\n",
    "+ paramount\n",
    "+ 911 pine st, seattle, wa 98101\n",
    "+ confirmation 133704514 \n",
    "+ expedia itinerary 72600817540441\n",
    "+ thu, jul 6 4pm - fri, jul 7 noon "
   ]
  },
  {
   "attachments": {},
   "cell_type": "markdown",
   "metadata": {},
   "source": [
    "### 640. homecoming\n",
    "\n",
    "+ mon, jul 10 at 7:56pm\n",
    "+ orange county -> baltimore\n",
    "+ trip confirmation HFLJJA"
   ]
  },
  {
   "attachments": {},
   "cell_type": "markdown",
   "metadata": {},
   "source": [
    "### 641. tas\n",
    "\n",
    "+ spring term 2024\n",
    "   + xujun gu\n",
    "   + ning meng\n",
    "   + mgb "
   ]
  },
  {
   "attachments": {},
   "cell_type": "markdown",
   "metadata": {},
   "source": [
    "## 07/07/2023"
   ]
  },
  {
   "attachments": {},
   "cell_type": "markdown",
   "metadata": {},
   "source": [
    "### 642. apple\n",
    "\n",
    "+ alex half-life\n",
    "+ game for apple glasses\n",
    "+ recommended by ángel\n",
    "\n",
    "### 643. fawaz\n",
    "\n",
    "+ got qualified analyst to apply for job posting\n",
    "+ schedule an interview as soon as application received\n",
    "+ double-check by 07/12/2023 to make sure we're not lagging behind"
   ]
  },
  {
   "attachments": {},
   "cell_type": "markdown",
   "metadata": {},
   "source": [
    "### 644. seattle\n",
    "\n",
    "+ i5 & Boren, Convention center & sparghetti \n",
    "+ 8th & Pine, Paramount Hotel \n",
    "+ 8th & Blanchard, Amazon \n",
    "+ 1st/2nd & Blanchard (ie 115 Blanchard), Have a heart\n",
    "+ Boca \n",
    "   + Provoleta\n",
    "   + Empanadas x2\n",
    "   + Ceviche \n",
    "+ Bodhizafa \n",
    "   + Westcoast IPA\n",
    "   + Georgetown Brewing\n",
    "\n",
    "### 645. sound\n",
    "\n",
    "+ Two Brazilians \n",
    "+ Look Italian \n",
    "+ And sound too \n",
    "+ But it’s Portuguese    \n",
    "\n",
    "   \n",
    "### 646. thc\n",
    "\n",
    "+ Day after 400mg THC\n",
    "+ Should never exceed 20mg \n",
    "+ Perhaps always limit to 10mg\n",
    "+ Would give you 10 days \n",
    "+ And that is reasonable \n",
    "\n",
    "$\n",
    "Y  =  \\beta_0  +  \\beta_1 X_1  +  \\cdots  +  \\beta_N X_N  +  \\epsilon_{i  \\sim  N(\\mu,  \\sigma)} \n",
    "$\n",
    "\n",
    "$Y, X$ - sensory   \n",
    "$\\beta_i$- processor   \n",
    "$\\epsilon_i$- muscle/bone/agency   \n",
    "$i$ - sampling, power, big-legs, limits   \n",
    "\n",
    "Auto-encoder   \n",
    "   + Predictions\n",
    "   + Beta-coefficients $b[k,1]$\n",
    "   + Variance-covariants  $V[k+df,b)$   \n",
    "   + Regression (phenotype, dynamic), Survey (genotype, fixed)   "
   ]
  },
  {
   "attachments": {},
   "cell_type": "markdown",
   "metadata": {},
   "source": [
    "### 647. catalog\n",
    "\n",
    "+ Python script to compile all ergot papers and create links with title & author \n",
    "+ Later create page with hyperlinks for all the SRTR code-snippets \n",
    "+ There’ll be a legacy repo but use that to launch a repo with built-in:\n",
    "   + version control \n",
    "   + collaboration in-build\n",
    "   + gihub co-pilot \n",
    "\n",
    "### 648. philosophy\n",
    "\n",
    "and education. with regard to regression analysis:\n",
    "\n",
    "1. Why are most didactic experiences dedicated to interpreting $\\beta_i$?  \n",
    "2. Should there be a threshold of $\\epsilon_i$ below which there's no point interpreting $\\beta_i$? \n",
    "3. Virtually all clinical trials are based on $\\beta_i$. \n",
    "   + The very selective sampling makes $\\epsilon_i$ and prediction of $\\hat Y$ quite reasonable\n",
    "   + But the real-world application will suck: $cf$ 95% efficacy of COVID mRNA vaccines \n",
    "   + Let $\\epsilon_i  \\propto \\frac {1}{1  -  \\beta}  $"
   ]
  },
  {
   "attachments": {},
   "cell_type": "markdown",
   "metadata": {},
   "source": [
    "### 649. poland\n",
    "\n",
    "+ stefan (Uber driver)\n",
    "+ $100 for a night in 5-star hotel \n",
    "+ A dollar goes a long way \n",
    "+ So be sure to go on vacation \n",
    "\n",
    "+ was imprisoned and expelled from his home-country in the 70s\n",
    "+ present regime has compensated him for this transgression\n",
    "+ meanwhile he has established a life for his family in the us\n",
    "\n",
    "### 650. seatac\n",
    "\n",
    "+ train to downtown $$5$\n",
    "+ uber is $75$\n",
    "+ seatoc halfway between seattle & tacoma, near tenton\n",
    "+ if in no mood of spending, use the light rail "
   ]
  },
  {
   "attachments": {},
   "cell_type": "markdown",
   "metadata": {},
   "source": [
    "### 651. wayne\n",
    "\n",
    "+ most g5's ever seen in one place\n",
    "+ also a pretty large commercial airport\n",
    "+ santa ana, orange country, ca"
   ]
  },
  {
   "attachments": {},
   "cell_type": "markdown",
   "metadata": {},
   "source": [
    "## 07/08/2023"
   ]
  },
  {
   "attachments": {},
   "cell_type": "markdown",
   "metadata": {},
   "source": [
    "### 652. five-o'clock\n",
    "\n",
    "+ woken me up \n",
    "+ call to prayer at 4:20\n",
    "+ it’s a song"
   ]
  },
  {
   "attachments": {},
   "cell_type": "markdown",
   "metadata": {},
   "source": [
    "### 653. tameth\n",
    "\n",
    "$Y_i  =  \\hat Y_i  +  \\epsilon_i$"
   ]
  },
  {
   "attachments": {},
   "cell_type": "markdown",
   "metadata": {},
   "source": [
    "## 07/10/2023"
   ]
  },
  {
   "attachments": {},
   "cell_type": "markdown",
   "metadata": {},
   "source": [
    "### 654. verbs\n",
    "\n",
    "+ `tameth` $1 - \\frac{SSR}{SST} \\sim 1 - \\frac{var(\\epsilon_i)}{var(Y_i)}$\n",
    "+ `whineth` $\\frac{SSR}{SST} \\sim \\frac{var(\\epsilon_i)}{var(Y_i)}$\n",
    "+ `hideth` $\\hat Y_i \\sim Y_i - \\epsilon_i$"
   ]
  },
  {
   "attachments": {},
   "cell_type": "markdown",
   "metadata": {},
   "source": [
    "### 655. amy\n",
    "\n",
    "+ she's a text away from fawaz!\n",
    "+ didn't even so much as say bye\n",
    "+ the deterioration is attributable to mgb\n",
    "\n",
    "### 656. hangar24\n",
    "\n",
    "+ its 1 mile from john wayne aiport\n",
    "+ has over 15 local craft beers on tap\n",
    "+ embedded within a coorporate area\n",
    "+ ambience, comfort, menu items, etc\n",
    "+ my rating is 4.5/5; not a wide-range of clientelle\n",
    "\n",
    "### 657. soca\n",
    "\n",
    "+ a sort of paradise: the weather, beaches, lifestyle\n",
    "+ how may one live in this environment and achieve flow?\n",
    "+ that is a question to be gently approached in the coming years?"
   ]
  },
  {
   "attachments": {},
   "cell_type": "markdown",
   "metadata": {},
   "source": [
    "## 07/11/2023"
   ]
  },
  {
   "attachments": {},
   "cell_type": "markdown",
   "metadata": {},
   "source": [
    "### 658. b'more\n",
    "\n",
    "+ ewns, home is best!"
   ]
  },
  {
   "attachments": {},
   "cell_type": "markdown",
   "metadata": {},
   "source": [
    "### 659. auteurs\n",
    "\n",
    "+ chaplin\n",
    "+ woody\n",
    "+ perry\n",
    "\n",
    "actors, screenwriters, and directors that demanded and attained `control` when they became producers\n",
    "\n",
    "### 660. contest\n",
    "\n",
    "while [The Economist](https://www.economist.com) was first published in September 1843 to take part in a severe contest between intelligence, which presses forward, and an unworthy, timid ignorance obstructing our progress, the more enduring contest is really between beauty, which needs no explanation, and truth, which has believers and doubters.\n",
    "\n",
    "aesthetics is the subject focusing on beauty and ethics is the one about truth. it should be noted that while beauty is self-evident and compelling truth and ethics start off with declarations about their self-evident essence, which is outrightly rejected by many.\n",
    "\n",
    "to speak more specifically, ethics and truth represent conscious or unconscious wishes by the more caring kinds of human beings, who wish to protect vulnerable lambs from wolves. aesthetics and beauty by contrast simply represent effects that inspire awe, wonder, and life. \n",
    "\n",
    "so why are these two at war? can't honest neighbors be friends? unfortunately, truth and beauty are mutually exclusive. a beautiful face might have launched a thousand war ships, but in general beauty doesn't inspire war. it is arguments and disagreements about the truth that account for virtually all wars and conflicts in history. \n",
    "\n",
    "beauty is never contested. even the trojan war wasn't a contest about beauty, it was a contest for an acclaimed beauty. and often beauty is portayed as lacking in agency, vulnerable, in need of rescue. and here is precisely where truth and war creep in.\n",
    "\n",
    "for who is the truest and worthiest knight in shinning armour? beauty always goes with the winner of the duel, battle, or war. [dead shepherd](https://www.gutenberg.org/files/1998/1998-h/1998-h.htm#link2H_4_0012), now i see thy saw of might: carefree, mocking, unconcerned, scornful, coercive, violent —so wisdom wisheth us; she is a woman, and ever loveth only a warrior.\n",
    "\n",
    "### 661. understood\n",
    "\n",
    "why don't i have the urge to correct a wrong impression one may have of me?   \n",
    "more generally, why are folks so afraid of being [misunderstood](https://www.gutenberg.org/files/52190/52190-h/52190-h.htm)?\n",
    "is there really anything at stake or is it just ego?\n",
    "\n",
    "### 662. wilde\n",
    "\n",
    "Beauty is a form of Genius--is higher, [indeed](https://www.gutenberg.org/files/174/174-h/174-h.htm), than Genius, as it needs no explanation. It is one of the great facts of the world, like sunlight, or springtime, or the reflection in the dark waters of that silver shell we call the moon. It cannot be questioned\n",
    "\n",
    "### 663. actions\n",
    "\n",
    "a solder or warrior is never afraid of being misunderstood!\n",
    "\n",
    "### 664. verbs\n",
    "\n",
    "+ `tameth` to do acclaimed stuff (and [take](https://www.biblegateway.com/passage/?search=Deuteronomy%2020%3A14&version=KJV) the spoil)[^5]\n",
    "+ `whineth` to be misunderstood (please here me out!)\n",
    "+ `hideth` to lie in the shadows (thereby avoiding evil)[^4]\n",
    "\n",
    "[^5]: deut [20:14](https://www.biblegateway.com/passage/?search=Deuteronomy%2020%3A14&version=KJV)\n"
   ]
  },
  {
   "attachments": {},
   "cell_type": "markdown",
   "metadata": {},
   "source": [
    "## 07/12/2023"
   ]
  },
  {
   "attachments": {},
   "cell_type": "markdown",
   "metadata": {},
   "source": [
    "### 665. coping\n",
    "\n",
    "+ illusions. the ideas that inspite of, and perhaps because of, their inaccuracy enable healthy coping with the human condition\n",
    "+ delusions. ideas that interfere with our ability to relate with fellow man and to function socially\n",
    "+ artists. creators of the most compelling illusions that have sustained motivation and the will-to-life in the delicate creature, man\n",
    "+ scientists. that subgroup of mankind that didn't get the memo on the absolute necessity of illusions for the general and specific wellness of man \n",
    "+ philosophers. virtually every man and woman; more's the pity that most haven't bothered to study their forebears!\n"
   ]
  },
  {
   "attachments": {},
   "cell_type": "markdown",
   "metadata": {},
   "source": [
    "### 666. acting\n",
    "\n",
    "isn't it upsetting when your hero, who always seemed to be in [control](https://en.wikipedia.org/wiki/Relaxation_(psychology)) of things, turns out to be merely an oustanding actor? beware of meeting your hero in person: comes with a huge risk and might precipitate cognitive dissonance at best and an existential crisis at worst.\n",
    "\n",
    "for some their hero is the scientific enterprise. and so they dedicate a lifetime as participants, gladiators if you will, in the arena. it is here that they become acquainted with their hero and, alas, the veil of illusion is lifted.\n",
    "\n",
    "art should celebrate life in the midst of mystery, without any inkling of despair or the illusions sought by science."
   ]
  },
  {
   "attachments": {},
   "cell_type": "markdown",
   "metadata": {},
   "source": [
    "### 667. jhu\n",
    "\n",
    "+ president ron daniels\n",
    "+ his [vision](https://president.jhu.edu/assets/uploads/sites/7/2023/03/TenbyTwenty.pdf) for jhu by 2020\n",
    "\n",
    "```\n",
    "Johns Hopkins is a resilient, mission-driven place that refuses to wait for the ideal conditions, but instead seizes upon all opportunity for brave innovation. This is a core feature of our institutional DNA.\n",
    "```"
   ]
  },
  {
   "attachments": {},
   "cell_type": "markdown",
   "metadata": {},
   "source": [
    "### 668. catchphrase\n",
    "\n",
    "+ my cup runneth over\n",
    "+ ekikompe kyange kiyiika\n",
    "+ la mia tazza straripa"
   ]
  },
  {
   "attachments": {},
   "cell_type": "markdown",
   "metadata": {},
   "source": [
    "### 669. orangecounty\n",
    "\n",
    "+ the clear quran\n",
    "+ a thematic translation\n",
    "+ dr. mustafa khattab\n",
    "\n",
    "```\n",
    "My dear brother Abi,\n",
    "\n",
    "I wish you the best in this life and the hereafter\n",
    "\n",
    "Fawaz\n",
    "```\n",
    "\n",
    "Please Note: The Quran, sometimes written as \"Koran,\" is a sacred book of Mulsims, who believe that God has revealed His word and message to humanity throughout the ages. For example, we believe that Moses was given the Torah, David was given the Psalms, and Jesus was given the Gospel. In the same way, we believe that Muhammad was given the Quran. Muslims therefore treat the holy books of other faiths with greate care and respect. For instance, we do not read these books in the bathroom or place them on the floor. It is our request that you treat this book with the same respect and handle it as you would your own scripture. If you do not want this copy, please do not throw it away. You may give it to any Muslim you know or your nearest Islamic center. You may also call us at 1-888-273-2754, and we will arrange to pick it up."
   ]
  },
  {
   "attachments": {},
   "cell_type": "markdown",
   "metadata": {},
   "source": [
    "### 670. enfrançais\n",
    "\n",
    "Yes, there is a link between the French words \"voir,\" \"savoir,\" and \"pouvoir.\" These three words are part of a group of verbs known as the \"irregular -oir verbs.\" While they are not conjugated in the same way as regular -ir verbs, they do share some similarities.  \n",
    "\n",
    "The common link between these three verbs is their infinitive endings: -oir. This ending is characteristic of a group of verbs in French, and it often indicates the verb's meaning or function.  \n",
    "\n",
    "Here's a breakdown of each verb and its meaning:  \n",
    "\n",
    "1. \"Voir\" - This verb means \"to see.\" It is used to express the act of perceiving something visually. For example:\n",
    "   - Je vois un oiseau. (I see a bird.)\n",
    "   - Est-ce que tu vois la mer? (Do you see the sea?)\n",
    "\n",
    "2. \"Savoir\" - This verb means \"to know.\" It is used to express knowledge or awareness of information or facts. For example:\n",
    "   - Je sais parler français. (I know how to speak French.)\n",
    "   - Savez-vous où se trouve la bibliothèque? (Do you know where the library is?)\n",
    "\n",
    "3. \"Pouvoir\" - This verb means \"to be able to\" or \"can.\" It is used to express capability or possibility. For example:\n",
    "   - Je peux te aider. (I can help you.)\n",
    "   - Peux-tu venir demain soir? (Can you come tomorrow evening?)  \n",
    "\n",
    "While these verbs share the -oir ending and are irregular in their conjugation, they do not have any inherent etymological or semantic connection beyond being part of the same verb group.  \n",
    "\n"
   ]
  },
  {
   "attachments": {},
   "cell_type": "markdown",
   "metadata": {},
   "source": [
    "### 671. verbs\n",
    "\n",
    "+ pouvoir `tameth` to do\n",
    "+ savoir `whineth` to be\n",
    "+ voir `hideth` to no\n",
    "\n",
    "The phrase commonly used to refer to \"see no evil, hear no evil, speak no evil\" is \"les trois singes de la sagesse\" in French. Literally translated, it means \"the three monkeys of wisdom.\" Each monkey represents a different principle: \"ne rien voir de mal\" (see no evil), \"ne rien entendre de mal\" (hear no evil), and \"ne rien dire de mal\" (speak no evil).   \n",
    "\n",
    "Certainly! The variant \"do no evil\" can be translated as \"ne rien faire de mal\" in French. It complements the traditional phrase \"see no evil, hear no evil, speak no evil\" with the additional principle of not doing any evil actions.  "
   ]
  },
  {
   "attachments": {},
   "cell_type": "markdown",
   "metadata": {},
   "source": [
    "### 672. belgians\n",
    "\n",
    "+ orval `6.2%` 3:45PM - 5:20PM \n",
    "+ westmalle dubbel `7.0%` 5:20PM - 8:37PM\n",
    "+ duvel `8.5%` 8:37PM - 11:04PM\n",
    "+ westmalle tripel `9.5%` 00:24PM - 02:01AM\n",
    "+ st. bernardus abt 12 `10.0%` 04:18AM - 06:02AM"
   ]
  },
  {
   "attachments": {},
   "cell_type": "markdown",
   "metadata": {},
   "source": [
    "### 673. clever\n",
    "\n",
    "+ nutrition\n",
    "+ environment\n",
    "+ hygiene\n",
    "\n",
    "```\n",
    "There is a midway condition which a man of such a destiny will not be able to recall without emotion: it is characterized by a pale, subtle happiness of light and sunshine, a feeling of bird-like freedom, bird-like altitude, bird-like exuberance, and a third thing in which curiosity is united with a tender contempt. A free-spirit, this cool expression, does one good in every condition, it’s almost warming. One lives no longer in the fetters of love and hatred, without yes, without no, near or far as one wishes, preferably slipping away, evading, flattering off, gone again, again flying aloft; one is spoilt, as everyone is who has at sometime seen a tremendous number of things beneath him — and one becomes the opposite of those who concern themselves with things that have nothing to do with them. Indeed, the free-spirit hence forth has only to do with things — and how many things! — with which he is no longer concerned...     \n",
    "\n",
    "from January 14, 2020 at 3:15AM + 8hrs\n",
    "\n",
    "```\n",
    "\n",
    "Is there any culture in human history that treats each cohort of newborns and over a lifetime as *sui generis*? Of course that would be impracticle; however, at a bare minimum a great culture should at every year from cradle-to-grave do the following:\n",
    "\n",
    "1. present a hierachy of challenges for each year\n",
    "2. train the cohort so that they might develop skills to match the challenge\n",
    "3. weekly peer-driven feedback system to align appropriate challenge-levels with skill-levels for all in the cohort"
   ]
  },
  {
   "attachments": {},
   "cell_type": "markdown",
   "metadata": {},
   "source": [
    "## 07/13/2023\n"
   ]
  },
  {
   "attachments": {},
   "cell_type": "markdown",
   "metadata": {},
   "source": [
    "### 674. today\n",
    "\n",
    "+ simeon\n",
    "+ homerun\n",
    "+ journaling"
   ]
  },
  {
   "attachments": {},
   "cell_type": "markdown",
   "metadata": {},
   "source": [
    "### 675. friends\n",
    "\n",
    "+ develop a system of staying in touch with the wider network of friends\n",
    "+ with our aging parents there is just a lot going on for everyone\n",
    "+ at times just the humble reassurance about diagnosis, prognosis, and expectations is helpful\n",
    "+ some unsolicited advice about avoiding hospitalization at all costs will be offered\n",
    "+ but just simply play role of care coordinator, a neglected role across the globe"
   ]
  },
  {
   "attachments": {},
   "cell_type": "markdown",
   "metadata": {},
   "source": [
    "### 676. three-peat\n",
    "\n",
    "```\n",
    " soul, t \n",
    "     \\\n",
    "      mind, x --> verb, n --> change, o  \n",
    "     /\n",
    "     body, s\n",
    "```"
   ]
  },
  {
   "cell_type": "markdown",
   "metadata": {},
   "source": [
    "### 677. cluster\n",
    "\n",
    "definitive [guide](cluster.md) to accessing the cluster  "
   ]
  },
  {
   "cell_type": "markdown",
   "metadata": {},
   "source": [
    "## 07/14/2023"
   ]
  },
  {
   "cell_type": "markdown",
   "metadata": {},
   "source": [
    "### 678. learning\n",
    "\n",
    "```\n",
    "                                          3. parametric\n",
    "                                                       \\ \n",
    "                       —> 0. humans  —> 1. twoway       4. model —> 5. data -> 6. likelihood -> 7. inference\n",
    "                                                        / \n",
    "                                                        2. nonparametric\n",
    "\n",
    "      \n",
    "\n",
    "\n",
    "\n",
    "\n",
    "                                          3e.ἄσκησις,μ\n",
    "                                                       \\ \n",
    "                —> 0g.κοσμογονία,γ  —> 1f.ἡἔρις,κ       4d.∫δυσφορία.dt,ψ —> 5c.φάρμακον,δ -> 6b.ομορφιά,β -> 7a.τάξη,α \n",
    "                                                        / \n",
    "                                                        2e.πρᾶξις,σ    \n",
    "                                                        \n",
    "\n",
    "\n",
    "\n",
    "                                                        \n",
    "                                    3. supervised\n",
    "                                                  \\ \n",
    " —> 0. machines  —> 1. networks: adversarial       4. pca —> 5. autoencorder -> 6. deep -> 7. adaptive\n",
    "                                                  / \n",
    "                                                  2. unsupervised                                                                                                 \n",
    "```"
   ]
  },
  {
   "cell_type": "markdown",
   "metadata": {},
   "source": [
    "### 679. publishing\n",
    "\n",
    "1. markup your document and save it as .txt, .do, .md, or .do\n",
    "\n",
    "```stata\n",
    "<<dd_version: 2>> \n",
    "\n",
    "'''\n",
    "<<dd_do>>\n",
    "webuse lifeexp, clear \n",
    "encode country, gen(Country)\n",
    "twoway scatter lexp Country, xscale(off)\n",
    "graph export lexp_bycountry.png, replace \n",
    "qui sum lexp \n",
    "<</dd_do>>\n",
    "'''\n",
    "\n",
    "<<dd_graph>>\n",
    "\n",
    "Here's a summary of the data: The total number of countries is\n",
    "<<dd_display: r(N)>>, mean life expectancy is <<dd_display: r(mean)>>, and the\n",
    "standard deviation is  <<dd_display: r(sd)>>\n",
    "\n",
    "```\n",
    "\n",
    "2. type the following command into the stata command window:\n",
    "\n",
    "```stata\n",
    "dyndoc publish.do, saving(publish.html)\n",
    "```\n",
    "\n",
    "3. inspect your output in the stata monitor  \n",
    "\n",
    "```stata\n",
    "\n",
    ". dyndoc publish.do, saving(publish.html)\n",
    ". webuse lifeexp, clear \n",
    "(Life expectancy, 1998)\n",
    "\n",
    ". encode country, gen(Country)\n",
    "\n",
    ". twoway scatter lexp Country, xscale(off)\n",
    "\n",
    ". graph export lexp_bycountry.png, replace \n",
    "file /Users/d/Desktop/lexp_bycountry.png saved as PNG format\n",
    "\n",
    ". qui sum lexp \n",
    "\n",
    ". \n",
    "\n",
    "successfully converted \"/Users/d/Desktop/publish.html\"\n",
    "\n",
    ". \n",
    "\n",
    "```\n",
    "\n",
    "4. now inspect what is outputed to the workfolder\n",
    "\n",
    "```stata\n",
    "ls -l\n",
    "```\n",
    "\n",
    "```stata\n",
    ". ls -l\n",
    "\n",
    "total 456\n",
    "-rw-r--r-\t\t1\td\tstaff\t59500\tJul\t14\t03:37\tGraph.svg\n",
    "-rw-r--r-\t\t1\td\tstaff\t59500\tJul\t14\t03:38\tGraph1.svg\n",
    "-rw-r--r-\t\t1\td\tstaff\t96154\tJul\t14\t03:38\tlexp_bycountry.png\n",
    "-rw-r--r-\t@\t1\td\tstaff\t401\tJul\t14\t03:37\tpublish.do\n",
    "-rw-r--r-\t@\t1\td\tstaff\t461\tJul\t14\t03:38\tpublish.html\n",
    "-rw------\t\t1\td\tstaff\t402\tJul\t14\t03:37\t~publish.do.stswp\n",
    "\n",
    ". \n",
    "\n",
    "```\n",
    "\n",
    "5. what is publishing?\n",
    "   - handing in homework as .pdf or .html which unlike a .log file can have text and output intermingled and with code and output as options\n",
    "   - sharing in-house exploratory data analyses with collaborators\n",
    "   - conference abstract\n",
    "   - original research submitted to a peer-review journal\n",
    "   - brochures by a pharmaceutical company describing results from a clinical trial of their latest drug\n",
    "   - etc."
   ]
  },
  {
   "cell_type": "code",
   "execution_count": 11,
   "metadata": {
    "tags": [
     "hide-input"
    ]
   },
   "outputs": [
    {
     "data": {
      "image/png": "[encoded data removed]",
      "text/plain": [
       "<Figure size 800x800 with 1 Axes>"
      ]
     },
     "metadata": {},
     "output_type": "display_data"
    }
   ],
   "source": [
    "import networkx as nx\n",
    "import matplotlib.pyplot as plt\n",
    "\n",
    "G = nx.DiGraph()\n",
    "G.add_node(\"user\", pos=(550, 500))\n",
    "G.add_node(\"system\", pos=(-550, 500))\n",
    "G.add_node(\"program\", pos=(-2000, 960))\n",
    "G.add_node(\"syntax\", pos=(2000, 950))\n",
    "G.add_node(\"ado\", pos=(-3000, 550))\n",
    "G.add_node(\"do\", pos=(3000, 550))\n",
    "G.add_node(\"command\", pos=(-1900, 150))\n",
    "G.add_node(\"queue\", pos=(1900, 150))\n",
    "G.add_node(\"results\", pos=(0, 0))\n",
    "G.add_node(\"dta\", pos=(0, -475))\n",
    "G.add_node(\"log\", pos=(-1900, -475))\n",
    "G.add_node(\"excel\", pos=(-4000, -475))\n",
    "G.add_node(\"word\", pos=(1900, -475))\n",
    "G.add_node(\"html\", pos=(4000, -475))\n",
    "G.add_node(\"publish\", pos=(0, -950))\n",
    "\n",
    "G.add_edges_from([(\"program\", \"ado\"), (\"syntax\", \"do\")])\n",
    "G.add_edges_from([(\"ado\", \"command\"), (\"do\", \"queue\")])\n",
    "G.add_edges_from([(\"command\", \"results\"), (\"queue\", \"results\"), (\"results\", \"excel\"), (\"results\", \"word\"), (\"results\", \"html\")])\n",
    "G.add_edges_from([(\"results\", \"dta\"), (\"results\", \"log\")])\n",
    "G.add_edges_from([(\"dta\", \"publish\"), (\"log\", \"publish\"), (\"excel\", \"publish\"), (\"word\", \"publish\"), (\"html\", \"publish\")])\n",
    "\n",
    "pos = nx.get_node_attributes(G, 'pos')\n",
    "labels = nx.get_node_attributes(G, 'pos')\n",
    "\n",
    "plt.figure(figsize=(8, 8))\n",
    "nx.draw(G, pos, with_labels=False, node_size=3000, node_color=\"lightblue\", linewidths=3)\n",
    "nx.draw_networkx_labels(G, pos, labels, font_size=10, font_weight='bold')\n",
    "plt.xlim(-5000, 5000)\n",
    "plt.ylim(-1000, 1000)\n",
    "plt.axis(\"off\")\n",
    "plt.show()\n"
   ]
  },
  {
   "cell_type": "code",
   "execution_count": 12,
   "metadata": {
    "tags": [
     "hide-input"
    ]
   },
   "outputs": [
    {
     "data": {
      "image/png": "[encoded data removed]",
      "text/plain": [
       "<Figure size 800x800 with 1 Axes>"
      ]
     },
     "metadata": {},
     "output_type": "display_data"
    }
   ],
   "source": [
    "import networkx as nx\n",
    "import matplotlib.pyplot as plt\n",
    "\n",
    "G = nx.DiGraph()\n",
    "G.add_node(\"user\", pos=(550, 500))\n",
    "G.add_node(\"system\", pos=(-550, 500))\n",
    "G.add_node(\"program\", pos=(-2000, 960))\n",
    "G.add_node(\"syntax\", pos=(2000, 950))\n",
    "G.add_node(\"ado\", pos=(-3000, 550))\n",
    "G.add_node(\"do\", pos=(3000, 550))\n",
    "G.add_node(\"command\", pos=(-1900, 150))\n",
    "G.add_node(\"queue\", pos=(1900, 150))\n",
    "G.add_node(\"results\", pos=(0, 0))\n",
    "G.add_node(\"dta\", pos=(0, -475))\n",
    "G.add_node(\"log\", pos=(-1900, -475))\n",
    "G.add_node(\"excel\", pos=(-4000, -475))\n",
    "G.add_node(\"word\", pos=(1900, -475))\n",
    "G.add_node(\"html\", pos=(4000, -475))\n",
    "G.add_node(\"publish\", pos=(0, -950))\n",
    "\n",
    "G.add_edges_from([(\"program\", \"ado\"), (\"syntax\", \"do\")])\n",
    "G.add_edges_from([(\"ado\", \"command\"), (\"do\", \"queue\")])\n",
    "G.add_edges_from([(\"command\", \"results\"), (\"queue\", \"results\"), (\"results\", \"excel\"), (\"results\", \"word\"), (\"results\", \"html\")])\n",
    "G.add_edges_from([(\"results\", \"dta\"), (\"results\", \"log\")])\n",
    "G.add_edges_from([(\"dta\", \"publish\"), (\"log\", \"publish\"), (\"excel\", \"publish\"), (\"word\", \"publish\"), (\"html\", \"publish\")])\n",
    "\n",
    "pos = nx.get_node_attributes(G, 'pos')\n",
    "labels = {\"user\": \"user\",\n",
    "          \"system\": \"system\",\n",
    "          \"program\": \"program\",\n",
    "          \"syntax\": \"syntax\",\n",
    "          \"ado\": \"ado\",\n",
    "          \"do\": \"do\",\n",
    "          \"command\": \"command\",\n",
    "          \"queue\": \"queue\",\n",
    "          \"results\": \"results\",\n",
    "          \"dta\": \".dta\",\n",
    "          \"log\": \".log\",\n",
    "          \"excel\": \".xlsx\",\n",
    "          \"word\": \".docx\",\n",
    "          \"html\": \".html\",\n",
    "          \"publish\": \"publish\"}\n",
    "\n",
    "plt.figure(figsize=(8, 8))\n",
    "nx.draw(G, pos, with_labels=False, node_size=3000, node_color=\"lightblue\", linewidths=3)\n",
    "nx.draw_networkx_labels(G, pos, labels, font_size=10, font_weight='bold')\n",
    "plt.xlim(-5000, 5000)\n",
    "plt.ylim(-1000, 1000)\n",
    "plt.axis(\"off\")\n",
    "plt.show()\n"
   ]
  },
  {
   "cell_type": "markdown",
   "metadata": {},
   "source": [
    "6. do the pat hack\n",
    "\n",
    "```\n",
    "cp Graph.svg _build/html/Graph1.svg\n",
    "cp publish.html _build/html/publish.html\n",
    "```"
   ]
  },
  {
   "cell_type": "markdown",
   "metadata": {},
   "source": [
    "7. [voila!](publish.html)  "
   ]
  },
  {
   "cell_type": "markdown",
   "metadata": {},
   "source": [
    "### 680. time\n",
    "\n",
    "![](flow.clock.png)\n",
    "\n",
    "1. <span style=\"color: yellow;\">active</span>  \n",
    "2. <span style=\"color: green;\">magic</span>  \n",
    "3. <span style=\"color: red;\">passive</span>  \n",
    "\n",
    "Let's explore the contrast between active and passive [processes](https://muzaale.github.io/book/bilowozo.html#avoidance), which occur over time, and miracles, which are not bound by cause-effect relationships or the dimension of time. \n",
    "\n",
    "#### 680.1 active\n",
    "Active processes involve a series of intentional and directed actions that take place over a period of time. They are characterized by cause-and-effect relationships and a sense of agency or deliberate effort. Here are some key attributes of active processes:\n",
    "\n",
    "1. Intentionality: Active processes are initiated and driven by conscious decisions or actions.\n",
    "2. Cause and Effect: They follow a logical sequence of steps, where each action has a direct impact on the subsequent outcome.\n",
    "3. Time-bound: Active processes unfold over a specific duration, with a beginning, middle, and end.\n",
    "4. Human Agency: They involve human intervention, decision-making, and effort to achieve a desired outcome.\n",
    "5. Measurability: Active processes can often be measured or assessed based on predefined metrics or milestones.\n",
    "\n",
    "Examples of active processes include project management, problem-solving methodologies, skill development through practice and training, or any task that requires deliberate action and progresses over time. [^32]\n",
    "\n",
    "#### 680.2 passive\n",
    "Passive processes, also known as natural or inherent processes, occur over time without conscious or deliberate human intervention. They are driven by natural laws, environmental factors, or inherent properties of a system. Here are some key attributes of passive processes:\n",
    "\n",
    "1. Natural Laws: Passive processes operate according to predetermined rules or laws of nature.\n",
    "2. Cause and Effect (Indirect): While passive processes still exhibit cause-and-effect relationships, the cause is often indirect and less influenced by human agency.\n",
    "3. Time-bound: Passive processes also unfold over time, but their progression may be slower or less perceivable.\n",
    "4. Environmental Factors: They are influenced by external conditions, such as climate, geology, or biological systems.\n",
    "5. Self-Organization: Passive processes often involve self-regulating or self-organizing systems that maintain stability or equilibrium.\n",
    "\n",
    "Examples of passive processes include erosion, weathering, ecological succession, natural healing or recovery processes, or the growth of plants in response to environmental factors. While these processes can be influenced by external factors, they primarily occur without conscious human intervention.\n",
    "\n",
    "#### 680.3 miracle\n",
    "Miracles, as mentioned earlier, are extraordinary events or phenomena that defy the laws of nature and cause-effect relationships. Here are the contrasting aspects between active/passive processes and miracles:\n",
    "\n",
    "1. Cause and Effect: Active and passive processes are governed by cause and effect, where specific actions or natural laws drive the progression of events over time. In contrast, miracles are seen as exceptions to cause-effect relationships, often defying rational explanation.\n",
    "\n",
    "2. Time Dimension: Active and passive processes occur over time, with a sense of progression, while miracles are not bound by the dimension of time. Miracles are considered spontaneous, exceptional events that transcend the normal flow of cause-effect relationships.\n",
    "\n",
    "3. Human Agency: Active processes involve deliberate human intervention and effort, whereas passive processes occur naturally without direct human influence. In contrast, miracles are often attributed to supernatural or divine forces beyond human control.\n",
    "\n",
    "4. Predictability: Active and passive processes are generally predictable to some extent, with expected outcomes based on known factors or laws. Miracles, however, are viewed as unpredictable and extraordinary, defying expectations and logical explanations.\n",
    "\n",
    "In summary, active and passive processes involve cause-effect relationships and occur over time, with active processes driven by deliberate human action and passive processes occurring naturally [^8]. Miracles, on the other hand, transcend cause-effect relationships, defy rational explanation, and are not bound by the dimension of time.\n"
   ]
  },
  {
   "cell_type": "markdown",
   "metadata": {},
   "source": [
    "### 681. joshua\n",
    "\n",
    "+ new resident [portal](https://regentjames.residentportal.com/auth) as of 07/01\n",
    "+ password: shaKespeare\n",
    "+ but use app"
   ]
  },
  {
   "cell_type": "markdown",
   "metadata": {},
   "source": [
    "### 682. yay!\n",
    "\n",
    "+ jhu offer of employment\n",
    "+ recruitor system@successfactors.com\n",
    "+ View/Accept Offer ..[.](https://career4.successfactors.com/career?company=jhu&loginFlowRequired=true&navBarLevel=CANDIDATE_MY_OFFERS&appId=1634219&) "
   ]
  },
  {
   "cell_type": "markdown",
   "metadata": {},
   "source": [
    "### 683. chordstack\n",
    "\n",
    "+ Professor [Vaughn Brathwaite](https://join.gospelu.com/masterclass45810192?gc_id=19508314507&gclid=EAIaIQobChMInq6t0I-PgAMVuUhHAR3H4QqNEAAYASAAEgJStvD_BwE&h_ad_id=644123320246) - The Gospel University\n",
    "+ His Piano system will take you to another level\n",
    "+ Berklee College of Music\n",
    "+ I've signed up & should remain committed for 10y"
   ]
  },
  {
   "cell_type": "markdown",
   "metadata": {},
   "source": [
    "### 684. gratitude &#128591;\n",
    "\n",
    "+ andrew\n",
    "+ vincent \n",
    "+ fawaz"
   ]
  },
  {
   "cell_type": "markdown",
   "metadata": {},
   "source": [
    "## 07/15/2023"
   ]
  },
  {
   "cell_type": "markdown",
   "metadata": {},
   "source": [
    "### 685. flow\n",
    "\n",
    "i guess i've been in flow this past week, since returning from the west coast"
   ]
  },
  {
   "cell_type": "markdown",
   "metadata": {},
   "source": [
    "### 686. newlove\n",
    "\n",
    "+ victoria monét is a [dionysian girl](https://www.youtube.com/watch?v=owS78G-N168)  *per excellence*\n",
    "+ her art form is beyond good & evil: even beyoncé can't say that  \n",
    "+ but its really her reverence for tradition that wins me  \n",
    "+ and yet its not mere ancestral worship: she draws blood at other times  \n",
    "+ [smoke](https://muzaale.github.io/destruction/chapter1.html) is probably the best proof of this assertion  \n"
   ]
  },
  {
   "cell_type": "markdown",
   "metadata": {},
   "source": [
    "### 687. r&b\n",
    "\n",
    "+ her - gotta move on\n",
    "+ sir - nothing even matters\n"
   ]
  },
  {
   "cell_type": "markdown",
   "metadata": {},
   "source": [
    "### 689. tonibraxton\n",
    "\n",
    "*sui generis*"
   ]
  },
  {
   "cell_type": "markdown",
   "metadata": {},
   "source": [
    "### 690. ye\n",
    "\n",
    "father stretch my hands, pt. 1"
   ]
  },
  {
   "cell_type": "markdown",
   "metadata": {},
   "source": [
    "### 691. stata\n",
    "\n",
    "+ grading heuristic\n",
    "+ c - visualize observed data (enhance basic stuff from epi)\n",
    "+ b - compare observed to expected (r-class: o/e test-statistics, e(N)/r(N))\n",
    "+ a - decision about quality or meaning of data (p-values, credibility intervals)\n",
    "+ timeline\n",
    "   1. oneway\n",
    "   2. twoway\n",
    "   3. multivariable\n",
    "   4. hierarchical\n",
    "   5. r, python, & ai"
   ]
  },
  {
   "cell_type": "markdown",
   "metadata": {},
   "source": [
    "### 692. tutor\n",
    "\n",
    "```\n",
    "Hey Abimereki, it's Vaughn J Brathwaite from Gospel University. Our ZOOM call is on Jul 15 @ 04:00 PM . Here's the ZOOM link: https://us06web.zoom.us/j/88924354455?pwd=VDhvd21LTDlwTUF2WHB4NGpUVGg2dz09 . Also, Vaughn wants you to watch this video before our Zoom call - join.gospelu.com/pre-call-hw\n",
    " Sent by OnceHub.\n",
    "```"
   ]
  },
  {
   "cell_type": "markdown",
   "metadata": {},
   "source": [
    "### 693. veranolibro\n",
    "\n",
    "+ start experimenting\n",
    "+ for the 340.600\n",
    "+ have #691 above in mind"
   ]
  },
  {
   "cell_type": "markdown",
   "metadata": {},
   "source": [
    "### 694. annuŋŋamya\n",
    "\n",
    "+ continue building variations on the original theme\n",
    "+ recruit the chord-stack system\n",
    "+ and lets see how that workrs"
   ]
  },
  {
   "cell_type": "markdown",
   "metadata": {},
   "source": [
    "### 695. organ\n",
    "\n",
    "+ gospel university\n",
    "+ online gospel music academy\n",
    "+ vaughn (pronounced von) brathwaite\n",
    "+ berklee college of music\n",
    "+ chord stack system\n",
    "\n",
    "\n",
    "```\n",
    "Your upcoming appointment is starting in 1 hour\n",
    "\n",
    "Dear Abimereki,\n",
    "Your appointment is starting in approximately 1 hour. Please see below for more information.\n",
    "\n",
    "Booking details\n",
    "Subject\n",
    "Chord Stack System - Consultation\n",
    "Booking page\n",
    "Vaughn Brathwaite\n",
    "Time\n",
    "Sat, Jul 15, 2023, 04:00 PM - 05:00 PM\n",
    "United States; Eastern time (GMT-4:00) [DST] \n",
    "Cancel/Reschedule\n",
    "Additional guests\n",
    "Conferencing information\n",
    "When it's time, join the meeting from PC, Mac, Linux, iOS or Android: \n",
    "https://us06web.zoom.us/j/88924354455?pwd=VDhvd21LTDlwTUF2WHB4NGpUVGg2dz09\n",
    "Passcode: piano\n",
    "\n",
    "Access Information:\n",
    "Where: Zoom\n",
    "Meeting ID: 88924354455\n",
    "Meeting passcode: piano\n",
    "Booking ID\n",
    "BKNG-AFCY906BGZHP\n",
    "```\n",
    "\n",
    "+ consulation [session](https://fathom.video/share/NySs1Va6iMHpkXsiWjxZ6PWzuQ75GZ-B?tab=summary&utm_medium=attendeesummaryemail&utm_campaign=ab1-c)\n",
    "+ united credit (855) 503 1800 of irvine[,](https://www.unitedcredit.com/your-loan-offers/?rid=1166093&sc=9220299450219&sc2=7e0d8c77087b50e8bfc4b4f10d68cd16&lender=lendingpointprovdir) california\n",
    "+ please upload photo id (did passport)\n",
    "+ lending point aggreement signed\n",
    "\n",
    "```\n",
    "Hi Abimereki,\n",
    "Please sign this Non-Disclosure agreement (which confirms that you will NOT share any information from the GMC program with the public) to continue your enrollment process for the Gospel Musician Coaching program.\n",
    "After this document has been completed, you will receive instructions on how to setup and access ALL the materials within the Gospel Musician Coaching program.\n",
    "Congratulations on joining the program!\n",
    "Cheers,\n",
    "Customer Success Team - Gospel University\n",
    "```\n",
    "\n",
    "```\n",
    "Hi Abimereki,\n",
    "I'm Lorenzo and I'll be your piano coach and mentor over the next 6 months!\n",
    "I'm excited to meet you and get started. \n",
    "Here is the link where you can book your onboarding call with me - CLICK HERE\n",
    "On our first meeting we'll go through your playing video that you submitted and I'll give you some feedback and guidance on where to go from there.\n",
    "Looking forward to meeting you!\n",
    "- Lorenzo\n",
    "The Gospel University, 1545 VFW PKWY, West Roxbury, MA 02132, United States, 8888743930\n",
    "Unsubscribe Manage preferences\n",
    "```\n",
    "\n",
    "[CLICK HERE](https://go.oncehub.com/GMCOnboardingLorenzo?utm_medium=email&_hsmi=221959353&_hsenc=p2ANqtz-9juVaE5bH-Jp1LQcUBVfQjgzoGBzUS3ygsP7AdC2uanFTUzRLUgkJl8y-uTEgnFBuo5uLwBf7KjrhTmmuER8DVg4Tqtw&utm_content=221959353&utm_source=hs_automation)\n",
    "\n",
    "+ signed gospel music coaching agreement\n",
    "+ gospel music [coaching program]( https://academy.thegospeluniversity.com/users/sign_in)\n",
    "   + email@gmail.com\n",
    "   + moZart1234\n",
    "+ gmc [student community](https://academy.thegospeluniversity.com/communities/Q29tbXVuaXR5LTIwNzY2)\n",
    "\n",
    "```\n",
    "\n",
    "Hey Abimereki,\n",
    " \n",
    "Welcome to Gospel Musician Coaching!\n",
    " \n",
    "I’m looking forward to our journey together.\n",
    " \n",
    "Follow these IMPORTANT Steps:\n",
    "\n",
    "1. Find your Login Link Instructions (this was sent to you in a separate email), then....\n",
    " \n",
    "2. Login here - https://academy.thegospeluniversity.com/users/sign_in\n",
    " \n",
    " \n",
    "3. Complete your ONBOARDING process here - CLICK HERE\n",
    " \n",
    "It'll walk you through the entire Gospel University learning platform and show you where everything is.\n",
    " \n",
    " \n",
    "4. Make sure you introduce yourself in the GMC Student Community - CLICK HERE\n",
    "\n",
    "\n",
    "OTHER IMPORTANT STUFF:\n",
    " \n",
    "REMEMBER! Do NOT share any links or any information provided within the GMC program with anyone OUTSIDE the program. Doing so VOIDS your signed agreement with us.\n",
    " \n",
    "Welcome again, and if you have any questions feel free to email us at: support@thegospeluniversity.com\n",
    " \n",
    "Welcome to the GMC family.\n",
    "- Vaughn\n",
    "```\n",
    "\n",
    "```\n",
    "\t\n",
    "Your upcoming appointment is starting in 10 minutes\n",
    "\n",
    "Dear Abimereki,\n",
    "Your appointment is starting in approximately 10 minutes. Please see below for more information.\n",
    " \t \t \n",
    " \t \n",
    " \t \n",
    "Booking details\n",
    "Subject\n",
    "Chord Stack System - Consultation\n",
    "Booking page\n",
    "Vaughn Brathwaite\n",
    "Time\n",
    "Sat, Jul 15, 2023, 02:30 PM - 03:30 PM\n",
    "United States; Eastern time (GMT-4:00) [DST] \n",
    "Cancel/Reschedule\n",
    "Additional guests\n",
    "Conferencing information\n",
    "When it's time, join the meeting from PC, Mac, Linux, iOS or Android: \n",
    "https://us06web.zoom.us/j/88924354455?pwd=VDhvd21LTDlwTUF2WHB4NGpUVGg2dz09\n",
    "Passcode: piano\n",
    "\n",
    "Access Information:\n",
    "Where: Zoom\n",
    "Meeting ID: 88924354455\n",
    "Meeting passcode: piano\n",
    "Booking ID\n",
    "BKNG-AFCY906BGZHP\n",
    "```"
   ]
  },
  {
   "cell_type": "markdown",
   "metadata": {},
   "source": [
    "### 696. stata\n",
    "\n",
    "+ i unconsciously seperated the conceptual (sessions 1-5) from the technical (hub notes 1-27)\n",
    "+ but lets formalize this and capitalize on it to advance our cause even more efficiently\n",
    "+ should help develop the grading rubric so that weights are meaningfully assigned"
   ]
  },
  {
   "cell_type": "markdown",
   "metadata": {},
   "source": [
    "### 697. recap\n",
    "\n",
    "```\n",
    "fingers = voices\n",
    "so.. voicing\n",
    "confused me for a min\n",
    "of course musics origins\n",
    "are entirely vocal\n",
    "a capella sistina\n",
    "for worship & praise\n",
    "well my voicing is\n",
    "going to advance\n",
    "from octave to more \n",
    "nuanced in left hand\n",
    "```\n"
   ]
  },
  {
   "cell_type": "markdown",
   "metadata": {},
   "source": [
    "### 698. zone\n",
    "\n",
    "been in it lately!"
   ]
  },
  {
   "cell_type": "markdown",
   "metadata": {},
   "source": [
    "### 699. migration\n",
    "\n",
    "```\n",
    "~/dropbox/1f.ἡἔρις,κ/1.ontology\n",
    "```\n",
    "\n",
    "+ ai, python, r, and stata workflows\n",
    "+ careful deployment of naming conventions \n",
    "+ jupyter-book folders will be seasons\n",
    "+ github-repo clones will be books\n",
    "+ lets compile the language variants\n",
    "+ will be able to have offline large datasets\n",
    "+ in the vicinity requiring only a ../dataset.csv\n",
    "+ while importing them via jupyter script"
   ]
  },
  {
   "cell_type": "markdown",
   "metadata": {},
   "source": [
    "### 700. chemistry\n",
    "\n",
    "+ musical prodigees are immersed in chemistry\n",
    "+ perhaps unique and innate brain chemistry\n",
    "+ but often also of the self-medicated variety\n",
    "+ these folks can't explain their process\n",
    "+ and often their flickering lights\n",
    "+ in the windy & tempestuous life we live\n",
    "+ are blown out while the candle is still tall\n",
    "+ enter vaughn brathwaite with his \n",
    "+ chord stack system of the gospel university"
   ]
  },
  {
   "cell_type": "markdown",
   "metadata": {},
   "source": [
    "### 701. ancient&modern\n",
    "\n",
    "[the choir](https://www.youtube.com/watch?v=VnRkCJuIhuY) of belfast cathedral\n",
    "\n",
    "```\n",
    "1 \n",
    "There’s a wideness in God’s mercy,\n",
    "like the wideness of the sea.\n",
    "There’s a kindness in God’s justice,\n",
    "which is more than liberty.\n",
    "\n",
    "2 \n",
    "There is welcome for the sinner,\n",
    "and more graces for the good.\n",
    "There is mercy with the Savior,\n",
    "there is healing in his blood.\n",
    "\n",
    "3 \n",
    "But we make God’s love too narrow\n",
    "by false limits of our own,\n",
    "and we magnify its strictness\n",
    "with a zeal God will not own.\n",
    "\n",
    "4 \n",
    "For the love of God is broader\n",
    "than the measures of the mind,\n",
    "and the heart of the Eternal\n",
    "is most wonderfully kind.\n",
    "\n",
    "5 \n",
    "If our love were but more simple,\n",
    "we should rest upon God’s word,\n",
    "and our lives would be illumined\n",
    "by the presence of our Lord\n",
    "```"
   ]
  },
  {
   "cell_type": "markdown",
   "metadata": {},
   "source": [
    "### 702. conventions"
   ]
  },
  {
   "cell_type": "markdown",
   "metadata": {},
   "source": [
    "**Yours truly:** Produce code that generates a table with 6 columns (Language, Season 1, Season 2, Season 3, Season 4, Book). Row 1 will have the following values for the respective cells: English, Spring, Summer, Fall, Winter, Book. Now, please, fill out additional rows with translations for the following languages: Spanish, French, German, Italian, portuguese, swedish, Norwegian, icelandish, danish, dutch, latin, Russian, Chinese, Korean, Japanese, Vietnamese, arabic, Hindi, Gujarati, Zulu, Yoruba, Luganda, Swahili, etc. please use only the common roman alphabet or variants that are easy to use on the common keyboard\n",
    "\n",
    "**ChatGPT:** Certainly! Below is the code that generates the table with 6 columns (Language, Season 1, Season 2, Season 3, Season 4, Book) and fills out additional rows with translations for the specified languages: "
   ]
  },
  {
   "cell_type": "code",
   "execution_count": 13,
   "metadata": {
    "tags": [
     "hide-input"
    ]
   },
   "outputs": [
    {
     "name": "stdout",
     "output_type": "stream",
     "text": [
      "      Language   Season 1 Season 2  Season 3   Season 4     Book\n",
      "0      English     Spring   Summer      Fall     Winter     Book\n",
      "1      Spanish  Primavera   Verano     Otoño   Invierno    Libro\n",
      "2       French  Printemps      Été   Automne      Hiver    Livre\n",
      "3       German   Frühling   Sommer    Herbst     Winter     Buch\n",
      "4      Italian  Primavera   Estate   Autunno    Inverno    Libro\n",
      "5   Portuguese  Primavera    Verão    Outono    Inverno    Livro\n",
      "6      Swedish        Vår   Sommar      Höst     Vinter      Bok\n",
      "7    Norwegian        Vår   Sommer      Høst     Vinter      Bok\n",
      "8   Icelandish        Vor    Sumar     Haust      Vetur      Bók\n",
      "9       Danish      Forår   Sommer   Efterår     Vinter      Bog\n",
      "10       Dutch      Lente    Zomer    Herfst     Winter     Boek\n",
      "11       Latin        Ver   Aestas  Autumnus      Hiems    Liber\n",
      "12     Russian      Весна     Лето     Осень       Зима    Книга\n",
      "13     Chinese         春季       夏季        秋季         冬季        书\n",
      "14      Korean          봄       여름        가을         겨울        책\n",
      "15    Japanese          春        夏         秋          冬        本\n",
      "16  Vietnamese   Mùa Xuân   Mùa Hè   Mùa Thu   Mùa Đông     Sách\n",
      "17      Arabic       ربيع      صيف      خريف       شتاء     كتاب\n",
      "18       Hindi       वसंत  ग्रीष्म      शरद्        शीत   पुस्तक\n",
      "19    Gujarati       વસંત  ગ્રીષ્મ      પતઝડ      શિયાળ   પુસ્તક\n",
      "20        Zulu     Lentha  Inhlaba   Inyanga     Injini  Incwadi\n",
      "21      Yoruba       Ọsan      Ètì       Ọla  Harmattan      Ìwe\n",
      "22     Luganda    Omukaka   Kyampa    Kwakya   Ssekidde  Empaako\n",
      "23     Swahili     Masika     Vuli   Kipupwe   Kiangazi   Kitabu\n"
     ]
    }
   ],
   "source": [
    "import pandas as pd\n",
    "\n",
    "data = [\n",
    "    [\"English\", \"Spring\", \"Summer\", \"Fall\", \"Winter\", \"Book\"],\n",
    "    [\"Spanish\", \"Primavera\", \"Verano\", \"Otoño\", \"Invierno\", \"Libro\"],\n",
    "    [\"French\", \"Printemps\", \"Été\", \"Automne\", \"Hiver\", \"Livre\"],\n",
    "    [\"German\", \"Frühling\", \"Sommer\", \"Herbst\", \"Winter\", \"Buch\"],\n",
    "    [\"Italian\", \"Primavera\", \"Estate\", \"Autunno\", \"Inverno\", \"Libro\"],\n",
    "    [\"Portuguese\", \"Primavera\", \"Verão\", \"Outono\", \"Inverno\", \"Livro\"],\n",
    "    [\"Swedish\", \"Vår\", \"Sommar\", \"Höst\", \"Vinter\", \"Bok\"],\n",
    "    [\"Norwegian\", \"Vår\", \"Sommer\", \"Høst\", \"Vinter\", \"Bok\"],\n",
    "    [\"Icelandish\", \"Vor\", \"Sumar\", \"Haust\", \"Vetur\", \"Bók\"],\n",
    "    [\"Danish\", \"Forår\", \"Sommer\", \"Efterår\", \"Vinter\", \"Bog\"],\n",
    "    [\"Dutch\", \"Lente\", \"Zomer\", \"Herfst\", \"Winter\", \"Boek\"],\n",
    "    [\"Latin\", \"Ver\", \"Aestas\", \"Autumnus\", \"Hiems\", \"Liber\"],\n",
    "    [\"Russian\", \"Весна\", \"Лето\", \"Осень\", \"Зима\", \"Книга\"],\n",
    "    [\"Chinese\", \"春季\", \"夏季\", \"秋季\", \"冬季\", \"书\"],\n",
    "    [\"Korean\", \"봄\", \"여름\", \"가을\", \"겨울\", \"책\"],\n",
    "    [\"Japanese\", \"春\", \"夏\", \"秋\", \"冬\", \"本\"],\n",
    "    [\"Vietnamese\", \"Mùa Xuân\", \"Mùa Hè\", \"Mùa Thu\", \"Mùa Đông\", \"Sách\"],\n",
    "    [\"Arabic\", \"ربيع\", \"صيف\", \"خريف\", \"شتاء\", \"كتاب\"],\n",
    "    [\"Hindi\", \"वसंत\", \"ग्रीष्म\", \"शरद्\", \"शीत\", \"पुस्तक\"],\n",
    "    [\"Gujarati\", \"વસંત\", \"ગ્રીષ્મ\", \"પતઝડ\", \"શિયાળ\", \"પુસ્તક\"],\n",
    "    [\"Zulu\", \"Lentha\", \"Inhlaba\", \"Inyanga\", \"Injini\", \"Incwadi\"],\n",
    "    [\"Yoruba\", \"Ọsan\", \"Ètì\", \"Ọla\", \"Harmattan\", \"Ìwe\"],\n",
    "    [\"Luganda\", \"Omukaka\", \"Kyampa\", \"Kwakya\", \"Ssekidde\", \"Empaako\"],\n",
    "    [\"Swahili\", \"Masika\", \"Vuli\", \"Kipupwe\", \"Kiangazi\", \"Kitabu\"],\n",
    "    # Add more languages and translations here\n",
    "]\n",
    "\n",
    "df = pd.DataFrame(data, columns=[\"Language\", \"Season 1\", \"Season 2\", \"Season 3\", \"Season 4\", \"Book\"])\n",
    "print(df)\n"
   ]
  },
  {
   "cell_type": "markdown",
   "metadata": {},
   "source": [
    "The provided code will create a DataFrame with the translations for the specified languages. You can extend the list of languages and their translations as needed by following the same pattern used in the code."
   ]
  },
  {
   "cell_type": "code",
   "execution_count": 14,
   "metadata": {
    "tags": [
     "hide-input"
    ]
   },
   "outputs": [
    {
     "name": "stdout",
     "output_type": "stream",
     "text": [
      "      Language      Open       Science\n",
      "0      English      Open       Science\n",
      "1      Spanish   Abierto       Ciencia\n",
      "2       French    Ouvert       Science\n",
      "3       German     Offen  Wissenschaft\n",
      "4      Italian    Aperto       Scienza\n",
      "5   Portuguese    Aberto       Ciência\n",
      "6      Swedish     Öppen     Vetenskap\n",
      "7    Norwegian      Åpen     Vitenskap\n",
      "8   Icelandish      Opin       Vísindi\n",
      "9       Danish      Åben     Videnskab\n",
      "10       Dutch      Open    Wetenschap\n",
      "11       Latin   Apertus      Scientia\n",
      "12     Russian   Открыто         Наука\n",
      "13     Chinese        开放            科学\n",
      "14      Korean        열린            과학\n",
      "15    Japanese      オープン            科学\n",
      "16  Vietnamese        Mở      Khoa học\n",
      "17      Arabic     مفتوح           علم\n",
      "18       Hindi      खुला       विज्ञान\n",
      "19    Gujarati   ખોલ્યું       વિજ્ઞાન\n",
      "20        Zulu  Okuvulwe        Ulwazi\n",
      "21      Yoruba       Ọya           Ẹkọ\n",
      "22     Luganda   Ebisolo      Ebitonde\n",
      "23     Swahili      Wazi       Sayansi\n"
     ]
    }
   ],
   "source": [
    "import pandas as pd\n",
    "\n",
    "data = [\n",
    "    [\"English\", \"Open\", \"Science\"],\n",
    "    [\"Spanish\", \"Abierto\", \"Ciencia\"],\n",
    "    [\"French\", \"Ouvert\", \"Science\"],\n",
    "    [\"German\", \"Offen\", \"Wissenschaft\"],\n",
    "    [\"Italian\", \"Aperto\", \"Scienza\"],\n",
    "    [\"Portuguese\", \"Aberto\", \"Ciência\"],\n",
    "    [\"Swedish\", \"Öppen\", \"Vetenskap\"],\n",
    "    [\"Norwegian\", \"Åpen\", \"Vitenskap\"],\n",
    "    [\"Icelandish\", \"Opin\", \"Vísindi\"],\n",
    "    [\"Danish\", \"Åben\", \"Videnskab\"],\n",
    "    [\"Dutch\", \"Open\", \"Wetenschap\"],\n",
    "    [\"Latin\", \"Apertus\", \"Scientia\"],\n",
    "    [\"Russian\", \"Открыто\", \"Наука\"],\n",
    "    [\"Chinese\", \"开放\", \"科学\"],\n",
    "    [\"Korean\", \"열린\", \"과학\"],\n",
    "    [\"Japanese\", \"オープン\", \"科学\"],\n",
    "    [\"Vietnamese\", \"Mở\", \"Khoa học\"],\n",
    "    [\"Arabic\", \"مفتوح\", \"علم\"],\n",
    "    [\"Hindi\", \"खुला\", \"विज्ञान\"],\n",
    "    [\"Gujarati\", \"ખોલ્યું\", \"વિજ્ઞાન\"],\n",
    "    [\"Zulu\", \"Okuvulwe\", \"Ulwazi\"],\n",
    "    [\"Yoruba\", \"Ọya\", \"Ẹkọ\"],\n",
    "    [\"Luganda\", \"Ebisolo\", \"Ebitonde\"],\n",
    "    [\"Swahili\", \"Wazi\", \"Sayansi\"],\n",
    "    # Add more languages and translations here\n",
    "]\n",
    "\n",
    "df = pd.DataFrame(data, columns=[\"Language\", \"Open\", \"Science\"])\n",
    "print(df)\n"
   ]
  },
  {
   "cell_type": "markdown",
   "metadata": {},
   "source": [
    "### 703. vaughn\n",
    "\n",
    "[consultation](https://fathom.video/share/NySs1Va6iMHpkXsiWjxZ6PWzuQ75GZ-B?tab=summary&utm_medium=attendeesummaryemail&utm_campaign=ab1-c): 37:54\n",
    "\n",
    "+ voir\n",
    "   + believes my listening, appreciation, and feel is advanced\n",
    "+ savoir\n",
    "   + however my thinking about chords, voicing of my left hand for organ need work\n",
    "+ pourvoir\n",
    "   + only then will my playing (pourvoir) match my feeling (voir) for music - its 'bout that bridge (savoir)"
   ]
  },
  {
   "cell_type": "markdown",
   "metadata": {},
   "source": [
    "### 704. coach\n",
    "\n",
    "submit my first piano video to him (see 6XX above)"
   ]
  },
  {
   "cell_type": "markdown",
   "metadata": {},
   "source": [
    "### 705. ai\n",
    "\n",
    "```\n",
    "AI  summary\n",
    "\n",
    "Abimereki and Vaughn had a conversation about Abimereki's passion for music and his struggle to play the way he wants to feel. They discussed Abimereki's background in music, his processing methods, and the challenge of analyzing and expressing emotions through music.\n",
    "\n",
    "0:05\n",
    "Abimereki and Vaughn discussed Abimereki's struggles with playing chords on the piano and his desire to improve his left hand voicings. Vaughn explained the limitations of online instruction and the need for a comprehensive and efficient approach to learning.\n",
    "\n",
    "8:57\n",
    "Vaughn and Abimereki discussed Abimereki's passion for music and his desire to become a church musician, specifically playing the organ. Vaughn offered to help Abimereki achieve his goal by providing guidance and connections within the church community.\n",
    "\n",
    "16:24\n",
    "Vaughn discussed his plan to help Abimereki improve his musical skills by restructuring his thinking, filling in information gaps, and teaching him how to think creatively and apply new concepts. They also discussed the coaching process, where Abimereki would submit videos of his progress for evaluation and improvement.\n",
    "\n",
    "25:14\n",
    "Vaughn explained the benefits of group master classes and how they have helped students improve their skills in a shorter time period. Abimereki expressed interest in joining and discussed the option of financing the tuition fees.\n",
    "```"
   ]
  },
  {
   "cell_type": "markdown",
   "metadata": {},
   "source": [
    "## 07/16/2023"
   ]
  },
  {
   "cell_type": "markdown",
   "metadata": {},
   "source": [
    "### 706. openai\n",
    "\n",
    "+ walle USD 15\n",
    "+ gpt4 USD 20\n",
    "+ new subscriptions\n",
    "+ squizout value!"
   ]
  },
  {
   "cell_type": "markdown",
   "metadata": {},
   "source": [
    "### 707. hypothesis"
   ]
  },
  {
   "cell_type": "code",
   "execution_count": 15,
   "metadata": {
    "tags": [
     "hide-input"
    ]
   },
   "outputs": [
    {
     "data": {
      "image/png": "[encoded data removed]",
      "text/plain": [
       "<Figure size 800x600 with 1 Axes>"
      ]
     },
     "metadata": {},
     "output_type": "display_data"
    }
   ],
   "source": [
    "import matplotlib.pyplot as plt\n",
    "import numpy as np\n",
    "\n",
    "# Create data for the skill and challenge levels\n",
    "skill_levels = np.linspace(0, 10, 100)\n",
    "challenge_levels = np.linspace(0, 10, 100)\n",
    "\n",
    "# Define the flow channel boundaries\n",
    "flow_channel = skill_levels\n",
    "\n",
    "# Adjust the phase and amplitude of the sinusoid wave\n",
    "phase = np.pi / 16  # Reducing the wavelength by a quarter\n",
    "amplitude = 1.5\n",
    "flow_channel += np.sin(skill_levels + phase) * amplitude\n",
    "\n",
    "# Define the yellow zone boundaries\n",
    "yellow_zone_low = flow_channel - 1.5\n",
    "yellow_zone_high = flow_channel + 1.5\n",
    "\n",
    "# Define the sinusoid function with the middle yellow line as its axis\n",
    "sinusoid = flow_channel + np.sin(skill_levels + phase) * amplitude\n",
    "\n",
    "# Define the anxiety and boredom areas\n",
    "anxiety_area = np.where(challenge_levels > flow_channel, challenge_levels, np.nan)\n",
    "boredom_area = np.where(challenge_levels < flow_channel, challenge_levels, np.nan)\n",
    "\n",
    "# Plotting\n",
    "plt.figure(figsize=(8, 6))\n",
    "\n",
    "# Plot the anxiety and boredom areas\n",
    "plt.fill_between(skill_levels, flow_channel, 10, color='red', alpha=0.3, label='Anxiety', interpolate=True)\n",
    "plt.fill_between(skill_levels, 0, flow_channel, color='green', alpha=0.3, label='Boredom', interpolate=True)\n",
    "plt.fill_between(skill_levels, yellow_zone_low, yellow_zone_high, color='yellow', alpha=0.3, label='Flow Channel', interpolate=True)\n",
    "\n",
    "# Plot the sinusoid function\n",
    "plt.plot(skill_levels, sinusoid, color='purple', linestyle='-')\n",
    "\n",
    "# Add arrowhead to the sinusoid line (flipped direction)\n",
    "plt.arrow(skill_levels[-2], sinusoid[-2], skill_levels[-1] - skill_levels[-2], sinusoid[-1] - sinusoid[-2],\n",
    "          color='purple', length_includes_head=True, head_width=-0.15, head_length=-0.3)\n",
    "\n",
    "# Plot the flow channel boundaries\n",
    "plt.plot(skill_levels, flow_channel, color='yellow', linestyle='-')\n",
    "\n",
    "# Set plot labels and title\n",
    "plt.xlabel('Credo')\n",
    "plt.ylabel('Setting', rotation='horizontal', ha='right')  # Rotate the label horizontally\n",
    "\n",
    "# Set plot limits and grid\n",
    "plt.xlim(0, 10)\n",
    "plt.ylim(0, 10)\n",
    "plt.grid(True)\n",
    "\n",
    "# Set tick labels\n",
    "tick_labels = ['0', '2', '4', '6', '8', '10']\n",
    "plt.xticks(np.linspace(0, 10, 6), tick_labels)\n",
    "plt.yticks(np.linspace(0, 10, 6), tick_labels)\n",
    "\n",
    "# Add text annotations to label the areas\n",
    "plt.text(2.8, 7.9, 'art', color='black', ha='center', va='center', fontsize=12, bbox=dict(facecolor='pink', edgecolor='pink', boxstyle='round'))\n",
    "plt.text(5, 5.1, 'engineering', color='black', ha='center', va='center', fontsize=12, bbox=dict(facecolor='yellow', edgecolor='yellow', boxstyle='round'))\n",
    "plt.text(6.2, 2.1, 'science', color='black', ha='center', va='center', fontsize=12, bbox=dict(facecolor='lightgreen', edgecolor='lightgreen', boxstyle='round'))\n",
    "\n",
    "# Display the plot\n",
    "plt.show()\n"
   ]
  },
  {
   "cell_type": "markdown",
   "metadata": {},
   "source": [
    "1. <span style=\"color: yellow;\">engineering</span>  \n",
    "   + emergent flow channel \n",
    "   + represents continuous never ending struggle\n",
    "   + of use to artist and scientist alike\n",
    "2. <span style=\"color: green;\">art</span>  \n",
    "   + ones credo is mostly insufficent [^38]\n",
    "   + but things magically sort themselves out\n",
    "   + call it deus ex machina if you will!\n",
    "3. <span style=\"color: red;\">science</span> \n",
    "   + randomized trials create very narrow, unreal settings\n",
    "   + so they are never generalizable\n",
    "   + comforting to reaffirm ones credo\n",
    "   \n",
    "   "
   ]
  },
  {
   "cell_type": "markdown",
   "metadata": {},
   "source": [
    "## 07/17/2023"
   ]
  },
  {
   "cell_type": "markdown",
   "metadata": {},
   "source": [
    "### 708. journaling\n",
    "\n",
    "+ unconvered how i'd reached my recent insights much, much earlier   \n",
    "+ so what then happened to them? why didn't they leave a mark?  \n",
    "+ channeling sir falstaff: [detraction](https://www.gutenberg.org/cache/epub/1780/pg1780.html) will not suffer it!  "
   ]
  },
  {
   "cell_type": "markdown",
   "metadata": {},
   "source": [
    "### 709. conventions"
   ]
  },
  {
   "cell_type": "code",
   "execution_count": 16,
   "metadata": {
    "tags": [
     "hide-input"
    ]
   },
   "outputs": [
    {
     "name": "stdout",
     "output_type": "stream",
     "text": [
      "      language           note                    pad\n",
      "0      English           Note                    Pad\n",
      "1      Spanish           Nota          Bloc de notas\n",
      "2       French           Note             Bloc-notes\n",
      "3       German          Notiz             Notizblock\n",
      "4      Italian           Nota         Blocco di note\n",
      "5   Portuguese           Nota         Bloco de notas\n",
      "6      Swedish     Anteckning       Anteckningsblock\n",
      "7    Norwegian          Notat             Notatblokk\n",
      "8   Icelandish  Minnispunktur              Minnisbók\n",
      "9       Danish          Notat               Notesbog\n",
      "10       Dutch        Notitie            Notitieblok\n",
      "11       Latin           Nota                 Tabula\n",
      "12     Russian        Заметка                Блокнот\n",
      "13     Chinese             笔记                    记事本\n",
      "14      Korean             노트                   노트패드\n",
      "15    Japanese            ノート                 ノートパッド\n",
      "16  Vietnamese        Ghi chú             Sổ ghi chú\n",
      "17      Arabic          مذكرة         دفتر الملاحظات\n",
      "18       Hindi            नोट                 नोटपैड\n",
      "19    Gujarati            નોટ                 નોટપેડ\n",
      "20        Zulu         Inothi       Ikhadi lokubhala\n",
      "21      Yoruba         Akílẹ̀           Padi apileko\n",
      "22     Luganda           Yiga          Yiga empapula\n",
      "23     Swahili        Kumbuka  Kitabu cha kumbukumbu\n"
     ]
    }
   ],
   "source": [
    "import pandas as pd\n",
    "\n",
    "data = {\n",
    "    'language': ['English', 'Spanish', 'French', 'German', 'Italian', 'Portuguese', 'Swedish', 'Norwegian', \n",
    "                 'Icelandish', 'Danish', 'Dutch', 'Latin', 'Russian', 'Chinese', 'Korean', 'Japanese', \n",
    "                 'Vietnamese', 'Arabic', 'Hindi', 'Gujarati', 'Zulu', 'Yoruba', 'Luganda', 'Swahili'],\n",
    "    'note': ['Note', 'Nota', 'Note', 'Notiz', 'Nota', 'Nota', 'Anteckning', 'Notat', \n",
    "             'Minnispunktur', 'Notat', 'Notitie', 'Nota', 'Заметка', '笔记', '노트', 'ノート', \n",
    "             'Ghi chú', 'مذكرة', 'नोट', 'નોટ', 'Inothi', 'Akílẹ̀', 'Yiga', 'Kumbuka'],\n",
    "    'pad': ['Pad', 'Bloc de notas', 'Bloc-notes', 'Notizblock', 'Blocco di note', 'Bloco de notas', 'Anteckningsblock', 'Notatblokk', \n",
    "            'Minnisbók', 'Notesbog', 'Notitieblok', 'Tabula', 'Блокнот', '记事本', '노트패드', 'ノートパッド', \n",
    "            'Sổ ghi chú', 'دفتر الملاحظات', 'नोटपैड', 'નોટપેડ', 'Ikhadi lokubhala', 'Padi apileko', 'Yiga empapula', 'Kitabu cha kumbukumbu'],\n",
    "}\n",
    "\n",
    "df = pd.DataFrame(data)\n",
    "print(df)\n"
   ]
  },
  {
   "cell_type": "markdown",
   "metadata": {},
   "source": [
    "migrating my 'note book' journal to central place for all things python/jupyter and it will go by bloc de notas:  \n",
    "\n",
    "```\n",
    "~/dropbox/1f.ἡἔρις,κ/1.ontology\n",
    "```"
   ]
  },
  {
   "cell_type": "markdown",
   "metadata": {},
   "source": [
    "### 710. afecdvi\n",
    "\n",
    "+ priorities\n",
    "+ vision\n",
    "+ edge \n",
    "\n",
    "1. grants\n",
    "   + in-house\n",
    "   + collabo \n",
    "   + trainees\n",
    "2. science\n",
    "   + transplant\n",
    "   + surgery\n",
    "   + aging\n",
    "3. workflow\n",
    "   + only human error from algorithms\n",
    "   + none from manual processes\n",
    "   + content production\n",
    "      + git: data, code, .html\n",
    "      + terminal: jupyter-lab, rstudio, vscode \n",
    "      + version-control: hub, repo, pages \n",
    "4. beauty\n",
    "   + data visualization\n",
    "   + publication quality\n",
    "   + surpassing expectations\n",
    "5. pyras\n",
    "   + python $\\cdot$ r $\\cdot$ ai $\\cdot$ stata\n",
    "   + efficient, versatile, opensource\n",
    "   + cost-neutral\n",
    "\n",
    "   "
   ]
  },
  {
   "cell_type": "markdown",
   "metadata": {},
   "source": [
    "### 711. advert\n",
    "\n",
    "+ [found](https://www.sensible.so/?utm_source=ea&utm_medium=display&utm_campaign=EA+data+science+0723&utm_term=purple-oai+gpt-4+document+extraction+11&utm_content=readthedocs&ea-publisher=readthedocs) at [jupyterbook](https://jupyterbook.org/en/stable/intro.html)\n",
    "+ sounds interesting \n",
    "+ look into it"
   ]
  },
  {
   "cell_type": "markdown",
   "metadata": {},
   "source": [
    "### 713. graçias &#128591;\n",
    "\n",
    "+ hires\n",
    "+ flow\n",
    "+ ambitions\n",
    "+ collabos\n",
    "+ ds4ph or serendipity"
   ]
  },
  {
   "cell_type": "markdown",
   "metadata": {},
   "source": [
    "### 714. archives\n",
    "\n",
    "+ form 08/2011 - 04/2023  \n",
    "+ just completed task  \n",
    "+ inserted at [06/24/2023](https://muzaale.github.io/book/bilowozo.html#id146)  "
   ]
  },
  {
   "cell_type": "markdown",
   "metadata": {},
   "source": [
    "### 715. bilowozo\n",
    "\n",
    "+ text edit document - 8 MB\n",
    "+ cancerously grown \n",
    "+ url will not load on my phone\n",
    "+ migrate to new book\n",
    "+ use dependencies or links\n",
    "+ so that bilowozo never grows beyond 8KB"
   ]
  },
  {
   "cell_type": "markdown",
   "metadata": {},
   "source": [
    "### 716. diagnosis\n",
    "\n",
    "\n",
    "**Y**I've a jupyter-book with a particular page that is .ipynb on the back end (8 MB in size). over the last 2-3 days it's been giving me the following error when I try to access it on my iPhone 12 Pro Max: \"Problem repeatedly occurred on \"https://muzaale.github.io/book/bilowozo.html\". In other words, the webpage crashes each time I try to load it. This has never happened even once since I created it in April 2023. that said, the webpage is perfectly accessible on my iMac and so I'm wondering why I can't access it on my iphone. \n",
    "\n",
    "\n",
    "**C**There are several possible reasons why you may be experiencing this issue. Here are a few possibilities:  \n",
    "\n",
    "1. **Size and Complexity of the Notebook**: This is the most likely issue given the size of your notebook. Mobile browsers are generally less powerful than their desktop counterparts. They have less memory, less processing power, and stricter limitations to ensure that a single page can't drain the device's battery. An 8 MB .ipynb file could easily exceed these limitations, especially once it's converted to HTML for display. The complexity of the notebook also matters - if it contains complex visualizations or large data tables, that can increase the resources needed to render the page.   \n",
    "\n",
    "2. **Browser Issues**: The mobile version of Safari (the default browser on iOS devices) sometimes has compatibility issues with certain webpages or JavaScript features. You can test this by trying to access the page from another browser, such as Chrome or Firefox, on your iPhone.\n",
    "\n",
    "3. **Cache or Cookies**: Sometimes, the browser cache or cookies can cause pages to fail to load correctly. You might try clearing your cache and cookies to see if that resolves the problem.\n",
    "\n",
    "4. **Internet Connection**: If your iPhone is experiencing slow internet or is on a less reliable network, it might struggle to load the page. You can test this by trying to load the page while connected to a different WiFi network or using cellular data.\n",
    "\n",
    "To resolve the issue, you might try the following:  \n",
    "\n",
    "- Simplify the notebook. Remove any unnecessary images, visualizations, or other complex elements. \n",
    "- Split the notebook into several smaller pages. This could make each individual page less resource-intensive, making them easier to load on a mobile browser.\n",
    "- If the page requires complex JavaScript to display the content, consider finding simpler ways to present the information.\n",
    "- Try accessing the page using a different browser on your iPhone.\n",
    "- Clear your browser's cache and cookies.\n",
    "- Ensure that your iPhone is connected to a reliable network.\n",
    "\n",
    "I hope this helps! Let me know if you have any other questions.  "
   ]
  }
 ],
 "metadata": {
  "kernelspec": {
   "display_name": "Python 3",
   "language": "python",
   "name": "python3"
  },
  "language_info": {
   "codemirror_mode": {
    "name": "ipython",
    "version": 3
   },
   "file_extension": ".py",
   "mimetype": "text/x-python",
   "name": "python",
   "nbconvert_exporter": "python",
   "pygments_lexer": "ipython3",
   "version": "3.11.2"
  },
  "widgets": {
   "application/vnd.jupyter.widget-state+json": {
    "state": {},
    "version_major": 2,
    "version_minor": 0
   }
  }
 },
 "nbformat": 4,
 "nbformat_minor": 4
}
