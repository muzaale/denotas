{
 "cells": [
  {
   "cell_type": "markdown",
   "metadata": {},
   "source": [
    "#### 04/2018\n",
    "\n",
    "\n",
    "An ability to write informatively, succinctly and wittily, combined with numeracy and curiosity, matter more than prior experience  \n",
    "\n",
    "The Economist  "
   ]
  }
 ],
 "metadata": {
  "kernelspec": {
   "display_name": "myenv",
   "language": "python",
   "name": "myenv"
  },
  "language_info": {
   "name": "python"
  }
 },
 "nbformat": 4,
 "nbformat_minor": 2
}
