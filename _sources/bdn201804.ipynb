{
 "cells": [
  {
   "cell_type": "markdown",
   "metadata": {},
   "source": [
    "#### 04/2018\n",
    "\n",
    "\n",
    "An ability to write informatively, succinctly and wittily, combined with numeracy and curiosity, matter more than prior experience  \n",
    "\n",
    "The Economist  "
   ]
  }
 ],
 "metadata": {
  "language_info": {
   "name": "python"
  },
  "orig_nbformat": 4
 },
 "nbformat": 4,
 "nbformat_minor": 2
}
