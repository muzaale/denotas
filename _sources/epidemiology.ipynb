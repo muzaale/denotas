{
 "cells": [
  {
   "cell_type": "markdown",
   "metadata": {},
   "source": [
    "1. meta-analysis of randomized trials\n",
    "2. randomized trials (highly selected patients)\n",
    "3. observational studies (constrained by budgets and ethics)\n",
    "4. big data (electronic health records, insurance claims, registries, web-based surveys, wearable devices, social media, etc.)\n",
    "5. case series, reports and anecdotes (historical medical literature and classical medical education)\n",
    "6. expert opinion (clinical experience and intuition especially in the absence of evidence, say, in the case of a novel disease)\n",
    "\n",
    "\n"
   ]
  }
 ],
 "metadata": {
  "kernelspec": {
   "display_name": "Python 3",
   "language": "python",
   "name": "python3"
  },
  "language_info": {
   "codemirror_mode": {
    "name": "ipython",
    "version": 3
   },
   "file_extension": ".py",
   "mimetype": "text/x-python",
   "name": "python",
   "nbconvert_exporter": "python",
   "pygments_lexer": "ipython3",
   "version": "3.11.2"
  },
  "orig_nbformat": 4
 },
 "nbformat": 4,
 "nbformat_minor": 2
}
