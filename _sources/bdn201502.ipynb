{
 "cells": [
  {
   "cell_type": "markdown",
   "metadata": {},
   "source": [
    "## 02/2015\n",
    "\n",
    "[Kyrie](https://muzaale.github.io/denotas/bdn202307.html#kyrie): Lyrical & Existential Cry for Mercy  \n",
    "Gloria: Thank God the Father  \n",
    "Credo: Beliefs Guiding Actions  \n",
    "Sanctus/Benedictus: For the Body&Blood  \n",
    "Angus Deus: Dona Nobis Pacem. {cite}`latinmass`\n"
   ]
  }
 ],
 "metadata": {
  "kernelspec": {
   "display_name": "myenv",
   "language": "python",
   "name": "myenv"
  },
  "language_info": {
   "name": "python"
  }
 },
 "nbformat": 4,
 "nbformat_minor": 2
}
