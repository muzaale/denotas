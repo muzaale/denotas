{
 "cells": [
  {
   "cell_type": "markdown",
   "metadata": {},
   "source": []
  },
  {
   "cell_type": "markdown",
   "metadata": {},
   "source": [
    "## 02/2015\n",
    "\n",
    "Kyrie: Lyrical & Existential Cry for Mercy  \n",
    "Gloria: Thank God the Father  \n",
    "Credo: Beliefs Guiding Actions  \n",
    "Sanctus/Benedictus: For the Body&Blood  \n",
    "Angus Deus: Dona Nobis Pacem {cite}`holdgraf_evidence_2014`. \n"
   ]
  }
 ],
 "metadata": {
  "language_info": {
   "name": "python"
  },
  "orig_nbformat": 4
 },
 "nbformat": 4,
 "nbformat_minor": 2
}
