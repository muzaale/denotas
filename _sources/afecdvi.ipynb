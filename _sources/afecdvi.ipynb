{
 "cells": [
  {
   "cell_type": "markdown",
   "metadata": {},
   "source": [
    "# bloc de notas\n",
    "\n",
    "## created at 7:44AM on 07/19/2023\n",
    "\n",
    "### quick & dirty python & ai code trials & general natural language notes\n",
    "\n",
    "1. just got the idea to create a quick (workdir) & dirty (repo) book\n",
    "2. should be able to facilitate real-time dialogue\n",
    "3. lets seperate this be afecdvi.github.io"
   ]
  },
  {
   "cell_type": "code",
   "execution_count": 13,
   "metadata": {},
   "outputs": [
    {
     "name": "stdout",
     "output_type": "stream",
     "text": [
      "   Rank 2021            Account Followers 2021  Rank 2023            Account  \\\n",
      "0          1          Instagram    649 million          1          Instagram   \n",
      "1          2  Cristiano Ronaldo    597 million          2  Cristiano Ronaldo   \n",
      "2          3     Dwayne Johnson    388 million          3       Lionel Messi   \n",
      "3          4       Selena Gomez    426 million          4       Selena Gomez   \n",
      "4          5      Ariana Grande    377 million          5       Kylie Jenner   \n",
      "5          6       Kylie Jenner    398 million          6     Dwayne Johnson   \n",
      "6          7     Kim Kardashian    363 million          7      Ariana Grande   \n",
      "7          8          Leo Messi    479 million          8     Kim Kardashian   \n",
      "8          9            Beyoncé    315 million          9            Beyoncé   \n",
      "9         10         Neymar Jr.        Unknown         10   Khloé Kardashian   \n",
      "\n",
      "  Followers 2023  \n",
      "0    649 million  \n",
      "1    597 million  \n",
      "2    479 million  \n",
      "3    426 million  \n",
      "4    398 million  \n",
      "5    388 million  \n",
      "6    377 million  \n",
      "7    363 million  \n",
      "8    315 million  \n",
      "9        Unknown  \n"
     ]
    }
   ],
   "source": [
    "import pandas as pd\n",
    "\n",
    "data_2021 = [\n",
    "    {'Rank 2021': 1, 'Account': 'Instagram', 'Followers 2021': '649 million'},\n",
    "    {'Rank 2021': 2, 'Account': 'Cristiano Ronaldo', 'Followers 2021': '597 million'},\n",
    "    {'Rank 2021': 3, 'Account': 'Dwayne Johnson', 'Followers 2021': '388 million'},\n",
    "    {'Rank 2021': 4, 'Account': 'Selena Gomez', 'Followers 2021': '426 million'},\n",
    "    {'Rank 2021': 5, 'Account': 'Ariana Grande', 'Followers 2021': '377 million'},\n",
    "    {'Rank 2021': 6, 'Account': 'Kylie Jenner', 'Followers 2021': '398 million'},\n",
    "    {'Rank 2021': 7, 'Account': 'Kim Kardashian', 'Followers 2021': '363 million'},\n",
    "    {'Rank 2021': 8, 'Account': 'Leo Messi', 'Followers 2021': '479 million'},\n",
    "    {'Rank 2021': 9, 'Account': 'Beyoncé', 'Followers 2021': '315 million'},\n",
    "    {'Rank 2021': 10, 'Account': 'Neymar Jr.', 'Followers 2021': 'Unknown'}\n",
    "]\n",
    "\n",
    "data_2023 = [\n",
    "    {'Rank 2023': 1, 'Account': 'Instagram', 'Followers 2023': '649 million'},\n",
    "    {'Rank 2023': 2, 'Account': 'Cristiano Ronaldo', 'Followers 2023': '597 million'},\n",
    "    {'Rank 2023': 3, 'Account': 'Lionel Messi', 'Followers 2023': '479 million'},\n",
    "    {'Rank 2023': 4, 'Account': 'Selena Gomez', 'Followers 2023': '426 million'},\n",
    "    {'Rank 2023': 5, 'Account': 'Kylie Jenner', 'Followers 2023': '398 million'},\n",
    "    {'Rank 2023': 6, 'Account': 'Dwayne Johnson', 'Followers 2023': '388 million'},\n",
    "    {'Rank 2023': 7, 'Account': 'Ariana Grande', 'Followers 2023': '377 million'},\n",
    "    {'Rank 2023': 8, 'Account': 'Kim Kardashian', 'Followers 2023': '363 million'},\n",
    "    {'Rank 2023': 9, 'Account': 'Beyoncé', 'Followers 2023': '315 million'},\n",
    "    {'Rank 2023': 10, 'Account': 'Khloé Kardashian', 'Followers 2023': 'Unknown'}\n",
    "]\n",
    "\n",
    "df_2021 = pd.DataFrame(data_2021)\n",
    "df_2023 = pd.DataFrame(data_2023)\n",
    "\n",
    "df = pd.concat([df_2021[['Rank 2021', 'Account', 'Followers 2021']], df_2023[['Rank 2023', 'Account', 'Followers 2023']]], axis=1)\n",
    "\n",
    "print(df)\n"
   ]
  }
 ],
 "metadata": {
  "kernelspec": {
   "display_name": "Python 3",
   "language": "python",
   "name": "python3"
  },
  "language_info": {
   "codemirror_mode": {
    "name": "ipython",
    "version": 3
   },
   "file_extension": ".py",
   "mimetype": "text/x-python",
   "name": "python",
   "nbconvert_exporter": "python",
   "pygments_lexer": "ipython3",
   "version": "3.11.2"
  },
  "orig_nbformat": 4
 },
 "nbformat": 4,
 "nbformat_minor": 2
}
