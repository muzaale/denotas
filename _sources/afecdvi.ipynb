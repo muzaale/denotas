{
 "cells": [
  {
   "cell_type": "markdown",
   "metadata": {},
   "source": [
    "my_jupyter_book_project/\n",
    "|-- _build/\n",
    "|-- _config.yml\n",
    "|-- _toc.yml\n",
    "|-- _templates/             <-- This is where your custom templates would go\n",
    "|   |-- custom_layout.html\n",
    "|   |-- ...\n",
    "|-- content/\n",
    "|   |-- some_notebook.ipynb\n",
    "|   |-- some_markdown.md\n",
    "|-- bibliography.bib\n",
    "|-- ...\n"
   ]
  }
 ],
 "metadata": {
  "kernelspec": {
   "display_name": "Python 3",
   "language": "python",
   "name": "python3"
  },
  "language_info": {
   "codemirror_mode": {
    "name": "ipython",
    "version": 3
   },
   "file_extension": ".py",
   "mimetype": "text/x-python",
   "name": "python",
   "nbconvert_exporter": "python",
   "pygments_lexer": "ipython3",
   "version": "3.11.2"
  },
  "orig_nbformat": 4
 },
 "nbformat": 4,
 "nbformat_minor": 2
}
