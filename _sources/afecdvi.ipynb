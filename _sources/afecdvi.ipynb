{
 "cells": [
  {
   "cell_type": "markdown",
   "metadata": {},
   "source": [
    "todoby073123\n",
    "\n",
    "1. grants: topics, needs\n",
    "    - outcomes: hospitalization, esrd, death in older living kidney donors (k08: 2020-2024)\n",
    "    - exposures: natural language processing to extract frailty from clinical notes of older living kidney donors (r21: 2024-2025)\n",
    "    - predictors: risk calculators in older living kidney donors (k08: 2020-2024)\n",
    "    - caregivers: communication, education, support with co-pilot plugin (r03: 2024-2025)\n",
    "    - mentoring: grant for ai/clinical informatics/epidemiology in older living kidney donors (k24: 2024-2029)\n",
    "\n",
    "2. papers: \n",
    "    - nhanes public data\n",
    "    - automated stata `(jupyter-book)``\n",
    "    - then automated r\n",
    "    - ultimately automated python\n",
    "    - rich documentation\n",
    "\n",
    "3. teaching:\n",
    "    - stata\n",
    "    - r\n",
    "    - python\n",
    "    - jupyter-book\n",
    "    - github\n",
    "4. mentoring \n",
    "    - undergraduates\n",
    "    - medical students\n",
    "    - residents\n",
    "    - fellows\n",
    "    - junior faculty\n",
    "    - collaborators\n",
    "5. service\n",
    "    - national\n",
    "    - regional\n",
    "    - local\n",
    "    - institutional\n",
    "6. clinical\n",
    "    - kidney transplant\n",
    "    - living kidney donor\n",
    "    - clinical transplantation\n",
    "    "
   ]
  },
  {
   "cell_type": "markdown",
   "metadata": {},
   "source": [
    "In this bibliography analysis, the authors study \"Research productivity of the United States of America in the field of organ transplantation.\"\n",
    "\n",
    "How these efforts may translate into better clinical care, more refined guidelines, or more effective policies for the care of our patients is not clear. \n",
    "\n",
    "Nothing seems novel either. It is well known that the USA has the largest volume of patients in the field of transplantation and has led in peer-reviewed output since the 1950s. Ranking transplant centers, researchers, and journals in the USA based on number of citations is something that might be of interest to some, and a need that may be met by magazines such as US News and World Report. But it is not the kind of work that Clinical Transplantation is interested in publishing.\n",
    "\n",
    "Granted, when we look at the methodological rigor of this paper, we find fundamental flaws. Table 5, for instance, describes the \"top-15 cited articles in the field of trnsplantation by authors from the USA.\" As an author of articles in the field of transplantation, I have published papers in General medical journals with more citations than most of these listed articles and these have not been captured. Which is to say, the denominator of this study is not the most appropriate. The denominator should be the number of articles published in the field of transplantation by authors in any peer-reviewed journal (and from any country!). \n",
    "\n",
    "But what would be the point of such a study? From an editorial perspective, we are not in the business of counting citations. We are in the business of improving the health of our patients."
   ]
  },
  {
   "cell_type": "markdown",
   "metadata": {},
   "source": [
    "What I wish to share with P:\n",
    "\n",
    "1. Free AI has arrived and will exponentiate speed and quality of output for the student, graduate, and working professional.\n",
    "2. You probably don't need to learn how to code statistical programs such as SPSS. You need to learn how to use AI.\n",
    "3. As your thesis takes shape, you will need to learn how to use AI to analyze your data and write your thesis\n",
    "4. I know you'll be served if you do all the above incrementally, as you go along, rather than in a big bang at the end"
   ]
  },
  {
   "cell_type": "markdown",
   "metadata": {},
   "source": [
    "\n",
    "\n",
    "Hello Abimereki Muzaale,\n",
    "\n",
    "Congratulations, your application has been approved! Next, you need to upload a copy of your itemized invoice showing all tuition and fees. To retrieve your statement, you will need to log into your SIS account and select Billing, click Summary, and under View Statement select the statement you need. This will then be reviewed and approved by EdAssist. Visit https://hr.jhu.edu/benefits-worklife/tuition-assistance/tuition-reimbursement/degree-seeking-credit-courses/ for step-by-step instructions. \n",
    "\n",
    "NOTE: The amount approved on your application is subject to change upon review of your itemized invoice/statement. If you have reached your annual cap limit during application review for payment processing, your application will be paid out up to the cap limit and you will be responsible for any amounts that have exceeded your annual cap limit. If you have received any gift aid (scholarships/grants/discounts/etc.), your approved amount will be reduced at the time of payment processing. \n",
    "\n",
    "Application: 11188178\n",
    "Program: Tuition Remission at JHU\n",
    "Session: 08/28/2023 - 10/24/2023 \n",
    "Course Name(s): Thesis research clinical investigation\n",
    "\n",
    "You can create, edit, and manage your applications via the website. \n",
    "\n",
    "If you have questions regarding your application, please use the 'Comments' section to communicate with us. For additional assistance, please visit the support page within the site and we will be happy to assist!\n",
    "\n",
    "Regards,\n",
    "Bright Horizons EdAssist Solutions\n",
    "Website: https://JHU.edassist.com\n",
    "\n",
    "This is an automatically generated email. Please do not reply to this address. \n",
    "\n",
    "\n",
    "\n",
    "\n",
    "EdAssist | 2 Wells Ave. Newton, MA 02459.\n",
    "A Bright Horizons Solution at Work.\n",
    "www.edassist.com\n",
    "\n",
    "This e-mail and any attachments to it are intended only for the addressee\n",
    "and may contain information which is confidential and/or legally privileged.\n",
    "If you are not the intended recipient, you are hereby notified that any\n",
    "dissemination, distribution or copying is strictly prohibited. If you have\n",
    "received this e-mail in error, please contact the sender immediately and\n",
    "delete the material from any computer and any printout thereof. Bright\n",
    "Horizons cannot guarantee that this e-mail communication is secure or free\n",
    "of error. No liability is accepted for any viruses or for any corruption,\n",
    "amendment to or deletion of or from this e-mail."
   ]
  }
 ],
 "metadata": {
  "kernelspec": {
   "display_name": "Python 3",
   "language": "python",
   "name": "python3"
  },
  "language_info": {
   "codemirror_mode": {
    "name": "ipython",
    "version": 3
   },
   "file_extension": ".py",
   "mimetype": "text/x-python",
   "name": "python",
   "nbconvert_exporter": "python",
   "pygments_lexer": "ipython3",
   "version": "3.11.2"
  },
  "orig_nbformat": 4
 },
 "nbformat": 4,
 "nbformat_minor": 2
}
