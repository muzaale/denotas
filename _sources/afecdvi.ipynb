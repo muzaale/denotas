{
 "cells": [
  {
   "cell_type": "markdown",
   "metadata": {},
   "source": [
    "```unix\n",
    "ssh-keygen -t ed25519 -C \"dhatemwakulala@gmail.com\"\n",
    "/users/d/.ssh/id_yaffeffena.pub \n",
    "uganda\n",
    "\n",
    "\n",
    "(base) d@Poseidon ffena % ssh-keygen -t ed25519 -C \"dhatemwakulala@gmail.com\"\n",
    "Generating public/private ed25519 key pair.\n",
    "Enter file in which to save the key (/Users/d/.ssh/id_ed25519): /users/d/.ssh/id_yaffeffena.pub      \n",
    "Enter passphrase (empty for no passphrase): \n",
    "Enter same passphrase again: \n",
    "Your identification has been saved in /users/d/.ssh/id_yaffeffena.pub\n",
    "Your public key has been saved in /users/d/.ssh/id_yaffeffena.pub.pub\n",
    "The key fingerprint is:\n",
    "SHA256:hx0P+a1nae09w69jrj4wBpnjib3xSHk3E71rSDxo4gw dhatemwakulala@gmail.com\n",
    "The key's randomart image is:\n",
    "+--[ED25519 256]--+\n",
    "|                 |\n",
    "|           .     |\n",
    "|         o+  .   |\n",
    "|        =o =...  |\n",
    "|       +S=ooo... |\n",
    "|      E O.B B..o |\n",
    "|       = X =.=*..|\n",
    "|        = . o+==.|\n",
    "|           .o*ooB|\n",
    "+----[SHA256]-----+\n",
    "(base) d@Poseidon ffena %\n",
    "\n",
    "cd /users/d/.ssh/\n",
    "ls -l\n",
    "cat /users/d/.ssh/id_yaffeffena.pub # shouldn't have added .pub\n",
    "cat id_yaffeffena.pub\n",
    "cat id_yaffeffena.pub.pub\n",
    "deploy .pub key on github\n",
    "eval \"$(ssh-agent -s)\"\n",
    "Agent pid 26700\n",
    "pbcopy < ~/.ssh/id_yaffeffena.pub.pub\n",
    "chmod 600 ~/.ssh/id_yaffeffena.pub\n",
    "chmod 644 ~/.ssh/id_yaffeffena.pub.pub\n",
    "git remote set-url origin git@github.com:dhatemwakulala/ffena\n",
    "ssh-add ~/.ssh/id_yaffeffena.pub\n",
    "uganda\n",
    "git push \n",
    "\n",
    "```\n",
    "\n",
    "\n",
    "\n",
    "\n",
    "\n"
   ]
  }
 ],
 "metadata": {
  "kernelspec": {
   "display_name": "Python 3",
   "language": "python",
   "name": "python3"
  },
  "language_info": {
   "codemirror_mode": {
    "name": "ipython",
    "version": 3
   },
   "file_extension": ".py",
   "mimetype": "text/x-python",
   "name": "python",
   "nbconvert_exporter": "python",
   "pygments_lexer": "ipython3",
   "version": "3.11.2"
  },
  "orig_nbformat": 4
 },
 "nbformat": 4,
 "nbformat_minor": 2
}
