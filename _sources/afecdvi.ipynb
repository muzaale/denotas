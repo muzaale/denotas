{
 "cells": [
  {
   "cell_type": "markdown",
   "metadata": {},
   "source": [
    "# bloc de notas\n",
    "\n",
    "## created at 7:44AM on 07/19/2023\n",
    "\n",
    "### quick & dirty python & ai code trials & general natural language notes\n",
    "\n",
    "1. just got the idea to create a quick (workdir) & dirty (repo) book\n",
    "2. should be able to facilitate real-time dialogue\n",
    "3. lets seperate this be afecdvi.github.io"
   ]
  },
  {
   "cell_type": "code",
   "execution_count": null,
   "metadata": {},
   "outputs": [],
   "source": [
    "import requests\n",
    "from bs4 import BeautifulSoup\n",
    "from tabulate import tabulate\n",
    "\n",
    "def scrape_influencers():\n",
    "    # URL of the influencers page on SEMrush\n",
    "    url = \"https://www.semrush.com/website/influencers/\"\n",
    "\n",
    "    # Send a GET request to the URL and retrieve the content\n",
    "    response = requests.get(url)\n",
    "    content = response.text\n",
    "\n",
    "    # Create a BeautifulSoup object to parse the HTML content\n",
    "    soup = BeautifulSoup(content, \"html.parser\")\n",
    "\n",
    "    # Find the table containing the influencers\n",
    "    table = soup.find(\"table\", class_=\"data-table\")\n",
    "\n",
    "    # Extract the influencer data from the table\n",
    "    influencers = []\n",
    "    rows = table.find_all(\"tr\")[1:]  # Exclude the header row\n",
    "    for row in rows:\n",
    "        columns = row.find_all(\"td\")\n",
    "        if len(columns) >= 4:\n",
    "            position = columns[0].text.strip()\n",
    "            account = columns[1].text.strip()\n",
    "            audience = columns[2].text.strip()\n",
    "            statistics = columns[3].text.strip()\n",
    "            influencers.append([position, account, audience, statistics])\n",
    "\n",
    "    return influencers\n",
    "\n",
    "# Scrape the influencers data\n",
    "influencers_table = scrape_influencers()\n",
    "\n",
    "# Print the influencers table\n",
    "print(tabulate(influencers_table, headers=[\"Position\", \"Account\", \"Audience\", \"Statistics\"]))\n"
   ]
  },
  {
   "cell_type": "code",
   "execution_count": 1,
   "metadata": {},
   "outputs": [
    {
     "ename": "AttributeError",
     "evalue": "'NoneType' object has no attribute 'find_all'",
     "output_type": "error",
     "traceback": [
      "\u001b[0;31m---------------------------------------------------------------------------\u001b[0m",
      "\u001b[0;31mAttributeError\u001b[0m                            Traceback (most recent call last)",
      "Cell \u001b[0;32mIn[1], line 34\u001b[0m\n\u001b[1;32m     31\u001b[0m     \u001b[39mreturn\u001b[39;00m filmography\n\u001b[1;32m     33\u001b[0m \u001b[39m# Scrape Woody Allen's filmography\u001b[39;00m\n\u001b[0;32m---> 34\u001b[0m filmography_table \u001b[39m=\u001b[39m scrape_filmography()\n\u001b[1;32m     36\u001b[0m \u001b[39m# Print the filmography table\u001b[39;00m\n\u001b[1;32m     37\u001b[0m \u001b[39mprint\u001b[39m(tabulate(filmography_table, headers\u001b[39m=\u001b[39m[\u001b[39m\"\u001b[39m\u001b[39mTitle\u001b[39m\u001b[39m\"\u001b[39m, \u001b[39m\"\u001b[39m\u001b[39mYear\u001b[39m\u001b[39m\"\u001b[39m, \u001b[39m\"\u001b[39m\u001b[39mGenre\u001b[39m\u001b[39m\"\u001b[39m, \u001b[39m\"\u001b[39m\u001b[39mDirector\u001b[39m\u001b[39m\"\u001b[39m]))\n",
      "Cell \u001b[0;32mIn[1], line 21\u001b[0m, in \u001b[0;36mscrape_filmography\u001b[0;34m()\u001b[0m\n\u001b[1;32m     19\u001b[0m \u001b[39m# Extract the film data from the table\u001b[39;00m\n\u001b[1;32m     20\u001b[0m filmography \u001b[39m=\u001b[39m []\n\u001b[0;32m---> 21\u001b[0m rows \u001b[39m=\u001b[39m table\u001b[39m.\u001b[39;49mfind_all(\u001b[39m\"\u001b[39m\u001b[39mtr\u001b[39m\u001b[39m\"\u001b[39m)[\u001b[39m1\u001b[39m:]  \u001b[39m# Exclude the header row\u001b[39;00m\n\u001b[1;32m     22\u001b[0m \u001b[39mfor\u001b[39;00m row \u001b[39min\u001b[39;00m rows:\n\u001b[1;32m     23\u001b[0m     columns \u001b[39m=\u001b[39m row\u001b[39m.\u001b[39mfind_all(\u001b[39m\"\u001b[39m\u001b[39mtd\u001b[39m\u001b[39m\"\u001b[39m)\n",
      "\u001b[0;31mAttributeError\u001b[0m: 'NoneType' object has no attribute 'find_all'"
     ]
    }
   ],
   "source": [
    "import requests\n",
    "from bs4 import BeautifulSoup\n",
    "from tabulate import tabulate\n",
    "\n",
    "def scrape_filmography():\n",
    "    # URL of Woody Allen's filmography on Wikipedia\n",
    "    url = \"https://www.semrush.com/website/influencers/\"\n",
    "\n",
    "    # Send a GET request to the URL and retrieve the content\n",
    "    response = requests.get(url)\n",
    "    content = response.text\n",
    "\n",
    "    # Create a BeautifulSoup object to parse the HTML content\n",
    "    soup = BeautifulSoup(content, \"html.parser\")\n",
    "\n",
    "    # Find the table containing the filmography\n",
    "    table = soup.find(\"table\", class_=\"wikitable\")\n",
    "\n",
    "    # Extract the film data from the table\n",
    "    filmography = []\n",
    "    rows = table.find_all(\"tr\")[1:]  # Exclude the header row\n",
    "    for row in rows:\n",
    "        columns = row.find_all(\"td\")\n",
    "        if len(columns) >= 3:\n",
    "            title = columns[0].text.strip()\n",
    "            year = columns[1].text.strip()\n",
    "            genre = columns[2].text.strip()\n",
    "            director = \"Woody Allen\"\n",
    "            filmography.append([title, year, genre, director])\n",
    "\n",
    "    return filmography\n",
    "\n",
    "# Scrape Woody Allen's filmography\n",
    "filmography_table = scrape_filmography()\n",
    "\n",
    "# Print the filmography table\n",
    "print(tabulate(filmography_table, headers=[\"Title\", \"Year\", \"Genre\", \"Director\"]))"
   ]
  }
 ],
 "metadata": {
  "kernelspec": {
   "display_name": "Python 3",
   "language": "python",
   "name": "python3"
  },
  "language_info": {
   "codemirror_mode": {
    "name": "ipython",
    "version": 3
   },
   "file_extension": ".py",
   "mimetype": "text/x-python",
   "name": "python",
   "nbconvert_exporter": "python",
   "pygments_lexer": "ipython3",
   "version": "3.11.2"
  },
  "orig_nbformat": 4
 },
 "nbformat": 4,
 "nbformat_minor": 2
}
