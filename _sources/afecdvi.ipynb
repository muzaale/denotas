{
 "cells": [
  {
   "cell_type": "markdown",
   "metadata": {},
   "source": [
    "# bloc de notas\n",
    "\n",
    "## created at 7:44AM on 07/19/2023\n",
    "\n",
    "### quick & dirty python & ai code trials & general natural language notes\n",
    "\n",
    "1. just got the idea to create a quick (workdir) & dirty (repo) book\n",
    "2. should be able to facilitate real-time dialogue\n",
    "3. lets seperate this be afecdvi.github.io"
   ]
  }
 ],
 "metadata": {
  "language_info": {
   "name": "python"
  },
  "orig_nbformat": 4
 },
 "nbformat": 4,
 "nbformat_minor": 2
}
