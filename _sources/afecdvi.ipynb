{
 "cells": [
  {
   "cell_type": "markdown",
   "metadata": {},
   "source": [
    "bills,bills,bilss\n",
    "\n",
    "1. bge\n",
    "2. att\n",
    "3. comcast\n",
    "\n",
    "1. fix your attitude (i.e. burn as many calories as is necessary to getrrr done)\n",
    "   + no credo\n",
    "   + no settings\n",
    "2. fix your credo (i.e., your god, ideals, and values are unchanging)\n",
    "   + change settings to reflect your credo\n",
    "   + change attitude to reflect your credo\n",
    "3. fix your settings (i.e., your environment is unchanging)\n",
    "   + have no credo and be somewhat agnostic\n",
    "   + but gradually master the limited environment you've restricted yourself to"
   ]
  }
 ],
 "metadata": {
  "kernelspec": {
   "display_name": "Python 3",
   "language": "python",
   "name": "python3"
  },
  "language_info": {
   "codemirror_mode": {
    "name": "ipython",
    "version": 3
   },
   "file_extension": ".py",
   "mimetype": "text/x-python",
   "name": "python",
   "nbconvert_exporter": "python",
   "pygments_lexer": "ipython3",
   "version": "3.11.2"
  },
  "orig_nbformat": 4
 },
 "nbformat": 4,
 "nbformat_minor": 2
}
