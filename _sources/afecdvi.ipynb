{
 "cells": [
  {
   "cell_type": "markdown",
   "metadata": {},
   "source": [
    "todoby073123\n",
    "\n",
    "1. grants: topics, needs\n",
    "    - outcomes: hospitalization, esrd, death in older living kidney donors (k08: 2020-2024)\n",
    "    - exposures: natural language processing to extract frailty from clinical notes of older living kidney donors (r21: 2024-2025)\n",
    "    - predictors: risk calculators in older living kidney donors (k08: 2020-2024)\n",
    "    - caregivers: communication, education, support with co-pilot plugin (r03: 2024-2025)\n",
    "    - mentoring: grant for ai/clinical informatics/epidemiology in older living kidney donors (k24: 2024-2029)\n",
    "\n",
    "2. papers: \n",
    "    - nhanes public data\n",
    "    - automated stata `(jupyter-book)``\n",
    "    - then automated r\n",
    "    - ultimately automated python\n",
    "    - rich documentation\n",
    "\n",
    "3. teaching:\n",
    "    - stata\n",
    "    - r\n",
    "    - python\n",
    "    - jupyter-book\n",
    "    - github\n",
    "4. mentoring \n",
    "    - undergraduates\n",
    "    - medical students\n",
    "    - residents\n",
    "    - fellows\n",
    "    - junior faculty\n",
    "    - collaborators\n",
    "5. service\n",
    "    - national\n",
    "    - regional\n",
    "    - local\n",
    "    - institutional\n",
    "6. clinical\n",
    "    - kidney transplant\n",
    "    - living kidney donor\n",
    "    - clinical transplantation\n",
    "    "
   ]
  }
 ],
 "metadata": {
  "kernelspec": {
   "display_name": "Python 3",
   "language": "python",
   "name": "python3"
  },
  "language_info": {
   "codemirror_mode": {
    "name": "ipython",
    "version": 3
   },
   "file_extension": ".py",
   "mimetype": "text/x-python",
   "name": "python",
   "nbconvert_exporter": "python",
   "pygments_lexer": "ipython3",
   "version": "3.11.2"
  },
  "orig_nbformat": 4
 },
 "nbformat": 4,
 "nbformat_minor": 2
}
