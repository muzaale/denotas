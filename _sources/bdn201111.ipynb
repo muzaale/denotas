{
 "cells": [
  {
   "cell_type": "markdown",
   "metadata": {},
   "source": [
    "### 545. notes\n",
    "\n",
    "#### 11/2011\n",
    "\n",
    "lost all my iphone notes prior to 06/2006 - 11/08/2011 (after the introduction of icloud sync). earliest 2011 note was on nhanes:`still` harping on same topic 12y later  \n",
    ".     \n",
    " \n",
    "'mukama ye musumba wange'   \n",
    "   + still harping on annuŋŋamya 12y later\n",
    "   + guess paper accepted in gastro\n",
    "   + [be smarter or cheat or be first](https://www.youtube.com/watch?v=fcoCtvehKZ4) - margin call"
   ]
  },
  {
   "cell_type": "markdown",
   "metadata": {},
   "source": []
  }
 ],
 "metadata": {
  "language_info": {
   "name": "python"
  },
  "orig_nbformat": 4
 },
 "nbformat": 4,
 "nbformat_minor": 2
}
