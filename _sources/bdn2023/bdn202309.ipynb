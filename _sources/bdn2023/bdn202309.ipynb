{
 "cells": [
  {
   "cell_type": "markdown",
   "metadata": {},
   "source": [
    "## 08/18/2023\n",
    "\n",
    "I've finally figured out how to use R in .ipynb environment!\n",
    "\n",
    "---\n",
    "\n",
    "Using R in a Jupyter Notebook (with a `.ipynb` extension) is straightforward, thanks to the IRkernel package, which provides a kernel for R. Here's how you can set it up and start using R in your notebooks:\n",
    "\n",
    "1. **Install R**: Make sure you have R installed on your system. You can download it from the [official website](https://www.r-project.org/).\n",
    "\n",
    "2. **Install Jupyter Notebook**: If you don't already have it installed, you will need to install Jupyter Notebook. You can do this by installing the Anaconda distribution, which includes Jupyter Notebook, or by using pip:\n",
    "\n",
    "   ```bash\n",
    "   pip install jupyter\n",
    "   ```\n",
    "\n",
    "3. **Install the IRkernel Package**: Open an R console and run the following commands to install the IRkernel package, which will allow Jupyter to run R code:\n",
    "\n",
    "   ```R\n",
    "   install.packages('IRkernel')\n",
    "   IRkernel::installspec(user = FALSE)\n",
    "   ```\n",
    "\n",
    "   The `user = FALSE` installs the kernel system-wide, so it's available to any Jupyter notebook, not just the ones started by your user.\n",
    "\n",
    "4. **Launch Jupyter Notebook**: In your terminal or command prompt, simply run:\n",
    "\n",
    "   ```bash\n",
    "   jupyter notebook\n",
    "   ```\n",
    "\n",
    "5. **Create an R Notebook**: Once Jupyter opens in your web browser, you can click the \"New\" button and select \"R\" from the dropdown menu. This will create a new notebook with R as the kernel.\n",
    "\n",
    "6. **Write and Execute R Code**: You can now write R code in the cells of the notebook and execute them just like you would with Python or other languages supported in Jupyter.\n",
    "\n",
    "7. **Optional - Additional Libraries**: If you need specific R libraries, you can install them using the `install.packages()` function within the notebook or in your R console.\n",
    "\n",
    "By following these steps, you should have a fully functional R environment within your Jupyter Notebook, allowing you to run R code, visualize data, and take advantage of all the features that Jupyter Notebooks have to offer. - `chatGPT`\n",
    "\n",
    "---\n",
    "\n",
    "> Instead of typing `jupyter notebook` in the terminal, I can also use `jupyter lab` to open the Jupyter Lab environment. It's a bit more modern and has a few more features than the classic Jupyter Notebook interface. `copilot`\n",
    "\n",
    "---\n",
    "\n",
    "Based on my workflow, I've simply used VSCode to open the `.ipynb` file and run the code! But looks like I will not be able to intersperse R and Python code in the same notebook. Would've been a breeze and ideal workflow with potential for great visualizations. Will figure out something, as we can see here with a posting in 09/2023 (R kernel) while still in 08/2023 (Python kernel)\n",
    "\n",
    "---\n",
    "\n",
    "### 1. Matt/Abi & 'cat_trauma' function\n",
    "\n",
    "#### 1.1 Install the relevant packages"
   ]
  },
  {
   "cell_type": "code",
   "execution_count": 2,
   "metadata": {
    "vscode": {
     "languageId": "r"
    }
   },
   "outputs": [],
   "source": [
    "suppressWarnings({\n",
    "  invisible({\n",
    "    rm(list = ls())\n",
    "\n",
    "    if (!require(icdpicr, quietly = TRUE, warn.conflicts = FALSE)) install.packages('icdpicr')\n",
    "    if (!require(dplyr, quietly = TRUE, warn.conflicts = FALSE)) install.packages('dplyr')\n",
    "    if (!require(readr, quietly = TRUE, warn.conflicts = FALSE)) install.packages('readr')\n",
    "    if (!require(tidyr, quietly = TRUE, warn.conflicts = FALSE)) install.packages('tidyr')\n",
    "\n",
    "    library(icdpicr, quietly = TRUE, warn.conflicts = FALSE)\n",
    "    library(dplyr, quietly = TRUE, warn.conflicts = FALSE)\n",
    "    library(readr, quietly = TRUE, warn.conflicts = FALSE)\n",
    "    library(tidyr, quietly = TRUE, warn.conflicts = FALSE)\n",
    "  })\n",
    "})"
   ]
  },
  {
   "cell_type": "markdown",
   "metadata": {},
   "source": [
    "#### 1.2 Get some documentation"
   ]
  },
  {
   "cell_type": "code",
   "execution_count": 3,
   "metadata": {
    "vscode": {
     "languageId": "r"
    }
   },
   "outputs": [
    {
     "data": {
      "text/html": [
       "<style>\n",
       ".list-inline {list-style: none; margin:0; padding: 0}\n",
       ".list-inline>li {display: inline-block}\n",
       ".list-inline>li:not(:last-child)::after {content: \"\\00b7\"; padding: 0 .5ex}\n",
       "</style>\n",
       "<ol class=list-inline><li>'cat_trauma'</li><li>'injury'</li></ol>\n"
      ],
      "text/latex": [
       "\\begin{enumerate*}\n",
       "\\item 'cat\\_trauma'\n",
       "\\item 'injury'\n",
       "\\end{enumerate*}\n"
      ],
      "text/markdown": [
       "1. 'cat_trauma'\n",
       "2. 'injury'\n",
       "\n",
       "\n"
      ],
      "text/plain": [
       "[1] \"cat_trauma\" \"injury\"    "
      ]
     },
     "metadata": {},
     "output_type": "display_data"
    }
   ],
   "source": [
    "ls(\"package:icdpicr\")"
   ]
  },
  {
   "cell_type": "markdown",
   "metadata": {},
   "source": [
    "#### 1.3 Study the syntax"
   ]
  },
  {
   "cell_type": "code",
   "execution_count": 4,
   "metadata": {
    "vscode": {
     "languageId": "r"
    }
   },
   "outputs": [
    {
     "name": "stdout",
     "output_type": "stream",
     "text": [
      "function (df, dx_pre, icd10, i10_iss_method, calc_method = 1, \n",
      "    verbose = FALSE) \n",
      "{\n",
      "    if (!is.data.frame(df)) \n",
      "        stop(\"First argument must be a dataframe\")\n",
      "    if (NROW(df) == 0) \n",
      "        stop(\"Data contains no observations. It must contain at least one row.\")\n",
      "    if (!is.character(dx_pre)) \n",
      "        stop(\"Second argument must be a character string\")\n",
      "    if (make.names(dx_pre) != dx_pre) \n",
      "        stop(\"Second argument must be a valid variable name in R\")\n",
      "    if (!(calc_method %in% c(1, 2))) \n",
      "        stop(\"calc_method must be either 1 or 2\")\n",
      "    if (!(icd10 %in% c(TRUE, FALSE, \"cm\", \"base\"))) \n",
      "        stop(\"icd10 must be TRUE, FALSE, 'cm', or 'base'\")\n",
      "    if (icd10 == FALSE) \n",
      "        i10_iss_method <- \"\"\n",
      "    if (i10_iss_method == \"roc_max\") \n",
      "        stop(\"The roc_max option has been depricated. Please use roc_max_NIS, roc_max_TQIP, roc_max_NIS_only, or roc_max_TQIP_only instead.\")\n",
      "    if ((icd10 != FALSE) && !(i10_iss_method %in% c(\"roc_max_NIS\", \n",
      "        \"roc_max_TQIP\", \"roc_max_NIS_only\", \"roc_max_TQIP_only\", \n",
      "        \"gem_max\", \"gem_min\"))) \n",
      "        stop(\"i10_iss_menthod must be roc_max_NIS, roc_max_TQIP, roc_max_NIS_only, roc_max_TQIP_only, gem_max, or gem_min.\")\n",
      "    regex_dx <- paste0(\"^\", dx_pre, \"([0-9]+)$\")\n",
      "    dx_colnames <- grep(regex_dx, names(df), value = TRUE)\n",
      "    dx_nums <- as.numeric(sub(regex_dx, \"\\\\1\", dx_colnames))\n",
      "    num_dx <- length(dx_nums)\n",
      "    if (num_dx == 0) \n",
      "        stop(\"No variables with prefix found in data\")\n",
      "    df <- data.frame(df)\n",
      "    if (isTRUE(icd10)) \n",
      "        icd10 <- \"cm\"\n",
      "    if (icd10 %in% c(\"base\", \"cm\")) {\n",
      "        etab <- rbind(etab_s1, i10_ecode)\n",
      "        ntab <- switch(i10_iss_method, roc_max_NIS = rbind(ntab_s1, \n",
      "            .select_i10_data(\"NIS\", icd10)), roc_max_TQIP = rbind(ntab_s1, \n",
      "            .select_i10_data(\"TQIP\", icd10)), roc_max_NIS_only = rbind(ntab_s1, \n",
      "            .select_i10_data(\"NIS_only\", icd10)), roc_max_TQIP_only = rbind(ntab_s1, \n",
      "            .select_i10_data(\"TQIP_only\", icd10)), gem_max = rbind(ntab_s1, \n",
      "            i10_map_max), gem_min = rbind(ntab_s1, i10_map_min))\n",
      "    }\n",
      "    else {\n",
      "        ntab <- ntab_s1\n",
      "        etab <- etab_s1\n",
      "    }\n",
      "    for (i in dx_nums) {\n",
      "        dx_name <- paste0(dx_pre, i)\n",
      "        df_ss <- df[, dx_name, drop = FALSE]\n",
      "        df_ss$n <- 1:NROW(df_ss)\n",
      "        df_ss[, dx_name] <- sub(\"\\\\.\", \"\", df_ss[, dx_name])\n",
      "        if (icd10 == TRUE & i10_iss_method == \"roc_max\") {\n",
      "            i9_valid <- c(\"8\", \"9\", \"E\")\n",
      "            i10_valid <- c(\"S\", \"T\", \"U\", \"V\", \"W\", \"X\", \"Y\")\n",
      "            df_ss[, dx_name] <- ifelse(substr(df_ss[, dx_name], \n",
      "                1, 1) %in% c(i9_valid, i10_valid), df_ss[, dx_name], \n",
      "                NA)\n",
      "            process_i10 <- function(s) {\n",
      "                stopifnot(is.character(s) | is.na(s))\n",
      "                ret_val <- NA\n",
      "                s <- sub(\"\\\\.\", \"\", s)\n",
      "                if (!substr(s, 1, 1) %in% c(\"S\", \"T\", \"U\", \"V\", \n",
      "                  \"W\", \"X\", \"Y\")) {\n",
      "                  ret_val <- s\n",
      "                }\n",
      "                else if (nchar(s) < 7 & !grepl(\"X\", substr(s, \n",
      "                  2, nchar(s)))) {\n",
      "                  ret_val <- s\n",
      "                }\n",
      "                else if (nchar(s) != 7) {\n",
      "                  ret_val <- \"\"\n",
      "                }\n",
      "                else if (substr(s, 7, 7) != \"A\") {\n",
      "                  ret_val <- \"\"\n",
      "                }\n",
      "                else if (substr(s, 5, 5) == \"X\") {\n",
      "                  ret_val <- substr(s, 1, 4)\n",
      "                }\n",
      "                else if (substr(s, 6, 6) == \"X\") {\n",
      "                  ret_val <- substr(s, 1, 5)\n",
      "                }\n",
      "                else {\n",
      "                  ret_val <- substr(s, 1, 6)\n",
      "                }\n",
      "                return(ret_val)\n",
      "            }\n",
      "            df_ss[, dx_name] <- sapply(df_ss[, dx_name], process_i10)\n",
      "        }\n",
      "        temp <- merge(df_ss, ntab, by.x = dx_name, by.y = \"dx\", \n",
      "            all.x = TRUE, all.y = FALSE, sort = FALSE)\n",
      "        temp <- temp[order(temp$n), ]\n",
      "        temp <- temp[, c(\"severity\", \"issbr\")]\n",
      "        if (calc_method == 2) {\n",
      "            temp[which(temp$severity == 6), \"severity\"] <- 5\n",
      "        }\n",
      "        names(temp) <- paste0(c(\"sev_\", \"issbr_\"), i)\n",
      "        df <- .insert_columns(df, dx_name, temp)\n",
      "    }\n",
      "    body_regions <- unique(i10_map_max$issbr)\n",
      "    issbr_names <- gsub(\"/\", \"_\", body_regions)\n",
      "    for (i in body_regions) {\n",
      "        temp <- df[, grepl(\"sev_\", names(df)), drop = FALSE] * \n",
      "            (1 * (df[, grepl(\"issbr_\", names(df))] == i))\n",
      "        df[, paste0(\"mxaisbr_\", gsub(\"/\", \"\", i))] <- apply(temp, \n",
      "            1, function(row) {\n",
      "                row <- ifelse(row == 0, NA, row)\n",
      "                if (all(is.na(row))) {\n",
      "                  maxaisbr <- 0\n",
      "                }\n",
      "                else if (all(row == 9, na.rm = TRUE)) {\n",
      "                  maxaisbr <- 9\n",
      "                }\n",
      "                else {\n",
      "                  maxaisbr <- max(c(0, row[row != 9]), na.rm = TRUE)\n",
      "                }\n",
      "                return(maxaisbr)\n",
      "            })\n",
      "    }\n",
      "    c9to0 <- function(x) ifelse(x == 9, 0, x)\n",
      "    df$maxais <- apply(df, 1, function(row) {\n",
      "        row <- row[grepl(\"mxaisbr\", names(row))]\n",
      "        if (all(is.na(row))) {\n",
      "            maxais <- as.numeric(NA)\n",
      "        }\n",
      "        else if (max(c9to0(row), na.rm = TRUE) == 0) {\n",
      "            maxais <- max(row, na.rm = TRUE)\n",
      "        }\n",
      "        else {\n",
      "            maxais <- max(c9to0(row), na.rm = TRUE)\n",
      "        }\n",
      "        return(maxais)\n",
      "    })\n",
      "    df$maxais <- as.numeric(df$maxais)\n",
      "    df$riss <- apply(df, 1, function(row) {\n",
      "        temp <- row[grepl(\"^mxaisbr\", names(row))]\n",
      "        temp <- as.numeric(c9to0(temp))\n",
      "        sum(temp[order(-temp)[1:3]]^2)\n",
      "    })\n",
      "    df[df$maxais == 6, \"riss\"] <- 75\n",
      "    df[df$maxais == 9, \"riss\"] <- NA\n",
      "    df$niss <- apply(df, 1, function(row) {\n",
      "        temp <- row[grepl(\"^sev_\", names(row))]\n",
      "        temp <- as.numeric(temp)\n",
      "        temp <- ifelse(is.na(temp) | temp == 9, 0, temp)\n",
      "        sum(temp[order(-temp)[1:3]]^2)\n",
      "    })\n",
      "    df[df$maxais == 6, \"niss\"] <- 75\n",
      "    df[df$maxais == 9, \"niss\"] <- NA\n",
      "    ecode_colnames <- paste0(\"ecode_\", 1:4)\n",
      "    df[, ecode_colnames] <- NA\n",
      "    ecode_regex <- paste0(\"^\", etab$dx, collapse = \"|\")\n",
      "    df[, ecode_colnames] <- t(apply(df, 1, function(row) {\n",
      "        row <- sub(\"\\\\.\", \"\", row)\n",
      "        row_ecodes <- stringr::str_extract(as.character(unlist(row)), \n",
      "            ecode_regex)\n",
      "        row_ecodes <- na.omit(row_ecodes)\n",
      "        row_ecodes[1:4]\n",
      "    }))\n",
      "    for (i in 1:4) {\n",
      "        col_name <- paste(\"ecode_\", i, sep = \"\")\n",
      "        df_ss <- df[, col_name, drop = FALSE]\n",
      "        df_ss$n <- 1:NROW(df_ss)\n",
      "        df_ss[, col_name] <- sub(\"\\\\.\", \"\", df_ss[, col_name])\n",
      "        temp <- merge(df_ss, etab, by.x = col_name, by.y = \"dx\", \n",
      "            all.x = TRUE, all.y = FALSE, sort = FALSE)\n",
      "        temp <- temp[order(temp$n), ]\n",
      "        temp <- temp[, c(\"mechmaj\", \"mechmin\", \"intent\")]\n",
      "        names(temp) <- paste(c(\"mechmaj\", \"mechmin\", \"intent\"), \n",
      "            i, sep = \"\")\n",
      "        df <- .insert_columns(df, col_name, temp)\n",
      "    }\n",
      "    if (stringr::str_detect(i10_iss_method, \"NIS|TQIP\") && icd10 %in% \n",
      "        c(\"cm\", \"base\")) {\n",
      "        if (verbose) \n",
      "            print(\"Calculating mortality prediction\")\n",
      "        coef_df <- .select_i10_coef(prefix = stringr::str_extract(i10_iss_method, \n",
      "            \"NIS|TQIP\"), icd10)\n",
      "        stopifnot(max(coef_df$intercept, na.rm = TRUE) == min(coef_df$intercept, \n",
      "            na.rm = TRUE))\n",
      "        intercept <- max(coef_df$intercept, na.rm = TRUE)\n",
      "        coef_df <- coef_df[!is.na(coef_df$effect), ]\n",
      "        effect_hash <- coef_df$effect\n",
      "        names(effect_hash) <- coef_df$dx\n",
      "        calc_mortality_prediction <- function(dx) {\n",
      "            x <- sum(effect_hash[sub(\"\\\\.\", \"\", dx)], na.rm = TRUE) + \n",
      "                intercept\n",
      "            1/(1 + exp(-x))\n",
      "        }\n",
      "        mat <- as.matrix(df[, grepl(paste0(\"^\", dx_pre), names(df))])\n",
      "        df$Pmort <- apply(mat, 1, calc_mortality_prediction)\n",
      "    }\n",
      "    rownames(df) <- 1:nrow(df)\n",
      "    df\n",
      "}\n",
      "<bytecode: 0x7fd970c13ac8>\n",
      "<environment: namespace:icdpicr>\n"
     ]
    }
   ],
   "source": [
    "print(cat_trauma)"
   ]
  },
  {
   "cell_type": "markdown",
   "metadata": {},
   "source": [
    "#### 1.4 What is the value of dx_pre?"
   ]
  },
  {
   "cell_type": "code",
   "execution_count": 5,
   "metadata": {
    "vscode": {
     "languageId": "r"
    }
   },
   "outputs": [
    {
     "name": "stdout",
     "output_type": "stream",
     "text": [
      "\u001b[90m# A tibble: 100,477 x 11\u001b[39m\n",
      "   dx1      dx2      dx3      dx4      dx5   dx6   dx7   dx8   dx9   dx10   died\n",
      "   \u001b[3m\u001b[90m<chr>\u001b[39m\u001b[23m    \u001b[3m\u001b[90m<chr>\u001b[39m\u001b[23m    \u001b[3m\u001b[90m<chr>\u001b[39m\u001b[23m    \u001b[3m\u001b[90m<chr>\u001b[39m\u001b[23m    \u001b[3m\u001b[90m<chr>\u001b[39m\u001b[23m \u001b[3m\u001b[90m<chr>\u001b[39m\u001b[23m \u001b[3m\u001b[90m<chr>\u001b[39m\u001b[23m \u001b[3m\u001b[90m<chr>\u001b[39m\u001b[23m \u001b[3m\u001b[90m<chr>\u001b[39m\u001b[23m \u001b[3m\u001b[90m<chr>\u001b[39m\u001b[23m \u001b[3m\u001b[90m<int>\u001b[39m\u001b[23m\n",
      "\u001b[90m 1\u001b[39m S72.342A \u001b[31mNA\u001b[39m       \u001b[31mNA\u001b[39m       \u001b[31mNA\u001b[39m       \u001b[31mNA\u001b[39m    \u001b[31mNA\u001b[39m    \u001b[31mNA\u001b[39m    \u001b[31mNA\u001b[39m    \u001b[31mNA\u001b[39m    \u001b[31mNA\u001b[39m        0\n",
      "\u001b[90m 2\u001b[39m S05.22XA \u001b[31mNA\u001b[39m       \u001b[31mNA\u001b[39m       \u001b[31mNA\u001b[39m       \u001b[31mNA\u001b[39m    \u001b[31mNA\u001b[39m    \u001b[31mNA\u001b[39m    \u001b[31mNA\u001b[39m    \u001b[31mNA\u001b[39m    \u001b[31mNA\u001b[39m        0\n",
      "\u001b[90m 3\u001b[39m S00.01XA S00.03XA S00.11XA S00.12XA S00.~ S00.~ S00.~ S01.~ S02.~ S80.~     0\n",
      "\u001b[90m 4\u001b[39m S21.119A \u001b[31mNA\u001b[39m       \u001b[31mNA\u001b[39m       \u001b[31mNA\u001b[39m       \u001b[31mNA\u001b[39m    \u001b[31mNA\u001b[39m    \u001b[31mNA\u001b[39m    \u001b[31mNA\u001b[39m    \u001b[31mNA\u001b[39m    \u001b[31mNA\u001b[39m        0\n",
      "\u001b[90m 5\u001b[39m S82.191A \u001b[31mNA\u001b[39m       \u001b[31mNA\u001b[39m       \u001b[31mNA\u001b[39m       \u001b[31mNA\u001b[39m    \u001b[31mNA\u001b[39m    \u001b[31mNA\u001b[39m    \u001b[31mNA\u001b[39m    \u001b[31mNA\u001b[39m    \u001b[31mNA\u001b[39m        0\n",
      "\u001b[90m 6\u001b[39m S22.42XA \u001b[31mNA\u001b[39m       \u001b[31mNA\u001b[39m       \u001b[31mNA\u001b[39m       \u001b[31mNA\u001b[39m    \u001b[31mNA\u001b[39m    \u001b[31mNA\u001b[39m    \u001b[31mNA\u001b[39m    \u001b[31mNA\u001b[39m    \u001b[31mNA\u001b[39m        0\n",
      "\u001b[90m 7\u001b[39m S92.052A S92.065A S92.325A S92.335A S92.~ S93.~ \u001b[31mNA\u001b[39m    \u001b[31mNA\u001b[39m    \u001b[31mNA\u001b[39m    \u001b[31mNA\u001b[39m        0\n",
      "\u001b[90m 8\u001b[39m S02.112A S06.5X0A S12.090A S12.100A S12.~ S20.~ S20.~ S22.~ S22.~ S22.~     0\n",
      "\u001b[90m 9\u001b[39m S00.03XA S22.058A S22.068A S22.078A S22.~ S30.~ S42.~ S62.~ S81.~ S82.~     0\n",
      "\u001b[90m10\u001b[39m S61.411A S62.624B S62.626B S66.300A S66.~ S66.~ S66.~ \u001b[31mNA\u001b[39m    \u001b[31mNA\u001b[39m    \u001b[31mNA\u001b[39m        0\n",
      "\u001b[90m# i 100,467 more rows\u001b[39m\n"
     ]
    }
   ],
   "source": [
    "print(injury)"
   ]
  },
  {
   "cell_type": "markdown",
   "metadata": {},
   "source": [
    "#### 1.5 As such, the syntax is:"
   ]
  },
  {
   "cell_type": "code",
   "execution_count": 6,
   "metadata": {
    "vscode": {
     "languageId": "r"
    }
   },
   "outputs": [
    {
     "data": {
      "text/html": [
       "<table class=\"dataframe\">\n",
       "<caption>A data.frame: 9 x 9</caption>\n",
       "<thead>\n",
       "\t<tr><th></th><th scope=col>dx1</th><th scope=col>sev_1</th><th scope=col>issbr_1</th><th scope=col>dx2</th><th scope=col>sev_2</th><th scope=col>issbr_2</th><th scope=col>dx3</th><th scope=col>sev_3</th><th scope=col>issbr_3</th></tr>\n",
       "\t<tr><th></th><th scope=col>&lt;chr&gt;</th><th scope=col>&lt;int&gt;</th><th scope=col>&lt;chr&gt;</th><th scope=col>&lt;chr&gt;</th><th scope=col>&lt;int&gt;</th><th scope=col>&lt;chr&gt;</th><th scope=col>&lt;chr&gt;</th><th scope=col>&lt;int&gt;</th><th scope=col>&lt;chr&gt;</th></tr>\n",
       "</thead>\n",
       "<tbody>\n",
       "\t<tr><th scope=row>1</th><td>S72.342A</td><td>1</td><td>Extremities</td><td>NA      </td><td>NA</td><td>NA         </td><td>NA      </td><td>NA</td><td>NA         </td></tr>\n",
       "\t<tr><th scope=row>2</th><td>S05.22XA</td><td>1</td><td>Face       </td><td>NA      </td><td>NA</td><td>NA         </td><td>NA      </td><td>NA</td><td>NA         </td></tr>\n",
       "\t<tr><th scope=row>3</th><td>S00.01XA</td><td>1</td><td>Head/Neck  </td><td>S00.03XA</td><td> 2</td><td>Head/Neck  </td><td>S00.11XA</td><td> 2</td><td>Face       </td></tr>\n",
       "\t<tr><th scope=row>4</th><td>S21.119A</td><td>3</td><td>Chest      </td><td>NA      </td><td>NA</td><td>NA         </td><td>NA      </td><td>NA</td><td>NA         </td></tr>\n",
       "\t<tr><th scope=row>5</th><td>S82.191A</td><td>3</td><td>Extremities</td><td>NA      </td><td>NA</td><td>NA         </td><td>NA      </td><td>NA</td><td>NA         </td></tr>\n",
       "\t<tr><th scope=row>6</th><td>S22.42XA</td><td>3</td><td>Chest      </td><td>NA      </td><td>NA</td><td>NA         </td><td>NA      </td><td>NA</td><td>NA         </td></tr>\n",
       "\t<tr><th scope=row>7</th><td>S92.052A</td><td>1</td><td>Extremities</td><td>S92.065A</td><td> 1</td><td>Extremities</td><td>S92.325A</td><td> 1</td><td>Extremities</td></tr>\n",
       "\t<tr><th scope=row>8</th><td>S02.112A</td><td>1</td><td>Face       </td><td>S06.5X0A</td><td> 4</td><td>Head/Neck  </td><td>S12.090A</td><td> 4</td><td>Head/Neck  </td></tr>\n",
       "\t<tr><th scope=row>9</th><td>S00.03XA</td><td>2</td><td>Head/Neck  </td><td>S22.058A</td><td> 1</td><td>Chest      </td><td>S22.068A</td><td> 3</td><td>Chest      </td></tr>\n",
       "</tbody>\n",
       "</table>\n"
      ],
      "text/latex": [
       "A data.frame: 9 x 9\n",
       "\\begin{tabular}{r|lllllllll}\n",
       "  & dx1 & sev\\_1 & issbr\\_1 & dx2 & sev\\_2 & issbr\\_2 & dx3 & sev\\_3 & issbr\\_3\\\\\n",
       "  & <chr> & <int> & <chr> & <chr> & <int> & <chr> & <chr> & <int> & <chr>\\\\\n",
       "\\hline\n",
       "\t1 & S72.342A & 1 & Extremities & NA       & NA & NA          & NA       & NA & NA         \\\\\n",
       "\t2 & S05.22XA & 1 & Face        & NA       & NA & NA          & NA       & NA & NA         \\\\\n",
       "\t3 & S00.01XA & 1 & Head/Neck   & S00.03XA &  2 & Head/Neck   & S00.11XA &  2 & Face       \\\\\n",
       "\t4 & S21.119A & 3 & Chest       & NA       & NA & NA          & NA       & NA & NA         \\\\\n",
       "\t5 & S82.191A & 3 & Extremities & NA       & NA & NA          & NA       & NA & NA         \\\\\n",
       "\t6 & S22.42XA & 3 & Chest       & NA       & NA & NA          & NA       & NA & NA         \\\\\n",
       "\t7 & S92.052A & 1 & Extremities & S92.065A &  1 & Extremities & S92.325A &  1 & Extremities\\\\\n",
       "\t8 & S02.112A & 1 & Face        & S06.5X0A &  4 & Head/Neck   & S12.090A &  4 & Head/Neck  \\\\\n",
       "\t9 & S00.03XA & 2 & Head/Neck   & S22.058A &  1 & Chest       & S22.068A &  3 & Chest      \\\\\n",
       "\\end{tabular}\n"
      ],
      "text/markdown": [
       "\n",
       "A data.frame: 9 x 9\n",
       "\n",
       "| <!--/--> | dx1 &lt;chr&gt; | sev_1 &lt;int&gt; | issbr_1 &lt;chr&gt; | dx2 &lt;chr&gt; | sev_2 &lt;int&gt; | issbr_2 &lt;chr&gt; | dx3 &lt;chr&gt; | sev_3 &lt;int&gt; | issbr_3 &lt;chr&gt; |\n",
       "|---|---|---|---|---|---|---|---|---|---|\n",
       "| 1 | S72.342A | 1 | Extremities | NA       | NA | NA          | NA       | NA | NA          |\n",
       "| 2 | S05.22XA | 1 | Face        | NA       | NA | NA          | NA       | NA | NA          |\n",
       "| 3 | S00.01XA | 1 | Head/Neck   | S00.03XA |  2 | Head/Neck   | S00.11XA |  2 | Face        |\n",
       "| 4 | S21.119A | 3 | Chest       | NA       | NA | NA          | NA       | NA | NA          |\n",
       "| 5 | S82.191A | 3 | Extremities | NA       | NA | NA          | NA       | NA | NA          |\n",
       "| 6 | S22.42XA | 3 | Chest       | NA       | NA | NA          | NA       | NA | NA          |\n",
       "| 7 | S92.052A | 1 | Extremities | S92.065A |  1 | Extremities | S92.325A |  1 | Extremities |\n",
       "| 8 | S02.112A | 1 | Face        | S06.5X0A |  4 | Head/Neck   | S12.090A |  4 | Head/Neck   |\n",
       "| 9 | S00.03XA | 2 | Head/Neck   | S22.058A |  1 | Chest       | S22.068A |  3 | Chest       |\n",
       "\n"
      ],
      "text/plain": [
       "  dx1      sev_1 issbr_1     dx2      sev_2 issbr_2     dx3      sev_3\n",
       "1 S72.342A 1     Extremities NA       NA    NA          NA       NA   \n",
       "2 S05.22XA 1     Face        NA       NA    NA          NA       NA   \n",
       "3 S00.01XA 1     Head/Neck   S00.03XA  2    Head/Neck   S00.11XA  2   \n",
       "4 S21.119A 3     Chest       NA       NA    NA          NA       NA   \n",
       "5 S82.191A 3     Extremities NA       NA    NA          NA       NA   \n",
       "6 S22.42XA 3     Chest       NA       NA    NA          NA       NA   \n",
       "7 S92.052A 1     Extremities S92.065A  1    Extremities S92.325A  1   \n",
       "8 S02.112A 1     Face        S06.5X0A  4    Head/Neck   S12.090A  4   \n",
       "9 S00.03XA 2     Head/Neck   S22.058A  1    Chest       S22.068A  3   \n",
       "  issbr_3    \n",
       "1 NA         \n",
       "2 NA         \n",
       "3 Face       \n",
       "4 NA         \n",
       "5 NA         \n",
       "6 NA         \n",
       "7 Extremities\n",
       "8 Head/Neck  \n",
       "9 Chest      "
      ]
     },
     "metadata": {},
     "output_type": "display_data"
    },
    {
     "data": {
      "text/html": [
       "<table class=\"dataframe\">\n",
       "<caption>A data.frame: 9 x 5</caption>\n",
       "<thead>\n",
       "\t<tr><th></th><th scope=col>mxaisbr_General</th><th scope=col>mxaisbr_HeadNeck</th><th scope=col>mxaisbr_Face</th><th scope=col>mxaisbr_Extremities</th><th scope=col>mxaisbr_Chest</th></tr>\n",
       "\t<tr><th></th><th scope=col>&lt;dbl&gt;</th><th scope=col>&lt;dbl&gt;</th><th scope=col>&lt;dbl&gt;</th><th scope=col>&lt;dbl&gt;</th><th scope=col>&lt;dbl&gt;</th></tr>\n",
       "</thead>\n",
       "<tbody>\n",
       "\t<tr><th scope=row>1</th><td>0</td><td>0</td><td>0</td><td>1</td><td>0</td></tr>\n",
       "\t<tr><th scope=row>2</th><td>0</td><td>0</td><td>1</td><td>0</td><td>0</td></tr>\n",
       "\t<tr><th scope=row>3</th><td>0</td><td>2</td><td>2</td><td>0</td><td>0</td></tr>\n",
       "\t<tr><th scope=row>4</th><td>0</td><td>0</td><td>0</td><td>0</td><td>3</td></tr>\n",
       "\t<tr><th scope=row>5</th><td>0</td><td>0</td><td>0</td><td>3</td><td>0</td></tr>\n",
       "\t<tr><th scope=row>6</th><td>0</td><td>0</td><td>0</td><td>0</td><td>3</td></tr>\n",
       "\t<tr><th scope=row>7</th><td>0</td><td>0</td><td>0</td><td>1</td><td>0</td></tr>\n",
       "\t<tr><th scope=row>8</th><td>0</td><td>4</td><td>1</td><td>0</td><td>0</td></tr>\n",
       "\t<tr><th scope=row>9</th><td>0</td><td>2</td><td>0</td><td>0</td><td>3</td></tr>\n",
       "</tbody>\n",
       "</table>\n"
      ],
      "text/latex": [
       "A data.frame: 9 x 5\n",
       "\\begin{tabular}{r|lllll}\n",
       "  & mxaisbr\\_General & mxaisbr\\_HeadNeck & mxaisbr\\_Face & mxaisbr\\_Extremities & mxaisbr\\_Chest\\\\\n",
       "  & <dbl> & <dbl> & <dbl> & <dbl> & <dbl>\\\\\n",
       "\\hline\n",
       "\t1 & 0 & 0 & 0 & 1 & 0\\\\\n",
       "\t2 & 0 & 0 & 1 & 0 & 0\\\\\n",
       "\t3 & 0 & 2 & 2 & 0 & 0\\\\\n",
       "\t4 & 0 & 0 & 0 & 0 & 3\\\\\n",
       "\t5 & 0 & 0 & 0 & 3 & 0\\\\\n",
       "\t6 & 0 & 0 & 0 & 0 & 3\\\\\n",
       "\t7 & 0 & 0 & 0 & 1 & 0\\\\\n",
       "\t8 & 0 & 4 & 1 & 0 & 0\\\\\n",
       "\t9 & 0 & 2 & 0 & 0 & 3\\\\\n",
       "\\end{tabular}\n"
      ],
      "text/markdown": [
       "\n",
       "A data.frame: 9 x 5\n",
       "\n",
       "| <!--/--> | mxaisbr_General &lt;dbl&gt; | mxaisbr_HeadNeck &lt;dbl&gt; | mxaisbr_Face &lt;dbl&gt; | mxaisbr_Extremities &lt;dbl&gt; | mxaisbr_Chest &lt;dbl&gt; |\n",
       "|---|---|---|---|---|---|\n",
       "| 1 | 0 | 0 | 0 | 1 | 0 |\n",
       "| 2 | 0 | 0 | 1 | 0 | 0 |\n",
       "| 3 | 0 | 2 | 2 | 0 | 0 |\n",
       "| 4 | 0 | 0 | 0 | 0 | 3 |\n",
       "| 5 | 0 | 0 | 0 | 3 | 0 |\n",
       "| 6 | 0 | 0 | 0 | 0 | 3 |\n",
       "| 7 | 0 | 0 | 0 | 1 | 0 |\n",
       "| 8 | 0 | 4 | 1 | 0 | 0 |\n",
       "| 9 | 0 | 2 | 0 | 0 | 3 |\n",
       "\n"
      ],
      "text/plain": [
       "  mxaisbr_General mxaisbr_HeadNeck mxaisbr_Face mxaisbr_Extremities\n",
       "1 0               0                0            1                  \n",
       "2 0               0                1            0                  \n",
       "3 0               2                2            0                  \n",
       "4 0               0                0            0                  \n",
       "5 0               0                0            3                  \n",
       "6 0               0                0            0                  \n",
       "7 0               0                0            1                  \n",
       "8 0               4                1            0                  \n",
       "9 0               2                0            0                  \n",
       "  mxaisbr_Chest\n",
       "1 0            \n",
       "2 0            \n",
       "3 0            \n",
       "4 3            \n",
       "5 0            \n",
       "6 3            \n",
       "7 0            \n",
       "8 0            \n",
       "9 3            "
      ]
     },
     "metadata": {},
     "output_type": "display_data"
    },
    {
     "data": {
      "text/html": [
       "<table class=\"dataframe\">\n",
       "<caption>A data.frame: 9 x 4</caption>\n",
       "<thead>\n",
       "\t<tr><th></th><th scope=col>mxaisbr_Abdomen</th><th scope=col>maxais</th><th scope=col>riss</th><th scope=col>niss</th></tr>\n",
       "\t<tr><th></th><th scope=col>&lt;dbl&gt;</th><th scope=col>&lt;dbl&gt;</th><th scope=col>&lt;dbl&gt;</th><th scope=col>&lt;dbl&gt;</th></tr>\n",
       "</thead>\n",
       "<tbody>\n",
       "\t<tr><th scope=row>1</th><td>0</td><td>1</td><td> 1</td><td> 1</td></tr>\n",
       "\t<tr><th scope=row>2</th><td>0</td><td>1</td><td> 1</td><td> 1</td></tr>\n",
       "\t<tr><th scope=row>3</th><td>0</td><td>2</td><td> 8</td><td> 9</td></tr>\n",
       "\t<tr><th scope=row>4</th><td>0</td><td>3</td><td> 9</td><td> 9</td></tr>\n",
       "\t<tr><th scope=row>5</th><td>0</td><td>3</td><td> 9</td><td> 9</td></tr>\n",
       "\t<tr><th scope=row>6</th><td>0</td><td>3</td><td> 9</td><td> 9</td></tr>\n",
       "\t<tr><th scope=row>7</th><td>0</td><td>1</td><td> 1</td><td> 3</td></tr>\n",
       "\t<tr><th scope=row>8</th><td>0</td><td>4</td><td>17</td><td>33</td></tr>\n",
       "\t<tr><th scope=row>9</th><td>0</td><td>3</td><td>13</td><td>14</td></tr>\n",
       "</tbody>\n",
       "</table>\n"
      ],
      "text/latex": [
       "A data.frame: 9 x 4\n",
       "\\begin{tabular}{r|llll}\n",
       "  & mxaisbr\\_Abdomen & maxais & riss & niss\\\\\n",
       "  & <dbl> & <dbl> & <dbl> & <dbl>\\\\\n",
       "\\hline\n",
       "\t1 & 0 & 1 &  1 &  1\\\\\n",
       "\t2 & 0 & 1 &  1 &  1\\\\\n",
       "\t3 & 0 & 2 &  8 &  9\\\\\n",
       "\t4 & 0 & 3 &  9 &  9\\\\\n",
       "\t5 & 0 & 3 &  9 &  9\\\\\n",
       "\t6 & 0 & 3 &  9 &  9\\\\\n",
       "\t7 & 0 & 1 &  1 &  3\\\\\n",
       "\t8 & 0 & 4 & 17 & 33\\\\\n",
       "\t9 & 0 & 3 & 13 & 14\\\\\n",
       "\\end{tabular}\n"
      ],
      "text/markdown": [
       "\n",
       "A data.frame: 9 x 4\n",
       "\n",
       "| <!--/--> | mxaisbr_Abdomen &lt;dbl&gt; | maxais &lt;dbl&gt; | riss &lt;dbl&gt; | niss &lt;dbl&gt; |\n",
       "|---|---|---|---|---|\n",
       "| 1 | 0 | 1 |  1 |  1 |\n",
       "| 2 | 0 | 1 |  1 |  1 |\n",
       "| 3 | 0 | 2 |  8 |  9 |\n",
       "| 4 | 0 | 3 |  9 |  9 |\n",
       "| 5 | 0 | 3 |  9 |  9 |\n",
       "| 6 | 0 | 3 |  9 |  9 |\n",
       "| 7 | 0 | 1 |  1 |  3 |\n",
       "| 8 | 0 | 4 | 17 | 33 |\n",
       "| 9 | 0 | 3 | 13 | 14 |\n",
       "\n"
      ],
      "text/plain": [
       "  mxaisbr_Abdomen maxais riss niss\n",
       "1 0               1       1    1  \n",
       "2 0               1       1    1  \n",
       "3 0               2       8    9  \n",
       "4 0               3       9    9  \n",
       "5 0               3       9    9  \n",
       "6 0               3       9    9  \n",
       "7 0               1       1    3  \n",
       "8 0               4      17   33  \n",
       "9 0               3      13   14  "
      ]
     },
     "metadata": {},
     "output_type": "display_data"
    },
    {
     "data": {
      "text/html": [
       "<table class=\"dataframe\">\n",
       "<caption>A data.frame: 9 x 2</caption>\n",
       "<thead>\n",
       "\t<tr><th></th><th scope=col>intent4</th><th scope=col>Pmort</th></tr>\n",
       "\t<tr><th></th><th scope=col>&lt;chr&gt;</th><th scope=col>&lt;dbl&gt;</th></tr>\n",
       "</thead>\n",
       "<tbody>\n",
       "\t<tr><th scope=row>1</th><td>NA</td><td>0.013857916</td></tr>\n",
       "\t<tr><th scope=row>2</th><td>NA</td><td>0.014412795</td></tr>\n",
       "\t<tr><th scope=row>3</th><td>NA</td><td>0.017673701</td></tr>\n",
       "\t<tr><th scope=row>4</th><td>NA</td><td>0.026078454</td></tr>\n",
       "\t<tr><th scope=row>5</th><td>NA</td><td>0.027839150</td></tr>\n",
       "\t<tr><th scope=row>6</th><td>NA</td><td>0.024364215</td></tr>\n",
       "\t<tr><th scope=row>7</th><td>NA</td><td>0.005516156</td></tr>\n",
       "\t<tr><th scope=row>8</th><td>NA</td><td>0.037222518</td></tr>\n",
       "\t<tr><th scope=row>9</th><td>NA</td><td>0.021037152</td></tr>\n",
       "</tbody>\n",
       "</table>\n"
      ],
      "text/latex": [
       "A data.frame: 9 x 2\n",
       "\\begin{tabular}{r|ll}\n",
       "  & intent4 & Pmort\\\\\n",
       "  & <chr> & <dbl>\\\\\n",
       "\\hline\n",
       "\t1 & NA & 0.013857916\\\\\n",
       "\t2 & NA & 0.014412795\\\\\n",
       "\t3 & NA & 0.017673701\\\\\n",
       "\t4 & NA & 0.026078454\\\\\n",
       "\t5 & NA & 0.027839150\\\\\n",
       "\t6 & NA & 0.024364215\\\\\n",
       "\t7 & NA & 0.005516156\\\\\n",
       "\t8 & NA & 0.037222518\\\\\n",
       "\t9 & NA & 0.021037152\\\\\n",
       "\\end{tabular}\n"
      ],
      "text/markdown": [
       "\n",
       "A data.frame: 9 x 2\n",
       "\n",
       "| <!--/--> | intent4 &lt;chr&gt; | Pmort &lt;dbl&gt; |\n",
       "|---|---|---|\n",
       "| 1 | NA | 0.013857916 |\n",
       "| 2 | NA | 0.014412795 |\n",
       "| 3 | NA | 0.017673701 |\n",
       "| 4 | NA | 0.026078454 |\n",
       "| 5 | NA | 0.027839150 |\n",
       "| 6 | NA | 0.024364215 |\n",
       "| 7 | NA | 0.005516156 |\n",
       "| 8 | NA | 0.037222518 |\n",
       "| 9 | NA | 0.021037152 |\n",
       "\n"
      ],
      "text/plain": [
       "  intent4 Pmort      \n",
       "1 NA      0.013857916\n",
       "2 NA      0.014412795\n",
       "3 NA      0.017673701\n",
       "4 NA      0.026078454\n",
       "5 NA      0.027839150\n",
       "6 NA      0.024364215\n",
       "7 NA      0.005516156\n",
       "8 NA      0.037222518\n",
       "9 NA      0.021037152"
      ]
     },
     "metadata": {},
     "output_type": "display_data"
    }
   ],
   "source": [
    "# use subset of injury given its size\n",
    "inj = injury[1:100,1:3]\n",
    "df_score = cat_trauma(df=inj, dx_pre=\"dx\", icd10=TRUE, i10_iss_method=\"roc_max_NIS\", calc_method=1, verbose=FALSE)\n",
    "# visualize the output\n",
    "df_score[1:9,1:9]; df_score[1:9,10:14]; df_score[1:9,15:18]; df_score[1:9,34:35]"
   ]
  },
  {
   "cell_type": "markdown",
   "metadata": {},
   "source": [
    "### 2. Calvin Matthews and NHANES Table 1"
   ]
  },
  {
   "cell_type": "code",
   "execution_count": 10,
   "metadata": {
    "vscode": {
     "languageId": "r"
    }
   },
   "outputs": [
    {
     "name": "stdout",
     "output_type": "stream",
     "text": [
      "\n",
      "The downloaded binary packages are in\n",
      "\t/var/folders/sx/fd6zgj191mx45hspzbgwzlnr0000gn/T//RtmpPWV6JU/downloaded_packages\n"
     ]
    }
   ],
   "source": [
    "# This code will be used only if needed to install packages\n",
    "\n",
    "suppressWarnings({\n",
    "  invisible({\n",
    "    rm(list = ls())\n",
    "\n",
    "    if (!require(tableone, quietly = TRUE, warn.conflicts = FALSE)) install.packages(\"tableone\")\n",
    "    if (!require(tidyverse, quietly = TRUE, warn.conflicts = FALSE)) install.packages(\"tidyverse\")\n",
    "    if (!require(NHANES, quietly = TRUE, warn.conflicts = FALSE)) install.packages(\"NHANES\")\n",
    "    if (!require(dplyr, quietly = TRUE, warn.conflicts = FALSE)) install.packages(\"dplyr\")\n",
    "    if (!require(tinhanesAdyr, quietly = TRUE, warn.conflicts = FALSE)) install.packages(\"nhanesA\")\n",
    "    \n",
    "    library(tidyverse, quietly = TRUE, warn.conflicts = FALSE)\n",
    "    library(NHANES, quietly = TRUE, warn.conflicts = FALSE)\n",
    "    library(dplyr, quietly = TRUE, warn.conflicts = FALSE)\n",
    "    library(tidyr, quietly = TRUE, warn.conflicts = FALSE)\n",
    "    library(nhanesA, quietly = TRUE, warn.conflicts = FALSE)\n",
    "\n",
    "  })\n",
    "})"
   ]
  },
  {
   "cell_type": "code",
   "execution_count": 12,
   "metadata": {
    "vscode": {
     "languageId": "r"
    }
   },
   "outputs": [
    {
     "ename": "ERROR",
     "evalue": "Error in nhanes(\"DEMO_B\", \"DEMO_C\", \"DEMO_D\", \"DEMO_E\", \"DEMO_F\", \"DEMO_G\", : unused arguments (\"DEMO_D\", \"DEMO_E\", \"DEMO_F\", \"DEMO_G\", \"DEMO_H\", \"DEMO_I\", \"DEMO_J\", \"DEMO_P\")\n",
     "output_type": "error",
     "traceback": [
      "Error in nhanes(\"DEMO_B\", \"DEMO_C\", \"DEMO_D\", \"DEMO_E\", \"DEMO_F\", \"DEMO_G\", : unused arguments (\"DEMO_D\", \"DEMO_E\", \"DEMO_F\", \"DEMO_G\", \"DEMO_H\", \"DEMO_I\", \"DEMO_J\", \"DEMO_P\")\nTraceback:\n",
      "1. bind_rows(nhanes(\"DEMO\"), nhanes(\"DEMO_B\", \"DEMO_C\", \"DEMO_D\", \n .     \"DEMO_E\", \"DEMO_F\", \"DEMO_G\", \"DEMO_H\", \"DEMO_I\", \"DEMO_J\", \n .     \"DEMO_P\"))",
      "2. list2(...)"
     ]
    }
   ],
   "source": [
    "# Creating Dataset With All Years\n",
    "demo <- bind_rows(nhanes(\"DEMO\"),\n",
    "                  nhanes(\"DEMO_B\",\"DEMO_C\", \"DEMO_D\", \"DEMO_E\", \"DEMO_F\", \n",
    "                         \"DEMO_G\", \"DEMO_H\", \"DEMO_I\", \"DEMO_J\", \"DEMO_P\")\n",
    "                )"
   ]
  },
  {
   "cell_type": "code",
   "execution_count": 7,
   "metadata": {
    "vscode": {
     "languageId": "r"
    }
   },
   "outputs": [
    {
     "name": "stderr",
     "output_type": "stream",
     "text": [
      "also installing the dependencies 'DBI', 'gtools', 'forcats', 'minqa', 'numDeriv', 'mitools', 'proxy', 'gdata', 'haven', 'survey', 'e1071', 'zoo', 'gmodels', 'labelled'\n",
      "\n",
      "\n"
     ]
    },
    {
     "name": "stdout",
     "output_type": "stream",
     "text": [
      "\n",
      "The downloaded binary packages are in\n",
      "\t/var/folders/sx/fd6zgj191mx45hspzbgwzlnr0000gn/T//RtmpPWV6JU/downloaded_packages\n"
     ]
    },
    {
     "name": "stderr",
     "output_type": "stream",
     "text": [
      "also installing the dependencies 'colorspace', 'sys', 'farver', 'labeling', 'munsell', 'RColorBrewer', 'viridisLite', 'rematch', 'askpass', 'blob', 'data.table', 'gtable', 'isoband', 'scales', 'gargle', 'cellranger', 'curl', 'ids', 'rematch2', 'openssl', 'timechange', 'systemfonts', 'textshaping', 'selectr', 'broom', 'conflicted', 'dbplyr', 'dtplyr', 'ggplot2', 'googledrive', 'googlesheets4', 'httr', 'lubridate', 'modelr', 'ragg', 'readxl', 'reprex', 'rstudioapi', 'rvest'\n",
      "\n",
      "\n"
     ]
    },
    {
     "name": "stdout",
     "output_type": "stream",
     "text": [
      "\n",
      "The downloaded binary packages are in\n",
      "\t/var/folders/sx/fd6zgj191mx45hspzbgwzlnr0000gn/T//RtmpPWV6JU/downloaded_packages\n"
     ]
    },
    {
     "name": "stderr",
     "output_type": "stream",
     "text": [
      "-- \u001b[1mAttaching core tidyverse packages\u001b[22m ------------------------ tidyverse 2.0.0 --\n",
      "\u001b[32mv\u001b[39m \u001b[34mforcats  \u001b[39m 1.0.0     \u001b[32mv\u001b[39m \u001b[34mpurrr    \u001b[39m 1.0.1\n",
      "\u001b[32mv\u001b[39m \u001b[34mggplot2  \u001b[39m 3.4.3     \u001b[32mv\u001b[39m \u001b[34mstringr  \u001b[39m 1.5.0\n",
      "\u001b[32mv\u001b[39m \u001b[34mlubridate\u001b[39m 1.9.2     \u001b[32mv\u001b[39m \u001b[34mtibble   \u001b[39m 3.2.1\n",
      "-- \u001b[1mConflicts\u001b[22m ------------------------------------------ tidyverse_conflicts() --\n",
      "\u001b[31mx\u001b[39m \u001b[34mdplyr\u001b[39m::\u001b[32mfilter()\u001b[39m masks \u001b[34mstats\u001b[39m::filter()\n",
      "\u001b[31mx\u001b[39m \u001b[34mdplyr\u001b[39m::\u001b[32mlag()\u001b[39m    masks \u001b[34mstats\u001b[39m::lag()\n",
      "\u001b[36mi\u001b[39m Use the conflicted package (\u001b[3m\u001b[34m<http://conflicted.r-lib.org/>\u001b[39m\u001b[23m) to force all conflicts to become errors\n"
     ]
    },
    {
     "name": "stdout",
     "output_type": "stream",
     "text": [
      "\n",
      "The downloaded binary packages are in\n",
      "\t/var/folders/sx/fd6zgj191mx45hspzbgwzlnr0000gn/T//RtmpPWV6JU/downloaded_packages\n",
      "\n",
      "The downloaded binary packages are in\n",
      "\t/var/folders/sx/fd6zgj191mx45hspzbgwzlnr0000gn/T//RtmpPWV6JU/downloaded_packages\n"
     ]
    },
    {
     "name": "stderr",
     "output_type": "stream",
     "text": [
      "also installing the dependency 'plyr'\n",
      "\n",
      "\n"
     ]
    },
    {
     "name": "stdout",
     "output_type": "stream",
     "text": [
      "\n",
      "The downloaded binary packages are in\n",
      "\t/var/folders/sx/fd6zgj191mx45hspzbgwzlnr0000gn/T//RtmpPWV6JU/downloaded_packages\n"
     ]
    },
    {
     "ename": "ERROR",
     "evalue": "Error in nhanes(\"DEMO_B\", \"DEMO_C\", \"DEMO_D\", \"DEMO_E\", \"DEMO_F\", \"DEMO_G\", : unused arguments (\"DEMO_D\", \"DEMO_E\", \"DEMO_F\", \"DEMO_G\", \"DEMO_H\", \"DEMO_I\", \"DEMO_J\", \"DEMO_P\")\n",
     "output_type": "error",
     "traceback": [
      "Error in nhanes(\"DEMO_B\", \"DEMO_C\", \"DEMO_D\", \"DEMO_E\", \"DEMO_F\", \"DEMO_G\", : unused arguments (\"DEMO_D\", \"DEMO_E\", \"DEMO_F\", \"DEMO_G\", \"DEMO_H\", \"DEMO_I\", \"DEMO_J\", \"DEMO_P\")\nTraceback:\n",
      "1. bind_rows(nhanes(\"DEMO\"), nhanes(\"DEMO_B\", \"DEMO_C\", \"DEMO_D\", \n .     \"DEMO_E\", \"DEMO_F\", \"DEMO_G\", \"DEMO_H\", \"DEMO_I\", \"DEMO_J\", \n .     \"DEMO_P\"))",
      "2. list2(...)"
     ]
    }
   ],
   "source": [
    "\n",
    "\n",
    "# Categorical Data\n",
    "demo[\"RIAGENDR\"] %>% count(RIAGENDR)\n",
    "catVars <- c(\"DMDEDUC2\",\"RIAGENDR\", \"RIDRETH1\")\n",
    "demo <- subset(demo, RIDAGEYR > 17)\n",
    "tab <- CreateTableOne(data=demo, factorVars=catVars)\n",
    "\n",
    "# Sorted Categorical and Continuous Outputs\n",
    "print(tab$CatTable, showAllLevels=TRUE)\n",
    "print(tab$ContTable, nonnormal=TRUE)\n",
    "summary_table <- all_years_data %>% summarize(\n",
    "MedianAge=median(Age, na.rm=TRUE),\n",
    "MedianSBP=median(BPSysAve, na.rm=TRUE),\n",
    "MedianDBP=median(BPDiaAve, na.rm=TRUE),\n",
    "MedianCreatinine=median(LBDSCRSI, na.rm=TRUE),\n",
    "MedianBMI=median(BMI, na.rm=TRUE),\n",
    "MedianHbA1c=median(HbA1c, na.rm=TRUE),\n",
    "MedianuACR=median(uACR, na.rm=TRUE),\n",
    "MedianGlucose=median(Pulse, na.rm=TRUE),\n",
    "FemalePercentage=mean(Sex == \"Female\", na.rm=TRUE),\n",
    "HypertensionPercentage=mean(Hypertension == \"Yes\", na.rm=TRUE),\n",
    "SmokePercentage=mean(SmokingStatus == \"Current\", na.rm=TRUE),\n",
    "RaceEthnicityPercentage=table(RaceEthnicity) / length(RaceEthnicity),\n",
    "EducationPercentage=table(Education)\n",
    ")\n",
    "print(summary_table)\n",
    "\n",
    "# Cohort Percentage One-by-One\n",
    "nhanes <- subset(nhanes(\"DEMO_P\"), RIDAGEYR > 17)\n",
    "divisor <- count(nhanes)"
   ]
  }
 ],
 "metadata": {
  "kernelspec": {
   "display_name": "R",
   "language": "R",
   "name": "ir"
  },
  "language_info": {
   "codemirror_mode": "r",
   "file_extension": ".r",
   "mimetype": "text/x-r-source",
   "name": "R",
   "pygments_lexer": "r",
   "version": "4.3.1"
  },
  "orig_nbformat": 4
 },
 "nbformat": 4,
 "nbformat_minor": 2
}
