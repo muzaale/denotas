{
 "cells": [
  {
   "cell_type": "code",
   "execution_count": 1,
   "id": "8d41fa3e",
   "metadata": {},
   "outputs": [],
   "source": [
    "suppressWarnings({\n",
    "  invisible({\n",
    "    rm(list = ls())\n",
    "\n",
    "    if (!require(icdpicr, quietly = TRUE, warn.conflicts = FALSE)) install.packages('icdpicr')\n",
    "    if (!require(dplyr, quietly = TRUE, warn.conflicts = FALSE)) install.packages('dplyr')\n",
    "    if (!require(readr, quietly = TRUE, warn.conflicts = FALSE)) install.packages('readr')\n",
    "    if (!require(tidyr, quietly = TRUE, warn.conflicts = FALSE)) install.packages('tidyr')\n",
    "\n",
    "    library(icdpicr, quietly = TRUE, warn.conflicts = FALSE)\n",
    "    library(dplyr, quietly = TRUE, warn.conflicts = FALSE)\n",
    "    library(readr, quietly = TRUE, warn.conflicts = FALSE)\n",
    "    library(tidyr, quietly = TRUE, warn.conflicts = FALSE)\n",
    "  })\n",
    "})"
   ]
  }
 ],
 "metadata": {
  "kernelspec": {
   "display_name": "R",
   "language": "R",
   "name": "ir"
  },
  "language_info": {
   "codemirror_mode": "r",
   "file_extension": ".r",
   "mimetype": "text/x-r-source",
   "name": "R",
   "pygments_lexer": "r",
   "version": "4.3.1"
  }
 },
 "nbformat": 4,
 "nbformat_minor": 5
}
